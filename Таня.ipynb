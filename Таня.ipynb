{
  "cells": [
    {
      "cell_type": "code",
      "execution_count": null,
      "metadata": {
        "colab": {
          "base_uri": "https://localhost:8080/"
        },
        "id": "xVMBWcurq4vJ",
        "outputId": "d569cf67-3bed-4158-e47f-2c599818e54d"
      },
      "outputs": [
        {
          "name": "stdout",
          "output_type": "stream",
          "text": [
            "340.0\n"
          ]
        }
      ],
      "source": [
        "def cent(kilo_ves):\n",
        "    cent_1 = 100\n",
        "    ves = kilo_ves / cent_1\n",
        "    return ves\n",
        "print(cent(34000))"
      ]
    },
    {
      "cell_type": "code",
      "execution_count": null,
      "metadata": {
        "id": "xv7YU4V6JNtg"
      },
      "outputs": [],
      "source": [
        "def find_median(input_string):\n",
        "  if not input_string:\n",
        "    return 'Некорректный ввод'\n",
        "\n",
        "  input_string = input_string.split(', ')\n",
        "\n",
        "  for number in input_string:\n",
        "    if number.isalpha():\n",
        "      return 'Некорректный ввод'\n",
        "  list_number_string = list(map(int, input_string))\n",
        "#сортируем последовательность\n",
        "  list_number_string = sorted(list_number_string)\n",
        "#делим длину отсортированного списка без остатка\n",
        "  mid = len(list_number_string) // 2\n",
        "#если список состоит из четного количества чисел\n",
        "\n",
        "  if (len(list_number_string)) % 2 == 0:\n",
        "#берем  два средних значение из списка по индексам и вычисляем медиану\n",
        "    median = (list_number_string[(mid - 1)] + list_number_string[mid]) / 2\n",
        "#если список состоит из нечетного количества чисел медиана берем длину списка, делим его без остатка прибавляем 1 = получаем индекс медианы\n",
        "  else:\n",
        "    median = list_number_string[mid]\n",
        "\n",
        "  return (f'Median: {median:.1f}')\n",
        "print(find_median(input(\"__:\")))\n"
      ]
    },
    {
      "cell_type": "code",
      "execution_count": null,
      "metadata": {
        "id": "5NlCUd1ufUy_"
      },
      "outputs": [],
      "source": [
        "nput_string = input('Введите последовательность чисел: ')\n",
        "# ваш код здесь\n",
        "#Создаем функцию для определения медианы последовательности.\n",
        "def find_median(input_string):\n",
        "#Условие, если список пуст\n",
        " if len(input_string) == 0:\n",
        "  return 'Некорректный ввод'\n",
        "#Переделаем строку в список и отсортируем его для правильной последовательности, для дальнейшей работы с ним\n",
        " input_string = sorted(input_string.split(', '))\n",
        "#Условие, если есть буквы выводим Нек ввод\n",
        " for elem in input_string:\n",
        "  if elem.isalpha():\n",
        "   return 'Некорректный ввод'\n",
        "#Для вычисления медианы будем брать два случая, четное и нечетная последовательность\n",
        "#Определим и запишем в переменную длинну этого списка\n",
        " len_of_str = len(input_string)\n",
        "#Преобразовываем через мап все значения в целые числа\n",
        " input_string=list(map(int, input_string))\n",
        "#Находим середину списка, что бы мы могли обращаться к середине нашего списка по индексу\n",
        " medl = len_of_str // 2\n",
        "#Далее мы формируем решение для четного списка\n",
        " if len_of_str % 2 == 0:\n",
        "#обращаемся по индексу, к среднему значению в списке (он определялся ранее) и прибаввляем его к следующему значению и делим на 2\n",
        "  median =(input_string[medl] + input_string[(medl+1)]) / 2\n",
        "#В случает если четный список, медианой будет середина, обращаемся также по индексу\n",
        " else:\n",
        "  median = input_string[medl]\n",
        "#Выводим результат как того требует задача округлив до 10 х\n",
        " print('Median: '+ str(float(round(median,1))))\n",
        "\n",
        "Добрый день, вот решение этой же задачи) только в условии задачи функция должна возвращать None. Как понять возвращает ли она None?"
      ]
    },
    {
      "cell_type": "code",
      "execution_count": null,
      "metadata": {
        "id": "MoODi7QaZIhw"
      },
      "outputs": [],
      "source": [
        "input_string = input('Введите последовательность чисел: ')\n",
        "# ваш код здесь\n",
        "def find_min_max(input_string):\n",
        "    input_string = input_string.replace(',', '.')\n",
        "    new_list = input_string.split(' ')\n",
        "    num_list = []\n",
        "    for elem in new_list:\n",
        "        if elem.isalfa():\n",
        "            pass\n",
        "        else:\n",
        "             num_list.append(float(elem))\n",
        "    min_num = min(num_list)\n",
        "    max_num = max(num_list)\n",
        "\n",
        "    #return min_num, max_num\n",
        "    print(f'Minimum: {min_num}')\n",
        "    print(f'Maximun: { max_num}')\n"
      ]
    },
    {
      "cell_type": "code",
      "execution_count": null,
      "metadata": {
        "colab": {
          "base_uri": "https://localhost:8080/"
        },
        "id": "9QjA3gm-2g22",
        "outputId": "1b0495a7-9a6d-4fd8-de77-dd7a56f6d522"
      },
      "outputs": [
        {
          "name": "stdout",
          "output_type": "stream",
          "text": [
            "Введите 1-ую последовательность идентификаторов: 3\n",
            "Введите 2-ую последовательность идентификаторов: 3\n",
            "[3]\n"
          ]
        }
      ],
      "source": [
        "input_string1 = input('Введите 1-ую последовательность идентификаторов: ')\n",
        "input_string2 = input('Введите 2-ую последовательность идентификаторов: ')\n",
        "# ваш код здесь\n",
        "\n",
        "def pure_intersection(input_string1, input_string2):\n",
        "\n",
        "#\n",
        "    string1=input_string1.split(\", \")\n",
        "    string2=input_string2.split(\", \")\n",
        "\n",
        "    for elem1 in string1:\n",
        "        if not elem1.isdigit():\n",
        "            return \"Некорректеый ввод\"\n",
        "\n",
        "    for elem2 in string2:\n",
        "        if not elem2.isdigit():\n",
        "            return \"Некорректеый ввод\"\n",
        "\n",
        "    lst1 = list(map(int, string1))\n",
        "    lst2 = list(map(int, string2))\n",
        "\n",
        "\n",
        "    set1 = set(lst1)\n",
        "    set2 = set(lst2)\n",
        "\n",
        "    new_lst = list(set1.intersection(set2))\n",
        "\n",
        "    return new_lst\n",
        "\n",
        "print(pure_intersection(input_string1, input_string2))\n",
        "\n"
      ]
    },
    {
      "cell_type": "code",
      "execution_count": null,
      "metadata": {
        "colab": {
          "base_uri": "https://localhost:8080/"
        },
        "id": "ft6j4OjZQ9lh",
        "outputId": "7dbd2df4-c035-4baa-82de-3d5e699c9f52"
      },
      "outputs": [
        {
          "name": "stdout",
          "output_type": "stream",
          "text": [
            "Введите последовательность чисел: 55\n",
            "Minimum: 55.0\n",
            "Maximun: 55.0\n"
          ]
        },
        {
          "data": {
            "text/plain": [
              "99"
            ]
          },
          "execution_count": 4,
          "metadata": {},
          "output_type": "execute_result"
        }
      ],
      "source": [
        "input_string = input('Введите последовательность чисел: ')\n",
        "# ваш код здесь\n",
        "# создаем функцию для обработки последовательности\n",
        "def find_min_max(input_string):\n",
        "    # заменяем из строки последовательности запятые на точки для дробных чисел\n",
        "    input_string = input_string.replace(',', '.')\n",
        "    # преобразовываем строку в список, разделяя по пробелам\n",
        "    list_string = input_string.split(' ')\n",
        "    # создаем список, в который будем сохранять только числа\n",
        "    new_list = []\n",
        "    # цикл по списку\n",
        "    for elem in list_string:\n",
        "        # проверка элемента списка - это строка-число или строка из букв\n",
        "        if elem.isalpha():\n",
        "            pass\n",
        "        else:\n",
        "            # преобразовываем строки в числа с плавающей точкой и сохраняем в новый список\n",
        "            elem = float(elem)\n",
        "            new_list.append(elem)\n",
        "    # находим минимум в списке\n",
        "    min_number = min(new_list)\n",
        "    # находим максимум\n",
        "    max_number = max(new_list)\n",
        "    # выводим результаты\n",
        "    print(f'Minimum: {min_number}')\n",
        "    print(f'Maximun: { max_number}')\n",
        "find_min_max(input_string)\n",
        "99"
      ]
    },
    {
      "cell_type": "code",
      "execution_count": null,
      "metadata": {
        "colab": {
          "base_uri": "https://localhost:8080/"
        },
        "id": "iYonOQofeKxK",
        "outputId": "34c2486a-f975-454f-b7a3-29164ea05c20"
      },
      "outputs": [
        {
          "name": "stdout",
          "output_type": "stream",
          "text": [
            "Введите последовательность чисел: 55 66\n",
            "<class 'list'>\n"
          ]
        }
      ],
      "source": [
        "input_string = input('Введите последовательность чисел: ')\n",
        "# ваш код здесь\n",
        "\n",
        "input_string = input_string.replace(',', '.')\n",
        "new_list = input_string.split(' ')\n",
        "num_list = []\n",
        "print(type(new_list))\n",
        "\n"
      ]
    },
    {
      "cell_type": "code",
      "execution_count": null,
      "metadata": {
        "colab": {
          "base_uri": "https://localhost:8080/"
        },
        "id": "Uz5fG7v97l1M",
        "outputId": "054b222b-d746-4432-9c8b-f7c5c8158d98"
      },
      "outputs": [
        {
          "name": "stdout",
          "output_type": "stream",
          "text": [
            "Введите число словами: м\n",
            "0\n"
          ]
        }
      ],
      "source": [
        "input_string = input('Введите число словами: ')\n",
        "number_word_dict = {\n",
        "    \"ты\": 1000, \"м\": 1000000,\n",
        "    \"сто\": 100, \"двес\": 200, \"трис\": 300, \"четырес\": 400, \"пятьс\": 500, \"шестьс\": 600, \"семьс\": 700, \"восемьс\": 800, \"девятьс\": 900,\n",
        "    \"одинн\": 11, \"двен\": 12, \"трин\": 13, \"четырн\": 14, \"пятн\": 15, \"шестн\": 16, \"семн\": 17, \"восемн\": 18, \"девятн\": 19,\n",
        "    \"двад\": 20, \"трид\": 30, \"сор\": 40, \"пятьд\": 50, \"шестьд\": 60, \"семьд\": 70, \"восемьд\": 80, \"девяно\": 90,\n",
        "    \"дес\": 10, \"н\": 0, \"о\": 1, \"дв\": 2, \"т\": 3, \"ч\": 4, \"п\": 5, \"ш\": 6, \"с\": 7, \"в\": 8, \"д\": 9, }\n",
        "def transform_string_to_integer(input_string):\n",
        "    text = input_string.split() # разделяем строку на слов\n",
        "    result = 0 # создаем переменную, в которую будем вносить числа\n",
        "    for word in text: # проходим по введенной строке\n",
        "        for key, value in number_word_dict.items(): # обращаемся к ключам и значениям в словаре\n",
        "            if word.startswith(key): # если введенное слово имеет префиксом ключ словаря, то\n",
        "                if key == \"ты\": # если при этом ключ соответствует 1000\n",
        "                    result *= 1000 # то сохраненное в переменной значение умножаем на 1000\n",
        "                elif key == \"м\": # если слово содержит префикс соответствующий значению миллион\n",
        "                     result == 1000000 # то значение переменной умножаем на миллион\n",
        "                else:\n",
        "                    result += value # в остальных случаях число, соотвествующее ключу словаря, суммируем с предыдущим значением переменной\n",
        "                if result > 1000000: # проверяем условие, что нельзя вводить число больше миллиона, потому что Сбербанк жадный и больше миллиона не отдает\n",
        "                    result = None\n",
        "                break # заканчиваем работу\n",
        "    return result  # возвращаем накопленное значение переменной\n",
        "\n",
        "\n",
        "print(transform_string_to_integer(input_string)) # выводим на дисплей результат"
      ]
    },
    {
      "cell_type": "code",
      "execution_count": null,
      "metadata": {
        "colab": {
          "base_uri": "https://localhost:8080/"
        },
        "id": "xyiIygqZoPCZ",
        "outputId": "8a5eeb24-4454-45fa-eb18-eb5042f1e5de"
      },
      "outputs": [
        {
          "name": "stdout",
          "output_type": "stream",
          "text": [
            "Введите число словами: триста тысяч сто пятьдесят\n",
            "300150\n"
          ]
        }
      ],
      "source": [
        "input_string = input('Введите число словами: ')\n",
        "# ваш код здесь\n",
        "number_word_dict = {\n",
        "    \"ты\": 1000, \"м\": 1000000,\n",
        "    \"сто\": 100, \"двес\": 200, \"трис\": 300, \"четырес\": 400, \"пятьс\": 500, \"шестьс\": 600, \"семьс\": 700, \"восемьс\": 800, \"девятьс\": 900,\n",
        "    \"одинн\": 11, \"двен\": 12, \"трин\": 13, \"четырн\": 14, \"пятн\": 15, \"шестн\": 16, \"семн\": 17, \"восемн\": 18, \"девятн\": 19,\n",
        "    \"двад\": 20, \"трид\": 30, \"сор\": 40, \"пятьд\": 50, \"шестьд\": 60, \"семьд\": 70, \"восемьд\": 80, \"девяно\": 90,\n",
        "    \"дес\": 10, \"н\": 0, \"о\": 1, \"дв\": 2, \"т\": 3, \"ч\": 4, \"п\": 5, \"ш\": 6, \"с\": 7, \"в\": 8, \"д\": 9, }\n",
        "\n",
        "def transform_string_to_integer(input_string):\n",
        "    text = input_string.split()\n",
        "    num = 0\n",
        "    for word in text:\n",
        "        for key, value in number_word_dict.items():\n",
        "            if word.startswith(key):\n",
        "                if key == \"ты\":\n",
        "                    num *= 1000\n",
        "                elif key == \"м\":\n",
        "                    num *= 1000000\n",
        "                else:\n",
        "                    num += value\n",
        "                if num > 1000000:\n",
        "                    num = None\n",
        "                break\n",
        "    return num\n",
        "print(transform_string_to_integer(input_string))"
      ]
    },
    {
      "cell_type": "markdown",
      "metadata": {
        "id": "JBHT8a9WfHfp"
      },
      "source": []
    },
    {
      "cell_type": "code",
      "execution_count": null,
      "metadata": {
        "colab": {
          "base_uri": "https://localhost:8080/"
        },
        "id": "7uG0mhkdfKu9",
        "outputId": "a37f776d-f40b-425c-f65e-a47ae52ac9b4"
      },
      "outputs": [
        {
          "name": "stdout",
          "output_type": "stream",
          "text": [
            "Введите число словами: сто\n"
          ]
        }
      ],
      "source": [
        "input_string = input('Введите число словами: ')\n",
        "number_word_dict = {\n",
        "    \"ты\": 1000, \"м\": 1000000,\n",
        "    \"сто\": 100, \"двес\": 200, \"трис\": 300, \"четырес\": 400, \"пятьс\": 500, \"шестьс\": 600, \"семьс\": 700, \"восемьс\": 800, \"девятьс\": 900,\n",
        "    \"одинн\": 11, \"двен\": 12, \"трин\": 13, \"четырн\": 14, \"пятн\": 15, \"шестн\": 16, \"семн\": 17, \"восемн\": 18, \"девятн\": 19,\n",
        "    \"двад\": 20, \"трид\": 30, \"сор\": 40, \"пятьд\": 50, \"шестьд\": 60, \"семьд\": 70, \"восемьд\": 80, \"девяно\": 90,\n",
        "    \"дес\": 10, \"н\": 0, \"о\": 1, \"дв\": 2, \"т\": 3, \"ч\": 4, \"п\": 5, \"ш\": 6, \"с\": 7, \"в\": 8, \"д\": 9, }\n",
        "def transform_string_to_integer(input_string):\n",
        "    input_string = input_string.split()\n",
        "    number = 0\n",
        "    for key, val in number_word_dict.items():\n",
        "        for l in range(len(input_string)):\n",
        "            if input_string[l].startswith(key):\n",
        "                number+=val\n",
        "                input_string[l] = ''\n",
        "                if key == \"ты\":\n",
        "                    number*=1000\n",
        "                    input_string[l] = ''\n"
      ]
    },
    {
      "cell_type": "markdown",
      "metadata": {
        "id": "Z_i4E0JcfVK0"
      },
      "source": [
        ". Цикл по словам введенным с клавиатуры\n",
        "2. Цикл по словарю\n",
        "3. Сравниваем если \"ты\" (word.startswith(\"ты\"))умножаем на тысячу и прерываем цикл\n",
        "4. Сравниваем если \"м\" (word.startswith(\"м\"))умножаем на миллион и прерываем цикл\n",
        "5. Если word.startswith(number_word) прибавляем значение к числу и прерываем цикл\n",
        "6. В самом конце вне циклов возвращаем итоговое число\n"
      ]
    },
    {
      "cell_type": "code",
      "execution_count": null,
      "metadata": {
        "colab": {
          "base_uri": "https://localhost:8080/"
        },
        "id": "zsws1OrvcieY",
        "outputId": "5c459c42-3220-4540-d65e-81d94653ecb9"
      },
      "outputs": [
        {
          "name": "stdout",
          "output_type": "stream",
          "text": [
            "Введите число словами: триста двадцать тысяч сто\n",
            "None\n"
          ]
        }
      ],
      "source": [
        "input_string = input('Введите число словами: ')\n",
        "\n",
        "number_word_dict = {\n",
        "    \"ноль\" : 0, \"один\": 1, \"два\": 2, \"три\": 3, \"четыре\": 4, \"пять\": 5,\n",
        "    \"шесть\": 6, \"семь\": 7, \"восемь\": 8, \"девять\": 9, \"десять\": 10,\n",
        "    \"одиннадцать\": 11, \"двенадцать\": 12, \"тринадцать\": 13, \"четырнадцать\": 14,\n",
        "    \"пятнадцать\": 15, \"шестнадцать\": 16, \"семнадцать\": 17, \"восемнадцать\": 18,\n",
        "    \"девятнадцать\": 19, \"двадцать\": 20, \"тридцать\": 30, \"сорок\": 40,\n",
        "    \"пятьдесят\": 50, \"шестьдесят\": 60, \"семьдесят\": 70, \"восемьдесят\": 80,\n",
        "    \"девяносто\": 90, \"сто\": 100, \"двести\": 200, \"триста\": 300,\n",
        "    \"четыреста\": 400, \"пятьсот\": 500, \"шестьсот\": 600, \"семьсот\": 700,\n",
        "    \"восемьсот\": 800, \"девятьсот\": 900,\n",
        "    \"тысяча\": 1000, \"миллион\": 1000000\n",
        "}\n",
        "\n",
        "\n",
        "def transform_string_to_integer(input_string):\n",
        "    words = input_string.split()\n",
        "    num = 0\n",
        "    current = 0\n",
        "    for word in words:\n",
        "        if word in number_word_dict:\n",
        "            value = number_word_dict[word]\n",
        "            if value == 1000 or value == 1000000:\n",
        "                if current == 0:\n",
        "                    current = 1\n",
        "                num += current * value\n",
        "                current = 0\n",
        "            else:\n",
        "                current += value\n",
        "        else:\n",
        "            return None\n",
        "    return num + current\n",
        "\n",
        "print(transform_string_to_integer(input_string))"
      ]
    },
    {
      "cell_type": "code",
      "execution_count": null,
      "metadata": {
        "id": "64LCft0XYGb1"
      },
      "outputs": [],
      "source": [
        "def decompose_factorial(n):\n",
        "    def factorial(n):\n",
        "        if n == 1 or n == 0:\n",
        "            return 1\n",
        "        return n * factorial(n-1)\n",
        "\n",
        "    def factors(n):\n",
        "        d = 2\n",
        "        factors_list = []\n",
        "        while d**2 <= n:\n",
        "            if n % d == 0:\n",
        "                factors_list.append(d)\n",
        "                n //= d # n = n // d\n",
        "            else:\n",
        "                d += 1\n",
        "        if n > 1:\n",
        "            factors_list.append(n)\n",
        "        return factors_list\n",
        "\n",
        "    def get_count_factors(factors_list):\n",
        "        factors_count = {}\n",
        "        for factor in factors_list:\n",
        "            if factor not in factors_count:\n",
        "                factors_count[factor] = 1\n",
        "            else:\n",
        "                factors_count[factor] += 1\n",
        "        return factors_count\n",
        "\n",
        "    n = factorial(n)\n",
        "    factors_list = factors(n)\n",
        "    factors_count = get_count_factors(factors_list)\n",
        "\n",
        "    results = []\n",
        "    for factor, count in factors_count.items():\n",
        "        if count > 1:\n",
        "            results.append(f'{factor}^{count}')\n",
        "        else:\n",
        "            results.append(f'{factor}')\n",
        "    result = ' * '.join(results)\n",
        "    return result"
      ]
    }
  ],
  "metadata": {
    "colab": {
      "provenance": []
    },
    "kernelspec": {
      "display_name": "Python 3",
      "name": "python3"
    },
    "language_info": {
      "name": "python"
    }
  },
  "nbformat": 4,
  "nbformat_minor": 0
}
