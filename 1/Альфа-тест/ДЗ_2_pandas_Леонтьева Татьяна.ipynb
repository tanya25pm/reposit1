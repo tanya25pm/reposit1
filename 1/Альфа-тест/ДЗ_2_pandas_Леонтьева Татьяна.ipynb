{
 "cells": [
  {
   "cell_type": "markdown",
   "id": "dd2ff08c-5414-4bf0-a1ef-88a6025ccc48",
   "metadata": {
    "jp-MarkdownHeadingCollapsed": true
   },
   "source": [
    "# Инструкция:"
   ]
  },
  {
   "cell_type": "markdown",
   "id": "c3dacb65-d310-42dd-9052-8e80a1dc64bd",
   "metadata": {},
   "source": [
    "1. Установите и импортируйте библиотеки:👇"
   ]
  },
  {
   "cell_type": "code",
   "execution_count": 2,
   "id": "f67795d3-a2d5-45e3-96c6-89b75734271e",
   "metadata": {},
   "outputs": [],
   "source": [
    "# # Установка\n",
    "\n",
    "# !pip install pandas\n",
    "# !pip install clickhouse_driver"
   ]
  },
  {
   "cell_type": "code",
   "execution_count": 3,
   "id": "17fc1cff-30ab-4316-8285-6f25b8485975",
   "metadata": {
    "ExecuteTime": {
     "end_time": "2024-05-12T17:57:38.349035Z",
     "start_time": "2024-05-12T17:57:37.218472Z"
    }
   },
   "outputs": [],
   "source": [
    "# Импорт\n",
    "\n",
    "import pandas as pd\n",
    "from clickhouse_driver import Client"
   ]
  },
  {
   "cell_type": "markdown",
   "id": "7de153df-58a4-43d3-8e9f-8aeee83bfe34",
   "metadata": {},
   "source": [
    "2. Запустите ячейку ниже с функцией создания датафрейма."
   ]
  },
  {
   "cell_type": "code",
   "execution_count": 4,
   "id": "9288f427-09a7-4cd7-9332-d44a95d57da9",
   "metadata": {
    "ExecuteTime": {
     "end_time": "2024-05-12T17:57:42.933026Z",
     "start_time": "2024-05-12T17:57:42.929863Z"
    }
   },
   "outputs": [],
   "source": [
    "# Функция создания датафрейма\n",
    "\n",
    "def create_dataframe(user, password, table_name='films'):\n",
    "    client = Client('90.156.216.60', user=user, password=password, database='it_minimalist_CH')\n",
    "    query = f'SELECT * FROM {table_name}'\n",
    "    df = client.query_dataframe(query)\n",
    "    return df"
   ]
  },
  {
   "cell_type": "markdown",
   "id": "916b8c57-2525-449a-9719-722cb3964ccc",
   "metadata": {},
   "source": [
    "3.  В ячейке ниже создается датафрейм в переменной `df`.\n",
    "<br>\n",
    "\n",
    "- Замените `'your_username'`, `'your_password'` на ваши учетные данные, которые получили на почту (у каждого своя учетная запись с индивидуальным доступом к БД Clickhouse).\n",
    "<br>\n",
    "- Как вы заметили в параметрах функции `create_dataframe`, по умолчанию датафрейм создатеся из таблицы `'films'`. Также в базе данных лежит таблица `'payments'`"
   ]
  },
  {
   "cell_type": "code",
   "execution_count": 5,
   "id": "f2aacb6d-d5de-4520-b3e8-4e58bfd33938",
   "metadata": {
    "ExecuteTime": {
     "end_time": "2024-05-12T17:57:45.813805Z",
     "start_time": "2024-05-12T17:57:45.512328Z"
    }
   },
   "outputs": [],
   "source": [
    "films = create_dataframe(user='tanya25pm', password='klcemshu', table_name='films')\n",
    "payments = create_dataframe(user='tanya25pm', password='klcemshu', table_name='payments')"
   ]
  },
  {
   "cell_type": "markdown",
   "id": "674c0812-b13a-432c-9314-4761a6c7eeb5",
   "metadata": {},
   "source": [
    "# УРОК 2"
   ]
  },
  {
   "cell_type": "markdown",
   "id": "6b90d01f-e9b1-460a-8c8e-4e362c6a3190",
   "metadata": {
    "jp-MarkdownHeadingCollapsed": true
   },
   "source": [
    "# Проблемы в данных"
   ]
  },
  {
   "cell_type": "code",
   "execution_count": 6,
   "id": "32460469-76b9-4c35-9829-978aee26f7c1",
   "metadata": {},
   "outputs": [],
   "source": [
    "import pandas as pd\n",
    "pd.set_option('display.max_columns', 200)\n",
    "pd.set_option('display.max_rows', 300)"
   ]
  },
  {
   "cell_type": "code",
   "execution_count": 7,
   "id": "24c32104-af48-4b52-8123-99b43300a8bc",
   "metadata": {},
   "outputs": [
    {
     "name": "stdout",
     "output_type": "stream",
     "text": [
      "<class 'pandas.core.frame.DataFrame'>\n",
      "RangeIndex: 3962 entries, 0 to 3961\n",
      "Data columns (total 5 columns):\n",
      " #   Column         Non-Null Count  Dtype  \n",
      "---  ------         --------------  -----  \n",
      " 0   pay_date       3938 non-null   object \n",
      " 1   film_id        3962 non-null   int64  \n",
      " 2   part_of_day    3962 non-null   object \n",
      " 3   client_id      3962 non-null   object \n",
      " 4   count_tickets  3943 non-null   float64\n",
      "dtypes: float64(1), int64(1), object(3)\n",
      "memory usage: 154.9+ KB\n"
     ]
    }
   ],
   "source": [
    "payments.info()"
   ]
  },
  {
   "cell_type": "markdown",
   "id": "20c3128c-360c-4610-8071-8a9576270a04",
   "metadata": {
    "jp-MarkdownHeadingCollapsed": true
   },
   "source": [
    "## Названия столбцов"
   ]
  },
  {
   "cell_type": "code",
   "execution_count": 8,
   "id": "8af9f2e8-cb6e-4096-89b2-e6408664fff4",
   "metadata": {},
   "outputs": [],
   "source": [
    "# переименовывает столбецpayments.rename({'count_tickets': 'количество_билетов', 'pay_date': 'дата_платежа'},inplace=True, axis=1) "
   ]
  },
  {
   "cell_type": "code",
   "execution_count": 9,
   "id": "6ac90dc6-80ac-4581-8a63-84bbf48bbd92",
   "metadata": {},
   "outputs": [
    {
     "data": {
      "text/html": [
       "<div>\n",
       "<style scoped>\n",
       "    .dataframe tbody tr th:only-of-type {\n",
       "        vertical-align: middle;\n",
       "    }\n",
       "\n",
       "    .dataframe tbody tr th {\n",
       "        vertical-align: top;\n",
       "    }\n",
       "\n",
       "    .dataframe thead th {\n",
       "        text-align: right;\n",
       "    }\n",
       "</style>\n",
       "<table border=\"1\" class=\"dataframe\">\n",
       "  <thead>\n",
       "    <tr style=\"text-align: right;\">\n",
       "      <th></th>\n",
       "      <th>дата_платежа</th>\n",
       "      <th>film_id</th>\n",
       "      <th>part_of_day</th>\n",
       "      <th>client_id</th>\n",
       "      <th>количество_билетов</th>\n",
       "    </tr>\n",
       "  </thead>\n",
       "  <tbody>\n",
       "    <tr>\n",
       "      <th>0</th>\n",
       "      <td>2024-04-24</td>\n",
       "      <td>2</td>\n",
       "      <td>дневной</td>\n",
       "      <td>NL42</td>\n",
       "      <td>1.0</td>\n",
       "    </tr>\n",
       "    <tr>\n",
       "      <th>1</th>\n",
       "      <td>2024-03-03</td>\n",
       "      <td>15</td>\n",
       "      <td>вечерний</td>\n",
       "      <td>HW75</td>\n",
       "      <td>3.0</td>\n",
       "    </tr>\n",
       "    <tr>\n",
       "      <th>2</th>\n",
       "      <td>2024-02-09</td>\n",
       "      <td>43</td>\n",
       "      <td>вечерний</td>\n",
       "      <td>XX54</td>\n",
       "      <td>5.0</td>\n",
       "    </tr>\n",
       "    <tr>\n",
       "      <th>3</th>\n",
       "      <td>2024-04-23</td>\n",
       "      <td>19</td>\n",
       "      <td>вечерний</td>\n",
       "      <td>QR90</td>\n",
       "      <td>3.0</td>\n",
       "    </tr>\n",
       "    <tr>\n",
       "      <th>4</th>\n",
       "      <td>2024-01-29</td>\n",
       "      <td>34</td>\n",
       "      <td>вечерний</td>\n",
       "      <td>SG93</td>\n",
       "      <td>5.0</td>\n",
       "    </tr>\n",
       "    <tr>\n",
       "      <th>...</th>\n",
       "      <td>...</td>\n",
       "      <td>...</td>\n",
       "      <td>...</td>\n",
       "      <td>...</td>\n",
       "      <td>...</td>\n",
       "    </tr>\n",
       "    <tr>\n",
       "      <th>3957</th>\n",
       "      <td>2024-02-11</td>\n",
       "      <td>1</td>\n",
       "      <td>дневной</td>\n",
       "      <td>FG89</td>\n",
       "      <td>4.0</td>\n",
       "    </tr>\n",
       "    <tr>\n",
       "      <th>3958</th>\n",
       "      <td>2024-04-08</td>\n",
       "      <td>34</td>\n",
       "      <td>утренний</td>\n",
       "      <td>DI23</td>\n",
       "      <td>2.0</td>\n",
       "    </tr>\n",
       "    <tr>\n",
       "      <th>3959</th>\n",
       "      <td>2024-01-16</td>\n",
       "      <td>10</td>\n",
       "      <td>дневной</td>\n",
       "      <td>ZJ39</td>\n",
       "      <td>4.0</td>\n",
       "    </tr>\n",
       "    <tr>\n",
       "      <th>3960</th>\n",
       "      <td>2024-04-15</td>\n",
       "      <td>28</td>\n",
       "      <td>вечерний</td>\n",
       "      <td>TU86</td>\n",
       "      <td>5.0</td>\n",
       "    </tr>\n",
       "    <tr>\n",
       "      <th>3961</th>\n",
       "      <td>2024-04-05</td>\n",
       "      <td>42</td>\n",
       "      <td>вечерний</td>\n",
       "      <td>DM94</td>\n",
       "      <td>4.0</td>\n",
       "    </tr>\n",
       "  </tbody>\n",
       "</table>\n",
       "<p>3962 rows × 5 columns</p>\n",
       "</div>"
      ],
      "text/plain": [
       "     дата_платежа  film_id part_of_day client_id  количество_билетов\n",
       "0      2024-04-24        2     дневной      NL42                 1.0\n",
       "1      2024-03-03       15    вечерний      HW75                 3.0\n",
       "2      2024-02-09       43    вечерний      XX54                 5.0\n",
       "3      2024-04-23       19    вечерний      QR90                 3.0\n",
       "4      2024-01-29       34    вечерний      SG93                 5.0\n",
       "...           ...      ...         ...       ...                 ...\n",
       "3957   2024-02-11        1     дневной      FG89                 4.0\n",
       "3958   2024-04-08       34    утренний      DI23                 2.0\n",
       "3959   2024-01-16       10     дневной      ZJ39                 4.0\n",
       "3960   2024-04-15       28    вечерний      TU86                 5.0\n",
       "3961   2024-04-05       42    вечерний      DM94                 4.0\n",
       "\n",
       "[3962 rows x 5 columns]"
      ]
     },
     "execution_count": 9,
     "metadata": {},
     "output_type": "execute_result"
    }
   ],
   "source": [
    "payments"
   ]
  },
  {
   "cell_type": "markdown",
   "id": "278ba912-739f-425f-956f-42c34ad3e582",
   "metadata": {
    "jp-MarkdownHeadingCollapsed": true
   },
   "source": [
    "## Пропуски"
   ]
  },
  {
   "cell_type": "markdown",
   "id": "2af7668c-8ef0-4329-af11-ca0cc9de5701",
   "metadata": {},
   "source": [
    "### None (NoneType)"
   ]
  },
  {
   "cell_type": "code",
   "execution_count": 10,
   "id": "10c00896-0059-4c52-8fd2-76fc6c0d0a7d",
   "metadata": {},
   "outputs": [],
   "source": [
    "None"
   ]
  },
  {
   "cell_type": "markdown",
   "id": "d1d1f449-fc83-4b27-9d09-613e354dd90d",
   "metadata": {},
   "source": [
    "### NaN (float)"
   ]
  },
  {
   "cell_type": "code",
   "execution_count": 11,
   "id": "66c72e50-9b6f-46fb-83f0-18ed574a601f",
   "metadata": {},
   "outputs": [
    {
     "data": {
      "text/plain": [
       "float"
      ]
     },
     "execution_count": 11,
     "metadata": {},
     "output_type": "execute_result"
    }
   ],
   "source": [
    "type(3.5)"
   ]
  },
  {
   "cell_type": "code",
   "execution_count": 12,
   "id": "839ef81c-eed2-431b-9c89-537800174ef0",
   "metadata": {},
   "outputs": [],
   "source": [
    "import numpy as np"
   ]
  },
  {
   "cell_type": "code",
   "execution_count": 13,
   "id": "023d57b9-7ea7-4ea6-9a91-6c63fbbc2835",
   "metadata": {},
   "outputs": [
    {
     "data": {
      "text/plain": [
       "float"
      ]
     },
     "execution_count": 13,
     "metadata": {},
     "output_type": "execute_result"
    }
   ],
   "source": [
    "type(np.nan)"
   ]
  },
  {
   "cell_type": "markdown",
   "id": "66a3a153-9fc3-48eb-9e34-9c11e9407c41",
   "metadata": {
    "jp-MarkdownHeadingCollapsed": true
   },
   "source": [
    "## Поиск пропусков"
   ]
  },
  {
   "cell_type": "code",
   "execution_count": 14,
   "id": "267aa4b9-83d5-4c70-9efd-74cf0e888b29",
   "metadata": {},
   "outputs": [
    {
     "name": "stdout",
     "output_type": "stream",
     "text": [
      "<class 'pandas.core.frame.DataFrame'>\n",
      "RangeIndex: 3962 entries, 0 to 3961\n",
      "Data columns (total 5 columns):\n",
      " #   Column              Non-Null Count  Dtype  \n",
      "---  ------              --------------  -----  \n",
      " 0   дата_платежа        3938 non-null   object \n",
      " 1   film_id             3962 non-null   int64  \n",
      " 2   part_of_day         3962 non-null   object \n",
      " 3   client_id           3962 non-null   object \n",
      " 4   количество_билетов  3943 non-null   float64\n",
      "dtypes: float64(1), int64(1), object(3)\n",
      "memory usage: 154.9+ KB\n"
     ]
    }
   ],
   "source": [
    "payments.info()"
   ]
  },
  {
   "cell_type": "code",
   "execution_count": 15,
   "id": "acf87392-d4d0-4779-a5ad-8e274a2440fb",
   "metadata": {},
   "outputs": [
    {
     "data": {
      "text/plain": [
       "дата_платежа          24\n",
       "film_id                0\n",
       "part_of_day            0\n",
       "client_id              0\n",
       "количество_билетов    19\n",
       "dtype: int64"
      ]
     },
     "execution_count": 15,
     "metadata": {},
     "output_type": "execute_result"
    }
   ],
   "source": [
    "payments.isna().sum() # подсчет пропусков в датафрейме"
   ]
  },
  {
   "cell_type": "code",
   "execution_count": 16,
   "id": "3a5401ad-949d-4360-8dd5-2231097740a7",
   "metadata": {},
   "outputs": [
    {
     "data": {
      "text/plain": [
       "24"
      ]
     },
     "execution_count": 16,
     "metadata": {},
     "output_type": "execute_result"
    }
   ],
   "source": [
    "payments.rename({'count_tickets': 'количество_билетов', 'дата_платежа': 'pay_date'},inplace=True, axis=1) # переименовывает столбец\n",
    "payments['pay_date'].isna().sum() # подсчет пропусков в датафрейме"
   ]
  },
  {
   "cell_type": "code",
   "execution_count": 17,
   "id": "d0c4f8f9-d2d7-4962-aede-dd71eb74668e",
   "metadata": {},
   "outputs": [
    {
     "data": {
      "text/plain": [
       "19"
      ]
     },
     "execution_count": 17,
     "metadata": {},
     "output_type": "execute_result"
    }
   ],
   "source": [
    "payments.количество_билетов.isna().sum() # подсчет пропусков в series"
   ]
  },
  {
   "cell_type": "markdown",
   "id": "a91349d0-cc88-4e30-9140-8b4ae61450ae",
   "metadata": {},
   "source": [
    "## Обработка пропусков"
   ]
  },
  {
   "cell_type": "markdown",
   "id": "f9c7fcbb-3c03-4c85-96e4-691c8f6053b7",
   "metadata": {
    "jp-MarkdownHeadingCollapsed": true
   },
   "source": [
    "### Удаление пропусков"
   ]
  },
  {
   "cell_type": "code",
   "execution_count": 18,
   "id": "57c7a406-4264-4eb9-81e3-398bce1e93ec",
   "metadata": {},
   "outputs": [
    {
     "data": {
      "text/html": [
       "<div>\n",
       "<style scoped>\n",
       "    .dataframe tbody tr th:only-of-type {\n",
       "        vertical-align: middle;\n",
       "    }\n",
       "\n",
       "    .dataframe tbody tr th {\n",
       "        vertical-align: top;\n",
       "    }\n",
       "\n",
       "    .dataframe thead th {\n",
       "        text-align: right;\n",
       "    }\n",
       "</style>\n",
       "<table border=\"1\" class=\"dataframe\">\n",
       "  <thead>\n",
       "    <tr style=\"text-align: right;\">\n",
       "      <th></th>\n",
       "      <th>pay_date</th>\n",
       "      <th>film_id</th>\n",
       "      <th>part_of_day</th>\n",
       "      <th>client_id</th>\n",
       "      <th>количество_билетов</th>\n",
       "    </tr>\n",
       "  </thead>\n",
       "  <tbody>\n",
       "    <tr>\n",
       "      <th>0</th>\n",
       "      <td>2024-04-24</td>\n",
       "      <td>2</td>\n",
       "      <td>дневной</td>\n",
       "      <td>NL42</td>\n",
       "      <td>1.0</td>\n",
       "    </tr>\n",
       "    <tr>\n",
       "      <th>1</th>\n",
       "      <td>2024-03-03</td>\n",
       "      <td>15</td>\n",
       "      <td>вечерний</td>\n",
       "      <td>HW75</td>\n",
       "      <td>3.0</td>\n",
       "    </tr>\n",
       "    <tr>\n",
       "      <th>2</th>\n",
       "      <td>2024-02-09</td>\n",
       "      <td>43</td>\n",
       "      <td>вечерний</td>\n",
       "      <td>XX54</td>\n",
       "      <td>5.0</td>\n",
       "    </tr>\n",
       "    <tr>\n",
       "      <th>3</th>\n",
       "      <td>2024-04-23</td>\n",
       "      <td>19</td>\n",
       "      <td>вечерний</td>\n",
       "      <td>QR90</td>\n",
       "      <td>3.0</td>\n",
       "    </tr>\n",
       "    <tr>\n",
       "      <th>4</th>\n",
       "      <td>2024-01-29</td>\n",
       "      <td>34</td>\n",
       "      <td>вечерний</td>\n",
       "      <td>SG93</td>\n",
       "      <td>5.0</td>\n",
       "    </tr>\n",
       "    <tr>\n",
       "      <th>...</th>\n",
       "      <td>...</td>\n",
       "      <td>...</td>\n",
       "      <td>...</td>\n",
       "      <td>...</td>\n",
       "      <td>...</td>\n",
       "    </tr>\n",
       "    <tr>\n",
       "      <th>3957</th>\n",
       "      <td>2024-02-11</td>\n",
       "      <td>1</td>\n",
       "      <td>дневной</td>\n",
       "      <td>FG89</td>\n",
       "      <td>4.0</td>\n",
       "    </tr>\n",
       "    <tr>\n",
       "      <th>3958</th>\n",
       "      <td>2024-04-08</td>\n",
       "      <td>34</td>\n",
       "      <td>утренний</td>\n",
       "      <td>DI23</td>\n",
       "      <td>2.0</td>\n",
       "    </tr>\n",
       "    <tr>\n",
       "      <th>3959</th>\n",
       "      <td>2024-01-16</td>\n",
       "      <td>10</td>\n",
       "      <td>дневной</td>\n",
       "      <td>ZJ39</td>\n",
       "      <td>4.0</td>\n",
       "    </tr>\n",
       "    <tr>\n",
       "      <th>3960</th>\n",
       "      <td>2024-04-15</td>\n",
       "      <td>28</td>\n",
       "      <td>вечерний</td>\n",
       "      <td>TU86</td>\n",
       "      <td>5.0</td>\n",
       "    </tr>\n",
       "    <tr>\n",
       "      <th>3961</th>\n",
       "      <td>2024-04-05</td>\n",
       "      <td>42</td>\n",
       "      <td>вечерний</td>\n",
       "      <td>DM94</td>\n",
       "      <td>4.0</td>\n",
       "    </tr>\n",
       "  </tbody>\n",
       "</table>\n",
       "<p>3962 rows × 5 columns</p>\n",
       "</div>"
      ],
      "text/plain": [
       "        pay_date  film_id part_of_day client_id  количество_билетов\n",
       "0     2024-04-24        2     дневной      NL42                 1.0\n",
       "1     2024-03-03       15    вечерний      HW75                 3.0\n",
       "2     2024-02-09       43    вечерний      XX54                 5.0\n",
       "3     2024-04-23       19    вечерний      QR90                 3.0\n",
       "4     2024-01-29       34    вечерний      SG93                 5.0\n",
       "...          ...      ...         ...       ...                 ...\n",
       "3957  2024-02-11        1     дневной      FG89                 4.0\n",
       "3958  2024-04-08       34    утренний      DI23                 2.0\n",
       "3959  2024-01-16       10     дневной      ZJ39                 4.0\n",
       "3960  2024-04-15       28    вечерний      TU86                 5.0\n",
       "3961  2024-04-05       42    вечерний      DM94                 4.0\n",
       "\n",
       "[3962 rows x 5 columns]"
      ]
     },
     "execution_count": 18,
     "metadata": {},
     "output_type": "execute_result"
    }
   ],
   "source": [
    "payments"
   ]
  },
  {
   "cell_type": "code",
   "execution_count": 19,
   "id": "4fa4f9e2-89ad-498b-891b-2c73756f4d3a",
   "metadata": {},
   "outputs": [
    {
     "name": "stdout",
     "output_type": "stream",
     "text": [
      "<class 'pandas.core.frame.DataFrame'>\n",
      "RangeIndex: 3962 entries, 0 to 3961\n",
      "Data columns (total 5 columns):\n",
      " #   Column              Non-Null Count  Dtype  \n",
      "---  ------              --------------  -----  \n",
      " 0   pay_date            3938 non-null   object \n",
      " 1   film_id             3962 non-null   int64  \n",
      " 2   part_of_day         3962 non-null   object \n",
      " 3   client_id           3962 non-null   object \n",
      " 4   количество_билетов  3943 non-null   float64\n",
      "dtypes: float64(1), int64(1), object(3)\n",
      "memory usage: 154.9+ KB\n"
     ]
    }
   ],
   "source": [
    "payments.info()"
   ]
  },
  {
   "cell_type": "code",
   "execution_count": 20,
   "id": "2b124639-7139-4969-9bcf-c2bac155f960",
   "metadata": {},
   "outputs": [
    {
     "data": {
      "text/html": [
       "<div>\n",
       "<style scoped>\n",
       "    .dataframe tbody tr th:only-of-type {\n",
       "        vertical-align: middle;\n",
       "    }\n",
       "\n",
       "    .dataframe tbody tr th {\n",
       "        vertical-align: top;\n",
       "    }\n",
       "\n",
       "    .dataframe thead th {\n",
       "        text-align: right;\n",
       "    }\n",
       "</style>\n",
       "<table border=\"1\" class=\"dataframe\">\n",
       "  <thead>\n",
       "    <tr style=\"text-align: right;\">\n",
       "      <th></th>\n",
       "      <th>pay_date</th>\n",
       "      <th>film_id</th>\n",
       "      <th>part_of_day</th>\n",
       "      <th>client_id</th>\n",
       "      <th>количество_билетов</th>\n",
       "    </tr>\n",
       "  </thead>\n",
       "  <tbody>\n",
       "    <tr>\n",
       "      <th>0</th>\n",
       "      <td>2024-04-24</td>\n",
       "      <td>2</td>\n",
       "      <td>дневной</td>\n",
       "      <td>NL42</td>\n",
       "      <td>1.0</td>\n",
       "    </tr>\n",
       "    <tr>\n",
       "      <th>1</th>\n",
       "      <td>2024-03-03</td>\n",
       "      <td>15</td>\n",
       "      <td>вечерний</td>\n",
       "      <td>HW75</td>\n",
       "      <td>3.0</td>\n",
       "    </tr>\n",
       "    <tr>\n",
       "      <th>2</th>\n",
       "      <td>2024-02-09</td>\n",
       "      <td>43</td>\n",
       "      <td>вечерний</td>\n",
       "      <td>XX54</td>\n",
       "      <td>5.0</td>\n",
       "    </tr>\n",
       "    <tr>\n",
       "      <th>3</th>\n",
       "      <td>2024-04-23</td>\n",
       "      <td>19</td>\n",
       "      <td>вечерний</td>\n",
       "      <td>QR90</td>\n",
       "      <td>3.0</td>\n",
       "    </tr>\n",
       "    <tr>\n",
       "      <th>4</th>\n",
       "      <td>2024-01-29</td>\n",
       "      <td>34</td>\n",
       "      <td>вечерний</td>\n",
       "      <td>SG93</td>\n",
       "      <td>5.0</td>\n",
       "    </tr>\n",
       "    <tr>\n",
       "      <th>...</th>\n",
       "      <td>...</td>\n",
       "      <td>...</td>\n",
       "      <td>...</td>\n",
       "      <td>...</td>\n",
       "      <td>...</td>\n",
       "    </tr>\n",
       "    <tr>\n",
       "      <th>3957</th>\n",
       "      <td>2024-02-11</td>\n",
       "      <td>1</td>\n",
       "      <td>дневной</td>\n",
       "      <td>FG89</td>\n",
       "      <td>4.0</td>\n",
       "    </tr>\n",
       "    <tr>\n",
       "      <th>3958</th>\n",
       "      <td>2024-04-08</td>\n",
       "      <td>34</td>\n",
       "      <td>утренний</td>\n",
       "      <td>DI23</td>\n",
       "      <td>2.0</td>\n",
       "    </tr>\n",
       "    <tr>\n",
       "      <th>3959</th>\n",
       "      <td>2024-01-16</td>\n",
       "      <td>10</td>\n",
       "      <td>дневной</td>\n",
       "      <td>ZJ39</td>\n",
       "      <td>4.0</td>\n",
       "    </tr>\n",
       "    <tr>\n",
       "      <th>3960</th>\n",
       "      <td>2024-04-15</td>\n",
       "      <td>28</td>\n",
       "      <td>вечерний</td>\n",
       "      <td>TU86</td>\n",
       "      <td>5.0</td>\n",
       "    </tr>\n",
       "    <tr>\n",
       "      <th>3961</th>\n",
       "      <td>2024-04-05</td>\n",
       "      <td>42</td>\n",
       "      <td>вечерний</td>\n",
       "      <td>DM94</td>\n",
       "      <td>4.0</td>\n",
       "    </tr>\n",
       "  </tbody>\n",
       "</table>\n",
       "<p>3926 rows × 5 columns</p>\n",
       "</div>"
      ],
      "text/plain": [
       "        pay_date  film_id part_of_day client_id  количество_билетов\n",
       "0     2024-04-24        2     дневной      NL42                 1.0\n",
       "1     2024-03-03       15    вечерний      HW75                 3.0\n",
       "2     2024-02-09       43    вечерний      XX54                 5.0\n",
       "3     2024-04-23       19    вечерний      QR90                 3.0\n",
       "4     2024-01-29       34    вечерний      SG93                 5.0\n",
       "...          ...      ...         ...       ...                 ...\n",
       "3957  2024-02-11        1     дневной      FG89                 4.0\n",
       "3958  2024-04-08       34    утренний      DI23                 2.0\n",
       "3959  2024-01-16       10     дневной      ZJ39                 4.0\n",
       "3960  2024-04-15       28    вечерний      TU86                 5.0\n",
       "3961  2024-04-05       42    вечерний      DM94                 4.0\n",
       "\n",
       "[3926 rows x 5 columns]"
      ]
     },
     "execution_count": 20,
     "metadata": {},
     "output_type": "execute_result"
    }
   ],
   "source": [
    "payments.dropna() # удаление строк с пропусками (из всех столбцов)"
   ]
  },
  {
   "cell_type": "code",
   "execution_count": 21,
   "id": "05d32c9e-9746-424e-a048-83d32f75d618",
   "metadata": {},
   "outputs": [],
   "source": [
    "payments.dropna(subset='количество_билетов', inplace=True) # удаление строк с пропусками (из конкретного столбца)"
   ]
  },
  {
   "cell_type": "code",
   "execution_count": 22,
   "id": "e07c7d01-22d7-4421-aeaa-9d78a4fdf053",
   "metadata": {},
   "outputs": [
    {
     "data": {
      "text/plain": [
       "(3943, 5)"
      ]
     },
     "execution_count": 22,
     "metadata": {},
     "output_type": "execute_result"
    }
   ],
   "source": [
    "payments.shape"
   ]
  },
  {
   "cell_type": "markdown",
   "id": "c0e63b9d-4406-4db9-ad51-6e85ec607aab",
   "metadata": {
    "jp-MarkdownHeadingCollapsed": true
   },
   "source": [
    "### Заполнение пропусков"
   ]
  },
  {
   "cell_type": "code",
   "execution_count": 23,
   "id": "99f2e1e5-8b60-4d95-a720-2dd111aa051c",
   "metadata": {},
   "outputs": [
    {
     "name": "stdout",
     "output_type": "stream",
     "text": [
      "<class 'pandas.core.frame.DataFrame'>\n",
      "Index: 3943 entries, 0 to 3961\n",
      "Data columns (total 5 columns):\n",
      " #   Column              Non-Null Count  Dtype  \n",
      "---  ------              --------------  -----  \n",
      " 0   pay_date            3926 non-null   object \n",
      " 1   film_id             3943 non-null   int64  \n",
      " 2   part_of_day         3943 non-null   object \n",
      " 3   client_id           3943 non-null   object \n",
      " 4   количество_билетов  3943 non-null   float64\n",
      "dtypes: float64(1), int64(1), object(3)\n",
      "memory usage: 184.8+ KB\n"
     ]
    }
   ],
   "source": [
    "payments.info()"
   ]
  },
  {
   "cell_type": "code",
   "execution_count": 24,
   "id": "5e811492-c228-413c-b841-93618b37c37c",
   "metadata": {},
   "outputs": [],
   "source": [
    "payments = payments.fillna(0) # заполнение всех пропусков в датафрейме"
   ]
  },
  {
   "cell_type": "code",
   "execution_count": 25,
   "id": "21181f3c-771a-4bf7-ace9-1ae3a0127e5c",
   "metadata": {},
   "outputs": [
    {
     "name": "stdout",
     "output_type": "stream",
     "text": [
      "<class 'pandas.core.frame.DataFrame'>\n",
      "Index: 3943 entries, 0 to 3961\n",
      "Data columns (total 5 columns):\n",
      " #   Column              Non-Null Count  Dtype  \n",
      "---  ------              --------------  -----  \n",
      " 0   pay_date            3943 non-null   object \n",
      " 1   film_id             3943 non-null   int64  \n",
      " 2   part_of_day         3943 non-null   object \n",
      " 3   client_id           3943 non-null   object \n",
      " 4   количество_билетов  3943 non-null   float64\n",
      "dtypes: float64(1), int64(1), object(3)\n",
      "memory usage: 184.8+ KB\n"
     ]
    }
   ],
   "source": [
    "payments.info()"
   ]
  },
  {
   "cell_type": "code",
   "execution_count": 26,
   "id": "15470308-555d-4f30-a1f7-9341de0704a1",
   "metadata": {},
   "outputs": [
    {
     "name": "stdout",
     "output_type": "stream",
     "text": [
      "<class 'pandas.core.frame.DataFrame'>\n",
      "Index: 3943 entries, 0 to 3961\n",
      "Data columns (total 5 columns):\n",
      " #   Column              Non-Null Count  Dtype  \n",
      "---  ------              --------------  -----  \n",
      " 0   pay_date            3943 non-null   object \n",
      " 1   film_id             3943 non-null   int64  \n",
      " 2   part_of_day         3943 non-null   object \n",
      " 3   client_id           3943 non-null   object \n",
      " 4   количество_билетов  3943 non-null   float64\n",
      "dtypes: float64(1), int64(1), object(3)\n",
      "memory usage: 184.8+ KB\n"
     ]
    }
   ],
   "source": [
    "payments.info()"
   ]
  },
  {
   "cell_type": "code",
   "execution_count": 27,
   "id": "378f4485-8cd8-4cba-adab-7e6d283ac35f",
   "metadata": {},
   "outputs": [
    {
     "data": {
      "text/plain": [
       "3"
      ]
     },
     "execution_count": 27,
     "metadata": {},
     "output_type": "execute_result"
    }
   ],
   "source": [
    "payments.rename({'количество_билетов': 'count_tickets'},inplace=True, axis=1) \n",
    "\n",
    "count_tickets_mean = round(payments.count_tickets.mean()) # подсчет среднего по столбцу \"count_tickets\"\n",
    "count_tickets_mean"
   ]
  },
  {
   "cell_type": "code",
   "execution_count": 28,
   "id": "6b144fe4-e864-4940-b5ff-85d41e7c0fa7",
   "metadata": {},
   "outputs": [
    {
     "data": {
      "text/plain": [
       "0"
      ]
     },
     "execution_count": 28,
     "metadata": {},
     "output_type": "execute_result"
    }
   ],
   "source": [
    "payments.count_tickets.isna().sum() # сумма пропусков по столбцу \"count_tickets\""
   ]
  },
  {
   "cell_type": "code",
   "execution_count": 29,
   "id": "0b92bfb9-241f-49d8-884b-5de9cfba01f1",
   "metadata": {},
   "outputs": [],
   "source": [
    "payments.count_tickets = payments.count_tickets.fillna(count_tickets_mean) # заполнение пропусков в столбце \"count_tickets\""
   ]
  },
  {
   "cell_type": "code",
   "execution_count": 30,
   "id": "7d3b9eb8-a644-4e34-abb7-a8baf935fcd9",
   "metadata": {},
   "outputs": [
    {
     "data": {
      "text/plain": [
       "0"
      ]
     },
     "execution_count": 30,
     "metadata": {},
     "output_type": "execute_result"
    }
   ],
   "source": [
    "payments.count_tickets.isna().sum()"
   ]
  },
  {
   "cell_type": "markdown",
   "id": "9790f556-3427-4720-bd85-ff628f8534e9",
   "metadata": {},
   "source": [
    "## Дубли"
   ]
  },
  {
   "cell_type": "markdown",
   "id": "089c0f28-a094-428e-bd81-bb8442e5d4a6",
   "metadata": {
    "jp-MarkdownHeadingCollapsed": true
   },
   "source": [
    "### Поиск дублей"
   ]
  },
  {
   "cell_type": "code",
   "execution_count": null,
   "id": "a2f5fe5d",
   "metadata": {},
   "outputs": [],
   "source": []
  },
  {
   "cell_type": "code",
   "execution_count": 1,
   "id": "0a53fa07-da2f-41cd-ae5b-b52771b9cc4e",
   "metadata": {},
   "outputs": [
    {
     "ename": "NameError",
     "evalue": "name 'payments' is not defined",
     "output_type": "error",
     "traceback": [
      "\u001b[1;31m---------------------------------------------------------------------------\u001b[0m",
      "\u001b[1;31mNameError\u001b[0m                                 Traceback (most recent call last)",
      "Cell \u001b[1;32mIn[1], line 1\u001b[0m\n\u001b[1;32m----> 1\u001b[0m \u001b[43mpayments\u001b[49m\u001b[38;5;241m.\u001b[39misna()\n",
      "\u001b[1;31mNameError\u001b[0m: name 'payments' is not defined"
     ]
    }
   ],
   "source": [
    "payments.isna()"
   ]
  },
  {
   "cell_type": "code",
   "execution_count": 32,
   "id": "66cf9cb7-9ae9-416b-92f2-f9dbdfe530e3",
   "metadata": {},
   "outputs": [
    {
     "data": {
      "text/plain": [
       "11"
      ]
     },
     "execution_count": 32,
     "metadata": {},
     "output_type": "execute_result"
    }
   ],
   "source": [
    "payments.duplicated().sum() # сумма дублей по всему датафрейму"
   ]
  },
  {
   "cell_type": "code",
   "execution_count": 33,
   "id": "057241e3-85f7-438d-b83e-9e03fdc46d60",
   "metadata": {},
   "outputs": [
    {
     "data": {
      "text/plain": [
       "0       False\n",
       "1       False\n",
       "2       False\n",
       "3       False\n",
       "4       False\n",
       "        ...  \n",
       "3957    False\n",
       "3958    False\n",
       "3959    False\n",
       "3960    False\n",
       "3961    False\n",
       "Length: 3943, dtype: bool"
      ]
     },
     "execution_count": 33,
     "metadata": {},
     "output_type": "execute_result"
    }
   ],
   "source": [
    "payments.duplicated()"
   ]
  },
  {
   "cell_type": "code",
   "execution_count": 34,
   "id": "611a125b-28eb-4533-9a6a-7d4c43b55ced",
   "metadata": {},
   "outputs": [
    {
     "data": {
      "text/html": [
       "<div>\n",
       "<style scoped>\n",
       "    .dataframe tbody tr th:only-of-type {\n",
       "        vertical-align: middle;\n",
       "    }\n",
       "\n",
       "    .dataframe tbody tr th {\n",
       "        vertical-align: top;\n",
       "    }\n",
       "\n",
       "    .dataframe thead th {\n",
       "        text-align: right;\n",
       "    }\n",
       "</style>\n",
       "<table border=\"1\" class=\"dataframe\">\n",
       "  <thead>\n",
       "    <tr style=\"text-align: right;\">\n",
       "      <th></th>\n",
       "      <th>pay_date</th>\n",
       "      <th>film_id</th>\n",
       "      <th>part_of_day</th>\n",
       "      <th>client_id</th>\n",
       "      <th>count_tickets</th>\n",
       "    </tr>\n",
       "  </thead>\n",
       "  <tbody>\n",
       "    <tr>\n",
       "      <th>3402</th>\n",
       "      <td>2024-03-20</td>\n",
       "      <td>48</td>\n",
       "      <td>утренний</td>\n",
       "      <td>YB14</td>\n",
       "      <td>1.0</td>\n",
       "    </tr>\n",
       "    <tr>\n",
       "      <th>3403</th>\n",
       "      <td>2024-03-20</td>\n",
       "      <td>48</td>\n",
       "      <td>утренний</td>\n",
       "      <td>YB14</td>\n",
       "      <td>1.0</td>\n",
       "    </tr>\n",
       "    <tr>\n",
       "      <th>3404</th>\n",
       "      <td>2024-03-04</td>\n",
       "      <td>49</td>\n",
       "      <td>утренний</td>\n",
       "      <td>JN23</td>\n",
       "      <td>1.0</td>\n",
       "    </tr>\n",
       "    <tr>\n",
       "      <th>3405</th>\n",
       "      <td>2024-04-20</td>\n",
       "      <td>42</td>\n",
       "      <td>вечерний</td>\n",
       "      <td>YH62</td>\n",
       "      <td>3.0</td>\n",
       "    </tr>\n",
       "    <tr>\n",
       "      <th>3406</th>\n",
       "      <td>2024-04-20</td>\n",
       "      <td>42</td>\n",
       "      <td>вечерний</td>\n",
       "      <td>YH62</td>\n",
       "      <td>3.0</td>\n",
       "    </tr>\n",
       "    <tr>\n",
       "      <th>3407</th>\n",
       "      <td>2024-03-10</td>\n",
       "      <td>37</td>\n",
       "      <td>дневной</td>\n",
       "      <td>QF27</td>\n",
       "      <td>5.0</td>\n",
       "    </tr>\n",
       "    <tr>\n",
       "      <th>3408</th>\n",
       "      <td>2024-04-20</td>\n",
       "      <td>42</td>\n",
       "      <td>вечерний</td>\n",
       "      <td>YH62</td>\n",
       "      <td>3.0</td>\n",
       "    </tr>\n",
       "    <tr>\n",
       "      <th>3409</th>\n",
       "      <td>2024-03-10</td>\n",
       "      <td>37</td>\n",
       "      <td>дневной</td>\n",
       "      <td>QF27</td>\n",
       "      <td>5.0</td>\n",
       "    </tr>\n",
       "    <tr>\n",
       "      <th>3410</th>\n",
       "      <td>2024-04-20</td>\n",
       "      <td>42</td>\n",
       "      <td>вечерний</td>\n",
       "      <td>YH62</td>\n",
       "      <td>3.0</td>\n",
       "    </tr>\n",
       "    <tr>\n",
       "      <th>3411</th>\n",
       "      <td>2024-03-10</td>\n",
       "      <td>37</td>\n",
       "      <td>дневной</td>\n",
       "      <td>QF27</td>\n",
       "      <td>5.0</td>\n",
       "    </tr>\n",
       "    <tr>\n",
       "      <th>3412</th>\n",
       "      <td>2024-03-10</td>\n",
       "      <td>37</td>\n",
       "      <td>дневной</td>\n",
       "      <td>QF27</td>\n",
       "      <td>5.0</td>\n",
       "    </tr>\n",
       "  </tbody>\n",
       "</table>\n",
       "</div>"
      ],
      "text/plain": [
       "        pay_date  film_id part_of_day client_id  count_tickets\n",
       "3402  2024-03-20       48    утренний      YB14            1.0\n",
       "3403  2024-03-20       48    утренний      YB14            1.0\n",
       "3404  2024-03-04       49    утренний      JN23            1.0\n",
       "3405  2024-04-20       42    вечерний      YH62            3.0\n",
       "3406  2024-04-20       42    вечерний      YH62            3.0\n",
       "3407  2024-03-10       37     дневной      QF27            5.0\n",
       "3408  2024-04-20       42    вечерний      YH62            3.0\n",
       "3409  2024-03-10       37     дневной      QF27            5.0\n",
       "3410  2024-04-20       42    вечерний      YH62            3.0\n",
       "3411  2024-03-10       37     дневной      QF27            5.0\n",
       "3412  2024-03-10       37     дневной      QF27            5.0"
      ]
     },
     "execution_count": 34,
     "metadata": {},
     "output_type": "execute_result"
    }
   ],
   "source": [
    "payments[payments.duplicated()] # поиск дубликатов (полных)"
   ]
  },
  {
   "cell_type": "code",
   "execution_count": 35,
   "id": "e21e773d-1fcf-4aa4-9d8b-9d3a014cc716",
   "metadata": {},
   "outputs": [],
   "source": [
    "#payments[payments.duplicated(subset= '')] # поиск повторяющихся значений по столбцу"
   ]
  },
  {
   "cell_type": "code",
   "execution_count": 36,
   "id": "97d0ce4b-7511-44de-8a00-882c0a80e520",
   "metadata": {},
   "outputs": [
    {
     "data": {
      "text/plain": [
       "0       False\n",
       "1       False\n",
       "2        True\n",
       "3        True\n",
       "4        True\n",
       "        ...  \n",
       "3957     True\n",
       "3958     True\n",
       "3959     True\n",
       "3960     True\n",
       "3961     True\n",
       "Length: 3943, dtype: bool"
      ]
     },
     "execution_count": 36,
     "metadata": {},
     "output_type": "execute_result"
    }
   ],
   "source": [
    "payments.duplicated(subset='part_of_day')"
   ]
  },
  {
   "cell_type": "code",
   "execution_count": 37,
   "id": "659beea5-a030-4008-977c-f71cad2f8a9d",
   "metadata": {},
   "outputs": [
    {
     "data": {
      "text/html": [
       "<div>\n",
       "<style scoped>\n",
       "    .dataframe tbody tr th:only-of-type {\n",
       "        vertical-align: middle;\n",
       "    }\n",
       "\n",
       "    .dataframe tbody tr th {\n",
       "        vertical-align: top;\n",
       "    }\n",
       "\n",
       "    .dataframe thead th {\n",
       "        text-align: right;\n",
       "    }\n",
       "</style>\n",
       "<table border=\"1\" class=\"dataframe\">\n",
       "  <thead>\n",
       "    <tr style=\"text-align: right;\">\n",
       "      <th></th>\n",
       "      <th>pay_date</th>\n",
       "      <th>film_id</th>\n",
       "      <th>part_of_day</th>\n",
       "      <th>client_id</th>\n",
       "      <th>count_tickets</th>\n",
       "    </tr>\n",
       "  </thead>\n",
       "  <tbody>\n",
       "    <tr>\n",
       "      <th>141</th>\n",
       "      <td>2024-03-20</td>\n",
       "      <td>48</td>\n",
       "      <td>утренний</td>\n",
       "      <td>YB14</td>\n",
       "      <td>1.0</td>\n",
       "    </tr>\n",
       "    <tr>\n",
       "      <th>328</th>\n",
       "      <td>2024-03-04</td>\n",
       "      <td>49</td>\n",
       "      <td>утренний</td>\n",
       "      <td>JN23</td>\n",
       "      <td>1.0</td>\n",
       "    </tr>\n",
       "    <tr>\n",
       "      <th>397</th>\n",
       "      <td>2024-04-20</td>\n",
       "      <td>42</td>\n",
       "      <td>вечерний</td>\n",
       "      <td>YH62</td>\n",
       "      <td>3.0</td>\n",
       "    </tr>\n",
       "    <tr>\n",
       "      <th>490</th>\n",
       "      <td>2024-03-10</td>\n",
       "      <td>37</td>\n",
       "      <td>дневной</td>\n",
       "      <td>QF27</td>\n",
       "      <td>5.0</td>\n",
       "    </tr>\n",
       "    <tr>\n",
       "      <th>3402</th>\n",
       "      <td>2024-03-20</td>\n",
       "      <td>48</td>\n",
       "      <td>утренний</td>\n",
       "      <td>YB14</td>\n",
       "      <td>1.0</td>\n",
       "    </tr>\n",
       "    <tr>\n",
       "      <th>3403</th>\n",
       "      <td>2024-03-20</td>\n",
       "      <td>48</td>\n",
       "      <td>утренний</td>\n",
       "      <td>YB14</td>\n",
       "      <td>1.0</td>\n",
       "    </tr>\n",
       "    <tr>\n",
       "      <th>3404</th>\n",
       "      <td>2024-03-04</td>\n",
       "      <td>49</td>\n",
       "      <td>утренний</td>\n",
       "      <td>JN23</td>\n",
       "      <td>1.0</td>\n",
       "    </tr>\n",
       "    <tr>\n",
       "      <th>3405</th>\n",
       "      <td>2024-04-20</td>\n",
       "      <td>42</td>\n",
       "      <td>вечерний</td>\n",
       "      <td>YH62</td>\n",
       "      <td>3.0</td>\n",
       "    </tr>\n",
       "    <tr>\n",
       "      <th>3406</th>\n",
       "      <td>2024-04-20</td>\n",
       "      <td>42</td>\n",
       "      <td>вечерний</td>\n",
       "      <td>YH62</td>\n",
       "      <td>3.0</td>\n",
       "    </tr>\n",
       "    <tr>\n",
       "      <th>3407</th>\n",
       "      <td>2024-03-10</td>\n",
       "      <td>37</td>\n",
       "      <td>дневной</td>\n",
       "      <td>QF27</td>\n",
       "      <td>5.0</td>\n",
       "    </tr>\n",
       "    <tr>\n",
       "      <th>3408</th>\n",
       "      <td>2024-04-20</td>\n",
       "      <td>42</td>\n",
       "      <td>вечерний</td>\n",
       "      <td>YH62</td>\n",
       "      <td>3.0</td>\n",
       "    </tr>\n",
       "    <tr>\n",
       "      <th>3409</th>\n",
       "      <td>2024-03-10</td>\n",
       "      <td>37</td>\n",
       "      <td>дневной</td>\n",
       "      <td>QF27</td>\n",
       "      <td>5.0</td>\n",
       "    </tr>\n",
       "    <tr>\n",
       "      <th>3410</th>\n",
       "      <td>2024-04-20</td>\n",
       "      <td>42</td>\n",
       "      <td>вечерний</td>\n",
       "      <td>YH62</td>\n",
       "      <td>3.0</td>\n",
       "    </tr>\n",
       "    <tr>\n",
       "      <th>3411</th>\n",
       "      <td>2024-03-10</td>\n",
       "      <td>37</td>\n",
       "      <td>дневной</td>\n",
       "      <td>QF27</td>\n",
       "      <td>5.0</td>\n",
       "    </tr>\n",
       "    <tr>\n",
       "      <th>3412</th>\n",
       "      <td>2024-03-10</td>\n",
       "      <td>37</td>\n",
       "      <td>дневной</td>\n",
       "      <td>QF27</td>\n",
       "      <td>5.0</td>\n",
       "    </tr>\n",
       "  </tbody>\n",
       "</table>\n",
       "</div>"
      ],
      "text/plain": [
       "        pay_date  film_id part_of_day client_id  count_tickets\n",
       "141   2024-03-20       48    утренний      YB14            1.0\n",
       "328   2024-03-04       49    утренний      JN23            1.0\n",
       "397   2024-04-20       42    вечерний      YH62            3.0\n",
       "490   2024-03-10       37     дневной      QF27            5.0\n",
       "3402  2024-03-20       48    утренний      YB14            1.0\n",
       "3403  2024-03-20       48    утренний      YB14            1.0\n",
       "3404  2024-03-04       49    утренний      JN23            1.0\n",
       "3405  2024-04-20       42    вечерний      YH62            3.0\n",
       "3406  2024-04-20       42    вечерний      YH62            3.0\n",
       "3407  2024-03-10       37     дневной      QF27            5.0\n",
       "3408  2024-04-20       42    вечерний      YH62            3.0\n",
       "3409  2024-03-10       37     дневной      QF27            5.0\n",
       "3410  2024-04-20       42    вечерний      YH62            3.0\n",
       "3411  2024-03-10       37     дневной      QF27            5.0\n",
       "3412  2024-03-10       37     дневной      QF27            5.0"
      ]
     },
     "execution_count": 37,
     "metadata": {},
     "output_type": "execute_result"
    }
   ],
   "source": [
    "payments[payments.duplicated(keep=False)] # просмотр ВСЕХ полных дублей с помощью логической индексации "
   ]
  },
  {
   "cell_type": "markdown",
   "id": "c1165e3c-d375-4663-98a8-ef870f63b568",
   "metadata": {
    "jp-MarkdownHeadingCollapsed": true
   },
   "source": [
    "### Удаление дублей"
   ]
  },
  {
   "cell_type": "code",
   "execution_count": 38,
   "id": "621fabd8-fe7e-42c0-8f20-80fb64df8ceb",
   "metadata": {},
   "outputs": [
    {
     "data": {
      "text/plain": [
       "(3943, 5)"
      ]
     },
     "execution_count": 38,
     "metadata": {},
     "output_type": "execute_result"
    }
   ],
   "source": [
    "payments.shape"
   ]
  },
  {
   "cell_type": "code",
   "execution_count": 39,
   "id": "bf2c9f6e-4284-4370-a4d7-a2350fca4c27",
   "metadata": {},
   "outputs": [],
   "source": [
    "payments = payments.drop_duplicates(keep='last') # удаление полных дублей (остается последняя (по порядку в датафрейме) строка)"
   ]
  },
  {
   "cell_type": "code",
   "execution_count": 40,
   "id": "d6c26e88-826e-4ac3-9718-630d6ad4441a",
   "metadata": {},
   "outputs": [
    {
     "data": {
      "text/html": [
       "<div>\n",
       "<style scoped>\n",
       "    .dataframe tbody tr th:only-of-type {\n",
       "        vertical-align: middle;\n",
       "    }\n",
       "\n",
       "    .dataframe tbody tr th {\n",
       "        vertical-align: top;\n",
       "    }\n",
       "\n",
       "    .dataframe thead th {\n",
       "        text-align: right;\n",
       "    }\n",
       "</style>\n",
       "<table border=\"1\" class=\"dataframe\">\n",
       "  <thead>\n",
       "    <tr style=\"text-align: right;\">\n",
       "      <th></th>\n",
       "      <th>pay_date</th>\n",
       "      <th>film_id</th>\n",
       "      <th>part_of_day</th>\n",
       "      <th>client_id</th>\n",
       "      <th>count_tickets</th>\n",
       "    </tr>\n",
       "  </thead>\n",
       "  <tbody>\n",
       "    <tr>\n",
       "      <th>0</th>\n",
       "      <td>2024-04-24</td>\n",
       "      <td>2</td>\n",
       "      <td>дневной</td>\n",
       "      <td>NL42</td>\n",
       "      <td>1.0</td>\n",
       "    </tr>\n",
       "    <tr>\n",
       "      <th>1</th>\n",
       "      <td>2024-03-03</td>\n",
       "      <td>15</td>\n",
       "      <td>вечерний</td>\n",
       "      <td>HW75</td>\n",
       "      <td>3.0</td>\n",
       "    </tr>\n",
       "    <tr>\n",
       "      <th>2</th>\n",
       "      <td>2024-02-09</td>\n",
       "      <td>43</td>\n",
       "      <td>вечерний</td>\n",
       "      <td>XX54</td>\n",
       "      <td>5.0</td>\n",
       "    </tr>\n",
       "    <tr>\n",
       "      <th>3</th>\n",
       "      <td>2024-04-23</td>\n",
       "      <td>19</td>\n",
       "      <td>вечерний</td>\n",
       "      <td>QR90</td>\n",
       "      <td>3.0</td>\n",
       "    </tr>\n",
       "    <tr>\n",
       "      <th>4</th>\n",
       "      <td>2024-01-29</td>\n",
       "      <td>34</td>\n",
       "      <td>вечерний</td>\n",
       "      <td>SG93</td>\n",
       "      <td>5.0</td>\n",
       "    </tr>\n",
       "    <tr>\n",
       "      <th>...</th>\n",
       "      <td>...</td>\n",
       "      <td>...</td>\n",
       "      <td>...</td>\n",
       "      <td>...</td>\n",
       "      <td>...</td>\n",
       "    </tr>\n",
       "    <tr>\n",
       "      <th>3927</th>\n",
       "      <td>2024-02-11</td>\n",
       "      <td>1</td>\n",
       "      <td>дневной</td>\n",
       "      <td>FG89</td>\n",
       "      <td>4.0</td>\n",
       "    </tr>\n",
       "    <tr>\n",
       "      <th>3928</th>\n",
       "      <td>2024-04-08</td>\n",
       "      <td>34</td>\n",
       "      <td>утренний</td>\n",
       "      <td>DI23</td>\n",
       "      <td>2.0</td>\n",
       "    </tr>\n",
       "    <tr>\n",
       "      <th>3929</th>\n",
       "      <td>2024-01-16</td>\n",
       "      <td>10</td>\n",
       "      <td>дневной</td>\n",
       "      <td>ZJ39</td>\n",
       "      <td>4.0</td>\n",
       "    </tr>\n",
       "    <tr>\n",
       "      <th>3930</th>\n",
       "      <td>2024-04-15</td>\n",
       "      <td>28</td>\n",
       "      <td>вечерний</td>\n",
       "      <td>TU86</td>\n",
       "      <td>5.0</td>\n",
       "    </tr>\n",
       "    <tr>\n",
       "      <th>3931</th>\n",
       "      <td>2024-04-05</td>\n",
       "      <td>42</td>\n",
       "      <td>вечерний</td>\n",
       "      <td>DM94</td>\n",
       "      <td>4.0</td>\n",
       "    </tr>\n",
       "  </tbody>\n",
       "</table>\n",
       "<p>3932 rows × 5 columns</p>\n",
       "</div>"
      ],
      "text/plain": [
       "        pay_date  film_id part_of_day client_id  count_tickets\n",
       "0     2024-04-24        2     дневной      NL42            1.0\n",
       "1     2024-03-03       15    вечерний      HW75            3.0\n",
       "2     2024-02-09       43    вечерний      XX54            5.0\n",
       "3     2024-04-23       19    вечерний      QR90            3.0\n",
       "4     2024-01-29       34    вечерний      SG93            5.0\n",
       "...          ...      ...         ...       ...            ...\n",
       "3927  2024-02-11        1     дневной      FG89            4.0\n",
       "3928  2024-04-08       34    утренний      DI23            2.0\n",
       "3929  2024-01-16       10     дневной      ZJ39            4.0\n",
       "3930  2024-04-15       28    вечерний      TU86            5.0\n",
       "3931  2024-04-05       42    вечерний      DM94            4.0\n",
       "\n",
       "[3932 rows x 5 columns]"
      ]
     },
     "execution_count": 40,
     "metadata": {},
     "output_type": "execute_result"
    }
   ],
   "source": [
    "payments.reset_index(drop=True, inplace=True) # сброс индекса (и удаление столбца со старым индексом)\n",
    "payments"
   ]
  },
  {
   "cell_type": "code",
   "execution_count": 41,
   "id": "bade9c85-e0b0-4d80-b8af-71c1c5357a4c",
   "metadata": {},
   "outputs": [
    {
     "data": {
      "text/plain": [
       "(3932, 5)"
      ]
     },
     "execution_count": 41,
     "metadata": {},
     "output_type": "execute_result"
    }
   ],
   "source": [
    "payments \\\n",
    "    .drop_duplicates() \\\n",
    "    .reset_index(drop=True) \\\n",
    "    .shape # оформление нескольких методов"
   ]
  },
  {
   "cell_type": "markdown",
   "id": "42a22878-16da-42af-8c22-d87d4e7b24b2",
   "metadata": {
    "jp-MarkdownHeadingCollapsed": true
   },
   "source": [
    "# УНИКАЛЬНЫЕ ЗНАЧЕНИЯ"
   ]
  },
  {
   "cell_type": "code",
   "execution_count": 42,
   "id": "18e9977f-e962-4fba-942e-d73705350245",
   "metadata": {},
   "outputs": [
    {
     "data": {
      "text/plain": [
       "array(['дневной', 'вечерний', 'утренний'], dtype=object)"
      ]
     },
     "execution_count": 42,
     "metadata": {},
     "output_type": "execute_result"
    }
   ],
   "source": [
    "payments['part_of_day'].unique() # список уникальных значений"
   ]
  },
  {
   "cell_type": "code",
   "execution_count": 43,
   "id": "908101bc-bde9-416c-af52-08cf55eed624",
   "metadata": {},
   "outputs": [
    {
     "data": {
      "text/plain": [
       "array([ 2, 15, 43, 19, 34, 13, 30, 21,  8, 31, 48, 22, 11, 46, 26, 45, 27,\n",
       "        7, 10, 17, 42,  9, 24, 49, 35,  6, 23, 16,  1, 40,  4, 12, 47, 32,\n",
       "       20, 18,  3, 28, 36, 33, 39, 14, 29, 25, 41,  5, 44, 37, 38, 53, 52,\n",
       "       50], dtype=int64)"
      ]
     },
     "execution_count": 43,
     "metadata": {},
     "output_type": "execute_result"
    }
   ],
   "source": [
    "payments['film_id'].unique()"
   ]
  },
  {
   "cell_type": "code",
   "execution_count": 44,
   "id": "ad65d985-74f5-4960-8da4-302ed16432df",
   "metadata": {},
   "outputs": [
    {
     "data": {
      "text/plain": [
       "3"
      ]
     },
     "execution_count": 44,
     "metadata": {},
     "output_type": "execute_result"
    }
   ],
   "source": [
    "payments['part_of_day'].nunique() # количество уникальных значений"
   ]
  },
  {
   "cell_type": "code",
   "execution_count": 45,
   "id": "585b8624-94a6-43d7-b8a3-06fc43d71e9c",
   "metadata": {},
   "outputs": [
    {
     "data": {
      "text/plain": [
       "52"
      ]
     },
     "execution_count": 45,
     "metadata": {},
     "output_type": "execute_result"
    }
   ],
   "source": [
    "payments['film_id'].nunique()"
   ]
  },
  {
   "cell_type": "markdown",
   "id": "9820fe60-72e3-4639-a61f-d4bc2bb5523d",
   "metadata": {
    "jp-MarkdownHeadingCollapsed": true
   },
   "source": [
    "# Замена значений"
   ]
  },
  {
   "cell_type": "code",
   "execution_count": 46,
   "id": "4f9e9baa-647d-48f1-bf9e-56785178e0ce",
   "metadata": {},
   "outputs": [
    {
     "data": {
      "text/plain": [
       "['Акира Куросава',\n",
       " 'Альфред Хичкок',\n",
       " 'Брайан Сингер',\n",
       " 'Дамьен Шазель',\n",
       " 'Дени Вильнёв',\n",
       " 'Джеймс Кэмерон',\n",
       " 'Джонатан Демми',\n",
       " 'Джордж Лукас',\n",
       " 'Джузеппе Торнаторе',\n",
       " 'Дэвид Финчер',\n",
       " 'Жерар Пирес',\n",
       " 'Жуакин Душ Сантуш[англ.], Кэмп Пауэрс[англ.], Джастин Томпсон',\n",
       " 'Ирвин Кершнер',\n",
       " 'Исао Такахата',\n",
       " 'Квентин Тарантино',\n",
       " 'Кристофер Нолан',\n",
       " 'Люк Бессон',\n",
       " 'Майкл Кёртиц',\n",
       " 'Мартин Скорсезе',\n",
       " 'Масаки Кобаяси',\n",
       " 'Милош Форман',\n",
       " 'Оливье Накаш, Эрик Толедано',\n",
       " 'Питер Джексон',\n",
       " 'Пон Чжун Хо',\n",
       " 'Ридли Скотт',\n",
       " 'Роберт Земекис',\n",
       " 'Роберт Земекис ',\n",
       " 'Роберто Бениньи',\n",
       " 'Роджер Аллерс, Роб Минкофф',\n",
       " 'Роман Полански',\n",
       " 'Серджо Леоне',\n",
       " 'Сидни Люмет',\n",
       " 'Стивен Спилберг',\n",
       " 'Стивн Спилберг',\n",
       " 'Тони Кэй',\n",
       " 'Фернанду Мейреллиш',\n",
       " 'Фрэнк Дарабонт',\n",
       " 'Фрэнк Капра',\n",
       " 'Фрэнсис Форд Коппола',\n",
       " 'Хаяо Миядзаки',\n",
       " 'Энди и Ларри Вачовски',\n",
       " 'стивен спилберг']"
      ]
     },
     "execution_count": 46,
     "metadata": {},
     "output_type": "execute_result"
    }
   ],
   "source": [
    "sorted(films.filmmaker.unique())"
   ]
  },
  {
   "cell_type": "code",
   "execution_count": 47,
   "id": "bca1e760-ada4-4700-a052-cb7469d6491a",
   "metadata": {},
   "outputs": [
    {
     "name": "stderr",
     "output_type": "stream",
     "text": [
      "C:\\Users\\Tanya\\AppData\\Local\\Temp\\ipykernel_15024\\3392535790.py:1: FutureWarning: A value is trying to be set on a copy of a DataFrame or Series through chained assignment using an inplace method.\n",
      "The behavior will change in pandas 3.0. This inplace method will never work because the intermediate object on which we are setting values always behaves as a copy.\n",
      "\n",
      "For example, when doing 'df[col].method(value, inplace=True)', try using 'df.method({col: value}, inplace=True)' or df[col] = df[col].method(value) instead, to perform the operation inplace on the original object.\n",
      "\n",
      "\n",
      "  films.filmmaker.replace('стивен спилберг', 'Стивен Спилберг', inplace=True) # замена значений в ячейках\n"
     ]
    }
   ],
   "source": [
    "films.filmmaker.replace('стивен спилберг', 'Стивен Спилберг', inplace=True) # замена значений в ячейках"
   ]
  },
  {
   "cell_type": "code",
   "execution_count": 48,
   "id": "0678ba76-0a29-489c-9720-151391da531b",
   "metadata": {},
   "outputs": [
    {
     "data": {
      "text/plain": [
       "['Акира Куросава',\n",
       " 'Альфред Хичкок',\n",
       " 'Брайан Сингер',\n",
       " 'Дамьен Шазель',\n",
       " 'Дени Вильнёв',\n",
       " 'Джеймс Кэмерон',\n",
       " 'Джонатан Демми',\n",
       " 'Джордж Лукас',\n",
       " 'Джузеппе Торнаторе',\n",
       " 'Дэвид Финчер',\n",
       " 'Жерар Пирес',\n",
       " 'Жуакин Душ Сантуш[англ.], Кэмп Пауэрс[англ.], Джастин Томпсон',\n",
       " 'Ирвин Кершнер',\n",
       " 'Исао Такахата',\n",
       " 'Квентин Тарантино',\n",
       " 'Кристофер Нолан',\n",
       " 'Люк Бессон',\n",
       " 'Майкл Кёртиц',\n",
       " 'Мартин Скорсезе',\n",
       " 'Масаки Кобаяси',\n",
       " 'Милош Форман',\n",
       " 'Оливье Накаш, Эрик Толедано',\n",
       " 'Питер Джексон',\n",
       " 'Пон Чжун Хо',\n",
       " 'Ридли Скотт',\n",
       " 'Роберт Земекис',\n",
       " 'Роберт Земекис ',\n",
       " 'Роберто Бениньи',\n",
       " 'Роджер Аллерс, Роб Минкофф',\n",
       " 'Роман Полански',\n",
       " 'Серджо Леоне',\n",
       " 'Сидни Люмет',\n",
       " 'Стивен Спилберг',\n",
       " 'Стивн Спилберг',\n",
       " 'Тони Кэй',\n",
       " 'Фернанду Мейреллиш',\n",
       " 'Фрэнк Дарабонт',\n",
       " 'Фрэнк Капра',\n",
       " 'Фрэнсис Форд Коппола',\n",
       " 'Хаяо Миядзаки',\n",
       " 'Энди и Ларри Вачовски']"
      ]
     },
     "execution_count": 48,
     "metadata": {},
     "output_type": "execute_result"
    }
   ],
   "source": [
    "sorted(films.filmmaker.unique())"
   ]
  },
  {
   "cell_type": "code",
   "execution_count": 49,
   "id": "562bafb4-8285-4275-b9bf-ad91114de27d",
   "metadata": {},
   "outputs": [],
   "source": [
    "films.filmmaker = films.filmmaker \\\n",
    "    .replace('Стивн Спилберг', 'Стивен Спилберг') \\\n",
    "    .replace('Роберт Земекис ', 'Роберт Земекис')"
   ]
  },
  {
   "cell_type": "code",
   "execution_count": 50,
   "id": "1d1bfb1e-2f38-46b4-9b65-fee824dbe8a5",
   "metadata": {},
   "outputs": [
    {
     "data": {
      "text/plain": [
       "['Акира Куросава',\n",
       " 'Альфред Хичкок',\n",
       " 'Брайан Сингер',\n",
       " 'Дамьен Шазель',\n",
       " 'Дени Вильнёв',\n",
       " 'Джеймс Кэмерон',\n",
       " 'Джонатан Демми',\n",
       " 'Джордж Лукас',\n",
       " 'Джузеппе Торнаторе',\n",
       " 'Дэвид Финчер',\n",
       " 'Жерар Пирес',\n",
       " 'Жуакин Душ Сантуш[англ.], Кэмп Пауэрс[англ.], Джастин Томпсон',\n",
       " 'Ирвин Кершнер',\n",
       " 'Исао Такахата',\n",
       " 'Квентин Тарантино',\n",
       " 'Кристофер Нолан',\n",
       " 'Люк Бессон',\n",
       " 'Майкл Кёртиц',\n",
       " 'Мартин Скорсезе',\n",
       " 'Масаки Кобаяси',\n",
       " 'Милош Форман',\n",
       " 'Оливье Накаш, Эрик Толедано',\n",
       " 'Питер Джексон',\n",
       " 'Пон Чжун Хо',\n",
       " 'Ридли Скотт',\n",
       " 'Роберт Земекис',\n",
       " 'Роберто Бениньи',\n",
       " 'Роджер Аллерс, Роб Минкофф',\n",
       " 'Роман Полански',\n",
       " 'Серджо Леоне',\n",
       " 'Сидни Люмет',\n",
       " 'Стивен Спилберг',\n",
       " 'Тони Кэй',\n",
       " 'Фернанду Мейреллиш',\n",
       " 'Фрэнк Дарабонт',\n",
       " 'Фрэнк Капра',\n",
       " 'Фрэнсис Форд Коппола',\n",
       " 'Хаяо Миядзаки',\n",
       " 'Энди и Ларри Вачовски']"
      ]
     },
     "execution_count": 50,
     "metadata": {},
     "output_type": "execute_result"
    }
   ],
   "source": [
    "sorted(films.filmmaker.unique())"
   ]
  },
  {
   "cell_type": "markdown",
   "id": "de1b6bdc-f922-493e-866e-628c126d553c",
   "metadata": {},
   "source": [
    "# АНАЛИЗ"
   ]
  },
  {
   "cell_type": "markdown",
   "id": "d9eb87c8-e095-48b1-8bb7-c6cc02075faa",
   "metadata": {},
   "source": [
    "## Группировка данных"
   ]
  },
  {
   "cell_type": "markdown",
   "id": "a7a776b7-d099-4827-88e4-8383898ce856",
   "metadata": {
    "jp-MarkdownHeadingCollapsed": true
   },
   "source": [
    "### groupby"
   ]
  },
  {
   "cell_type": "code",
   "execution_count": 51,
   "id": "df99eae6-c83b-42ac-9eb2-0e18d16d7072",
   "metadata": {},
   "outputs": [
    {
     "data": {
      "text/html": [
       "<div>\n",
       "<style scoped>\n",
       "    .dataframe tbody tr th:only-of-type {\n",
       "        vertical-align: middle;\n",
       "    }\n",
       "\n",
       "    .dataframe tbody tr th {\n",
       "        vertical-align: top;\n",
       "    }\n",
       "\n",
       "    .dataframe thead th {\n",
       "        text-align: right;\n",
       "    }\n",
       "</style>\n",
       "<table border=\"1\" class=\"dataframe\">\n",
       "  <thead>\n",
       "    <tr style=\"text-align: right;\">\n",
       "      <th></th>\n",
       "      <th>pay_date</th>\n",
       "      <th>film_id</th>\n",
       "      <th>part_of_day</th>\n",
       "      <th>client_id</th>\n",
       "      <th>count_tickets</th>\n",
       "    </tr>\n",
       "  </thead>\n",
       "  <tbody>\n",
       "    <tr>\n",
       "      <th>0</th>\n",
       "      <td>2024-04-24</td>\n",
       "      <td>2</td>\n",
       "      <td>дневной</td>\n",
       "      <td>NL42</td>\n",
       "      <td>1.0</td>\n",
       "    </tr>\n",
       "    <tr>\n",
       "      <th>1</th>\n",
       "      <td>2024-03-03</td>\n",
       "      <td>15</td>\n",
       "      <td>вечерний</td>\n",
       "      <td>HW75</td>\n",
       "      <td>3.0</td>\n",
       "    </tr>\n",
       "    <tr>\n",
       "      <th>2</th>\n",
       "      <td>2024-02-09</td>\n",
       "      <td>43</td>\n",
       "      <td>вечерний</td>\n",
       "      <td>XX54</td>\n",
       "      <td>5.0</td>\n",
       "    </tr>\n",
       "    <tr>\n",
       "      <th>3</th>\n",
       "      <td>2024-04-23</td>\n",
       "      <td>19</td>\n",
       "      <td>вечерний</td>\n",
       "      <td>QR90</td>\n",
       "      <td>3.0</td>\n",
       "    </tr>\n",
       "    <tr>\n",
       "      <th>4</th>\n",
       "      <td>2024-01-29</td>\n",
       "      <td>34</td>\n",
       "      <td>вечерний</td>\n",
       "      <td>SG93</td>\n",
       "      <td>5.0</td>\n",
       "    </tr>\n",
       "    <tr>\n",
       "      <th>5</th>\n",
       "      <td>2024-02-08</td>\n",
       "      <td>13</td>\n",
       "      <td>утренний</td>\n",
       "      <td>PI20</td>\n",
       "      <td>2.0</td>\n",
       "    </tr>\n",
       "    <tr>\n",
       "      <th>6</th>\n",
       "      <td>2024-03-03</td>\n",
       "      <td>30</td>\n",
       "      <td>утренний</td>\n",
       "      <td>MX40</td>\n",
       "      <td>2.0</td>\n",
       "    </tr>\n",
       "    <tr>\n",
       "      <th>7</th>\n",
       "      <td>2024-03-24</td>\n",
       "      <td>13</td>\n",
       "      <td>дневной</td>\n",
       "      <td>ZJ39</td>\n",
       "      <td>5.0</td>\n",
       "    </tr>\n",
       "    <tr>\n",
       "      <th>8</th>\n",
       "      <td>2024-01-04</td>\n",
       "      <td>21</td>\n",
       "      <td>вечерний</td>\n",
       "      <td>OO38</td>\n",
       "      <td>3.0</td>\n",
       "    </tr>\n",
       "    <tr>\n",
       "      <th>9</th>\n",
       "      <td>2024-01-23</td>\n",
       "      <td>43</td>\n",
       "      <td>вечерний</td>\n",
       "      <td>XK11</td>\n",
       "      <td>1.0</td>\n",
       "    </tr>\n",
       "  </tbody>\n",
       "</table>\n",
       "</div>"
      ],
      "text/plain": [
       "     pay_date  film_id part_of_day client_id  count_tickets\n",
       "0  2024-04-24        2     дневной      NL42            1.0\n",
       "1  2024-03-03       15    вечерний      HW75            3.0\n",
       "2  2024-02-09       43    вечерний      XX54            5.0\n",
       "3  2024-04-23       19    вечерний      QR90            3.0\n",
       "4  2024-01-29       34    вечерний      SG93            5.0\n",
       "5  2024-02-08       13    утренний      PI20            2.0\n",
       "6  2024-03-03       30    утренний      MX40            2.0\n",
       "7  2024-03-24       13     дневной      ZJ39            5.0\n",
       "8  2024-01-04       21    вечерний      OO38            3.0\n",
       "9  2024-01-23       43    вечерний      XK11            1.0"
      ]
     },
     "execution_count": 51,
     "metadata": {},
     "output_type": "execute_result"
    }
   ],
   "source": [
    "payments.head(10)"
   ]
  },
  {
   "cell_type": "code",
   "execution_count": 52,
   "id": "0229bc0a-8462-4dd0-a14d-efd758fefae5",
   "metadata": {},
   "outputs": [
    {
     "data": {
      "text/plain": [
       "film_id\n",
       "1     229.0\n",
       "2     271.0\n",
       "3     255.0\n",
       "4     221.0\n",
       "5     250.0\n",
       "6     261.0\n",
       "7     228.0\n",
       "8     232.0\n",
       "9     220.0\n",
       "10    233.0\n",
       "11    216.0\n",
       "12    232.0\n",
       "13    277.0\n",
       "14    234.0\n",
       "15    221.0\n",
       "16    267.0\n",
       "17    249.0\n",
       "18    237.0\n",
       "19    234.0\n",
       "20    250.0\n",
       "21    217.0\n",
       "22    272.0\n",
       "23    182.0\n",
       "24    271.0\n",
       "25    276.0\n",
       "26    199.0\n",
       "27    171.0\n",
       "28    208.0\n",
       "29    229.0\n",
       "30    252.0\n",
       "31    163.0\n",
       "32    240.0\n",
       "33    255.0\n",
       "34    261.0\n",
       "35    269.0\n",
       "36    242.0\n",
       "37    257.0\n",
       "38    245.0\n",
       "39    269.0\n",
       "40    228.0\n",
       "41    250.0\n",
       "42    306.0\n",
       "43    223.0\n",
       "44    226.0\n",
       "45    258.0\n",
       "46    240.0\n",
       "47    230.0\n",
       "48    252.0\n",
       "49    193.0\n",
       "50      4.0\n",
       "52      5.0\n",
       "53      6.0\n",
       "Name: count_tickets, dtype: float64"
      ]
     },
     "execution_count": 52,
     "metadata": {},
     "output_type": "execute_result"
    }
   ],
   "source": [
    "payments.groupby('film_id')['count_tickets'].sum() # группировка данных по \"film_id\" и одновременная агрегация (сумма) по \"count_tickets\""
   ]
  },
  {
   "cell_type": "code",
   "execution_count": 53,
   "id": "f8b1e601-0d6d-4cdb-b4c1-bf6e2db093b5",
   "metadata": {},
   "outputs": [
    {
     "data": {
      "text/plain": [
       "client_id\n",
       "AD64     69.0\n",
       "AD97     82.0\n",
       "AF29     53.0\n",
       "AI63     77.0\n",
       "AL42     51.0\n",
       "AS87     77.0\n",
       "AX75     76.0\n",
       "AZ26     70.0\n",
       "BA86     52.0\n",
       "BC23     69.0\n",
       "BF64     54.0\n",
       "BI61     78.0\n",
       "BL21     61.0\n",
       "BL35     76.0\n",
       "BL80     74.0\n",
       "BR14     54.0\n",
       "BS16     57.0\n",
       "BU67     54.0\n",
       "BY55     82.0\n",
       "BY66     85.0\n",
       "BY89     61.0\n",
       "CC71     83.0\n",
       "CL55     48.0\n",
       "CP48      6.0\n",
       "CV52     51.0\n",
       "DB24     96.0\n",
       "DF68     58.0\n",
       "DG93     67.0\n",
       "DI23     60.0\n",
       "DL46     54.0\n",
       "DM94     50.0\n",
       "DR24     46.0\n",
       "DR39     98.0\n",
       "DT65     66.0\n",
       "DT90     57.0\n",
       "DY76     59.0\n",
       "EJ60     50.0\n",
       "EY13     13.0\n",
       "FG12     54.0\n",
       "FG89     33.0\n",
       "FI61     43.0\n",
       "FJ71     40.0\n",
       "FJ85     57.0\n",
       "FL92     59.0\n",
       "FP60     56.0\n",
       "FV64     74.0\n",
       "FY52     39.0\n",
       "GA56     70.0\n",
       "GC32     69.0\n",
       "GD12     36.0\n",
       "GF82     65.0\n",
       "GI14     71.0\n",
       "GM87     62.0\n",
       "GT91     60.0\n",
       "GV37     95.0\n",
       "GY51     28.0\n",
       "HB61     59.0\n",
       "HD80     57.0\n",
       "HH73     32.0\n",
       "HJ16     44.0\n",
       "HR39     67.0\n",
       "HS67     38.0\n",
       "HW54     65.0\n",
       "HW69    111.0\n",
       "HW75     46.0\n",
       "ID50     56.0\n",
       "IH97     54.0\n",
       "IJ53     58.0\n",
       "IT32     78.0\n",
       "IU32     67.0\n",
       "IV32     68.0\n",
       "JG35     70.0\n",
       "JN23     81.0\n",
       "JP68     62.0\n",
       "JU71     51.0\n",
       "KB11     57.0\n",
       "KC45     61.0\n",
       "KC99     55.0\n",
       "KD98     60.0\n",
       "KR17     91.0\n",
       "KR29     68.0\n",
       "KS76     63.0\n",
       "LD98     49.0\n",
       "LI51     49.0\n",
       "LP73     80.0\n",
       "LQ42     74.0\n",
       "MC65     65.0\n",
       "MP43     47.0\n",
       "MT54     41.0\n",
       "MX40     77.0\n",
       "NB23     61.0\n",
       "NF79     51.0\n",
       "NI61     55.0\n",
       "NL42     71.0\n",
       "NP32     47.0\n",
       "NW72     50.0\n",
       "NZ82     51.0\n",
       "OH38     47.0\n",
       "OI70     36.0\n",
       "OK34     58.0\n",
       "ON88     62.0\n",
       "OO38     50.0\n",
       "OO94     42.0\n",
       "OR25     76.0\n",
       "OT55     53.0\n",
       "PC30     76.0\n",
       "PF94     47.0\n",
       "PG80     45.0\n",
       "PI20     99.0\n",
       "PJ59     47.0\n",
       "PN66     55.0\n",
       "PU32     80.0\n",
       "PU52     50.0\n",
       "PW22     66.0\n",
       "PX61     45.0\n",
       "QA46     67.0\n",
       "QB60     63.0\n",
       "QC69     51.0\n",
       "QF27     55.0\n",
       "QH71     70.0\n",
       "QR90     59.0\n",
       "QU53     44.0\n",
       "QY16     77.0\n",
       "QY34     84.0\n",
       "QZ48     47.0\n",
       "RJ14     80.0\n",
       "RL54     61.0\n",
       "RL68     58.0\n",
       "RM68     57.0\n",
       "RQ92     53.0\n",
       "RR65     54.0\n",
       "RX42     60.0\n",
       "RZ38     48.0\n",
       "SA31     53.0\n",
       "SC28     42.0\n",
       "SE13     67.0\n",
       "SG93     70.0\n",
       "SK27     56.0\n",
       "TA99     32.0\n",
       "TB27     29.0\n",
       "TB41     57.0\n",
       "TB43     54.0\n",
       "TE62     68.0\n",
       "TE75     27.0\n",
       "TG27     57.0\n",
       "TI13     51.0\n",
       "TP95     67.0\n",
       "TU86     56.0\n",
       "UC94     51.0\n",
       "UL46    103.0\n",
       "UN23     56.0\n",
       "UU37     47.0\n",
       "UU59     64.0\n",
       "UU79     55.0\n",
       "UW95     38.0\n",
       "VA89     74.0\n",
       "VB31     61.0\n",
       "VF15     50.0\n",
       "VG54     32.0\n",
       "VI57     38.0\n",
       "VI85     35.0\n",
       "VL11     61.0\n",
       "VV22     43.0\n",
       "VX79     41.0\n",
       "WA23     92.0\n",
       "WB63     32.0\n",
       "WF67     57.0\n",
       "WM64     66.0\n",
       "WU91     60.0\n",
       "XG13     81.0\n",
       "XH68     63.0\n",
       "XI53     70.0\n",
       "XK11     47.0\n",
       "XP24     61.0\n",
       "XQ62     40.0\n",
       "XQ81     40.0\n",
       "XS29     51.0\n",
       "XX13     50.0\n",
       "XX54     88.0\n",
       "YB14     63.0\n",
       "YH62     57.0\n",
       "YH65     60.0\n",
       "YH94    101.0\n",
       "YJ74     59.0\n",
       "YL41     51.0\n",
       "YM35     54.0\n",
       "YN41     61.0\n",
       "YN84     83.0\n",
       "YP21     40.0\n",
       "YW56     41.0\n",
       "ZC72     39.0\n",
       "ZJ39     47.0\n",
       "ZL36     67.0\n",
       "ZO93     50.0\n",
       "ZP21     46.0\n",
       "ZQ81     61.0\n",
       "ZR11     72.0\n",
       "ZS96     45.0\n",
       "ZU59     57.0\n",
       "ZV13     35.0\n",
       "Name: count_tickets, dtype: float64"
      ]
     },
     "execution_count": 53,
     "metadata": {},
     "output_type": "execute_result"
    }
   ],
   "source": [
    "payments.groupby('client_id')['count_tickets'].sum()"
   ]
  },
  {
   "cell_type": "code",
   "execution_count": 54,
   "id": "a8a9735b-8132-413c-ba88-6a5ce1bca7c3",
   "metadata": {},
   "outputs": [
    {
     "data": {
      "text/plain": [
       "client_id\n",
       "AD64    3.136364\n",
       "AD97    3.280000\n",
       "AF29    2.944444\n",
       "AI63    3.347826\n",
       "AL42    2.684211\n",
       "AS87    2.961538\n",
       "AX75    3.166667\n",
       "AZ26    2.692308\n",
       "BA86    2.476190\n",
       "BC23    2.875000\n",
       "BF64    3.176471\n",
       "BI61    3.391304\n",
       "BL21    2.904762\n",
       "BL35    3.040000\n",
       "BL80    3.083333\n",
       "BR14    3.176471\n",
       "BS16    2.850000\n",
       "BU67    2.700000\n",
       "BY55    3.280000\n",
       "BY66    2.931034\n",
       "BY89    2.904762\n",
       "CC71    3.192308\n",
       "CL55    2.823529\n",
       "CP48    2.000000\n",
       "CV52    2.833333\n",
       "DB24    2.909091\n",
       "DF68    2.636364\n",
       "DG93    2.913043\n",
       "DI23    2.500000\n",
       "DL46    2.842105\n",
       "DM94    2.777778\n",
       "DR24    2.875000\n",
       "DR39    2.969697\n",
       "DT65    2.869565\n",
       "DT90    2.478261\n",
       "DY76    3.277778\n",
       "EJ60    2.500000\n",
       "EY13    2.600000\n",
       "FG12    3.000000\n",
       "FG89    2.357143\n",
       "FI61    2.687500\n",
       "FJ71    2.500000\n",
       "FJ85    2.714286\n",
       "FL92    3.277778\n",
       "FP60    2.333333\n",
       "FV64    3.363636\n",
       "FY52    2.600000\n",
       "GA56    3.181818\n",
       "GC32    3.136364\n",
       "GD12    1.894737\n",
       "GF82    2.954545\n",
       "GI14    2.730769\n",
       "GM87    2.818182\n",
       "GT91    3.000000\n",
       "GV37    3.275862\n",
       "GY51    3.500000\n",
       "HB61    3.277778\n",
       "HD80    3.166667\n",
       "HH73    2.461538\n",
       "HJ16    2.750000\n",
       "HR39    3.350000\n",
       "HS67    2.533333\n",
       "HW54    2.826087\n",
       "HW69    3.000000\n",
       "HW75    2.705882\n",
       "ID50    3.111111\n",
       "IH97    3.375000\n",
       "IJ53    2.636364\n",
       "IT32    2.888889\n",
       "IU32    3.045455\n",
       "IV32    2.720000\n",
       "JG35    3.500000\n",
       "JN23    2.531250\n",
       "JP68    2.952381\n",
       "JU71    2.550000\n",
       "KB11    2.714286\n",
       "KC45    3.050000\n",
       "KC99    2.894737\n",
       "KD98    2.857143\n",
       "KR17    3.500000\n",
       "KR29    3.238095\n",
       "KS76    3.000000\n",
       "LD98    2.450000\n",
       "LI51    3.769231\n",
       "LP73    3.478261\n",
       "LQ42    3.217391\n",
       "MC65    3.250000\n",
       "MP43    2.473684\n",
       "MT54    2.733333\n",
       "MX40    3.208333\n",
       "NB23    2.772727\n",
       "NF79    3.000000\n",
       "NI61    3.055556\n",
       "NL42    3.227273\n",
       "NP32    3.133333\n",
       "NW72    2.777778\n",
       "NZ82    2.684211\n",
       "OH38    3.357143\n",
       "OI70    2.400000\n",
       "OK34    3.411765\n",
       "ON88    3.263158\n",
       "OO38    2.500000\n",
       "OO94    3.230769\n",
       "OR25    3.040000\n",
       "OT55    2.789474\n",
       "PC30    3.166667\n",
       "PF94    2.937500\n",
       "PG80    3.000000\n",
       "PI20    3.413793\n",
       "PJ59    3.133333\n",
       "PN66    2.619048\n",
       "PU32    3.200000\n",
       "PU52    2.777778\n",
       "PW22    3.142857\n",
       "PX61    3.000000\n",
       "QA46    2.791667\n",
       "QB60    3.500000\n",
       "QC69    2.550000\n",
       "QF27    3.235294\n",
       "QH71    2.916667\n",
       "QR90    3.105263\n",
       "QU53    2.933333\n",
       "QY16    3.208333\n",
       "QY34    3.360000\n",
       "QZ48    2.937500\n",
       "RJ14    3.076923\n",
       "RL54    2.772727\n",
       "RL68    2.761905\n",
       "RM68    3.000000\n",
       "RQ92    2.944444\n",
       "RR65    2.842105\n",
       "RX42    2.608696\n",
       "RZ38    3.200000\n",
       "SA31    3.312500\n",
       "SC28    3.230769\n",
       "SE13    3.350000\n",
       "SG93    2.916667\n",
       "SK27    3.294118\n",
       "TA99    2.909091\n",
       "TB27    2.071429\n",
       "TB41    3.000000\n",
       "TB43    3.000000\n",
       "TE62    3.400000\n",
       "TE75    1.928571\n",
       "TG27    2.850000\n",
       "TI13    2.684211\n",
       "TP95    3.350000\n",
       "TU86    2.947368\n",
       "UC94    3.187500\n",
       "UL46    3.322581\n",
       "UN23    2.800000\n",
       "UU37    2.937500\n",
       "UU59    3.368421\n",
       "UU79    2.500000\n",
       "UW95    3.166667\n",
       "VA89    3.363636\n",
       "VB31    3.210526\n",
       "VF15    3.333333\n",
       "VG54    2.909091\n",
       "VI57    2.235294\n",
       "VI85    2.500000\n",
       "VL11    2.904762\n",
       "VV22    3.307692\n",
       "VX79    2.733333\n",
       "WA23    3.407407\n",
       "WB63    2.285714\n",
       "WF67    3.562500\n",
       "WM64    3.142857\n",
       "WU91    3.000000\n",
       "XG13    3.521739\n",
       "XH68    3.500000\n",
       "XI53    3.043478\n",
       "XK11    2.473684\n",
       "XP24    3.388889\n",
       "XQ62    3.076923\n",
       "XQ81    2.857143\n",
       "XS29    3.187500\n",
       "XX13    3.571429\n",
       "XX54    3.520000\n",
       "YB14    3.150000\n",
       "YH62    3.166667\n",
       "YH65    3.000000\n",
       "YH94    3.258065\n",
       "YJ74    2.950000\n",
       "YL41    3.400000\n",
       "YM35    2.700000\n",
       "YN41    3.210526\n",
       "YN84    3.192308\n",
       "YP21    2.352941\n",
       "YW56    2.733333\n",
       "ZC72    3.250000\n",
       "ZJ39    2.937500\n",
       "ZL36    3.190476\n",
       "ZO93    3.333333\n",
       "ZP21    2.705882\n",
       "ZQ81    2.772727\n",
       "ZR11    3.272727\n",
       "ZS96    2.812500\n",
       "ZU59    2.850000\n",
       "ZV13    2.500000\n",
       "Name: count_tickets, dtype: float64"
      ]
     },
     "execution_count": 54,
     "metadata": {},
     "output_type": "execute_result"
    }
   ],
   "source": [
    "payments.groupby('client_id')['count_tickets'].mean() # группировка по клиенту и подсчет среднего значения купленных билетов каждым клиентом"
   ]
  },
  {
   "cell_type": "code",
   "execution_count": 55,
   "id": "bb6020c3-1217-419b-996f-6bdbb37a6ead",
   "metadata": {},
   "outputs": [
    {
     "data": {
      "text/plain": [
       "filmmaker\n",
       "Акира Куросава                                                   1954\n",
       "Альфред Хичкок                                                   1960\n",
       "Брайан Сингер                                                    1995\n",
       "Дамьен Шазель                                                    2014\n",
       "Дени Вильнёв                                                     2024\n",
       "Джеймс Кэмерон                                                   1991\n",
       "Джонатан Демми                                                   1991\n",
       "Джордж Лукас                                                     1977\n",
       "Джузеппе Торнаторе                                               1988\n",
       "Дэвид Финчер                                                     1995\n",
       "Жерар Пирес                                                      1998\n",
       "Жуакин Душ Сантуш[англ.], Кэмп Пауэрс[англ.], Джастин Томпсон    2023\n",
       "Ирвин Кершнер                                                    1980\n",
       "Исао Такахата                                                    1988\n",
       "Квентин Тарантино                                                1994\n",
       "Кристофер Нолан                                                  2006\n",
       "Люк Бессон                                                       1994\n",
       "Майкл Кёртиц                                                     1942\n",
       "Мартин Скорсезе                                                  1990\n",
       "Масаки Кобаяси                                                   1962\n",
       "Милош Форман                                                     1975\n",
       "Оливье Накаш, Эрик Толедано                                      2011\n",
       "Питер Джексон                                                    2001\n",
       "Пон Чжун Хо                                                      2019\n",
       "Ридли Скотт                                                      2000\n",
       "Роберт Земекис                                                   1985\n",
       "Роберто Бениньи                                                  1997\n",
       "Роджер Аллерс, Роб Минкофф                                       1994\n",
       "Роман Полански                                                   2002\n",
       "Серджо Леоне                                                     1966\n",
       "Сидни Люмет                                                      1957\n",
       "Стивен Спилберг                                                  1975\n",
       "Тони Кэй                                                         1998\n",
       "Фернанду Мейреллиш                                               2002\n",
       "Фрэнк Дарабонт                                                   1994\n",
       "Фрэнк Капра                                                      1946\n",
       "Фрэнсис Форд Коппола                                             1972\n",
       "Хаяо Миядзаки                                                    2001\n",
       "Энди и Ларри Вачовски                                            1999\n",
       "Name: release_year, dtype: int64"
      ]
     },
     "execution_count": 55,
     "metadata": {},
     "output_type": "execute_result"
    }
   ],
   "source": [
    "films.groupby('filmmaker')['release_year'].min() # группировка по режиссеру и вывод самого раннего фильма для каждого"
   ]
  },
  {
   "cell_type": "markdown",
   "id": "52927e72-f7d8-4268-8c1c-ba18e6d0cc3b",
   "metadata": {
    "jp-MarkdownHeadingCollapsed": true
   },
   "source": [
    "## Сортировка"
   ]
  },
  {
   "cell_type": "code",
   "execution_count": 56,
   "id": "8bb8e55f-549a-430e-9702-7c457cdfa36b",
   "metadata": {},
   "outputs": [
    {
     "data": {
      "text/html": [
       "<div>\n",
       "<style scoped>\n",
       "    .dataframe tbody tr th:only-of-type {\n",
       "        vertical-align: middle;\n",
       "    }\n",
       "\n",
       "    .dataframe tbody tr th {\n",
       "        vertical-align: top;\n",
       "    }\n",
       "\n",
       "    .dataframe thead th {\n",
       "        text-align: right;\n",
       "    }\n",
       "</style>\n",
       "<table border=\"1\" class=\"dataframe\">\n",
       "  <thead>\n",
       "    <tr style=\"text-align: right;\">\n",
       "      <th></th>\n",
       "      <th>film_id</th>\n",
       "      <th>film_name</th>\n",
       "      <th>price_ticket</th>\n",
       "      <th>release_year</th>\n",
       "      <th>filmmaker</th>\n",
       "      <th>kind_film</th>\n",
       "    </tr>\n",
       "  </thead>\n",
       "  <tbody>\n",
       "    <tr>\n",
       "      <th>20</th>\n",
       "      <td>21</td>\n",
       "      <td>Дюна: Часть вторая</td>\n",
       "      <td>190</td>\n",
       "      <td>2024</td>\n",
       "      <td>Дени Вильнёв</td>\n",
       "      <td>боевик, приключение, драма</td>\n",
       "    </tr>\n",
       "    <tr>\n",
       "      <th>35</th>\n",
       "      <td>36</td>\n",
       "      <td>Человек-паук: Паутина вселенных</td>\n",
       "      <td>450</td>\n",
       "      <td>2023</td>\n",
       "      <td>Жуакин Душ Сантуш[англ.], Кэмп Пауэрс[англ.], ...</td>\n",
       "      <td>мультфильм, боевик, приключение</td>\n",
       "    </tr>\n",
       "    <tr>\n",
       "      <th>33</th>\n",
       "      <td>34</td>\n",
       "      <td>Паразиты</td>\n",
       "      <td>450</td>\n",
       "      <td>2019</td>\n",
       "      <td>Пон Чжун Хо</td>\n",
       "      <td>драма, триллер</td>\n",
       "    </tr>\n",
       "    <tr>\n",
       "      <th>19</th>\n",
       "      <td>20</td>\n",
       "      <td>Интерстеллар</td>\n",
       "      <td>190</td>\n",
       "      <td>2014</td>\n",
       "      <td>Кристофер Нолан</td>\n",
       "      <td>приключение, драма, научная фантастика</td>\n",
       "    </tr>\n",
       "    <tr>\n",
       "      <th>41</th>\n",
       "      <td>42</td>\n",
       "      <td>Одержимость</td>\n",
       "      <td>290</td>\n",
       "      <td>2014</td>\n",
       "      <td>Дамьен Шазель</td>\n",
       "      <td>драма, музыкальный фильм</td>\n",
       "    </tr>\n",
       "    <tr>\n",
       "      <th>54</th>\n",
       "      <td>53</td>\n",
       "      <td>Линкольн</td>\n",
       "      <td>190</td>\n",
       "      <td>2012</td>\n",
       "      <td>Стивен Спилберг</td>\n",
       "      <td>биография, драма</td>\n",
       "    </tr>\n",
       "    <tr>\n",
       "      <th>52</th>\n",
       "      <td>53</td>\n",
       "      <td>Линкольн</td>\n",
       "      <td>190</td>\n",
       "      <td>2012</td>\n",
       "      <td>Стивен Спилберг</td>\n",
       "      <td>биография, драма</td>\n",
       "    </tr>\n",
       "    <tr>\n",
       "      <th>47</th>\n",
       "      <td>48</td>\n",
       "      <td>1+1</td>\n",
       "      <td>290</td>\n",
       "      <td>2011</td>\n",
       "      <td>Оливье Накаш, Эрик Толедано</td>\n",
       "      <td>байопик, кинокомедия, драма</td>\n",
       "    </tr>\n",
       "    <tr>\n",
       "      <th>13</th>\n",
       "      <td>14</td>\n",
       "      <td>Начало</td>\n",
       "      <td>190</td>\n",
       "      <td>2010</td>\n",
       "      <td>Кристофер Нолан</td>\n",
       "      <td>боевик, приключение, научная фантастика</td>\n",
       "    </tr>\n",
       "    <tr>\n",
       "      <th>2</th>\n",
       "      <td>3</td>\n",
       "      <td>Тёмный рыцарь</td>\n",
       "      <td>340</td>\n",
       "      <td>2008</td>\n",
       "      <td>Кристофер Нолан</td>\n",
       "      <td>боевик, детектив, драма</td>\n",
       "    </tr>\n",
       "    <tr>\n",
       "      <th>42</th>\n",
       "      <td>43</td>\n",
       "      <td>Престиж</td>\n",
       "      <td>450</td>\n",
       "      <td>2006</td>\n",
       "      <td>Кристофер Нолан</td>\n",
       "      <td>драма, фильм-тайна, научная фантастика</td>\n",
       "    </tr>\n",
       "    <tr>\n",
       "      <th>39</th>\n",
       "      <td>40</td>\n",
       "      <td>Отступники</td>\n",
       "      <td>190</td>\n",
       "      <td>2006</td>\n",
       "      <td>Мартин Скорсезе</td>\n",
       "      <td>детектив, драма, триллер</td>\n",
       "    </tr>\n",
       "    <tr>\n",
       "      <th>6</th>\n",
       "      <td>7</td>\n",
       "      <td>Властелин колец: Возвращение короля</td>\n",
       "      <td>290</td>\n",
       "      <td>2003</td>\n",
       "      <td>Питер Джексон</td>\n",
       "      <td>боевик, приключение, драма</td>\n",
       "    </tr>\n",
       "    <tr>\n",
       "      <th>11</th>\n",
       "      <td>12</td>\n",
       "      <td>Властелин колец: Две крепости</td>\n",
       "      <td>290</td>\n",
       "      <td>2002</td>\n",
       "      <td>Питер Джексон</td>\n",
       "      <td>боевик, приключение, драма</td>\n",
       "    </tr>\n",
       "    <tr>\n",
       "      <th>32</th>\n",
       "      <td>33</td>\n",
       "      <td>Пианист</td>\n",
       "      <td>340</td>\n",
       "      <td>2002</td>\n",
       "      <td>Роман Полански</td>\n",
       "      <td>байопик, драма, музыкальный фильм</td>\n",
       "    </tr>\n",
       "    <tr>\n",
       "      <th>25</th>\n",
       "      <td>26</td>\n",
       "      <td>Город Бога</td>\n",
       "      <td>190</td>\n",
       "      <td>2002</td>\n",
       "      <td>Фернанду Мейреллиш</td>\n",
       "      <td>детектив, драма</td>\n",
       "    </tr>\n",
       "    <tr>\n",
       "      <th>8</th>\n",
       "      <td>9</td>\n",
       "      <td>Властелин колец: Братство Кольца</td>\n",
       "      <td>290</td>\n",
       "      <td>2001</td>\n",
       "      <td>Питер Джексон</td>\n",
       "      <td>боевик, приключение, драма</td>\n",
       "    </tr>\n",
       "    <tr>\n",
       "      <th>31</th>\n",
       "      <td>32</td>\n",
       "      <td>Унесённые призраками</td>\n",
       "      <td>340</td>\n",
       "      <td>2001</td>\n",
       "      <td>Хаяо Миядзаки</td>\n",
       "      <td>мультфильм, приключение, семейный фильм</td>\n",
       "    </tr>\n",
       "    <tr>\n",
       "      <th>36</th>\n",
       "      <td>37</td>\n",
       "      <td>Гладиатор</td>\n",
       "      <td>290</td>\n",
       "      <td>2000</td>\n",
       "      <td>Ридли Скотт</td>\n",
       "      <td>боевик, приключение, драма</td>\n",
       "    </tr>\n",
       "    <tr>\n",
       "      <th>53</th>\n",
       "      <td>16</td>\n",
       "      <td>Матрица</td>\n",
       "      <td>290</td>\n",
       "      <td>1999</td>\n",
       "      <td>Энди и Ларри Вачовски</td>\n",
       "      <td>боевик, научная фантастика</td>\n",
       "    </tr>\n",
       "    <tr>\n",
       "      <th>27</th>\n",
       "      <td>28</td>\n",
       "      <td>Зелёная миля</td>\n",
       "      <td>450</td>\n",
       "      <td>1999</td>\n",
       "      <td>Фрэнк Дарабонт</td>\n",
       "      <td>детектив, драма, фэнтези</td>\n",
       "    </tr>\n",
       "    <tr>\n",
       "      <th>15</th>\n",
       "      <td>16</td>\n",
       "      <td>Матрица</td>\n",
       "      <td>290</td>\n",
       "      <td>1999</td>\n",
       "      <td>Энди и Ларри Вачовски</td>\n",
       "      <td>боевик, научная фантастика</td>\n",
       "    </tr>\n",
       "    <tr>\n",
       "      <th>12</th>\n",
       "      <td>13</td>\n",
       "      <td>Бойцовский клуб</td>\n",
       "      <td>190</td>\n",
       "      <td>1999</td>\n",
       "      <td>Дэвид Финчер</td>\n",
       "      <td>драма</td>\n",
       "    </tr>\n",
       "    <tr>\n",
       "      <th>50</th>\n",
       "      <td>51</td>\n",
       "      <td>Такси</td>\n",
       "      <td>450</td>\n",
       "      <td>1998</td>\n",
       "      <td>Жерар Пирес</td>\n",
       "      <td>комедия, боевик</td>\n",
       "    </tr>\n",
       "    <tr>\n",
       "      <th>24</th>\n",
       "      <td>25</td>\n",
       "      <td>Спасти рядового Райана</td>\n",
       "      <td>340</td>\n",
       "      <td>1998</td>\n",
       "      <td>Стивен Спилберг</td>\n",
       "      <td>драма, военный фильм</td>\n",
       "    </tr>\n",
       "    <tr>\n",
       "      <th>40</th>\n",
       "      <td>41</td>\n",
       "      <td>Американская история Икс</td>\n",
       "      <td>290</td>\n",
       "      <td>1998</td>\n",
       "      <td>Тони Кэй</td>\n",
       "      <td>детектив, драма</td>\n",
       "    </tr>\n",
       "    <tr>\n",
       "      <th>26</th>\n",
       "      <td>27</td>\n",
       "      <td>Жизнь прекрасна</td>\n",
       "      <td>190</td>\n",
       "      <td>1997</td>\n",
       "      <td>Роберто Бениньи</td>\n",
       "      <td>кинокомедия, драма, романтический фильм</td>\n",
       "    </tr>\n",
       "    <tr>\n",
       "      <th>18</th>\n",
       "      <td>19</td>\n",
       "      <td>Семь</td>\n",
       "      <td>190</td>\n",
       "      <td>1995</td>\n",
       "      <td>Дэвид Финчер</td>\n",
       "      <td>детектив, драма, фильм-тайна</td>\n",
       "    </tr>\n",
       "    <tr>\n",
       "      <th>45</th>\n",
       "      <td>46</td>\n",
       "      <td>Подозрительные лица</td>\n",
       "      <td>190</td>\n",
       "      <td>1995</td>\n",
       "      <td>Брайан Сингер</td>\n",
       "      <td>детектив, драма, фильм-тайна</td>\n",
       "    </tr>\n",
       "    <tr>\n",
       "      <th>38</th>\n",
       "      <td>39</td>\n",
       "      <td>Леон</td>\n",
       "      <td>340</td>\n",
       "      <td>1994</td>\n",
       "      <td>Люк Бессон</td>\n",
       "      <td>боевик, детектив, драма</td>\n",
       "    </tr>\n",
       "    <tr>\n",
       "      <th>7</th>\n",
       "      <td>8</td>\n",
       "      <td>Криминальное чтиво</td>\n",
       "      <td>290</td>\n",
       "      <td>1994</td>\n",
       "      <td>Квентин Тарантино</td>\n",
       "      <td>детектив, драма</td>\n",
       "    </tr>\n",
       "    <tr>\n",
       "      <th>10</th>\n",
       "      <td>11</td>\n",
       "      <td>Форрест Гамп</td>\n",
       "      <td>190</td>\n",
       "      <td>1994</td>\n",
       "      <td>Роберт Земекис</td>\n",
       "      <td>драма, романтический фильм</td>\n",
       "    </tr>\n",
       "    <tr>\n",
       "      <th>37</th>\n",
       "      <td>38</td>\n",
       "      <td>Король Лев</td>\n",
       "      <td>190</td>\n",
       "      <td>1994</td>\n",
       "      <td>Роджер Аллерс, Роб Минкофф</td>\n",
       "      <td>мультфильм, приключение, драма</td>\n",
       "    </tr>\n",
       "    <tr>\n",
       "      <th>0</th>\n",
       "      <td>1</td>\n",
       "      <td>Побег из Шоушенка</td>\n",
       "      <td>190</td>\n",
       "      <td>1994</td>\n",
       "      <td>Фрэнк Дарабонт</td>\n",
       "      <td>драма</td>\n",
       "    </tr>\n",
       "    <tr>\n",
       "      <th>5</th>\n",
       "      <td>6</td>\n",
       "      <td>Список Шиндлера</td>\n",
       "      <td>190</td>\n",
       "      <td>1993</td>\n",
       "      <td>Стивен Спилберг</td>\n",
       "      <td>байопик, драма, исторический фильм</td>\n",
       "    </tr>\n",
       "    <tr>\n",
       "      <th>23</th>\n",
       "      <td>24</td>\n",
       "      <td>Молчание ягнят</td>\n",
       "      <td>450</td>\n",
       "      <td>1991</td>\n",
       "      <td>Джонатан Демми</td>\n",
       "      <td>детектив, драма, триллер</td>\n",
       "    </tr>\n",
       "    <tr>\n",
       "      <th>28</th>\n",
       "      <td>29</td>\n",
       "      <td>Терминатор 2: Судный день</td>\n",
       "      <td>290</td>\n",
       "      <td>1991</td>\n",
       "      <td>Джеймс Кэмерон</td>\n",
       "      <td>боевик, научная фантастика</td>\n",
       "    </tr>\n",
       "    <tr>\n",
       "      <th>16</th>\n",
       "      <td>17</td>\n",
       "      <td>Славные парни</td>\n",
       "      <td>190</td>\n",
       "      <td>1990</td>\n",
       "      <td>Мартин Скорсезе</td>\n",
       "      <td>байопик, детектив, драма</td>\n",
       "    </tr>\n",
       "    <tr>\n",
       "      <th>51</th>\n",
       "      <td>52</td>\n",
       "      <td>Назад в будущее 2</td>\n",
       "      <td>340</td>\n",
       "      <td>1989</td>\n",
       "      <td>Роберт Земекис</td>\n",
       "      <td>приключение, кинокомедия, научная фантастика</td>\n",
       "    </tr>\n",
       "    <tr>\n",
       "      <th>43</th>\n",
       "      <td>44</td>\n",
       "      <td>Могила светлячков</td>\n",
       "      <td>450</td>\n",
       "      <td>1988</td>\n",
       "      <td>Исао Такахата</td>\n",
       "      <td>мультфильм, драма, военный фильм</td>\n",
       "    </tr>\n",
       "    <tr>\n",
       "      <th>48</th>\n",
       "      <td>49</td>\n",
       "      <td>Новый кинотеатр «Парадизо»</td>\n",
       "      <td>190</td>\n",
       "      <td>1988</td>\n",
       "      <td>Джузеппе Торнаторе</td>\n",
       "      <td>драма, романтический фильм</td>\n",
       "    </tr>\n",
       "    <tr>\n",
       "      <th>30</th>\n",
       "      <td>31</td>\n",
       "      <td>Назад в будущее</td>\n",
       "      <td>340</td>\n",
       "      <td>1985</td>\n",
       "      <td>Роберт Земекис</td>\n",
       "      <td>приключение, кинокомедия, научная фантастика</td>\n",
       "    </tr>\n",
       "    <tr>\n",
       "      <th>14</th>\n",
       "      <td>15</td>\n",
       "      <td>Звёздные войны. Эпизод V: Империя наносит отве...</td>\n",
       "      <td>190</td>\n",
       "      <td>1980</td>\n",
       "      <td>Ирвин Кершнер</td>\n",
       "      <td>боевик, приключение, фэнтези</td>\n",
       "    </tr>\n",
       "    <tr>\n",
       "      <th>29</th>\n",
       "      <td>30</td>\n",
       "      <td>Звёздные войны. Эпизод IV: Новая надежда</td>\n",
       "      <td>190</td>\n",
       "      <td>1977</td>\n",
       "      <td>Джордж Лукас</td>\n",
       "      <td>боевик, приключение, фэнтези</td>\n",
       "    </tr>\n",
       "    <tr>\n",
       "      <th>17</th>\n",
       "      <td>18</td>\n",
       "      <td>Пролетая над гнездом кукушки</td>\n",
       "      <td>340</td>\n",
       "      <td>1975</td>\n",
       "      <td>Милош Форман</td>\n",
       "      <td>драма</td>\n",
       "    </tr>\n",
       "    <tr>\n",
       "      <th>49</th>\n",
       "      <td>50</td>\n",
       "      <td>Челюсти</td>\n",
       "      <td>290</td>\n",
       "      <td>1975</td>\n",
       "      <td>Стивен Спилберг</td>\n",
       "      <td>триллер, драма</td>\n",
       "    </tr>\n",
       "    <tr>\n",
       "      <th>3</th>\n",
       "      <td>4</td>\n",
       "      <td>Крёстный отец 2</td>\n",
       "      <td>290</td>\n",
       "      <td>1974</td>\n",
       "      <td>Фрэнсис Форд Коппола</td>\n",
       "      <td>детектив, драма</td>\n",
       "    </tr>\n",
       "    <tr>\n",
       "      <th>1</th>\n",
       "      <td>2</td>\n",
       "      <td>Крёстный отец</td>\n",
       "      <td>190</td>\n",
       "      <td>1972</td>\n",
       "      <td>Фрэнсис Форд Коппола</td>\n",
       "      <td>детектив, драма</td>\n",
       "    </tr>\n",
       "    <tr>\n",
       "      <th>9</th>\n",
       "      <td>10</td>\n",
       "      <td>Хороший, плохой, злой</td>\n",
       "      <td>450</td>\n",
       "      <td>1966</td>\n",
       "      <td>Серджо Леоне</td>\n",
       "      <td>приключение, вестерн</td>\n",
       "    </tr>\n",
       "    <tr>\n",
       "      <th>44</th>\n",
       "      <td>45</td>\n",
       "      <td>Харакири</td>\n",
       "      <td>290</td>\n",
       "      <td>1962</td>\n",
       "      <td>Масаки Кобаяси</td>\n",
       "      <td>боевик, драма, фильм-тайна</td>\n",
       "    </tr>\n",
       "    <tr>\n",
       "      <th>34</th>\n",
       "      <td>35</td>\n",
       "      <td>Психо</td>\n",
       "      <td>290</td>\n",
       "      <td>1960</td>\n",
       "      <td>Альфред Хичкок</td>\n",
       "      <td>хоррор, фильм-тайна, триллер</td>\n",
       "    </tr>\n",
       "    <tr>\n",
       "      <th>4</th>\n",
       "      <td>5</td>\n",
       "      <td>12 разгневанных мужчин</td>\n",
       "      <td>290</td>\n",
       "      <td>1957</td>\n",
       "      <td>Сидни Люмет</td>\n",
       "      <td>детектив, драма</td>\n",
       "    </tr>\n",
       "    <tr>\n",
       "      <th>22</th>\n",
       "      <td>23</td>\n",
       "      <td>Семь самураев</td>\n",
       "      <td>450</td>\n",
       "      <td>1954</td>\n",
       "      <td>Акира Куросава</td>\n",
       "      <td>боевик, драма</td>\n",
       "    </tr>\n",
       "    <tr>\n",
       "      <th>21</th>\n",
       "      <td>22</td>\n",
       "      <td>Эта прекрасная жизнь</td>\n",
       "      <td>340</td>\n",
       "      <td>1946</td>\n",
       "      <td>Фрэнк Капра</td>\n",
       "      <td>драма, семейный фильм, фэнтези</td>\n",
       "    </tr>\n",
       "    <tr>\n",
       "      <th>46</th>\n",
       "      <td>47</td>\n",
       "      <td>Касабланка</td>\n",
       "      <td>450</td>\n",
       "      <td>1942</td>\n",
       "      <td>Майкл Кёртиц</td>\n",
       "      <td>драма, романтический фильм, военный фильм</td>\n",
       "    </tr>\n",
       "  </tbody>\n",
       "</table>\n",
       "</div>"
      ],
      "text/plain": [
       "    film_id                                          film_name  price_ticket  \\\n",
       "20       21                                 Дюна: Часть вторая           190   \n",
       "35       36                    Человек-паук: Паутина вселенных           450   \n",
       "33       34                                           Паразиты           450   \n",
       "19       20                                       Интерстеллар           190   \n",
       "41       42                                        Одержимость           290   \n",
       "54       53                                           Линкольн           190   \n",
       "52       53                                           Линкольн           190   \n",
       "47       48                                                1+1           290   \n",
       "13       14                                             Начало           190   \n",
       "2         3                                      Тёмный рыцарь           340   \n",
       "42       43                                            Престиж           450   \n",
       "39       40                                         Отступники           190   \n",
       "6         7                Властелин колец: Возвращение короля           290   \n",
       "11       12                      Властелин колец: Две крепости           290   \n",
       "32       33                                            Пианист           340   \n",
       "25       26                                         Город Бога           190   \n",
       "8         9                   Властелин колец: Братство Кольца           290   \n",
       "31       32                               Унесённые призраками           340   \n",
       "36       37                                          Гладиатор           290   \n",
       "53       16                                            Матрица           290   \n",
       "27       28                                       Зелёная миля           450   \n",
       "15       16                                            Матрица           290   \n",
       "12       13                                    Бойцовский клуб           190   \n",
       "50       51                                              Такси           450   \n",
       "24       25                             Спасти рядового Райана           340   \n",
       "40       41                           Американская история Икс           290   \n",
       "26       27                                    Жизнь прекрасна           190   \n",
       "18       19                                               Семь           190   \n",
       "45       46                                Подозрительные лица           190   \n",
       "38       39                                               Леон           340   \n",
       "7         8                                 Криминальное чтиво           290   \n",
       "10       11                                       Форрест Гамп           190   \n",
       "37       38                                         Король Лев           190   \n",
       "0         1                                  Побег из Шоушенка           190   \n",
       "5         6                                    Список Шиндлера           190   \n",
       "23       24                                     Молчание ягнят           450   \n",
       "28       29                          Терминатор 2: Судный день           290   \n",
       "16       17                                      Славные парни           190   \n",
       "51       52                                  Назад в будущее 2           340   \n",
       "43       44                                  Могила светлячков           450   \n",
       "48       49                         Новый кинотеатр «Парадизо»           190   \n",
       "30       31                                    Назад в будущее           340   \n",
       "14       15  Звёздные войны. Эпизод V: Империя наносит отве...           190   \n",
       "29       30           Звёздные войны. Эпизод IV: Новая надежда           190   \n",
       "17       18                       Пролетая над гнездом кукушки           340   \n",
       "49       50                                            Челюсти           290   \n",
       "3         4                                    Крёстный отец 2           290   \n",
       "1         2                                      Крёстный отец           190   \n",
       "9        10                              Хороший, плохой, злой           450   \n",
       "44       45                                           Харакири           290   \n",
       "34       35                                              Психо           290   \n",
       "4         5                             12 разгневанных мужчин           290   \n",
       "22       23                                      Семь самураев           450   \n",
       "21       22                               Эта прекрасная жизнь           340   \n",
       "46       47                                         Касабланка           450   \n",
       "\n",
       "    release_year                                          filmmaker  \\\n",
       "20          2024                                       Дени Вильнёв   \n",
       "35          2023  Жуакин Душ Сантуш[англ.], Кэмп Пауэрс[англ.], ...   \n",
       "33          2019                                        Пон Чжун Хо   \n",
       "19          2014                                    Кристофер Нолан   \n",
       "41          2014                                      Дамьен Шазель   \n",
       "54          2012                                    Стивен Спилберг   \n",
       "52          2012                                    Стивен Спилберг   \n",
       "47          2011                        Оливье Накаш, Эрик Толедано   \n",
       "13          2010                                    Кристофер Нолан   \n",
       "2           2008                                    Кристофер Нолан   \n",
       "42          2006                                    Кристофер Нолан   \n",
       "39          2006                                    Мартин Скорсезе   \n",
       "6           2003                                      Питер Джексон   \n",
       "11          2002                                      Питер Джексон   \n",
       "32          2002                                     Роман Полански   \n",
       "25          2002                                 Фернанду Мейреллиш   \n",
       "8           2001                                      Питер Джексон   \n",
       "31          2001                                      Хаяо Миядзаки   \n",
       "36          2000                                        Ридли Скотт   \n",
       "53          1999                              Энди и Ларри Вачовски   \n",
       "27          1999                                     Фрэнк Дарабонт   \n",
       "15          1999                              Энди и Ларри Вачовски   \n",
       "12          1999                                       Дэвид Финчер   \n",
       "50          1998                                        Жерар Пирес   \n",
       "24          1998                                    Стивен Спилберг   \n",
       "40          1998                                           Тони Кэй   \n",
       "26          1997                                    Роберто Бениньи   \n",
       "18          1995                                       Дэвид Финчер   \n",
       "45          1995                                      Брайан Сингер   \n",
       "38          1994                                         Люк Бессон   \n",
       "7           1994                                  Квентин Тарантино   \n",
       "10          1994                                     Роберт Земекис   \n",
       "37          1994                         Роджер Аллерс, Роб Минкофф   \n",
       "0           1994                                     Фрэнк Дарабонт   \n",
       "5           1993                                    Стивен Спилберг   \n",
       "23          1991                                     Джонатан Демми   \n",
       "28          1991                                     Джеймс Кэмерон   \n",
       "16          1990                                    Мартин Скорсезе   \n",
       "51          1989                                     Роберт Земекис   \n",
       "43          1988                                      Исао Такахата   \n",
       "48          1988                                 Джузеппе Торнаторе   \n",
       "30          1985                                     Роберт Земекис   \n",
       "14          1980                                      Ирвин Кершнер   \n",
       "29          1977                                       Джордж Лукас   \n",
       "17          1975                                       Милош Форман   \n",
       "49          1975                                    Стивен Спилберг   \n",
       "3           1974                               Фрэнсис Форд Коппола   \n",
       "1           1972                               Фрэнсис Форд Коппола   \n",
       "9           1966                                       Серджо Леоне   \n",
       "44          1962                                     Масаки Кобаяси   \n",
       "34          1960                                     Альфред Хичкок   \n",
       "4           1957                                        Сидни Люмет   \n",
       "22          1954                                     Акира Куросава   \n",
       "21          1946                                        Фрэнк Капра   \n",
       "46          1942                                       Майкл Кёртиц   \n",
       "\n",
       "                                       kind_film  \n",
       "20                    боевик, приключение, драма  \n",
       "35               мультфильм, боевик, приключение  \n",
       "33                                драма, триллер  \n",
       "19        приключение, драма, научная фантастика  \n",
       "41                      драма, музыкальный фильм  \n",
       "54                              биография, драма  \n",
       "52                              биография, драма  \n",
       "47                   байопик, кинокомедия, драма  \n",
       "13       боевик, приключение, научная фантастика  \n",
       "2                        боевик, детектив, драма  \n",
       "42        драма, фильм-тайна, научная фантастика  \n",
       "39                      детектив, драма, триллер  \n",
       "6                     боевик, приключение, драма  \n",
       "11                    боевик, приключение, драма  \n",
       "32             байопик, драма, музыкальный фильм  \n",
       "25                               детектив, драма  \n",
       "8                     боевик, приключение, драма  \n",
       "31       мультфильм, приключение, семейный фильм  \n",
       "36                    боевик, приключение, драма  \n",
       "53                    боевик, научная фантастика  \n",
       "27                      детектив, драма, фэнтези  \n",
       "15                    боевик, научная фантастика  \n",
       "12                                         драма  \n",
       "50                               комедия, боевик  \n",
       "24                          драма, военный фильм  \n",
       "40                               детектив, драма  \n",
       "26       кинокомедия, драма, романтический фильм  \n",
       "18                  детектив, драма, фильм-тайна  \n",
       "45                  детектив, драма, фильм-тайна  \n",
       "38                       боевик, детектив, драма  \n",
       "7                                детектив, драма  \n",
       "10                    драма, романтический фильм  \n",
       "37                мультфильм, приключение, драма  \n",
       "0                                          драма  \n",
       "5             байопик, драма, исторический фильм  \n",
       "23                      детектив, драма, триллер  \n",
       "28                    боевик, научная фантастика  \n",
       "16                      байопик, детектив, драма  \n",
       "51  приключение, кинокомедия, научная фантастика  \n",
       "43              мультфильм, драма, военный фильм  \n",
       "48                    драма, романтический фильм  \n",
       "30  приключение, кинокомедия, научная фантастика  \n",
       "14                  боевик, приключение, фэнтези  \n",
       "29                  боевик, приключение, фэнтези  \n",
       "17                                         драма  \n",
       "49                                триллер, драма  \n",
       "3                                детектив, драма  \n",
       "1                                детектив, драма  \n",
       "9                           приключение, вестерн  \n",
       "44                    боевик, драма, фильм-тайна  \n",
       "34                  хоррор, фильм-тайна, триллер  \n",
       "4                                детектив, драма  \n",
       "22                                 боевик, драма  \n",
       "21                драма, семейный фильм, фэнтези  \n",
       "46     драма, романтический фильм, военный фильм  "
      ]
     },
     "execution_count": 56,
     "metadata": {},
     "output_type": "execute_result"
    }
   ],
   "source": [
    "films.sort_values('release_year', ascending=False) # сортировка датафрейма по году выпуска"
   ]
  },
  {
   "cell_type": "code",
   "execution_count": 57,
   "id": "6f6b6808-c99f-422f-8d18-683c222d6817",
   "metadata": {},
   "outputs": [
    {
     "data": {
      "text/plain": [
       "20    2024\n",
       "35    2023\n",
       "33    2019\n",
       "19    2014\n",
       "41    2014\n",
       "54    2012\n",
       "52    2012\n",
       "47    2011\n",
       "13    2010\n",
       "2     2008\n",
       "42    2006\n",
       "39    2006\n",
       "6     2003\n",
       "11    2002\n",
       "32    2002\n",
       "25    2002\n",
       "8     2001\n",
       "31    2001\n",
       "36    2000\n",
       "53    1999\n",
       "27    1999\n",
       "15    1999\n",
       "12    1999\n",
       "50    1998\n",
       "24    1998\n",
       "40    1998\n",
       "26    1997\n",
       "18    1995\n",
       "45    1995\n",
       "38    1994\n",
       "7     1994\n",
       "10    1994\n",
       "37    1994\n",
       "0     1994\n",
       "5     1993\n",
       "23    1991\n",
       "28    1991\n",
       "16    1990\n",
       "51    1989\n",
       "43    1988\n",
       "48    1988\n",
       "30    1985\n",
       "14    1980\n",
       "29    1977\n",
       "17    1975\n",
       "49    1975\n",
       "3     1974\n",
       "1     1972\n",
       "9     1966\n",
       "44    1962\n",
       "34    1960\n",
       "4     1957\n",
       "22    1954\n",
       "21    1946\n",
       "46    1942\n",
       "Name: release_year, dtype: int64"
      ]
     },
     "execution_count": 57,
     "metadata": {},
     "output_type": "execute_result"
    }
   ],
   "source": [
    "films.release_year.sort_values(ascending=False) # сортировка сириес"
   ]
  },
  {
   "cell_type": "code",
   "execution_count": 58,
   "id": "35287a0b-2029-4a92-bebb-977f8ea5c1e6",
   "metadata": {},
   "outputs": [
    {
     "data": {
      "text/plain": [
       "2024"
      ]
     },
     "execution_count": 58,
     "metadata": {},
     "output_type": "execute_result"
    }
   ],
   "source": [
    "films.release_year.max()"
   ]
  },
  {
   "cell_type": "code",
   "execution_count": 59,
   "id": "1c6ae498-999c-42d5-8a2c-7641389cf34c",
   "metadata": {},
   "outputs": [
    {
     "data": {
      "text/html": [
       "<div>\n",
       "<style scoped>\n",
       "    .dataframe tbody tr th:only-of-type {\n",
       "        vertical-align: middle;\n",
       "    }\n",
       "\n",
       "    .dataframe tbody tr th {\n",
       "        vertical-align: top;\n",
       "    }\n",
       "\n",
       "    .dataframe thead th {\n",
       "        text-align: right;\n",
       "    }\n",
       "</style>\n",
       "<table border=\"1\" class=\"dataframe\">\n",
       "  <thead>\n",
       "    <tr style=\"text-align: right;\">\n",
       "      <th></th>\n",
       "      <th>film_id</th>\n",
       "      <th>film_name</th>\n",
       "      <th>price_ticket</th>\n",
       "      <th>release_year</th>\n",
       "      <th>filmmaker</th>\n",
       "      <th>kind_film</th>\n",
       "    </tr>\n",
       "  </thead>\n",
       "  <tbody>\n",
       "    <tr>\n",
       "      <th>20</th>\n",
       "      <td>21</td>\n",
       "      <td>Дюна: Часть вторая</td>\n",
       "      <td>190</td>\n",
       "      <td>2024</td>\n",
       "      <td>Дени Вильнёв</td>\n",
       "      <td>боевик, приключение, драма</td>\n",
       "    </tr>\n",
       "  </tbody>\n",
       "</table>\n",
       "</div>"
      ],
      "text/plain": [
       "    film_id           film_name  price_ticket  release_year     filmmaker  \\\n",
       "20       21  Дюна: Часть вторая           190          2024  Дени Вильнёв   \n",
       "\n",
       "                     kind_film  \n",
       "20  боевик, приключение, драма  "
      ]
     },
     "execution_count": 59,
     "metadata": {},
     "output_type": "execute_result"
    }
   ],
   "source": [
    "films[films.release_year == films.release_year.max()] # вывод строки с самым новым фильмом из всего датафрейма"
   ]
  },
  {
   "cell_type": "code",
   "execution_count": 60,
   "id": "43b4af7f-b79b-4985-80f8-95db987bad1f",
   "metadata": {},
   "outputs": [
    {
     "data": {
      "text/html": [
       "<div>\n",
       "<style scoped>\n",
       "    .dataframe tbody tr th:only-of-type {\n",
       "        vertical-align: middle;\n",
       "    }\n",
       "\n",
       "    .dataframe tbody tr th {\n",
       "        vertical-align: top;\n",
       "    }\n",
       "\n",
       "    .dataframe thead th {\n",
       "        text-align: right;\n",
       "    }\n",
       "</style>\n",
       "<table border=\"1\" class=\"dataframe\">\n",
       "  <thead>\n",
       "    <tr style=\"text-align: right;\">\n",
       "      <th></th>\n",
       "      <th>film_id</th>\n",
       "      <th>film_name</th>\n",
       "      <th>price_ticket</th>\n",
       "      <th>release_year</th>\n",
       "      <th>filmmaker</th>\n",
       "      <th>kind_film</th>\n",
       "    </tr>\n",
       "  </thead>\n",
       "  <tbody>\n",
       "    <tr>\n",
       "      <th>2</th>\n",
       "      <td>3</td>\n",
       "      <td>Тёмный рыцарь</td>\n",
       "      <td>340</td>\n",
       "      <td>2008</td>\n",
       "      <td>Кристофер Нолан</td>\n",
       "      <td>боевик, детектив, драма</td>\n",
       "    </tr>\n",
       "    <tr>\n",
       "      <th>9</th>\n",
       "      <td>10</td>\n",
       "      <td>Хороший, плохой, злой</td>\n",
       "      <td>450</td>\n",
       "      <td>1966</td>\n",
       "      <td>Серджо Леоне</td>\n",
       "      <td>приключение, вестерн</td>\n",
       "    </tr>\n",
       "    <tr>\n",
       "      <th>17</th>\n",
       "      <td>18</td>\n",
       "      <td>Пролетая над гнездом кукушки</td>\n",
       "      <td>340</td>\n",
       "      <td>1975</td>\n",
       "      <td>Милош Форман</td>\n",
       "      <td>драма</td>\n",
       "    </tr>\n",
       "    <tr>\n",
       "      <th>21</th>\n",
       "      <td>22</td>\n",
       "      <td>Эта прекрасная жизнь</td>\n",
       "      <td>340</td>\n",
       "      <td>1946</td>\n",
       "      <td>Фрэнк Капра</td>\n",
       "      <td>драма, семейный фильм, фэнтези</td>\n",
       "    </tr>\n",
       "    <tr>\n",
       "      <th>22</th>\n",
       "      <td>23</td>\n",
       "      <td>Семь самураев</td>\n",
       "      <td>450</td>\n",
       "      <td>1954</td>\n",
       "      <td>Акира Куросава</td>\n",
       "      <td>боевик, драма</td>\n",
       "    </tr>\n",
       "    <tr>\n",
       "      <th>23</th>\n",
       "      <td>24</td>\n",
       "      <td>Молчание ягнят</td>\n",
       "      <td>450</td>\n",
       "      <td>1991</td>\n",
       "      <td>Джонатан Демми</td>\n",
       "      <td>детектив, драма, триллер</td>\n",
       "    </tr>\n",
       "    <tr>\n",
       "      <th>24</th>\n",
       "      <td>25</td>\n",
       "      <td>Спасти рядового Райана</td>\n",
       "      <td>340</td>\n",
       "      <td>1998</td>\n",
       "      <td>Стивен Спилберг</td>\n",
       "      <td>драма, военный фильм</td>\n",
       "    </tr>\n",
       "    <tr>\n",
       "      <th>27</th>\n",
       "      <td>28</td>\n",
       "      <td>Зелёная миля</td>\n",
       "      <td>450</td>\n",
       "      <td>1999</td>\n",
       "      <td>Фрэнк Дарабонт</td>\n",
       "      <td>детектив, драма, фэнтези</td>\n",
       "    </tr>\n",
       "    <tr>\n",
       "      <th>30</th>\n",
       "      <td>31</td>\n",
       "      <td>Назад в будущее</td>\n",
       "      <td>340</td>\n",
       "      <td>1985</td>\n",
       "      <td>Роберт Земекис</td>\n",
       "      <td>приключение, кинокомедия, научная фантастика</td>\n",
       "    </tr>\n",
       "    <tr>\n",
       "      <th>31</th>\n",
       "      <td>32</td>\n",
       "      <td>Унесённые призраками</td>\n",
       "      <td>340</td>\n",
       "      <td>2001</td>\n",
       "      <td>Хаяо Миядзаки</td>\n",
       "      <td>мультфильм, приключение, семейный фильм</td>\n",
       "    </tr>\n",
       "    <tr>\n",
       "      <th>32</th>\n",
       "      <td>33</td>\n",
       "      <td>Пианист</td>\n",
       "      <td>340</td>\n",
       "      <td>2002</td>\n",
       "      <td>Роман Полански</td>\n",
       "      <td>байопик, драма, музыкальный фильм</td>\n",
       "    </tr>\n",
       "    <tr>\n",
       "      <th>33</th>\n",
       "      <td>34</td>\n",
       "      <td>Паразиты</td>\n",
       "      <td>450</td>\n",
       "      <td>2019</td>\n",
       "      <td>Пон Чжун Хо</td>\n",
       "      <td>драма, триллер</td>\n",
       "    </tr>\n",
       "    <tr>\n",
       "      <th>35</th>\n",
       "      <td>36</td>\n",
       "      <td>Человек-паук: Паутина вселенных</td>\n",
       "      <td>450</td>\n",
       "      <td>2023</td>\n",
       "      <td>Жуакин Душ Сантуш[англ.], Кэмп Пауэрс[англ.], ...</td>\n",
       "      <td>мультфильм, боевик, приключение</td>\n",
       "    </tr>\n",
       "    <tr>\n",
       "      <th>38</th>\n",
       "      <td>39</td>\n",
       "      <td>Леон</td>\n",
       "      <td>340</td>\n",
       "      <td>1994</td>\n",
       "      <td>Люк Бессон</td>\n",
       "      <td>боевик, детектив, драма</td>\n",
       "    </tr>\n",
       "    <tr>\n",
       "      <th>42</th>\n",
       "      <td>43</td>\n",
       "      <td>Престиж</td>\n",
       "      <td>450</td>\n",
       "      <td>2006</td>\n",
       "      <td>Кристофер Нолан</td>\n",
       "      <td>драма, фильм-тайна, научная фантастика</td>\n",
       "    </tr>\n",
       "    <tr>\n",
       "      <th>43</th>\n",
       "      <td>44</td>\n",
       "      <td>Могила светлячков</td>\n",
       "      <td>450</td>\n",
       "      <td>1988</td>\n",
       "      <td>Исао Такахата</td>\n",
       "      <td>мультфильм, драма, военный фильм</td>\n",
       "    </tr>\n",
       "    <tr>\n",
       "      <th>46</th>\n",
       "      <td>47</td>\n",
       "      <td>Касабланка</td>\n",
       "      <td>450</td>\n",
       "      <td>1942</td>\n",
       "      <td>Майкл Кёртиц</td>\n",
       "      <td>драма, романтический фильм, военный фильм</td>\n",
       "    </tr>\n",
       "    <tr>\n",
       "      <th>50</th>\n",
       "      <td>51</td>\n",
       "      <td>Такси</td>\n",
       "      <td>450</td>\n",
       "      <td>1998</td>\n",
       "      <td>Жерар Пирес</td>\n",
       "      <td>комедия, боевик</td>\n",
       "    </tr>\n",
       "    <tr>\n",
       "      <th>51</th>\n",
       "      <td>52</td>\n",
       "      <td>Назад в будущее 2</td>\n",
       "      <td>340</td>\n",
       "      <td>1989</td>\n",
       "      <td>Роберт Земекис</td>\n",
       "      <td>приключение, кинокомедия, научная фантастика</td>\n",
       "    </tr>\n",
       "  </tbody>\n",
       "</table>\n",
       "</div>"
      ],
      "text/plain": [
       "    film_id                        film_name  price_ticket  release_year  \\\n",
       "2         3                    Тёмный рыцарь           340          2008   \n",
       "9        10            Хороший, плохой, злой           450          1966   \n",
       "17       18     Пролетая над гнездом кукушки           340          1975   \n",
       "21       22             Эта прекрасная жизнь           340          1946   \n",
       "22       23                    Семь самураев           450          1954   \n",
       "23       24                   Молчание ягнят           450          1991   \n",
       "24       25           Спасти рядового Райана           340          1998   \n",
       "27       28                     Зелёная миля           450          1999   \n",
       "30       31                  Назад в будущее           340          1985   \n",
       "31       32             Унесённые призраками           340          2001   \n",
       "32       33                          Пианист           340          2002   \n",
       "33       34                         Паразиты           450          2019   \n",
       "35       36  Человек-паук: Паутина вселенных           450          2023   \n",
       "38       39                             Леон           340          1994   \n",
       "42       43                          Престиж           450          2006   \n",
       "43       44                Могила светлячков           450          1988   \n",
       "46       47                       Касабланка           450          1942   \n",
       "50       51                            Такси           450          1998   \n",
       "51       52                Назад в будущее 2           340          1989   \n",
       "\n",
       "                                            filmmaker  \\\n",
       "2                                     Кристофер Нолан   \n",
       "9                                        Серджо Леоне   \n",
       "17                                       Милош Форман   \n",
       "21                                        Фрэнк Капра   \n",
       "22                                     Акира Куросава   \n",
       "23                                     Джонатан Демми   \n",
       "24                                    Стивен Спилберг   \n",
       "27                                     Фрэнк Дарабонт   \n",
       "30                                     Роберт Земекис   \n",
       "31                                      Хаяо Миядзаки   \n",
       "32                                     Роман Полански   \n",
       "33                                        Пон Чжун Хо   \n",
       "35  Жуакин Душ Сантуш[англ.], Кэмп Пауэрс[англ.], ...   \n",
       "38                                         Люк Бессон   \n",
       "42                                    Кристофер Нолан   \n",
       "43                                      Исао Такахата   \n",
       "46                                       Майкл Кёртиц   \n",
       "50                                        Жерар Пирес   \n",
       "51                                     Роберт Земекис   \n",
       "\n",
       "                                       kind_film  \n",
       "2                        боевик, детектив, драма  \n",
       "9                           приключение, вестерн  \n",
       "17                                         драма  \n",
       "21                драма, семейный фильм, фэнтези  \n",
       "22                                 боевик, драма  \n",
       "23                      детектив, драма, триллер  \n",
       "24                          драма, военный фильм  \n",
       "27                      детектив, драма, фэнтези  \n",
       "30  приключение, кинокомедия, научная фантастика  \n",
       "31       мультфильм, приключение, семейный фильм  \n",
       "32             байопик, драма, музыкальный фильм  \n",
       "33                                драма, триллер  \n",
       "35               мультфильм, боевик, приключение  \n",
       "38                       боевик, детектив, драма  \n",
       "42        драма, фильм-тайна, научная фантастика  \n",
       "43              мультфильм, драма, военный фильм  \n",
       "46     драма, романтический фильм, военный фильм  \n",
       "50                               комедия, боевик  \n",
       "51  приключение, кинокомедия, научная фантастика  "
      ]
     },
     "execution_count": 60,
     "metadata": {},
     "output_type": "execute_result"
    }
   ],
   "source": [
    "films[films.price_ticket > films.price_ticket.mean()] # вывод фильмов с ценой билета выше среднего"
   ]
  },
  {
   "cell_type": "code",
   "execution_count": 61,
   "id": "0c8f95e9-8f4e-4644-947c-8127352ef875",
   "metadata": {},
   "outputs": [
    {
     "name": "stdout",
     "output_type": "stream",
     "text": [
      "Количество дешевых фильмов: 34\n"
     ]
    }
   ],
   "source": [
    "# вывод количество с ценой билета ниже среднего\n",
    "\n",
    "unique_films_cheap = films[films.price_ticket < films.price_ticket.mean()]['film_name'].nunique()\n",
    "print(f'Количество дешевых фильмов: {unique_films_cheap}') "
   ]
  },
  {
   "cell_type": "markdown",
   "id": "50ed8048-4f05-4ba6-bbcc-065017b66f31",
   "metadata": {
    "jp-MarkdownHeadingCollapsed": true
   },
   "source": [
    "## value_counts"
   ]
  },
  {
   "cell_type": "code",
   "execution_count": 62,
   "id": "b51a8160-fd5d-4c53-ac67-6f2ff1b46f25",
   "metadata": {},
   "outputs": [
    {
     "data": {
      "text/plain": [
       "part_of_day\n",
       "вечерний    1340\n",
       "утренний    1307\n",
       "дневной     1285\n",
       "Name: count, dtype: int64"
      ]
     },
     "execution_count": 62,
     "metadata": {},
     "output_type": "execute_result"
    }
   ],
   "source": [
    "payments.part_of_day.value_counts() # подсчет количества вида сеансов"
   ]
  },
  {
   "cell_type": "code",
   "execution_count": 63,
   "id": "89e64b57-a732-4725-bbeb-00952862ac5a",
   "metadata": {},
   "outputs": [
    {
     "data": {
      "text/plain": [
       "filmmaker\n",
       "Стивен Спилберг                                                  0.090909\n",
       "Кристофер Нолан                                                  0.072727\n",
       "Питер Джексон                                                    0.054545\n",
       "Роберт Земекис                                                   0.054545\n",
       "Мартин Скорсезе                                                  0.036364\n",
       "Дэвид Финчер                                                     0.036364\n",
       "Энди и Ларри Вачовски                                            0.036364\n",
       "Фрэнк Дарабонт                                                   0.036364\n",
       "Фрэнсис Форд Коппола                                             0.036364\n",
       "Тони Кэй                                                         0.018182\n",
       "Фернанду Мейреллиш                                               0.018182\n",
       "Оливье Накаш, Эрик Толедано                                      0.018182\n",
       "Серджо Леоне                                                     0.018182\n",
       "Роман Полански                                                   0.018182\n",
       "Роджер Аллерс, Роб Минкофф                                       0.018182\n",
       "Роберто Бениньи                                                  0.018182\n",
       "Фрэнк Капра                                                      0.018182\n",
       "Ридли Скотт                                                      0.018182\n",
       "Хаяо Миядзаки                                                    0.018182\n",
       "Пон Чжун Хо                                                      0.018182\n",
       "Сидни Люмет                                                      0.018182\n",
       "Акира Куросава                                                   0.018182\n",
       "Милош Форман                                                     0.018182\n",
       "Джузеппе Торнаторе                                               0.018182\n",
       "Брайан Сингер                                                    0.018182\n",
       "Дамьен Шазель                                                    0.018182\n",
       "Дени Вильнёв                                                     0.018182\n",
       "Джеймс Кэмерон                                                   0.018182\n",
       "Джонатан Демми                                                   0.018182\n",
       "Джордж Лукас                                                     0.018182\n",
       "Жерар Пирес                                                      0.018182\n",
       "Альфред Хичкок                                                   0.018182\n",
       "Жуакин Душ Сантуш[англ.], Кэмп Пауэрс[англ.], Джастин Томпсон    0.018182\n",
       "Ирвин Кершнер                                                    0.018182\n",
       "Исао Такахата                                                    0.018182\n",
       "Квентин Тарантино                                                0.018182\n",
       "Люк Бессон                                                       0.018182\n",
       "Майкл Кёртиц                                                     0.018182\n",
       "Масаки Кобаяси                                                   0.018182\n",
       "Name: proportion, dtype: float64"
      ]
     },
     "execution_count": 63,
     "metadata": {},
     "output_type": "execute_result"
    }
   ],
   "source": [
    "films.value_counts(subset='filmmaker', sort=True, normalize=True) # подсчет доли количества режиссеров"
   ]
  },
  {
   "cell_type": "markdown",
   "id": "c8c98de0-b7e5-4711-86ca-9bc094498a39",
   "metadata": {
    "jp-MarkdownHeadingCollapsed": true
   },
   "source": [
    "# Категориальные переменные"
   ]
  },
  {
   "cell_type": "code",
   "execution_count": 64,
   "id": "6cf1af66-daa4-442c-a879-bcd7a421fdd5",
   "metadata": {},
   "outputs": [
    {
     "data": {
      "text/plain": [
       "part_of_day\n",
       "вечерний    1340\n",
       "утренний    1307\n",
       "дневной     1285\n",
       "Name: count, dtype: int64"
      ]
     },
     "execution_count": 64,
     "metadata": {},
     "output_type": "execute_result"
    }
   ],
   "source": [
    "payments.part_of_day.value_counts()"
   ]
  },
  {
   "cell_type": "markdown",
   "id": "e8b3d3a4-c3ef-4a9d-98ea-20e2ac06a7a6",
   "metadata": {
    "jp-MarkdownHeadingCollapsed": true
   },
   "source": [
    "# Количественные переменные"
   ]
  },
  {
   "cell_type": "code",
   "execution_count": 65,
   "id": "87829559-dcc3-4e9c-a58d-9742dfe0d1bd",
   "metadata": {},
   "outputs": [
    {
     "data": {
      "text/plain": [
       "0       1.0\n",
       "1       3.0\n",
       "2       5.0\n",
       "3       3.0\n",
       "4       5.0\n",
       "       ... \n",
       "3927    4.0\n",
       "3928    2.0\n",
       "3929    4.0\n",
       "3930    5.0\n",
       "3931    4.0\n",
       "Name: count_tickets, Length: 3932, dtype: float64"
      ]
     },
     "execution_count": 65,
     "metadata": {},
     "output_type": "execute_result"
    }
   ],
   "source": [
    "payments.count_tickets"
   ]
  },
  {
   "cell_type": "markdown",
   "id": "7b67bee9-6e11-4536-969b-9a7eb4cc0297",
   "metadata": {
    "jp-MarkdownHeadingCollapsed": true
   },
   "source": [
    "# Типы данных"
   ]
  },
  {
   "cell_type": "code",
   "execution_count": 66,
   "id": "22b1ed73-118b-4d13-8ac8-1635f18cbabe",
   "metadata": {},
   "outputs": [
    {
     "name": "stdout",
     "output_type": "stream",
     "text": [
      "<class 'pandas.core.frame.DataFrame'>\n",
      "RangeIndex: 3932 entries, 0 to 3931\n",
      "Data columns (total 5 columns):\n",
      " #   Column         Non-Null Count  Dtype  \n",
      "---  ------         --------------  -----  \n",
      " 0   pay_date       3932 non-null   object \n",
      " 1   film_id        3932 non-null   int64  \n",
      " 2   part_of_day    3932 non-null   object \n",
      " 3   client_id      3932 non-null   object \n",
      " 4   count_tickets  3932 non-null   float64\n",
      "dtypes: float64(1), int64(1), object(3)\n",
      "memory usage: 153.7+ KB\n"
     ]
    }
   ],
   "source": [
    "payments.info()"
   ]
  },
  {
   "cell_type": "code",
   "execution_count": 67,
   "id": "06e65696-a7cd-459c-8978-1e7c0a039440",
   "metadata": {},
   "outputs": [
    {
     "name": "stdout",
     "output_type": "stream",
     "text": [
      "<class 'pandas.core.frame.DataFrame'>\n",
      "RangeIndex: 3932 entries, 0 to 3931\n",
      "Data columns (total 5 columns):\n",
      " #   Column         Non-Null Count  Dtype  \n",
      "---  ------         --------------  -----  \n",
      " 0   pay_date       3932 non-null   object \n",
      " 1   film_id        3932 non-null   int64  \n",
      " 2   part_of_day    3932 non-null   object \n",
      " 3   client_id      3932 non-null   object \n",
      " 4   count_tickets  3932 non-null   float64\n",
      "dtypes: float64(1), int64(1), object(3)\n",
      "memory usage: 153.7+ KB\n"
     ]
    }
   ],
   "source": [
    "payments.info()"
   ]
  },
  {
   "cell_type": "markdown",
   "id": "e9392790-fbad-47b1-b067-d269668d1074",
   "metadata": {},
   "source": [
    "Важно! Аргумент `errors`. Принимает или `raise` (по умолчанию) - и тогда вызывает ошибку в случае, если не может перевести какие-то значения или `coerce` - тогда все значения, которые вызывает ошибку становятся NaN (типа float)"
   ]
  },
  {
   "cell_type": "code",
   "execution_count": 68,
   "id": "26cbe32e-1208-4809-b849-837a39926ecb",
   "metadata": {},
   "outputs": [],
   "source": [
    "payments.count_tickets = pd.to_numeric(payments.count_tickets, errors='coerce') # приведение к числовому типу"
   ]
  },
  {
   "cell_type": "code",
   "execution_count": 69,
   "id": "cab3f9c0-589d-470b-a2bc-9c0db54a1eab",
   "metadata": {},
   "outputs": [
    {
     "name": "stdout",
     "output_type": "stream",
     "text": [
      "<class 'pandas.core.frame.DataFrame'>\n",
      "RangeIndex: 3932 entries, 0 to 3931\n",
      "Data columns (total 5 columns):\n",
      " #   Column         Non-Null Count  Dtype  \n",
      "---  ------         --------------  -----  \n",
      " 0   pay_date       3932 non-null   object \n",
      " 1   film_id        3932 non-null   int64  \n",
      " 2   part_of_day    3932 non-null   object \n",
      " 3   client_id      3932 non-null   object \n",
      " 4   count_tickets  3932 non-null   float64\n",
      "dtypes: float64(1), int64(1), object(3)\n",
      "memory usage: 153.7+ KB\n"
     ]
    }
   ],
   "source": [
    "payments.info()"
   ]
  },
  {
   "cell_type": "code",
   "execution_count": 70,
   "id": "123141cb-918b-425a-a3e1-5252702150cf",
   "metadata": {},
   "outputs": [],
   "source": [
    "payments.film_id = payments.film_id.astype('str') # приведение к текстовому формату"
   ]
  },
  {
   "cell_type": "code",
   "execution_count": 71,
   "id": "80d00df9-9f5e-401c-b9a4-95de950c7c40",
   "metadata": {},
   "outputs": [],
   "source": [
    "payments.film_id = payments.film_id.astype('int') # приведение к числовому формату"
   ]
  },
  {
   "cell_type": "code",
   "execution_count": 72,
   "id": "87be085f-e64c-4e32-8b51-46742a19c747",
   "metadata": {},
   "outputs": [
    {
     "name": "stdout",
     "output_type": "stream",
     "text": [
      "<class 'pandas.core.frame.DataFrame'>\n",
      "RangeIndex: 3932 entries, 0 to 3931\n",
      "Data columns (total 5 columns):\n",
      " #   Column         Non-Null Count  Dtype  \n",
      "---  ------         --------------  -----  \n",
      " 0   pay_date       3932 non-null   object \n",
      " 1   film_id        3932 non-null   int32  \n",
      " 2   part_of_day    3932 non-null   object \n",
      " 3   client_id      3932 non-null   object \n",
      " 4   count_tickets  3932 non-null   float64\n",
      "dtypes: float64(1), int32(1), object(3)\n",
      "memory usage: 138.4+ KB\n"
     ]
    }
   ],
   "source": [
    "payments.info()"
   ]
  },
  {
   "cell_type": "code",
   "execution_count": 73,
   "id": "3d3dad63-88b2-40a4-857d-2029c05eccc1",
   "metadata": {},
   "outputs": [],
   "source": [
    "payments.pay_date = pd.to_datetime(payments.pay_date)"
   ]
  },
  {
   "cell_type": "code",
   "execution_count": 74,
   "id": "c1eac747-e1fd-4a8d-9d63-0cbbd1bfc401",
   "metadata": {},
   "outputs": [
    {
     "name": "stdout",
     "output_type": "stream",
     "text": [
      "<class 'pandas.core.frame.DataFrame'>\n",
      "RangeIndex: 3932 entries, 0 to 3931\n",
      "Data columns (total 5 columns):\n",
      " #   Column         Non-Null Count  Dtype         \n",
      "---  ------         --------------  -----         \n",
      " 0   pay_date       3932 non-null   datetime64[ns]\n",
      " 1   film_id        3932 non-null   int32         \n",
      " 2   part_of_day    3932 non-null   object        \n",
      " 3   client_id      3932 non-null   object        \n",
      " 4   count_tickets  3932 non-null   float64       \n",
      "dtypes: datetime64[ns](1), float64(1), int32(1), object(2)\n",
      "memory usage: 138.4+ KB\n"
     ]
    }
   ],
   "source": [
    "payments.info()"
   ]
  },
  {
   "cell_type": "code",
   "execution_count": 75,
   "id": "3bf71fb9-d6dc-4bb8-bc50-0f77740a7d86",
   "metadata": {},
   "outputs": [
    {
     "data": {
      "text/plain": [
       "0      2024-04-24\n",
       "1      2024-03-03\n",
       "2      2024-02-09\n",
       "3      2024-04-23\n",
       "4      2024-01-29\n",
       "          ...    \n",
       "3927   2024-02-11\n",
       "3928   2024-04-08\n",
       "3929   2024-01-16\n",
       "3930   2024-04-15\n",
       "3931   2024-04-05\n",
       "Name: pay_date, Length: 3932, dtype: datetime64[ns]"
      ]
     },
     "execution_count": 75,
     "metadata": {},
     "output_type": "execute_result"
    }
   ],
   "source": [
    "payments.pay_date.astype('datetime64[ns]')"
   ]
  },
  {
   "cell_type": "markdown",
   "id": "8061215b-c345-4569-891e-da962db0f46e",
   "metadata": {},
   "source": [
    "# Домашнее задание 👨‍💻"
   ]
  },
  {
   "cell_type": "markdown",
   "id": "3d71d92d-e7aa-4371-a07a-3820d96d7df1",
   "metadata": {},
   "source": [
    "#### 1. Посчитать кол-во пропусков в столбце `pay_date` в датафрейме `payments`"
   ]
  },
  {
   "cell_type": "code",
   "execution_count": 76,
   "id": "411fe01c-f078-49ce-9d6e-82e002979194",
   "metadata": {},
   "outputs": [
    {
     "data": {
      "text/plain": [
       "24"
      ]
     },
     "execution_count": 76,
     "metadata": {},
     "output_type": "execute_result"
    }
   ],
   "source": [
    "# your code\n",
    "#повторно подтянула исходный файл, т.к. на уроке мы заполнили все пропуски\n",
    "payments = create_dataframe(user='tanya25pm', password='klcemshu', table_name='payments') \n",
    "\n",
    "payments['pay_date'].isna().sum()\n",
    "\n"
   ]
  },
  {
   "cell_type": "markdown",
   "id": "bf22459e-f98e-43dd-8f7c-e2b6f85c49bf",
   "metadata": {},
   "source": [
    "#### 2. Замените пропуски в столбце `pay_date` в датафрейме `payments` на сегодняшнюю дату"
   ]
  },
  {
   "cell_type": "code",
   "execution_count": 77,
   "id": "5bdb22a4-8b84-48ba-ab40-bbcabeaef9ad",
   "metadata": {},
   "outputs": [
    {
     "name": "stdout",
     "output_type": "stream",
     "text": [
      "<class 'pandas.core.frame.DataFrame'>\n",
      "RangeIndex: 3962 entries, 0 to 3961\n",
      "Data columns (total 5 columns):\n",
      " #   Column         Non-Null Count  Dtype  \n",
      "---  ------         --------------  -----  \n",
      " 0   pay_date       3962 non-null   object \n",
      " 1   film_id        3962 non-null   int64  \n",
      " 2   part_of_day    3962 non-null   object \n",
      " 3   client_id      3962 non-null   object \n",
      " 4   count_tickets  3943 non-null   float64\n",
      "dtypes: float64(1), int64(1), object(3)\n",
      "memory usage: 154.9+ KB\n"
     ]
    }
   ],
   "source": [
    "# your code\n",
    "today_date = '2024-06-04'\n",
    "payments['pay_date'] = payments['pay_date'].fillna(today_date)  #заполняем пропуски текущей датой\n",
    "\n",
    "payments.info()"
   ]
  },
  {
   "cell_type": "markdown",
   "id": "eeaccf95-520d-43f9-b252-7ba16e597541",
   "metadata": {},
   "source": [
    "#### 3. Выведите полные дубли в датафрейме `payments` для клиента YB14"
   ]
  },
  {
   "cell_type": "code",
   "execution_count": 78,
   "id": "979f8d9d-4f91-41b5-a211-e519aa162968",
   "metadata": {},
   "outputs": [
    {
     "data": {
      "text/html": [
       "<div>\n",
       "<style scoped>\n",
       "    .dataframe tbody tr th:only-of-type {\n",
       "        vertical-align: middle;\n",
       "    }\n",
       "\n",
       "    .dataframe tbody tr th {\n",
       "        vertical-align: top;\n",
       "    }\n",
       "\n",
       "    .dataframe thead th {\n",
       "        text-align: right;\n",
       "    }\n",
       "</style>\n",
       "<table border=\"1\" class=\"dataframe\">\n",
       "  <thead>\n",
       "    <tr style=\"text-align: right;\">\n",
       "      <th></th>\n",
       "      <th>pay_date</th>\n",
       "      <th>film_id</th>\n",
       "      <th>part_of_day</th>\n",
       "      <th>client_id</th>\n",
       "      <th>count_tickets</th>\n",
       "    </tr>\n",
       "  </thead>\n",
       "  <tbody>\n",
       "    <tr>\n",
       "      <th>141</th>\n",
       "      <td>2024-03-20</td>\n",
       "      <td>48</td>\n",
       "      <td>утренний</td>\n",
       "      <td>YB14</td>\n",
       "      <td>1.0</td>\n",
       "    </tr>\n",
       "    <tr>\n",
       "      <th>3402</th>\n",
       "      <td>2024-03-20</td>\n",
       "      <td>48</td>\n",
       "      <td>утренний</td>\n",
       "      <td>YB14</td>\n",
       "      <td>1.0</td>\n",
       "    </tr>\n",
       "    <tr>\n",
       "      <th>3403</th>\n",
       "      <td>2024-03-20</td>\n",
       "      <td>48</td>\n",
       "      <td>утренний</td>\n",
       "      <td>YB14</td>\n",
       "      <td>1.0</td>\n",
       "    </tr>\n",
       "  </tbody>\n",
       "</table>\n",
       "</div>"
      ],
      "text/plain": [
       "        pay_date  film_id part_of_day client_id  count_tickets\n",
       "141   2024-03-20       48    утренний      YB14            1.0\n",
       "3402  2024-03-20       48    утренний      YB14            1.0\n",
       "3403  2024-03-20       48    утренний      YB14            1.0"
      ]
     },
     "execution_count": 78,
     "metadata": {},
     "output_type": "execute_result"
    }
   ],
   "source": [
    "# your code\n",
    "dubl = payments[payments.duplicated(keep=False)]\n",
    "dubl[dubl['client_id'] == 'YB14']\n",
    "\n"
   ]
  },
  {
   "cell_type": "markdown",
   "id": "03381e65-66e8-497b-a55c-63bdbc7ab50e",
   "metadata": {},
   "source": [
    "#### 4. Выведите кол-во уникальных клиентов в датафрейме `payments`"
   ]
  },
  {
   "cell_type": "code",
   "execution_count": 79,
   "id": "d1557833-7ac9-4593-bcaf-86cc2a0102bb",
   "metadata": {},
   "outputs": [
    {
     "data": {
      "text/plain": [
       "200"
      ]
     },
     "execution_count": 79,
     "metadata": {},
     "output_type": "execute_result"
    }
   ],
   "source": [
    "# your code\n",
    "payments['client_id'].nunique()"
   ]
  },
  {
   "cell_type": "markdown",
   "id": "f2d57d0c-2e03-42ed-827c-92634c48c832",
   "metadata": {},
   "source": [
    "#### 5. Перевести столбец `count_tickets` в формат int"
   ]
  },
  {
   "cell_type": "code",
   "execution_count": 80,
   "id": "8006e534-75e8-4ebe-bb6a-c02fdcdb27fe",
   "metadata": {},
   "outputs": [
    {
     "name": "stdout",
     "output_type": "stream",
     "text": [
      "<class 'pandas.core.frame.DataFrame'>\n",
      "RangeIndex: 3962 entries, 0 to 3961\n",
      "Data columns (total 5 columns):\n",
      " #   Column         Non-Null Count  Dtype \n",
      "---  ------         --------------  ----- \n",
      " 0   pay_date       3962 non-null   object\n",
      " 1   film_id        3962 non-null   int64 \n",
      " 2   part_of_day    3962 non-null   object\n",
      " 3   client_id      3962 non-null   object\n",
      " 4   count_tickets  3943 non-null   Int64 \n",
      "dtypes: Int64(1), int64(1), object(3)\n",
      "memory usage: 158.8+ KB\n"
     ]
    }
   ],
   "source": [
    "# your code\n",
    "payments['count_tickets'] = payments['count_tickets'].astype('Int64')\n",
    "payments.info()"
   ]
  },
  {
   "cell_type": "markdown",
   "id": "e8b9fab3-297b-4336-ad3f-081d10f89538",
   "metadata": {},
   "source": [
    "#### 6. Посчитать сколько билетов было куплено в январе 2024 года\n",
    "Не забываем преобразовать столбец в нужный тип данных"
   ]
  },
  {
   "cell_type": "code",
   "execution_count": 84,
   "id": "28a54112-caae-47e4-b19e-b36d0429925a",
   "metadata": {},
   "outputs": [
    {
     "data": {
      "text/plain": [
       "2901"
      ]
     },
     "execution_count": 84,
     "metadata": {},
     "output_type": "execute_result"
    }
   ],
   "source": [
    "payments['pay_date'] = pd.to_datetime(payments['pay_date'])\n",
    "payments['pay_month'] = payments['pay_date'].dt.month \n",
    "payments['pay_year'] = payments['pay_date'].dt.year \n",
    "\n",
    "payments['pay_month'] = payments['pay_month'].astype('Int64')\n",
    "payments['pay_year'] = payments['pay_year'].astype('Int64')\n",
    "\n",
    "payments[(payments['pay_month'] == 1) & (payments['pay_year'] == 2024)]['count_tickets'].sum()"
   ]
  },
  {
   "cell_type": "markdown",
   "id": "ec516faa-4005-481d-afbb-ace17cb80e8e",
   "metadata": {},
   "source": [
    "#### 7. Выведите на экране строки таблицы, у которых есть пропуски в столбце `filmmaker`\n"
   ]
  },
  {
   "cell_type": "code",
   "execution_count": 82,
   "id": "910a17a7-b22a-4380-b305-58ef74de3d65",
   "metadata": {},
   "outputs": [
    {
     "data": {
      "text/plain": [
       "0"
      ]
     },
     "execution_count": 82,
     "metadata": {},
     "output_type": "execute_result"
    }
   ],
   "source": [
    "# your code\n",
    "films['filmmaker'].isna().sum() # пропуски отсутствуют\n",
    "\n"
   ]
  },
  {
   "cell_type": "markdown",
   "id": "085130d0-ae1b-4d33-b70f-79903e8eadfa",
   "metadata": {},
   "source": [
    "#### 8. Сгруппируйте датафрейм `payments` так, чтобы вывести кол-во билетов по каждой дате"
   ]
  },
  {
   "cell_type": "code",
   "execution_count": 83,
   "id": "b1cbc1ee-6e7c-4c75-bf25-d3962c283921",
   "metadata": {},
   "outputs": [
    {
     "data": {
      "text/plain": [
       "pay_date\n",
       "2024-01-01     85\n",
       "2024-01-02     73\n",
       "2024-01-03    112\n",
       "2024-01-04     70\n",
       "2024-01-05    104\n",
       "2024-01-06     77\n",
       "2024-01-07    105\n",
       "2024-01-08     97\n",
       "2024-01-09     67\n",
       "2024-01-10     86\n",
       "2024-01-11    105\n",
       "2024-01-12    124\n",
       "2024-01-13    113\n",
       "2024-01-14     52\n",
       "2024-01-15     66\n",
       "2024-01-16     70\n",
       "2024-01-17     80\n",
       "2024-01-18    112\n",
       "2024-01-19    110\n",
       "2024-01-20     92\n",
       "2024-01-21    128\n",
       "2024-01-22    112\n",
       "2024-01-23     86\n",
       "2024-01-24     95\n",
       "2024-01-25    112\n",
       "2024-01-26    103\n",
       "2024-01-27    103\n",
       "2024-01-28    110\n",
       "2024-01-29     97\n",
       "2024-01-30     78\n",
       "2024-01-31     77\n",
       "2024-02-01     88\n",
       "2024-02-02     88\n",
       "2024-02-03     72\n",
       "2024-02-04     79\n",
       "2024-02-05    124\n",
       "2024-02-06     96\n",
       "2024-02-07    103\n",
       "2024-02-08    101\n",
       "2024-02-09    131\n",
       "2024-02-10     97\n",
       "2024-02-11     94\n",
       "2024-02-12    121\n",
       "2024-02-13     68\n",
       "2024-02-14    106\n",
       "2024-02-15    102\n",
       "2024-02-16    104\n",
       "2024-02-17     98\n",
       "2024-02-18     83\n",
       "2024-02-19     85\n",
       "2024-02-20     80\n",
       "2024-02-21     81\n",
       "2024-02-22     81\n",
       "2024-02-23    101\n",
       "2024-02-24     84\n",
       "2024-02-25     92\n",
       "2024-02-26    113\n",
       "2024-02-27     97\n",
       "2024-02-28     90\n",
       "2024-02-29     76\n",
       "2024-03-01    115\n",
       "2024-03-02     68\n",
       "2024-03-03    124\n",
       "2024-03-04    129\n",
       "2024-03-05     99\n",
       "2024-03-06     68\n",
       "2024-03-07    113\n",
       "2024-03-08     77\n",
       "2024-03-09    113\n",
       "2024-03-10     98\n",
       "2024-03-11     93\n",
       "2024-03-12     78\n",
       "2024-03-13     97\n",
       "2024-03-14     89\n",
       "2024-03-15    100\n",
       "2024-03-16    110\n",
       "2024-03-17    101\n",
       "2024-03-18    117\n",
       "2024-03-19     65\n",
       "2024-03-20     98\n",
       "2024-03-21     78\n",
       "2024-03-22    103\n",
       "2024-03-23     99\n",
       "2024-03-24    107\n",
       "2024-03-25    124\n",
       "2024-03-26     89\n",
       "2024-03-27     90\n",
       "2024-03-28    107\n",
       "2024-03-29     76\n",
       "2024-03-30    123\n",
       "2024-03-31    101\n",
       "2024-04-01     81\n",
       "2024-04-02    109\n",
       "2024-04-03    100\n",
       "2024-04-04    100\n",
       "2024-04-05    141\n",
       "2024-04-06    115\n",
       "2024-04-07    103\n",
       "2024-04-08     83\n",
       "2024-04-09    113\n",
       "2024-04-10     89\n",
       "2024-04-11     60\n",
       "2024-04-12    107\n",
       "2024-04-13    116\n",
       "2024-04-14    106\n",
       "2024-04-15     81\n",
       "2024-04-16    102\n",
       "2024-04-17     93\n",
       "2024-04-18     82\n",
       "2024-04-19    106\n",
       "2024-04-20    116\n",
       "2024-04-21     73\n",
       "2024-04-22     77\n",
       "2024-04-23    100\n",
       "2024-04-24    113\n",
       "2024-04-25     83\n",
       "2024-04-26     87\n",
       "2024-04-27    131\n",
       "2024-04-28     95\n",
       "2024-04-29     83\n",
       "2024-04-30     70\n",
       "2024-05-01     99\n",
       "2024-06-04     46\n",
       "2026-02-05      1\n",
       "2034-07-06      5\n",
       "Name: count_tickets, dtype: Int64"
      ]
     },
     "execution_count": 83,
     "metadata": {},
     "output_type": "execute_result"
    }
   ],
   "source": [
    "# your code\n",
    "payments.groupby('pay_date')['count_tickets'].sum()"
   ]
  },
  {
   "cell_type": "code",
   "execution_count": null,
   "id": "8bdf3b26",
   "metadata": {},
   "outputs": [],
   "source": []
  }
 ],
 "metadata": {
  "kernelspec": {
   "display_name": "Python 3 (ipykernel)",
   "language": "python",
   "name": "python3"
  },
  "language_info": {
   "codemirror_mode": {
    "name": "ipython",
    "version": 3
   },
   "file_extension": ".py",
   "mimetype": "text/x-python",
   "name": "python",
   "nbconvert_exporter": "python",
   "pygments_lexer": "ipython3",
   "version": "3.9.10"
  }
 },
 "nbformat": 4,
 "nbformat_minor": 5
}
