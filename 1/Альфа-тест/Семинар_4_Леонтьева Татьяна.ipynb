{
 "cells": [
  {
   "cell_type": "markdown",
   "id": "dd2ff08c-5414-4bf0-a1ef-88a6025ccc48",
   "metadata": {},
   "source": [
    "# Подключения и функции"
   ]
  },
  {
   "cell_type": "code",
   "execution_count": 1,
   "id": "17fc1cff-30ab-4316-8285-6f25b8485975",
   "metadata": {
    "ExecuteTime": {
     "end_time": "2024-05-12T17:57:38.349035Z",
     "start_time": "2024-05-12T17:57:37.218472Z"
    }
   },
   "outputs": [],
   "source": [
    "# Импорт\n",
    "\n",
    "import pandas as pd\n",
    "from clickhouse_driver import Client\n",
    "import warnings\n",
    "warnings.filterwarnings('ignore')"
   ]
  },
  {
   "cell_type": "code",
   "execution_count": 2,
   "id": "9288f427-09a7-4cd7-9332-d44a95d57da9",
   "metadata": {
    "ExecuteTime": {
     "end_time": "2024-05-12T17:57:42.933026Z",
     "start_time": "2024-05-12T17:57:42.929863Z"
    }
   },
   "outputs": [],
   "source": [
    "# Функция создания датафрейма\n",
    "\n",
    "def create_dataframe(user, password, table_name='films'):\n",
    "    client = Client('90.156.216.60', user=user, password=password, database='it_minimalist_CH')\n",
    "    query = f'SELECT * FROM {table_name}'\n",
    "    df = client.query_dataframe(query)\n",
    "    return df"
   ]
  },
  {
   "cell_type": "markdown",
   "id": "916b8c57-2525-449a-9719-722cb3964ccc",
   "metadata": {},
   "source": [
    "В ячейке ниже создается датафрейм в переменной `df`.\n",
    "<br>\n",
    "\n",
    "- Замените `'your_username'`, `'your_password'` на ваши учетные данные, которые получили на почту (у каждого своя учетная запись с индивидуальным доступом к БД Clickhouse).\n",
    "<br>\n",
    "- Как вы заметили в параметрах функции `create_dataframe`, по умолчанию датафрейм создатеся из таблицы `'films'`. Также в базе данных лежит таблица `'payments'`"
   ]
  },
  {
   "cell_type": "code",
   "execution_count": 3,
   "id": "e171c923-8e97-4eca-87bb-054d0e5c1972",
   "metadata": {},
   "outputs": [],
   "source": [
    "films = create_dataframe(user='xxxxx', password='xxxxx', table_name='films')\n",
    "payments = create_dataframe(user='xxxxx', password='xxxxx', table_name='payments')"
   ]
  },
  {
   "cell_type": "code",
   "execution_count": 5,
   "id": "1aa1a046-4eec-4d68-b82d-047f4f468a53",
   "metadata": {},
   "outputs": [
    {
     "data": {
      "text/html": [
       "<div>\n",
       "<style scoped>\n",
       "    .dataframe tbody tr th:only-of-type {\n",
       "        vertical-align: middle;\n",
       "    }\n",
       "\n",
       "    .dataframe tbody tr th {\n",
       "        vertical-align: top;\n",
       "    }\n",
       "\n",
       "    .dataframe thead th {\n",
       "        text-align: right;\n",
       "    }\n",
       "</style>\n",
       "<table border=\"1\" class=\"dataframe\">\n",
       "  <thead>\n",
       "    <tr style=\"text-align: right;\">\n",
       "      <th></th>\n",
       "      <th>film_id</th>\n",
       "      <th>film_name</th>\n",
       "      <th>price_ticket</th>\n",
       "      <th>release_year</th>\n",
       "      <th>filmmaker</th>\n",
       "      <th>kind_film</th>\n",
       "    </tr>\n",
       "  </thead>\n",
       "  <tbody>\n",
       "    <tr>\n",
       "      <th>0</th>\n",
       "      <td>1</td>\n",
       "      <td>Побег из Шоушенка</td>\n",
       "      <td>190</td>\n",
       "      <td>1994</td>\n",
       "      <td>Фрэнк Дарабонт</td>\n",
       "      <td>драма</td>\n",
       "    </tr>\n",
       "    <tr>\n",
       "      <th>1</th>\n",
       "      <td>2</td>\n",
       "      <td>Крёстный отец</td>\n",
       "      <td>190</td>\n",
       "      <td>1972</td>\n",
       "      <td>Фрэнсис Форд Коппола</td>\n",
       "      <td>детектив, драма</td>\n",
       "    </tr>\n",
       "    <tr>\n",
       "      <th>2</th>\n",
       "      <td>3</td>\n",
       "      <td>Тёмный рыцарь</td>\n",
       "      <td>340</td>\n",
       "      <td>2008</td>\n",
       "      <td>Кристофер Нолан</td>\n",
       "      <td>боевик, детектив, драма</td>\n",
       "    </tr>\n",
       "  </tbody>\n",
       "</table>\n",
       "</div>"
      ],
      "text/plain": [
       "   film_id          film_name  price_ticket  release_year  \\\n",
       "0        1  Побег из Шоушенка           190          1994   \n",
       "1        2      Крёстный отец           190          1972   \n",
       "2        3      Тёмный рыцарь           340          2008   \n",
       "\n",
       "              filmmaker                kind_film  \n",
       "0        Фрэнк Дарабонт                    драма  \n",
       "1  Фрэнсис Форд Коппола          детектив, драма  \n",
       "2       Кристофер Нолан  боевик, детектив, драма  "
      ]
     },
     "execution_count": 5,
     "metadata": {},
     "output_type": "execute_result"
    }
   ],
   "source": [
    "films.head(3)"
   ]
  },
  {
   "cell_type": "markdown",
   "id": "d38b1ecc-b8ba-42fc-a7aa-4b1508154c51",
   "metadata": {},
   "source": [
    "# Семинар 4"
   ]
  },
  {
   "cell_type": "markdown",
   "id": "1c116014-d8db-4499-9ee8-8db1f9905c53",
   "metadata": {},
   "source": [
    "Начнем с практики (*вне контекста пандаса*)"
   ]
  },
  {
   "cell_type": "code",
   "execution_count": 7,
   "id": "1a6c94ee-b211-4ca7-861c-06c00bfcb1f9",
   "metadata": {},
   "outputs": [],
   "source": [
    "def is_cheap(price):\n",
    "    if price <= 200:\n",
    "        return 'cheap'\n",
    "    else:\n",
    "        return 'expensive'"
   ]
  },
  {
   "cell_type": "code",
   "execution_count": 9,
   "id": "c0263642-6162-43fd-93ed-5b50e32a5c4c",
   "metadata": {},
   "outputs": [
    {
     "data": {
      "text/plain": [
       "'expensive'"
      ]
     },
     "execution_count": 9,
     "metadata": {},
     "output_type": "execute_result"
    }
   ],
   "source": [
    "is_cheap(210)"
   ]
  },
  {
   "cell_type": "code",
   "execution_count": 10,
   "id": "b4734a71-bc2c-47dd-a55d-4dc2a013435b",
   "metadata": {},
   "outputs": [
    {
     "data": {
      "text/plain": [
       "False"
      ]
     },
     "execution_count": 10,
     "metadata": {},
     "output_type": "execute_result"
    }
   ],
   "source": [
    "price = 300\n",
    "price <= 200"
   ]
  },
  {
   "cell_type": "code",
   "execution_count": 11,
   "id": "28315cfa-9b80-47a6-a231-74e44306847b",
   "metadata": {},
   "outputs": [],
   "source": [
    "# ТАК НЕ НАДО!!!!!!!\n",
    "def is_cheap(price):\n",
    "    if price <= 200:\n",
    "        return True\n",
    "    else:\n",
    "        return False"
   ]
  },
  {
   "cell_type": "code",
   "execution_count": 13,
   "id": "3fdd65d8-179c-47ef-83d9-e9f4f33a2ed5",
   "metadata": {},
   "outputs": [
    {
     "data": {
      "text/plain": [
       "False"
      ]
     },
     "execution_count": 13,
     "metadata": {},
     "output_type": "execute_result"
    }
   ],
   "source": [
    "is_cheap(210)"
   ]
  },
  {
   "cell_type": "code",
   "execution_count": 14,
   "id": "042c5f54-c4ee-4d29-9465-90ed93887eee",
   "metadata": {},
   "outputs": [],
   "source": [
    "# PRO-вариант\n",
    "def is_cheap(price):\n",
    "    return price <= 200"
   ]
  },
  {
   "cell_type": "code",
   "execution_count": 15,
   "id": "aa828aeb-ebf4-4300-86f6-aadaad75ecec",
   "metadata": {},
   "outputs": [
    {
     "data": {
      "text/plain": [
       "False"
      ]
     },
     "execution_count": 15,
     "metadata": {},
     "output_type": "execute_result"
    }
   ],
   "source": [
    "is_cheap(210)"
   ]
  },
  {
   "cell_type": "code",
   "execution_count": 16,
   "id": "405d889f-6f07-4ee4-8b6a-d57294c3b2ad",
   "metadata": {},
   "outputs": [
    {
     "data": {
      "text/plain": [
       "True"
      ]
     },
     "execution_count": 16,
     "metadata": {},
     "output_type": "execute_result"
    }
   ],
   "source": [
    "is_cheap(190)"
   ]
  },
  {
   "cell_type": "markdown",
   "id": "baa575d4-127d-4dc1-97cd-8ed8de6d30ce",
   "metadata": {},
   "source": [
    "## Лямбда-вариант"
   ]
  },
  {
   "cell_type": "code",
   "execution_count": 18,
   "id": "4a04c661-9a90-47b6-8585-7367ba96711e",
   "metadata": {},
   "outputs": [],
   "source": [
    "if_exp = lambda price: 'cheap' if price <=200 else 'expensive'"
   ]
  },
  {
   "cell_type": "code",
   "execution_count": 20,
   "id": "517f0ad4-f006-4bd0-a485-d04a70f1be87",
   "metadata": {},
   "outputs": [
    {
     "data": {
      "text/plain": [
       "'expensive'"
      ]
     },
     "execution_count": 20,
     "metadata": {},
     "output_type": "execute_result"
    }
   ],
   "source": [
    "if_exp(210)"
   ]
  },
  {
   "cell_type": "code",
   "execution_count": 21,
   "id": "00b28c79-628f-4bc0-a70d-f056307dde61",
   "metadata": {},
   "outputs": [
    {
     "data": {
      "text/plain": [
       "'cheap'"
      ]
     },
     "execution_count": 21,
     "metadata": {},
     "output_type": "execute_result"
    }
   ],
   "source": [
    "if_exp(190)"
   ]
  },
  {
   "cell_type": "markdown",
   "id": "87c517b2-e271-4e06-b085-11941fe7cdbc",
   "metadata": {},
   "source": [
    "- Лямбда всегда содержит ТОЛЬКО одно выражение, имеет ограниченный спектр применения,\n",
    "- Нет `return`, само определение функции содержит возвращенное выражение,\n",
    "- Не нужно присваивать его переменной (но можно),\n",
    "- Применяется когда в моменте нужна функция одноразово, и нет смысла писать полноценную функцию,\n",
    "- Часто используется, как аргумент функции высшего порядка (об этом будем говорить отдельно, скоро на основном канале продолжится цикл уроков, там будеи разбирать продвинутый python), так вот лямбды используются, как функция, которая принимает другие функции в качестве аргументов (часто — filter(), map(),reduce(), разберем их.)"
   ]
  },
  {
   "cell_type": "markdown",
   "id": "be363b46-4eab-40b1-a71f-8ea750a8558e",
   "metadata": {},
   "source": [
    "### Переходим к пандасу"
   ]
  },
  {
   "cell_type": "markdown",
   "id": "00520301-e7e3-41ee-82f7-4cf17488e039",
   "metadata": {},
   "source": [
    "Когда нам нужно применить какой-то эдакий алгоритм, любой к столбцу пандаса, к *series*, мы используем для этого метод `APPLY`<br>\n",
    "Принимает на вход **Функцию**, применяется к **Series**"
   ]
  },
  {
   "cell_type": "markdown",
   "id": "27b58c5f-92c4-4f42-9497-6c2520e5110e",
   "metadata": {},
   "source": [
    "ОТЛИЧАЕТСЯ ТЕМ, ЧТО ПРИМЕНЯЕТСЯ ПОСТРОЧНО (*т.е. к тем объектам, котоыре лежат в ячейках этого столбца (этого series), к которому применяется*"
   ]
  },
  {
   "cell_type": "markdown",
   "id": "79bda4b1-0ef9-4524-8a05-6a20188fb127",
   "metadata": {},
   "source": [
    "### Пример 1"
   ]
  },
  {
   "cell_type": "markdown",
   "id": "b07b3f40-51ad-4a89-965c-5299842d4251",
   "metadata": {},
   "source": [
    "#### .apply"
   ]
  },
  {
   "cell_type": "code",
   "execution_count": 22,
   "id": "fc58e9ed-e056-48fb-99bc-1e9572f38ea1",
   "metadata": {},
   "outputs": [],
   "source": [
    "def is_cheap(price):\n",
    "    if price <= 200:\n",
    "        return 'cheap'\n",
    "    else:\n",
    "        return 'expensive'"
   ]
  },
  {
   "cell_type": "code",
   "execution_count": 23,
   "id": "b2b53738-126e-4e8c-a738-b84e4c0bd894",
   "metadata": {},
   "outputs": [
    {
     "data": {
      "text/plain": [
       "'cheap'"
      ]
     },
     "execution_count": 23,
     "metadata": {},
     "output_type": "execute_result"
    }
   ],
   "source": [
    "is_cheap(190)"
   ]
  },
  {
   "cell_type": "code",
   "execution_count": 26,
   "id": "a13a6e88-4585-4d72-b2d3-2a865bedf295",
   "metadata": {},
   "outputs": [],
   "source": [
    "films['is_cheap'] = films.price_ticket.apply(is_cheap)"
   ]
  },
  {
   "cell_type": "code",
   "execution_count": 27,
   "id": "733786fb-c489-4f27-aa52-821d32836859",
   "metadata": {},
   "outputs": [
    {
     "data": {
      "text/html": [
       "<div>\n",
       "<style scoped>\n",
       "    .dataframe tbody tr th:only-of-type {\n",
       "        vertical-align: middle;\n",
       "    }\n",
       "\n",
       "    .dataframe tbody tr th {\n",
       "        vertical-align: top;\n",
       "    }\n",
       "\n",
       "    .dataframe thead th {\n",
       "        text-align: right;\n",
       "    }\n",
       "</style>\n",
       "<table border=\"1\" class=\"dataframe\">\n",
       "  <thead>\n",
       "    <tr style=\"text-align: right;\">\n",
       "      <th></th>\n",
       "      <th>film_id</th>\n",
       "      <th>film_name</th>\n",
       "      <th>price_ticket</th>\n",
       "      <th>release_year</th>\n",
       "      <th>filmmaker</th>\n",
       "      <th>kind_film</th>\n",
       "      <th>is_cheap</th>\n",
       "    </tr>\n",
       "  </thead>\n",
       "  <tbody>\n",
       "    <tr>\n",
       "      <th>0</th>\n",
       "      <td>1</td>\n",
       "      <td>Побег из Шоушенка</td>\n",
       "      <td>190</td>\n",
       "      <td>1994</td>\n",
       "      <td>Фрэнк Дарабонт</td>\n",
       "      <td>драма</td>\n",
       "      <td>cheap</td>\n",
       "    </tr>\n",
       "    <tr>\n",
       "      <th>1</th>\n",
       "      <td>2</td>\n",
       "      <td>Крёстный отец</td>\n",
       "      <td>190</td>\n",
       "      <td>1972</td>\n",
       "      <td>Фрэнсис Форд Коппола</td>\n",
       "      <td>детектив, драма</td>\n",
       "      <td>cheap</td>\n",
       "    </tr>\n",
       "    <tr>\n",
       "      <th>2</th>\n",
       "      <td>3</td>\n",
       "      <td>Тёмный рыцарь</td>\n",
       "      <td>340</td>\n",
       "      <td>2008</td>\n",
       "      <td>Кристофер Нолан</td>\n",
       "      <td>боевик, детектив, драма</td>\n",
       "      <td>expensive</td>\n",
       "    </tr>\n",
       "  </tbody>\n",
       "</table>\n",
       "</div>"
      ],
      "text/plain": [
       "   film_id          film_name  price_ticket  release_year  \\\n",
       "0        1  Побег из Шоушенка           190          1994   \n",
       "1        2      Крёстный отец           190          1972   \n",
       "2        3      Тёмный рыцарь           340          2008   \n",
       "\n",
       "              filmmaker                kind_film   is_cheap  \n",
       "0        Фрэнк Дарабонт                    драма      cheap  \n",
       "1  Фрэнсис Форд Коппола          детектив, драма      cheap  \n",
       "2       Кристофер Нолан  боевик, детектив, драма  expensive  "
      ]
     },
     "execution_count": 27,
     "metadata": {},
     "output_type": "execute_result"
    }
   ],
   "source": [
    "films.head(3)"
   ]
  },
  {
   "cell_type": "code",
   "execution_count": 31,
   "id": "b74211bb-de7c-4c86-9e2f-a8158a65033d",
   "metadata": {},
   "outputs": [
    {
     "data": {
      "text/html": [
       "<div>\n",
       "<style scoped>\n",
       "    .dataframe tbody tr th:only-of-type {\n",
       "        vertical-align: middle;\n",
       "    }\n",
       "\n",
       "    .dataframe tbody tr th {\n",
       "        vertical-align: top;\n",
       "    }\n",
       "\n",
       "    .dataframe thead th {\n",
       "        text-align: right;\n",
       "    }\n",
       "</style>\n",
       "<table border=\"1\" class=\"dataframe\">\n",
       "  <thead>\n",
       "    <tr style=\"text-align: right;\">\n",
       "      <th></th>\n",
       "      <th>film_id</th>\n",
       "      <th>film_name</th>\n",
       "      <th>price_ticket</th>\n",
       "      <th>release_year</th>\n",
       "      <th>filmmaker</th>\n",
       "      <th>kind_film</th>\n",
       "      <th>is_cheap</th>\n",
       "      <th>is_cheap_2</th>\n",
       "    </tr>\n",
       "  </thead>\n",
       "  <tbody>\n",
       "    <tr>\n",
       "      <th>0</th>\n",
       "      <td>1</td>\n",
       "      <td>Побег из Шоушенка</td>\n",
       "      <td>190</td>\n",
       "      <td>1994</td>\n",
       "      <td>Фрэнк Дарабонт</td>\n",
       "      <td>драма</td>\n",
       "      <td>cheap</td>\n",
       "      <td>cheap</td>\n",
       "    </tr>\n",
       "    <tr>\n",
       "      <th>1</th>\n",
       "      <td>2</td>\n",
       "      <td>Крёстный отец</td>\n",
       "      <td>190</td>\n",
       "      <td>1972</td>\n",
       "      <td>Фрэнсис Форд Коппола</td>\n",
       "      <td>детектив, драма</td>\n",
       "      <td>cheap</td>\n",
       "      <td>cheap</td>\n",
       "    </tr>\n",
       "    <tr>\n",
       "      <th>2</th>\n",
       "      <td>3</td>\n",
       "      <td>Тёмный рыцарь</td>\n",
       "      <td>340</td>\n",
       "      <td>2008</td>\n",
       "      <td>Кристофер Нолан</td>\n",
       "      <td>боевик, детектив, драма</td>\n",
       "      <td>expensive</td>\n",
       "      <td>expensive</td>\n",
       "    </tr>\n",
       "  </tbody>\n",
       "</table>\n",
       "</div>"
      ],
      "text/plain": [
       "   film_id          film_name  price_ticket  release_year  \\\n",
       "0        1  Побег из Шоушенка           190          1994   \n",
       "1        2      Крёстный отец           190          1972   \n",
       "2        3      Тёмный рыцарь           340          2008   \n",
       "\n",
       "              filmmaker                kind_film   is_cheap is_cheap_2  \n",
       "0        Фрэнк Дарабонт                    драма      cheap      cheap  \n",
       "1  Фрэнсис Форд Коппола          детектив, драма      cheap      cheap  \n",
       "2       Кристофер Нолан  боевик, детектив, драма  expensive  expensive  "
      ]
     },
     "execution_count": 31,
     "metadata": {},
     "output_type": "execute_result"
    }
   ],
   "source": [
    "films = films.assign(is_cheap_2 = films.price_ticket.apply(lambda price: 'cheap' if price <=200 else 'expensive'))\n",
    "films.head(3)"
   ]
  },
  {
   "cell_type": "markdown",
   "id": "0e630562-de9c-4ca8-a055-241876bbfdb9",
   "metadata": {},
   "source": [
    "### Пример 2"
   ]
  },
  {
   "cell_type": "markdown",
   "id": "cf9e3cfe-ebe2-4f89-8988-ab37dd948a88",
   "metadata": {},
   "source": [
    "Хотим сделать все названия фильмов прописными"
   ]
  },
  {
   "cell_type": "code",
   "execution_count": 34,
   "id": "84928dbf-044d-463a-8759-69a7c699a533",
   "metadata": {},
   "outputs": [],
   "source": [
    "films.film_name = films.film_name.apply(lambda film_name: film_name.lower())"
   ]
  },
  {
   "cell_type": "markdown",
   "id": "7a9af308-0b10-43f3-a9c3-e3e28dba653c",
   "metadata": {},
   "source": [
    "### Пример 3"
   ]
  },
  {
   "cell_type": "markdown",
   "id": "16fdbb9e-05e4-4e1f-9c49-9045a41d0a3d",
   "metadata": {},
   "source": [
    "ДЛЯ АФИШИ"
   ]
  },
  {
   "cell_type": "code",
   "execution_count": 39,
   "id": "d4e03b01-cdfd-4ab7-8763-be2c61cebce1",
   "metadata": {},
   "outputs": [],
   "source": [
    "films['name_length_for_poster'] = films.film_name.apply(lambda film_name: len(film_name))"
   ]
  },
  {
   "cell_type": "code",
   "execution_count": 42,
   "id": "e5ef8426-f02c-4b08-a437-dceeffbdc74b",
   "metadata": {},
   "outputs": [
    {
     "data": {
      "text/html": [
       "<div>\n",
       "<style scoped>\n",
       "    .dataframe tbody tr th:only-of-type {\n",
       "        vertical-align: middle;\n",
       "    }\n",
       "\n",
       "    .dataframe tbody tr th {\n",
       "        vertical-align: top;\n",
       "    }\n",
       "\n",
       "    .dataframe thead th {\n",
       "        text-align: right;\n",
       "    }\n",
       "</style>\n",
       "<table border=\"1\" class=\"dataframe\">\n",
       "  <thead>\n",
       "    <tr style=\"text-align: right;\">\n",
       "      <th></th>\n",
       "      <th>film_id</th>\n",
       "      <th>film_name</th>\n",
       "      <th>price_ticket</th>\n",
       "      <th>release_year</th>\n",
       "      <th>filmmaker</th>\n",
       "      <th>kind_film</th>\n",
       "      <th>is_cheap</th>\n",
       "      <th>is_cheap_2</th>\n",
       "      <th>name_length_for_poster</th>\n",
       "    </tr>\n",
       "  </thead>\n",
       "  <tbody>\n",
       "    <tr>\n",
       "      <th>0</th>\n",
       "      <td>1</td>\n",
       "      <td>побег из шоушенка</td>\n",
       "      <td>190</td>\n",
       "      <td>1994</td>\n",
       "      <td>Фрэнк Дарабонт</td>\n",
       "      <td>драма</td>\n",
       "      <td>cheap</td>\n",
       "      <td>cheap</td>\n",
       "      <td>17</td>\n",
       "    </tr>\n",
       "    <tr>\n",
       "      <th>1</th>\n",
       "      <td>2</td>\n",
       "      <td>крёстный отец</td>\n",
       "      <td>190</td>\n",
       "      <td>1972</td>\n",
       "      <td>Фрэнсис Форд Коппола</td>\n",
       "      <td>детектив, драма</td>\n",
       "      <td>cheap</td>\n",
       "      <td>cheap</td>\n",
       "      <td>13</td>\n",
       "    </tr>\n",
       "    <tr>\n",
       "      <th>2</th>\n",
       "      <td>3</td>\n",
       "      <td>тёмный рыцарь</td>\n",
       "      <td>340</td>\n",
       "      <td>2008</td>\n",
       "      <td>Кристофер Нолан</td>\n",
       "      <td>боевик, детектив, драма</td>\n",
       "      <td>expensive</td>\n",
       "      <td>expensive</td>\n",
       "      <td>13</td>\n",
       "    </tr>\n",
       "  </tbody>\n",
       "</table>\n",
       "</div>"
      ],
      "text/plain": [
       "   film_id          film_name  price_ticket  release_year  \\\n",
       "0        1  побег из шоушенка           190          1994   \n",
       "1        2      крёстный отец           190          1972   \n",
       "2        3      тёмный рыцарь           340          2008   \n",
       "\n",
       "              filmmaker                kind_film   is_cheap is_cheap_2  \\\n",
       "0        Фрэнк Дарабонт                    драма      cheap      cheap   \n",
       "1  Фрэнсис Форд Коппола          детектив, драма      cheap      cheap   \n",
       "2       Кристофер Нолан  боевик, детектив, драма  expensive  expensive   \n",
       "\n",
       "   name_length_for_poster  \n",
       "0                      17  \n",
       "1                      13  \n",
       "2                      13  "
      ]
     },
     "execution_count": 42,
     "metadata": {},
     "output_type": "execute_result"
    }
   ],
   "source": [
    "films.head(3)"
   ]
  },
  {
   "cell_type": "markdown",
   "id": "e44a2896-22e1-479e-9e02-11ef8c93382f",
   "metadata": {},
   "source": [
    "**ВАЖНО!**\n",
    "\n",
    "НЕ ИСПОЛЬЗОВАТЬ `apply`, когда можно использовать стандартные методы, способы манипуляции над пандами"
   ]
  },
  {
   "cell_type": "markdown",
   "id": "55a9bb74-6aec-407b-93e8-6c0805edb5de",
   "metadata": {},
   "source": [
    "## .str (аксессор)\n",
    "https://pandas.pydata.org/docs/user_guide/text.html"
   ]
  },
  {
   "cell_type": "code",
   "execution_count": 16,
   "id": "08d61ac9-bdb9-4700-9ac5-6f0f4be58dad",
   "metadata": {},
   "outputs": [
    {
     "data": {
      "text/html": [
       "<div>\n",
       "<style scoped>\n",
       "    .dataframe tbody tr th:only-of-type {\n",
       "        vertical-align: middle;\n",
       "    }\n",
       "\n",
       "    .dataframe tbody tr th {\n",
       "        vertical-align: top;\n",
       "    }\n",
       "\n",
       "    .dataframe thead th {\n",
       "        text-align: right;\n",
       "    }\n",
       "</style>\n",
       "<table border=\"1\" class=\"dataframe\">\n",
       "  <thead>\n",
       "    <tr style=\"text-align: right;\">\n",
       "      <th></th>\n",
       "      <th>film_id</th>\n",
       "      <th>film_name</th>\n",
       "      <th>price_ticket</th>\n",
       "      <th>release_year</th>\n",
       "      <th>filmmaker</th>\n",
       "      <th>kind_film</th>\n",
       "    </tr>\n",
       "  </thead>\n",
       "  <tbody>\n",
       "    <tr>\n",
       "      <th>0</th>\n",
       "      <td>1</td>\n",
       "      <td>Побег из Шоушенка</td>\n",
       "      <td>190</td>\n",
       "      <td>1994</td>\n",
       "      <td>Фрэнк Дарабонт</td>\n",
       "      <td>драма</td>\n",
       "    </tr>\n",
       "    <tr>\n",
       "      <th>1</th>\n",
       "      <td>2</td>\n",
       "      <td>Крёстный отец</td>\n",
       "      <td>190</td>\n",
       "      <td>1972</td>\n",
       "      <td>Фрэнсис Форд Коппола</td>\n",
       "      <td>детектив, драма</td>\n",
       "    </tr>\n",
       "    <tr>\n",
       "      <th>2</th>\n",
       "      <td>3</td>\n",
       "      <td>Тёмный рыцарь</td>\n",
       "      <td>340</td>\n",
       "      <td>2008</td>\n",
       "      <td>Кристофер Нолан</td>\n",
       "      <td>боевик, детектив, драма</td>\n",
       "    </tr>\n",
       "    <tr>\n",
       "      <th>3</th>\n",
       "      <td>4</td>\n",
       "      <td>Крёстный отец 2</td>\n",
       "      <td>290</td>\n",
       "      <td>1974</td>\n",
       "      <td>Фрэнсис Форд Коппола</td>\n",
       "      <td>детектив, драма</td>\n",
       "    </tr>\n",
       "    <tr>\n",
       "      <th>4</th>\n",
       "      <td>5</td>\n",
       "      <td>12 разгневанных мужчин</td>\n",
       "      <td>290</td>\n",
       "      <td>1957</td>\n",
       "      <td>Сидни Люмет</td>\n",
       "      <td>детектив, драма</td>\n",
       "    </tr>\n",
       "    <tr>\n",
       "      <th>5</th>\n",
       "      <td>6</td>\n",
       "      <td>Список Шиндлера</td>\n",
       "      <td>190</td>\n",
       "      <td>1993</td>\n",
       "      <td>Стивен Спилберг</td>\n",
       "      <td>байопик, драма, исторический фильм</td>\n",
       "    </tr>\n",
       "    <tr>\n",
       "      <th>6</th>\n",
       "      <td>7</td>\n",
       "      <td>Властелин колец: Возвращение короля</td>\n",
       "      <td>290</td>\n",
       "      <td>2003</td>\n",
       "      <td>Питер Джексон</td>\n",
       "      <td>боевик, приключение, драма</td>\n",
       "    </tr>\n",
       "    <tr>\n",
       "      <th>7</th>\n",
       "      <td>8</td>\n",
       "      <td>Криминальное чтиво</td>\n",
       "      <td>290</td>\n",
       "      <td>1994</td>\n",
       "      <td>Квентин Тарантино</td>\n",
       "      <td>детектив, драма</td>\n",
       "    </tr>\n",
       "  </tbody>\n",
       "</table>\n",
       "</div>"
      ],
      "text/plain": [
       "   film_id                            film_name  price_ticket  release_year  \\\n",
       "0        1                    Побег из Шоушенка           190          1994   \n",
       "1        2                        Крёстный отец           190          1972   \n",
       "2        3                        Тёмный рыцарь           340          2008   \n",
       "3        4                      Крёстный отец 2           290          1974   \n",
       "4        5               12 разгневанных мужчин           290          1957   \n",
       "5        6                      Список Шиндлера           190          1993   \n",
       "6        7  Властелин колец: Возвращение короля           290          2003   \n",
       "7        8                   Криминальное чтиво           290          1994   \n",
       "\n",
       "              filmmaker                           kind_film  \n",
       "0        Фрэнк Дарабонт                               драма  \n",
       "1  Фрэнсис Форд Коппола                     детектив, драма  \n",
       "2       Кристофер Нолан             боевик, детектив, драма  \n",
       "3  Фрэнсис Форд Коппола                     детектив, драма  \n",
       "4           Сидни Люмет                     детектив, драма  \n",
       "5       Стивен Спилберг  байопик, драма, исторический фильм  \n",
       "6         Питер Джексон          боевик, приключение, драма  \n",
       "7     Квентин Тарантино                     детектив, драма  "
      ]
     },
     "execution_count": 16,
     "metadata": {},
     "output_type": "execute_result"
    }
   ],
   "source": [
    "films_short = films.head(8)\n",
    "films_short"
   ]
  },
  {
   "cell_type": "code",
   "execution_count": 21,
   "id": "c5ad3a75-3f5a-42c7-9d92-184fd51f754f",
   "metadata": {},
   "outputs": [
    {
     "data": {
      "text/plain": [
       "0    False\n",
       "1     True\n",
       "2    False\n",
       "3     True\n",
       "4    False\n",
       "5    False\n",
       "6    False\n",
       "7     True\n",
       "Name: film_name, dtype: bool"
      ]
     },
     "execution_count": 21,
     "metadata": {},
     "output_type": "execute_result"
    }
   ],
   "source": [
    "# Определите, начинается ли каждая строка с соответствия регулярному выражению.\n",
    "films_short['film_name'].str.match('Кр')"
   ]
  },
  {
   "cell_type": "code",
   "execution_count": 34,
   "id": "1281ff6a-90dc-4e04-97e5-6cc89ca058ac",
   "metadata": {},
   "outputs": [
    {
     "data": {
      "text/html": [
       "<div>\n",
       "<style scoped>\n",
       "    .dataframe tbody tr th:only-of-type {\n",
       "        vertical-align: middle;\n",
       "    }\n",
       "\n",
       "    .dataframe tbody tr th {\n",
       "        vertical-align: top;\n",
       "    }\n",
       "\n",
       "    .dataframe thead th {\n",
       "        text-align: right;\n",
       "    }\n",
       "</style>\n",
       "<table border=\"1\" class=\"dataframe\">\n",
       "  <thead>\n",
       "    <tr style=\"text-align: right;\">\n",
       "      <th></th>\n",
       "      <th>film_id</th>\n",
       "      <th>film_name</th>\n",
       "      <th>price_ticket</th>\n",
       "      <th>release_year</th>\n",
       "      <th>filmmaker</th>\n",
       "      <th>kind_film</th>\n",
       "      <th>Кол-во пробелов</th>\n",
       "    </tr>\n",
       "  </thead>\n",
       "  <tbody>\n",
       "    <tr>\n",
       "      <th>0</th>\n",
       "      <td>1</td>\n",
       "      <td>Побег из Шоушенка</td>\n",
       "      <td>190</td>\n",
       "      <td>1994</td>\n",
       "      <td>Фрэнк Дарабонт</td>\n",
       "      <td>драма</td>\n",
       "      <td>2</td>\n",
       "    </tr>\n",
       "    <tr>\n",
       "      <th>1</th>\n",
       "      <td>2</td>\n",
       "      <td>Крёстный отец</td>\n",
       "      <td>190</td>\n",
       "      <td>1972</td>\n",
       "      <td>Фрэнсис Форд Коппола</td>\n",
       "      <td>детектив, драма</td>\n",
       "      <td>1</td>\n",
       "    </tr>\n",
       "    <tr>\n",
       "      <th>2</th>\n",
       "      <td>3</td>\n",
       "      <td>Тёмный рыцарь</td>\n",
       "      <td>340</td>\n",
       "      <td>2008</td>\n",
       "      <td>Кристофер Нолан</td>\n",
       "      <td>боевик, детектив, драма</td>\n",
       "      <td>1</td>\n",
       "    </tr>\n",
       "    <tr>\n",
       "      <th>3</th>\n",
       "      <td>4</td>\n",
       "      <td>Крёстный отец 2</td>\n",
       "      <td>290</td>\n",
       "      <td>1974</td>\n",
       "      <td>Фрэнсис Форд Коппола</td>\n",
       "      <td>детектив, драма</td>\n",
       "      <td>2</td>\n",
       "    </tr>\n",
       "    <tr>\n",
       "      <th>4</th>\n",
       "      <td>5</td>\n",
       "      <td>12 разгневанных мужчин</td>\n",
       "      <td>290</td>\n",
       "      <td>1957</td>\n",
       "      <td>Сидни Люмет</td>\n",
       "      <td>детектив, драма</td>\n",
       "      <td>2</td>\n",
       "    </tr>\n",
       "    <tr>\n",
       "      <th>5</th>\n",
       "      <td>6</td>\n",
       "      <td>Список Шиндлера</td>\n",
       "      <td>190</td>\n",
       "      <td>1993</td>\n",
       "      <td>Стивен Спилберг</td>\n",
       "      <td>байопик, драма, исторический фильм</td>\n",
       "      <td>1</td>\n",
       "    </tr>\n",
       "    <tr>\n",
       "      <th>6</th>\n",
       "      <td>7</td>\n",
       "      <td>Властелин колец: Возвращение короля</td>\n",
       "      <td>290</td>\n",
       "      <td>2003</td>\n",
       "      <td>Питер Джексон</td>\n",
       "      <td>боевик, приключение, драма</td>\n",
       "      <td>3</td>\n",
       "    </tr>\n",
       "    <tr>\n",
       "      <th>7</th>\n",
       "      <td>8</td>\n",
       "      <td>Криминальное чтиво</td>\n",
       "      <td>290</td>\n",
       "      <td>1994</td>\n",
       "      <td>Квентин Тарантино</td>\n",
       "      <td>детектив, драма</td>\n",
       "      <td>1</td>\n",
       "    </tr>\n",
       "  </tbody>\n",
       "</table>\n",
       "</div>"
      ],
      "text/plain": [
       "   film_id                            film_name  price_ticket  release_year  \\\n",
       "0        1                    Побег из Шоушенка           190          1994   \n",
       "1        2                        Крёстный отец           190          1972   \n",
       "2        3                        Тёмный рыцарь           340          2008   \n",
       "3        4                      Крёстный отец 2           290          1974   \n",
       "4        5               12 разгневанных мужчин           290          1957   \n",
       "5        6                      Список Шиндлера           190          1993   \n",
       "6        7  Властелин колец: Возвращение короля           290          2003   \n",
       "7        8                   Криминальное чтиво           290          1994   \n",
       "\n",
       "              filmmaker                           kind_film  Кол-во пробелов  \n",
       "0        Фрэнк Дарабонт                               драма                2  \n",
       "1  Фрэнсис Форд Коппола                     детектив, драма                1  \n",
       "2       Кристофер Нолан             боевик, детектив, драма                1  \n",
       "3  Фрэнсис Форд Коппола                     детектив, драма                2  \n",
       "4           Сидни Люмет                     детектив, драма                2  \n",
       "5       Стивен Спилберг  байопик, драма, исторический фильм                1  \n",
       "6         Питер Джексон          боевик, приключение, драма                3  \n",
       "7     Квентин Тарантино                     детектив, драма                1  "
      ]
     },
     "execution_count": 34,
     "metadata": {},
     "output_type": "execute_result"
    }
   ],
   "source": [
    "# Считается кол-во подстрок. Например кол-во пробелов\n",
    "films_short['Кол-во пробелов'] = films_short['film_name'].str.count(' ')\n",
    "films_short"
   ]
  },
  {
   "cell_type": "code",
   "execution_count": 36,
   "id": "c0bca5ab-0f67-46c7-9585-1a7b7301f642",
   "metadata": {},
   "outputs": [
    {
     "data": {
      "text/plain": [
       "0                      побег из шоушенка\n",
       "1                          крёстный отец\n",
       "2                          тёмный рыцарь\n",
       "3                        крёстный отец 2\n",
       "4                 12 разгневанных мужчин\n",
       "5                        список шиндлера\n",
       "6    властелин колец: возвращение короля\n",
       "7                     криминальное чтиво\n",
       "Name: film_name, dtype: object"
      ]
     },
     "execution_count": 36,
     "metadata": {},
     "output_type": "execute_result"
    }
   ],
   "source": [
    "films_short['film_name'].str.lower()"
   ]
  },
  {
   "cell_type": "code",
   "execution_count": 37,
   "id": "ed91dfab-4dbb-43ea-a259-f659894e8aaa",
   "metadata": {},
   "outputs": [
    {
     "data": {
      "text/plain": [
       "0                      ПОБЕГ ИЗ ШОУШЕНКА\n",
       "1                          КРЁСТНЫЙ ОТЕЦ\n",
       "2                          ТЁМНЫЙ РЫЦАРЬ\n",
       "3                        КРЁСТНЫЙ ОТЕЦ 2\n",
       "4                 12 РАЗГНЕВАННЫХ МУЖЧИН\n",
       "5                        СПИСОК ШИНДЛЕРА\n",
       "6    ВЛАСТЕЛИН КОЛЕЦ: ВОЗВРАЩЕНИЕ КОРОЛЯ\n",
       "7                     КРИМИНАЛЬНОЕ ЧТИВО\n",
       "Name: film_name, dtype: object"
      ]
     },
     "execution_count": 37,
     "metadata": {},
     "output_type": "execute_result"
    }
   ],
   "source": [
    "films_short['film_name'].str.upper()"
   ]
  },
  {
   "cell_type": "code",
   "execution_count": 38,
   "id": "bc24ad1c-3b27-4095-bd16-50ed74641d6e",
   "metadata": {},
   "outputs": [
    {
     "data": {
      "text/plain": [
       "0    17\n",
       "1    13\n",
       "2    13\n",
       "3    15\n",
       "4    22\n",
       "5    15\n",
       "6    35\n",
       "7    18\n",
       "Name: film_name, dtype: int64"
      ]
     },
     "execution_count": 38,
     "metadata": {},
     "output_type": "execute_result"
    }
   ],
   "source": [
    "films_short['film_name'].str.len()"
   ]
  },
  {
   "cell_type": "code",
   "execution_count": 47,
   "id": "edcbc220-b71e-4801-a3a1-97ed528f5c04",
   "metadata": {},
   "outputs": [
    {
     "data": {
      "text/html": [
       "<div>\n",
       "<style scoped>\n",
       "    .dataframe tbody tr th:only-of-type {\n",
       "        vertical-align: middle;\n",
       "    }\n",
       "\n",
       "    .dataframe tbody tr th {\n",
       "        vertical-align: top;\n",
       "    }\n",
       "\n",
       "    .dataframe thead th {\n",
       "        text-align: right;\n",
       "    }\n",
       "</style>\n",
       "<table border=\"1\" class=\"dataframe\">\n",
       "  <thead>\n",
       "    <tr style=\"text-align: right;\">\n",
       "      <th></th>\n",
       "      <th>film_id</th>\n",
       "      <th>film_name</th>\n",
       "      <th>price_ticket</th>\n",
       "      <th>release_year</th>\n",
       "      <th>filmmaker</th>\n",
       "      <th>kind_film</th>\n",
       "      <th>Кол-во пробелов</th>\n",
       "      <th>film_name_mistake</th>\n",
       "    </tr>\n",
       "  </thead>\n",
       "  <tbody>\n",
       "    <tr>\n",
       "      <th>0</th>\n",
       "      <td>1</td>\n",
       "      <td>Побег из Шоушенка</td>\n",
       "      <td>190</td>\n",
       "      <td>1994</td>\n",
       "      <td>Фрэнк Дарабонт</td>\n",
       "      <td>драма</td>\n",
       "      <td>2</td>\n",
       "      <td>Побег из Шоушенка</td>\n",
       "    </tr>\n",
       "    <tr>\n",
       "      <th>1</th>\n",
       "      <td>2</td>\n",
       "      <td>Крёстный отец</td>\n",
       "      <td>190</td>\n",
       "      <td>1972</td>\n",
       "      <td>Фрэнсис Форд Коппола</td>\n",
       "      <td>детектив, драма</td>\n",
       "      <td>1</td>\n",
       "      <td>Крёстный отец</td>\n",
       "    </tr>\n",
       "    <tr>\n",
       "      <th>2</th>\n",
       "      <td>3</td>\n",
       "      <td>Тёмный рыцарь</td>\n",
       "      <td>340</td>\n",
       "      <td>2008</td>\n",
       "      <td>Кристофер Нолан</td>\n",
       "      <td>боевик, детектив, драма</td>\n",
       "      <td>1</td>\n",
       "      <td>Тёмный рыцарь</td>\n",
       "    </tr>\n",
       "    <tr>\n",
       "      <th>3</th>\n",
       "      <td>4</td>\n",
       "      <td>Крёстный отец 2</td>\n",
       "      <td>290</td>\n",
       "      <td>1974</td>\n",
       "      <td>Фрэнсис Форд Коппола</td>\n",
       "      <td>детектив, драма</td>\n",
       "      <td>2</td>\n",
       "      <td>Крёстный отец 2</td>\n",
       "    </tr>\n",
       "    <tr>\n",
       "      <th>4</th>\n",
       "      <td>5</td>\n",
       "      <td>12 разгневанных мужчин</td>\n",
       "      <td>290</td>\n",
       "      <td>1957</td>\n",
       "      <td>Сидни Люмет</td>\n",
       "      <td>детектив, драма</td>\n",
       "      <td>2</td>\n",
       "      <td>12 разгневанных мужчин</td>\n",
       "    </tr>\n",
       "    <tr>\n",
       "      <th>5</th>\n",
       "      <td>6</td>\n",
       "      <td>Список Шиндлера</td>\n",
       "      <td>190</td>\n",
       "      <td>1993</td>\n",
       "      <td>Стивен Спилберг</td>\n",
       "      <td>байопик, драма, исторический фильм</td>\n",
       "      <td>1</td>\n",
       "      <td>Список Шиндлера</td>\n",
       "    </tr>\n",
       "    <tr>\n",
       "      <th>6</th>\n",
       "      <td>7</td>\n",
       "      <td>Властелин колец: Возвращение короля</td>\n",
       "      <td>290</td>\n",
       "      <td>2003</td>\n",
       "      <td>Питер Джексон</td>\n",
       "      <td>боевик, приключение, драма</td>\n",
       "      <td>3</td>\n",
       "      <td>Властелин колец: Возвращение короля</td>\n",
       "    </tr>\n",
       "    <tr>\n",
       "      <th>7</th>\n",
       "      <td>8</td>\n",
       "      <td>Криминальное чтиво</td>\n",
       "      <td>290</td>\n",
       "      <td>1994</td>\n",
       "      <td>Квентин Тарантино</td>\n",
       "      <td>детектив, драма</td>\n",
       "      <td>1</td>\n",
       "      <td>Криминальное чтиво</td>\n",
       "    </tr>\n",
       "  </tbody>\n",
       "</table>\n",
       "</div>"
      ],
      "text/plain": [
       "   film_id                            film_name  price_ticket  release_year  \\\n",
       "0        1                    Побег из Шоушенка           190          1994   \n",
       "1        2                        Крёстный отец           190          1972   \n",
       "2        3                        Тёмный рыцарь           340          2008   \n",
       "3        4                      Крёстный отец 2           290          1974   \n",
       "4        5               12 разгневанных мужчин           290          1957   \n",
       "5        6                      Список Шиндлера           190          1993   \n",
       "6        7  Властелин колец: Возвращение короля           290          2003   \n",
       "7        8                   Криминальное чтиво           290          1994   \n",
       "\n",
       "              filmmaker                           kind_film  Кол-во пробелов  \\\n",
       "0        Фрэнк Дарабонт                               драма                2   \n",
       "1  Фрэнсис Форд Коппола                     детектив, драма                1   \n",
       "2       Кристофер Нолан             боевик, детектив, драма                1   \n",
       "3  Фрэнсис Форд Коппола                     детектив, драма                2   \n",
       "4           Сидни Люмет                     детектив, драма                2   \n",
       "5       Стивен Спилберг  байопик, драма, исторический фильм                1   \n",
       "6         Питер Джексон          боевик, приключение, драма                3   \n",
       "7     Квентин Тарантино                     детектив, драма                1   \n",
       "\n",
       "                        film_name_mistake  \n",
       "0                      Побег из Шоушенка   \n",
       "1                          Крёстный отец   \n",
       "2                          Тёмный рыцарь   \n",
       "3                        Крёстный отец 2   \n",
       "4                 12 разгневанных мужчин   \n",
       "5                        Список Шиндлера   \n",
       "6    Властелин колец: Возвращение короля   \n",
       "7                     Криминальное чтиво   "
      ]
     },
     "execution_count": 47,
     "metadata": {},
     "output_type": "execute_result"
    }
   ],
   "source": [
    "films_short['film_name_mistake'] = films_short['film_name'].apply(lambda x: '  ' + x + ' ')\n",
    "films_short"
   ]
  },
  {
   "cell_type": "code",
   "execution_count": 48,
   "id": "d0431b0a-c18d-4393-8242-14e4e371cd97",
   "metadata": {},
   "outputs": [
    {
     "data": {
      "text/plain": [
       "['  Побег из Шоушенка ',\n",
       " '  Крёстный отец ',\n",
       " '  Тёмный рыцарь ',\n",
       " '  Крёстный отец 2 ',\n",
       " '  12 разгневанных мужчин ',\n",
       " '  Список Шиндлера ',\n",
       " '  Властелин колец: Возвращение короля ',\n",
       " '  Криминальное чтиво ']"
      ]
     },
     "execution_count": 48,
     "metadata": {},
     "output_type": "execute_result"
    }
   ],
   "source": [
    "films_short['film_name_mistake'].to_list()"
   ]
  },
  {
   "cell_type": "code",
   "execution_count": 50,
   "id": "ab8f5cf5-175b-44da-9c07-c3a2f1baeb47",
   "metadata": {},
   "outputs": [],
   "source": [
    "# strip убрать пробелы в начале и в конце\n",
    "films_short['film_name_correct_all'] = films_short['film_name_mistake'].str.strip()"
   ]
  },
  {
   "cell_type": "code",
   "execution_count": 51,
   "id": "9248d754-8a19-4b31-90cb-79c9ee23ee6d",
   "metadata": {},
   "outputs": [
    {
     "data": {
      "text/plain": [
       "['Побег из Шоушенка',\n",
       " 'Крёстный отец',\n",
       " 'Тёмный рыцарь',\n",
       " 'Крёстный отец 2',\n",
       " '12 разгневанных мужчин',\n",
       " 'Список Шиндлера',\n",
       " 'Властелин колец: Возвращение короля',\n",
       " 'Криминальное чтиво']"
      ]
     },
     "execution_count": 51,
     "metadata": {},
     "output_type": "execute_result"
    }
   ],
   "source": [
    "films_short['film_name_correct_all'].to_list()"
   ]
  },
  {
   "cell_type": "code",
   "execution_count": 52,
   "id": "d2b5899c-84df-4356-88eb-4dc95b9f0947",
   "metadata": {},
   "outputs": [],
   "source": [
    "# lstrip убрать пробелы в начале (слева left)\n",
    "films_short['film_name_correct_left'] = films_short['film_name_mistake'].str.lstrip()"
   ]
  },
  {
   "cell_type": "code",
   "execution_count": 53,
   "id": "ce9701f5-0a5f-46de-a3e7-a048e4dffb13",
   "metadata": {},
   "outputs": [
    {
     "data": {
      "text/plain": [
       "['Побег из Шоушенка ',\n",
       " 'Крёстный отец ',\n",
       " 'Тёмный рыцарь ',\n",
       " 'Крёстный отец 2 ',\n",
       " '12 разгневанных мужчин ',\n",
       " 'Список Шиндлера ',\n",
       " 'Властелин колец: Возвращение короля ',\n",
       " 'Криминальное чтиво ']"
      ]
     },
     "execution_count": 53,
     "metadata": {},
     "output_type": "execute_result"
    }
   ],
   "source": [
    "films_short['film_name_correct_left'].to_list()"
   ]
  },
  {
   "cell_type": "code",
   "execution_count": 54,
   "id": "a795b88a-6b28-493f-9186-1dd765ba8bac",
   "metadata": {},
   "outputs": [],
   "source": [
    "# rstrip убрать пробелы в конце (справа right)\n",
    "films_short['film_name_correct_right'] = films_short['film_name_mistake'].str.rstrip()"
   ]
  },
  {
   "cell_type": "code",
   "execution_count": 55,
   "id": "45d01d0d-0528-4ac6-af6b-78a072ba2bd1",
   "metadata": {},
   "outputs": [
    {
     "data": {
      "text/plain": [
       "['  Побег из Шоушенка',\n",
       " '  Крёстный отец',\n",
       " '  Тёмный рыцарь',\n",
       " '  Крёстный отец 2',\n",
       " '  12 разгневанных мужчин',\n",
       " '  Список Шиндлера',\n",
       " '  Властелин колец: Возвращение короля',\n",
       " '  Криминальное чтиво']"
      ]
     },
     "execution_count": 55,
     "metadata": {},
     "output_type": "execute_result"
    }
   ],
   "source": [
    "films_short['film_name_correct_right'].to_list()"
   ]
  },
  {
   "cell_type": "code",
   "execution_count": 68,
   "id": "2f7726b4-72b6-4c00-ae1b-3d8594ac08d0",
   "metadata": {},
   "outputs": [
    {
     "data": {
      "text/html": [
       "<div>\n",
       "<style scoped>\n",
       "    .dataframe tbody tr th:only-of-type {\n",
       "        vertical-align: middle;\n",
       "    }\n",
       "\n",
       "    .dataframe tbody tr th {\n",
       "        vertical-align: top;\n",
       "    }\n",
       "\n",
       "    .dataframe thead th {\n",
       "        text-align: right;\n",
       "    }\n",
       "</style>\n",
       "<table border=\"1\" class=\"dataframe\">\n",
       "  <thead>\n",
       "    <tr style=\"text-align: right;\">\n",
       "      <th></th>\n",
       "      <th>kind_film</th>\n",
       "    </tr>\n",
       "  </thead>\n",
       "  <tbody>\n",
       "    <tr>\n",
       "      <th>0</th>\n",
       "      <td>драма</td>\n",
       "    </tr>\n",
       "    <tr>\n",
       "      <th>1</th>\n",
       "      <td>детектив, драма</td>\n",
       "    </tr>\n",
       "    <tr>\n",
       "      <th>2</th>\n",
       "      <td>боевик, детектив, драма</td>\n",
       "    </tr>\n",
       "    <tr>\n",
       "      <th>3</th>\n",
       "      <td>детектив, драма</td>\n",
       "    </tr>\n",
       "    <tr>\n",
       "      <th>4</th>\n",
       "      <td>детектив, драма</td>\n",
       "    </tr>\n",
       "    <tr>\n",
       "      <th>5</th>\n",
       "      <td>байопик, драма, исторический фильм</td>\n",
       "    </tr>\n",
       "    <tr>\n",
       "      <th>6</th>\n",
       "      <td>боевик, приключение, драма</td>\n",
       "    </tr>\n",
       "    <tr>\n",
       "      <th>7</th>\n",
       "      <td>детектив, драма</td>\n",
       "    </tr>\n",
       "  </tbody>\n",
       "</table>\n",
       "</div>"
      ],
      "text/plain": [
       "                            kind_film\n",
       "0                               драма\n",
       "1                     детектив, драма\n",
       "2             боевик, детектив, драма\n",
       "3                     детектив, драма\n",
       "4                     детектив, драма\n",
       "5  байопик, драма, исторический фильм\n",
       "6          боевик, приключение, драма\n",
       "7                     детектив, драма"
      ]
     },
     "execution_count": 68,
     "metadata": {},
     "output_type": "execute_result"
    }
   ],
   "source": [
    "films_short[['kind_film']]"
   ]
  },
  {
   "cell_type": "code",
   "execution_count": 89,
   "id": "52dce6da-6313-4d6b-93b9-3a3aeb75b71a",
   "metadata": {},
   "outputs": [
    {
     "data": {
      "text/html": [
       "<div>\n",
       "<style scoped>\n",
       "    .dataframe tbody tr th:only-of-type {\n",
       "        vertical-align: middle;\n",
       "    }\n",
       "\n",
       "    .dataframe tbody tr th {\n",
       "        vertical-align: top;\n",
       "    }\n",
       "\n",
       "    .dataframe thead th {\n",
       "        text-align: right;\n",
       "    }\n",
       "</style>\n",
       "<table border=\"1\" class=\"dataframe\">\n",
       "  <thead>\n",
       "    <tr style=\"text-align: right;\">\n",
       "      <th></th>\n",
       "      <th>0</th>\n",
       "      <th>1</th>\n",
       "      <th>2</th>\n",
       "    </tr>\n",
       "  </thead>\n",
       "  <tbody>\n",
       "    <tr>\n",
       "      <th>0</th>\n",
       "      <td>драма</td>\n",
       "      <td>None</td>\n",
       "      <td>None</td>\n",
       "    </tr>\n",
       "    <tr>\n",
       "      <th>1</th>\n",
       "      <td>детектив</td>\n",
       "      <td>драма</td>\n",
       "      <td>None</td>\n",
       "    </tr>\n",
       "    <tr>\n",
       "      <th>2</th>\n",
       "      <td>боевик</td>\n",
       "      <td>детектив</td>\n",
       "      <td>драма</td>\n",
       "    </tr>\n",
       "    <tr>\n",
       "      <th>3</th>\n",
       "      <td>детектив</td>\n",
       "      <td>драма</td>\n",
       "      <td>None</td>\n",
       "    </tr>\n",
       "    <tr>\n",
       "      <th>4</th>\n",
       "      <td>детектив</td>\n",
       "      <td>драма</td>\n",
       "      <td>None</td>\n",
       "    </tr>\n",
       "    <tr>\n",
       "      <th>5</th>\n",
       "      <td>байопик</td>\n",
       "      <td>драма</td>\n",
       "      <td>исторический фильм</td>\n",
       "    </tr>\n",
       "    <tr>\n",
       "      <th>6</th>\n",
       "      <td>боевик</td>\n",
       "      <td>приключение</td>\n",
       "      <td>драма</td>\n",
       "    </tr>\n",
       "    <tr>\n",
       "      <th>7</th>\n",
       "      <td>детектив</td>\n",
       "      <td>драма</td>\n",
       "      <td>None</td>\n",
       "    </tr>\n",
       "  </tbody>\n",
       "</table>\n",
       "</div>"
      ],
      "text/plain": [
       "          0            1                   2\n",
       "0     драма         None                None\n",
       "1  детектив        драма                None\n",
       "2    боевик     детектив               драма\n",
       "3  детектив        драма                None\n",
       "4  детектив        драма                None\n",
       "5   байопик        драма  исторический фильм\n",
       "6    боевик  приключение               драма\n",
       "7  детектив        драма                None"
      ]
     },
     "execution_count": 89,
     "metadata": {},
     "output_type": "execute_result"
    }
   ],
   "source": [
    "df_kind_film = films_short['kind_film'].str.split(', ', expand=True)\n",
    "df_kind_film"
   ]
  },
  {
   "cell_type": "code",
   "execution_count": 90,
   "id": "daa3c5e4-dd0a-4980-bd0b-9ad78fba7291",
   "metadata": {},
   "outputs": [
    {
     "data": {
      "text/html": [
       "<div>\n",
       "<style scoped>\n",
       "    .dataframe tbody tr th:only-of-type {\n",
       "        vertical-align: middle;\n",
       "    }\n",
       "\n",
       "    .dataframe tbody tr th {\n",
       "        vertical-align: top;\n",
       "    }\n",
       "\n",
       "    .dataframe thead th {\n",
       "        text-align: right;\n",
       "    }\n",
       "</style>\n",
       "<table border=\"1\" class=\"dataframe\">\n",
       "  <thead>\n",
       "    <tr style=\"text-align: right;\">\n",
       "      <th></th>\n",
       "      <th>Жанр 1</th>\n",
       "      <th>Жанр 2</th>\n",
       "      <th>Жанр 3</th>\n",
       "    </tr>\n",
       "  </thead>\n",
       "  <tbody>\n",
       "    <tr>\n",
       "      <th>0</th>\n",
       "      <td>драма</td>\n",
       "      <td>None</td>\n",
       "      <td>None</td>\n",
       "    </tr>\n",
       "    <tr>\n",
       "      <th>1</th>\n",
       "      <td>детектив</td>\n",
       "      <td>драма</td>\n",
       "      <td>None</td>\n",
       "    </tr>\n",
       "    <tr>\n",
       "      <th>2</th>\n",
       "      <td>боевик</td>\n",
       "      <td>детектив</td>\n",
       "      <td>драма</td>\n",
       "    </tr>\n",
       "    <tr>\n",
       "      <th>3</th>\n",
       "      <td>детектив</td>\n",
       "      <td>драма</td>\n",
       "      <td>None</td>\n",
       "    </tr>\n",
       "    <tr>\n",
       "      <th>4</th>\n",
       "      <td>детектив</td>\n",
       "      <td>драма</td>\n",
       "      <td>None</td>\n",
       "    </tr>\n",
       "    <tr>\n",
       "      <th>5</th>\n",
       "      <td>байопик</td>\n",
       "      <td>драма</td>\n",
       "      <td>исторический фильм</td>\n",
       "    </tr>\n",
       "    <tr>\n",
       "      <th>6</th>\n",
       "      <td>боевик</td>\n",
       "      <td>приключение</td>\n",
       "      <td>драма</td>\n",
       "    </tr>\n",
       "    <tr>\n",
       "      <th>7</th>\n",
       "      <td>детектив</td>\n",
       "      <td>драма</td>\n",
       "      <td>None</td>\n",
       "    </tr>\n",
       "  </tbody>\n",
       "</table>\n",
       "</div>"
      ],
      "text/plain": [
       "     Жанр 1       Жанр 2              Жанр 3\n",
       "0     драма         None                None\n",
       "1  детектив        драма                None\n",
       "2    боевик     детектив               драма\n",
       "3  детектив        драма                None\n",
       "4  детектив        драма                None\n",
       "5   байопик        драма  исторический фильм\n",
       "6    боевик  приключение               драма\n",
       "7  детектив        драма                None"
      ]
     },
     "execution_count": 90,
     "metadata": {},
     "output_type": "execute_result"
    }
   ],
   "source": [
    "df_kind_film.columns = ['Жанр 1', 'Жанр 2', 'Жанр 3']\n",
    "df_kind_film"
   ]
  },
  {
   "cell_type": "code",
   "execution_count": 93,
   "id": "8e6708ba-c421-49ad-8537-cf3ce18ac0ed",
   "metadata": {},
   "outputs": [
    {
     "data": {
      "text/plain": [
       "'драма | детектив | боевик | детектив | детектив | байопик | боевик | детектив'"
      ]
     },
     "execution_count": 93,
     "metadata": {},
     "output_type": "execute_result"
    }
   ],
   "source": [
    "df_kind_film['Жанр 1'].str.cat(sep=' | ')"
   ]
  },
  {
   "cell_type": "markdown",
   "id": "d91eac28-0e0a-4659-9e23-98d66f9b5f0e",
   "metadata": {},
   "source": [
    "## np.where\n",
    "<div>\n",
    "<img src=\"attachment:021395c0-4d19-4ca6-a17a-956a7b61723d.png\" width=\"500\"/>\n",
    "</div>"
   ]
  },
  {
   "cell_type": "code",
   "execution_count": 95,
   "id": "a76dbb08-10b5-43a0-9059-af7f4f48ab79",
   "metadata": {},
   "outputs": [],
   "source": [
    "import numpy as np"
   ]
  },
  {
   "cell_type": "code",
   "execution_count": 96,
   "id": "e365b969-c3d7-4466-9a7f-c5d6bd2eba4b",
   "metadata": {},
   "outputs": [
    {
     "data": {
      "text/html": [
       "<div>\n",
       "<style scoped>\n",
       "    .dataframe tbody tr th:only-of-type {\n",
       "        vertical-align: middle;\n",
       "    }\n",
       "\n",
       "    .dataframe tbody tr th {\n",
       "        vertical-align: top;\n",
       "    }\n",
       "\n",
       "    .dataframe thead th {\n",
       "        text-align: right;\n",
       "    }\n",
       "</style>\n",
       "<table border=\"1\" class=\"dataframe\">\n",
       "  <thead>\n",
       "    <tr style=\"text-align: right;\">\n",
       "      <th></th>\n",
       "      <th>film_id</th>\n",
       "      <th>film_name</th>\n",
       "      <th>price_ticket</th>\n",
       "      <th>release_year</th>\n",
       "      <th>filmmaker</th>\n",
       "      <th>kind_film</th>\n",
       "    </tr>\n",
       "  </thead>\n",
       "  <tbody>\n",
       "    <tr>\n",
       "      <th>0</th>\n",
       "      <td>1</td>\n",
       "      <td>Побег из Шоушенка</td>\n",
       "      <td>190</td>\n",
       "      <td>1994</td>\n",
       "      <td>Фрэнк Дарабонт</td>\n",
       "      <td>драма</td>\n",
       "    </tr>\n",
       "    <tr>\n",
       "      <th>1</th>\n",
       "      <td>2</td>\n",
       "      <td>Крёстный отец</td>\n",
       "      <td>190</td>\n",
       "      <td>1972</td>\n",
       "      <td>Фрэнсис Форд Коппола</td>\n",
       "      <td>детектив, драма</td>\n",
       "    </tr>\n",
       "    <tr>\n",
       "      <th>2</th>\n",
       "      <td>3</td>\n",
       "      <td>Тёмный рыцарь</td>\n",
       "      <td>340</td>\n",
       "      <td>2008</td>\n",
       "      <td>Кристофер Нолан</td>\n",
       "      <td>боевик, детектив, драма</td>\n",
       "    </tr>\n",
       "    <tr>\n",
       "      <th>3</th>\n",
       "      <td>4</td>\n",
       "      <td>Крёстный отец 2</td>\n",
       "      <td>290</td>\n",
       "      <td>1974</td>\n",
       "      <td>Фрэнсис Форд Коппола</td>\n",
       "      <td>детектив, драма</td>\n",
       "    </tr>\n",
       "    <tr>\n",
       "      <th>4</th>\n",
       "      <td>5</td>\n",
       "      <td>12 разгневанных мужчин</td>\n",
       "      <td>290</td>\n",
       "      <td>1957</td>\n",
       "      <td>Сидни Люмет</td>\n",
       "      <td>детектив, драма</td>\n",
       "    </tr>\n",
       "    <tr>\n",
       "      <th>5</th>\n",
       "      <td>6</td>\n",
       "      <td>Список Шиндлера</td>\n",
       "      <td>190</td>\n",
       "      <td>1993</td>\n",
       "      <td>Стивен Спилберг</td>\n",
       "      <td>байопик, драма, исторический фильм</td>\n",
       "    </tr>\n",
       "    <tr>\n",
       "      <th>6</th>\n",
       "      <td>7</td>\n",
       "      <td>Властелин колец: Возвращение короля</td>\n",
       "      <td>290</td>\n",
       "      <td>2003</td>\n",
       "      <td>Питер Джексон</td>\n",
       "      <td>боевик, приключение, драма</td>\n",
       "    </tr>\n",
       "    <tr>\n",
       "      <th>7</th>\n",
       "      <td>8</td>\n",
       "      <td>Криминальное чтиво</td>\n",
       "      <td>290</td>\n",
       "      <td>1994</td>\n",
       "      <td>Квентин Тарантино</td>\n",
       "      <td>детектив, драма</td>\n",
       "    </tr>\n",
       "  </tbody>\n",
       "</table>\n",
       "</div>"
      ],
      "text/plain": [
       "   film_id                            film_name  price_ticket  release_year  \\\n",
       "0        1                    Побег из Шоушенка           190          1994   \n",
       "1        2                        Крёстный отец           190          1972   \n",
       "2        3                        Тёмный рыцарь           340          2008   \n",
       "3        4                      Крёстный отец 2           290          1974   \n",
       "4        5               12 разгневанных мужчин           290          1957   \n",
       "5        6                      Список Шиндлера           190          1993   \n",
       "6        7  Властелин колец: Возвращение короля           290          2003   \n",
       "7        8                   Криминальное чтиво           290          1994   \n",
       "\n",
       "              filmmaker                           kind_film  \n",
       "0        Фрэнк Дарабонт                               драма  \n",
       "1  Фрэнсис Форд Коппола                     детектив, драма  \n",
       "2       Кристофер Нолан             боевик, детектив, драма  \n",
       "3  Фрэнсис Форд Коппола                     детектив, драма  \n",
       "4           Сидни Люмет                     детектив, драма  \n",
       "5       Стивен Спилберг  байопик, драма, исторический фильм  \n",
       "6         Питер Джексон          боевик, приключение, драма  \n",
       "7     Квентин Тарантино                     детектив, драма  "
      ]
     },
     "execution_count": 96,
     "metadata": {},
     "output_type": "execute_result"
    }
   ],
   "source": [
    "films_short = films.head(8)\n",
    "films_short"
   ]
  },
  {
   "cell_type": "code",
   "execution_count": 98,
   "id": "37c768ec-c551-4607-a621-23f6d8fdbabf",
   "metadata": {},
   "outputs": [
    {
     "data": {
      "text/html": [
       "<div>\n",
       "<style scoped>\n",
       "    .dataframe tbody tr th:only-of-type {\n",
       "        vertical-align: middle;\n",
       "    }\n",
       "\n",
       "    .dataframe tbody tr th {\n",
       "        vertical-align: top;\n",
       "    }\n",
       "\n",
       "    .dataframe thead th {\n",
       "        text-align: right;\n",
       "    }\n",
       "</style>\n",
       "<table border=\"1\" class=\"dataframe\">\n",
       "  <thead>\n",
       "    <tr style=\"text-align: right;\">\n",
       "      <th></th>\n",
       "      <th>film_id</th>\n",
       "      <th>film_name</th>\n",
       "      <th>price_ticket</th>\n",
       "      <th>release_year</th>\n",
       "      <th>filmmaker</th>\n",
       "      <th>kind_film</th>\n",
       "      <th>is_exp</th>\n",
       "    </tr>\n",
       "  </thead>\n",
       "  <tbody>\n",
       "    <tr>\n",
       "      <th>0</th>\n",
       "      <td>1</td>\n",
       "      <td>Побег из Шоушенка</td>\n",
       "      <td>190</td>\n",
       "      <td>1994</td>\n",
       "      <td>Фрэнк Дарабонт</td>\n",
       "      <td>драма</td>\n",
       "      <td>cheap</td>\n",
       "    </tr>\n",
       "    <tr>\n",
       "      <th>1</th>\n",
       "      <td>2</td>\n",
       "      <td>Крёстный отец</td>\n",
       "      <td>190</td>\n",
       "      <td>1972</td>\n",
       "      <td>Фрэнсис Форд Коппола</td>\n",
       "      <td>детектив, драма</td>\n",
       "      <td>cheap</td>\n",
       "    </tr>\n",
       "    <tr>\n",
       "      <th>2</th>\n",
       "      <td>3</td>\n",
       "      <td>Тёмный рыцарь</td>\n",
       "      <td>340</td>\n",
       "      <td>2008</td>\n",
       "      <td>Кристофер Нолан</td>\n",
       "      <td>боевик, детектив, драма</td>\n",
       "      <td>expensive</td>\n",
       "    </tr>\n",
       "    <tr>\n",
       "      <th>3</th>\n",
       "      <td>4</td>\n",
       "      <td>Крёстный отец 2</td>\n",
       "      <td>290</td>\n",
       "      <td>1974</td>\n",
       "      <td>Фрэнсис Форд Коппола</td>\n",
       "      <td>детектив, драма</td>\n",
       "      <td>expensive</td>\n",
       "    </tr>\n",
       "    <tr>\n",
       "      <th>4</th>\n",
       "      <td>5</td>\n",
       "      <td>12 разгневанных мужчин</td>\n",
       "      <td>290</td>\n",
       "      <td>1957</td>\n",
       "      <td>Сидни Люмет</td>\n",
       "      <td>детектив, драма</td>\n",
       "      <td>expensive</td>\n",
       "    </tr>\n",
       "    <tr>\n",
       "      <th>5</th>\n",
       "      <td>6</td>\n",
       "      <td>Список Шиндлера</td>\n",
       "      <td>190</td>\n",
       "      <td>1993</td>\n",
       "      <td>Стивен Спилберг</td>\n",
       "      <td>байопик, драма, исторический фильм</td>\n",
       "      <td>cheap</td>\n",
       "    </tr>\n",
       "    <tr>\n",
       "      <th>6</th>\n",
       "      <td>7</td>\n",
       "      <td>Властелин колец: Возвращение короля</td>\n",
       "      <td>290</td>\n",
       "      <td>2003</td>\n",
       "      <td>Питер Джексон</td>\n",
       "      <td>боевик, приключение, драма</td>\n",
       "      <td>expensive</td>\n",
       "    </tr>\n",
       "    <tr>\n",
       "      <th>7</th>\n",
       "      <td>8</td>\n",
       "      <td>Криминальное чтиво</td>\n",
       "      <td>290</td>\n",
       "      <td>1994</td>\n",
       "      <td>Квентин Тарантино</td>\n",
       "      <td>детектив, драма</td>\n",
       "      <td>expensive</td>\n",
       "    </tr>\n",
       "  </tbody>\n",
       "</table>\n",
       "</div>"
      ],
      "text/plain": [
       "   film_id                            film_name  price_ticket  release_year  \\\n",
       "0        1                    Побег из Шоушенка           190          1994   \n",
       "1        2                        Крёстный отец           190          1972   \n",
       "2        3                        Тёмный рыцарь           340          2008   \n",
       "3        4                      Крёстный отец 2           290          1974   \n",
       "4        5               12 разгневанных мужчин           290          1957   \n",
       "5        6                      Список Шиндлера           190          1993   \n",
       "6        7  Властелин колец: Возвращение короля           290          2003   \n",
       "7        8                   Криминальное чтиво           290          1994   \n",
       "\n",
       "              filmmaker                           kind_film     is_exp  \n",
       "0        Фрэнк Дарабонт                               драма      cheap  \n",
       "1  Фрэнсис Форд Коппола                     детектив, драма      cheap  \n",
       "2       Кристофер Нолан             боевик, детектив, драма  expensive  \n",
       "3  Фрэнсис Форд Коппола                     детектив, драма  expensive  \n",
       "4           Сидни Люмет                     детектив, драма  expensive  \n",
       "5       Стивен Спилберг  байопик, драма, исторический фильм      cheap  \n",
       "6         Питер Джексон          боевик, приключение, драма  expensive  \n",
       "7     Квентин Тарантино                     детектив, драма  expensive  "
      ]
     },
     "execution_count": 98,
     "metadata": {},
     "output_type": "execute_result"
    }
   ],
   "source": [
    "films_short['is_exp'] = np.where(films_short['price_ticket'] >= 200, 'expensive', 'cheap')\n",
    "films_short"
   ]
  },
  {
   "cell_type": "code",
   "execution_count": 101,
   "id": "b6f2804e-a299-4d72-9768-8c0231b3e8e9",
   "metadata": {},
   "outputs": [
    {
     "data": {
      "text/html": [
       "<div>\n",
       "<style scoped>\n",
       "    .dataframe tbody tr th:only-of-type {\n",
       "        vertical-align: middle;\n",
       "    }\n",
       "\n",
       "    .dataframe tbody tr th {\n",
       "        vertical-align: top;\n",
       "    }\n",
       "\n",
       "    .dataframe thead th {\n",
       "        text-align: right;\n",
       "    }\n",
       "</style>\n",
       "<table border=\"1\" class=\"dataframe\">\n",
       "  <thead>\n",
       "    <tr style=\"text-align: right;\">\n",
       "      <th></th>\n",
       "      <th>film_id</th>\n",
       "      <th>film_name</th>\n",
       "      <th>price_ticket</th>\n",
       "      <th>release_year</th>\n",
       "      <th>filmmaker</th>\n",
       "      <th>kind_film</th>\n",
       "      <th>is_exp</th>\n",
       "    </tr>\n",
       "  </thead>\n",
       "  <tbody>\n",
       "    <tr>\n",
       "      <th>2</th>\n",
       "      <td>3</td>\n",
       "      <td>Тёмный рыцарь</td>\n",
       "      <td>340</td>\n",
       "      <td>2008</td>\n",
       "      <td>Кристофер Нолан</td>\n",
       "      <td>боевик, детектив, драма</td>\n",
       "      <td>expensive</td>\n",
       "    </tr>\n",
       "    <tr>\n",
       "      <th>6</th>\n",
       "      <td>7</td>\n",
       "      <td>Властелин колец: Возвращение короля</td>\n",
       "      <td>290</td>\n",
       "      <td>2003</td>\n",
       "      <td>Питер Джексон</td>\n",
       "      <td>боевик, приключение, драма</td>\n",
       "      <td>expensive</td>\n",
       "    </tr>\n",
       "  </tbody>\n",
       "</table>\n",
       "</div>"
      ],
      "text/plain": [
       "   film_id                            film_name  price_ticket  release_year  \\\n",
       "2        3                        Тёмный рыцарь           340          2008   \n",
       "6        7  Властелин колец: Возвращение короля           290          2003   \n",
       "\n",
       "         filmmaker                   kind_film     is_exp  \n",
       "2  Кристофер Нолан     боевик, детектив, драма  expensive  \n",
       "6    Питер Джексон  боевик, приключение, драма  expensive  "
      ]
     },
     "execution_count": 101,
     "metadata": {},
     "output_type": "execute_result"
    }
   ],
   "source": [
    "films_short[\n",
    "(films_short['price_ticket'] >= 200) & \n",
    "(films_short['release_year'] >= 2000)\n",
    "]"
   ]
  },
  {
   "cell_type": "code",
   "execution_count": 102,
   "id": "4a543b88-9925-4fd2-b8a2-cc276055dc2a",
   "metadata": {},
   "outputs": [
    {
     "data": {
      "text/html": [
       "<div>\n",
       "<style scoped>\n",
       "    .dataframe tbody tr th:only-of-type {\n",
       "        vertical-align: middle;\n",
       "    }\n",
       "\n",
       "    .dataframe tbody tr th {\n",
       "        vertical-align: top;\n",
       "    }\n",
       "\n",
       "    .dataframe thead th {\n",
       "        text-align: right;\n",
       "    }\n",
       "</style>\n",
       "<table border=\"1\" class=\"dataframe\">\n",
       "  <thead>\n",
       "    <tr style=\"text-align: right;\">\n",
       "      <th></th>\n",
       "      <th>film_id</th>\n",
       "      <th>film_name</th>\n",
       "      <th>price_ticket</th>\n",
       "      <th>release_year</th>\n",
       "      <th>filmmaker</th>\n",
       "      <th>kind_film</th>\n",
       "      <th>is_exp</th>\n",
       "      <th>сложное условие</th>\n",
       "    </tr>\n",
       "  </thead>\n",
       "  <tbody>\n",
       "    <tr>\n",
       "      <th>0</th>\n",
       "      <td>1</td>\n",
       "      <td>Побег из Шоушенка</td>\n",
       "      <td>190</td>\n",
       "      <td>1994</td>\n",
       "      <td>Фрэнк Дарабонт</td>\n",
       "      <td>драма</td>\n",
       "      <td>cheap</td>\n",
       "      <td>0</td>\n",
       "    </tr>\n",
       "    <tr>\n",
       "      <th>1</th>\n",
       "      <td>2</td>\n",
       "      <td>Крёстный отец</td>\n",
       "      <td>190</td>\n",
       "      <td>1972</td>\n",
       "      <td>Фрэнсис Форд Коппола</td>\n",
       "      <td>детектив, драма</td>\n",
       "      <td>cheap</td>\n",
       "      <td>0</td>\n",
       "    </tr>\n",
       "    <tr>\n",
       "      <th>2</th>\n",
       "      <td>3</td>\n",
       "      <td>Тёмный рыцарь</td>\n",
       "      <td>340</td>\n",
       "      <td>2008</td>\n",
       "      <td>Кристофер Нолан</td>\n",
       "      <td>боевик, детектив, драма</td>\n",
       "      <td>expensive</td>\n",
       "      <td>1</td>\n",
       "    </tr>\n",
       "    <tr>\n",
       "      <th>3</th>\n",
       "      <td>4</td>\n",
       "      <td>Крёстный отец 2</td>\n",
       "      <td>290</td>\n",
       "      <td>1974</td>\n",
       "      <td>Фрэнсис Форд Коппола</td>\n",
       "      <td>детектив, драма</td>\n",
       "      <td>expensive</td>\n",
       "      <td>0</td>\n",
       "    </tr>\n",
       "    <tr>\n",
       "      <th>4</th>\n",
       "      <td>5</td>\n",
       "      <td>12 разгневанных мужчин</td>\n",
       "      <td>290</td>\n",
       "      <td>1957</td>\n",
       "      <td>Сидни Люмет</td>\n",
       "      <td>детектив, драма</td>\n",
       "      <td>expensive</td>\n",
       "      <td>0</td>\n",
       "    </tr>\n",
       "    <tr>\n",
       "      <th>5</th>\n",
       "      <td>6</td>\n",
       "      <td>Список Шиндлера</td>\n",
       "      <td>190</td>\n",
       "      <td>1993</td>\n",
       "      <td>Стивен Спилберг</td>\n",
       "      <td>байопик, драма, исторический фильм</td>\n",
       "      <td>cheap</td>\n",
       "      <td>0</td>\n",
       "    </tr>\n",
       "    <tr>\n",
       "      <th>6</th>\n",
       "      <td>7</td>\n",
       "      <td>Властелин колец: Возвращение короля</td>\n",
       "      <td>290</td>\n",
       "      <td>2003</td>\n",
       "      <td>Питер Джексон</td>\n",
       "      <td>боевик, приключение, драма</td>\n",
       "      <td>expensive</td>\n",
       "      <td>1</td>\n",
       "    </tr>\n",
       "    <tr>\n",
       "      <th>7</th>\n",
       "      <td>8</td>\n",
       "      <td>Криминальное чтиво</td>\n",
       "      <td>290</td>\n",
       "      <td>1994</td>\n",
       "      <td>Квентин Тарантино</td>\n",
       "      <td>детектив, драма</td>\n",
       "      <td>expensive</td>\n",
       "      <td>0</td>\n",
       "    </tr>\n",
       "  </tbody>\n",
       "</table>\n",
       "</div>"
      ],
      "text/plain": [
       "   film_id                            film_name  price_ticket  release_year  \\\n",
       "0        1                    Побег из Шоушенка           190          1994   \n",
       "1        2                        Крёстный отец           190          1972   \n",
       "2        3                        Тёмный рыцарь           340          2008   \n",
       "3        4                      Крёстный отец 2           290          1974   \n",
       "4        5               12 разгневанных мужчин           290          1957   \n",
       "5        6                      Список Шиндлера           190          1993   \n",
       "6        7  Властелин колец: Возвращение короля           290          2003   \n",
       "7        8                   Криминальное чтиво           290          1994   \n",
       "\n",
       "              filmmaker                           kind_film     is_exp  \\\n",
       "0        Фрэнк Дарабонт                               драма      cheap   \n",
       "1  Фрэнсис Форд Коппола                     детектив, драма      cheap   \n",
       "2       Кристофер Нолан             боевик, детектив, драма  expensive   \n",
       "3  Фрэнсис Форд Коппола                     детектив, драма  expensive   \n",
       "4           Сидни Люмет                     детектив, драма  expensive   \n",
       "5       Стивен Спилберг  байопик, драма, исторический фильм      cheap   \n",
       "6         Питер Джексон          боевик, приключение, драма  expensive   \n",
       "7     Квентин Тарантино                     детектив, драма  expensive   \n",
       "\n",
       "   сложное условие  \n",
       "0                0  \n",
       "1                0  \n",
       "2                1  \n",
       "3                0  \n",
       "4                0  \n",
       "5                0  \n",
       "6                1  \n",
       "7                0  "
      ]
     },
     "execution_count": 102,
     "metadata": {},
     "output_type": "execute_result"
    }
   ],
   "source": [
    "films_short['сложное условие'] = np.where(\n",
    "    (films_short['price_ticket'] >= 200) & (films_short['release_year'] >= 2000), \n",
    "    1, \n",
    "    0\n",
    ")\n",
    "films_short"
   ]
  },
  {
   "cell_type": "code",
   "execution_count": 109,
   "id": "6131bb08-bb9d-4ea4-96e7-ddaef2174ca5",
   "metadata": {},
   "outputs": [
    {
     "data": {
      "text/plain": [
       "0.25"
      ]
     },
     "execution_count": 109,
     "metadata": {},
     "output_type": "execute_result"
    }
   ],
   "source": [
    "films_short['сложное условие'].mean()"
   ]
  },
  {
   "cell_type": "code",
   "execution_count": 108,
   "id": "35049008-7349-41d7-93a3-c193bfba7a1f",
   "metadata": {},
   "outputs": [
    {
     "name": "stdout",
     "output_type": "stream",
     "text": [
      "Доля таких фильмов: 25.0%\n"
     ]
    }
   ],
   "source": [
    "print('Доля таких фильмов: ' + str(films_short['сложное условие'].mean()*100) + '%')"
   ]
  },
  {
   "cell_type": "markdown",
   "id": "995f10e8-eddf-4995-873a-238eeec5d337",
   "metadata": {},
   "source": [
    "# Домашнее задание по семинару 👨‍💻"
   ]
  },
  {
   "cell_type": "markdown",
   "id": "0637e2b6-1742-4d7a-b657-d610a739d4dd",
   "metadata": {},
   "source": [
    "## 1. Напишите несколько Лямбда-функций: \n",
    "1.1 которая принимаюет строку и возвращает ее длину <br>\n",
    "1.2 которая принимает число и возвращает его квадрат<br>\n",
    "1.3 которая принимает `float` и возвращает его мантиссу (все, что после плавающей точки). *Тип данных вывода не важен.*"
   ]
  },
  {
   "cell_type": "code",
   "execution_count": 1,
   "id": "292f384a-2e7f-4512-af0f-264f810bf162",
   "metadata": {},
   "outputs": [],
   "source": [
    "# your code "
   ]
  },
  {
   "cell_type": "markdown",
   "id": "8760704f-b0d3-4be5-a16e-8bb5834b1c50",
   "metadata": {},
   "source": [
    "## 2. Проверка требований к афише"
   ]
  },
  {
   "cell_type": "markdown",
   "id": "3c5d14c1-18f8-4179-bb88-b378aead170b",
   "metadata": {},
   "source": [
    "На основании созданного на семинаре столбца `name_length_for_poster` (для этого надо прогнать весь код выше), создайте столбец `is_fit_to_poster`, в котором будет результат, поместится ли название на афишу (помещается название до 15 символов) <br><br>\n",
    "Сделайте двумя способами (с помощью обычного логического выражения и с помощью связки **apply + лямбда-функция**)"
   ]
  },
  {
   "cell_type": "code",
   "execution_count": 2,
   "id": "0925551b-c72f-45f4-bfe8-ebe5924e84a8",
   "metadata": {},
   "outputs": [],
   "source": [
    "# your code "
   ]
  },
  {
   "cell_type": "markdown",
   "id": "1f005dd6-8a92-4efa-bce0-93107b5d7ed7",
   "metadata": {},
   "source": [
    "## 3 *. Найти потеряшку"
   ]
  },
  {
   "cell_type": "markdown",
   "id": "ee2fcecb-4b32-4e06-ac9d-efa997f199b4",
   "metadata": {},
   "source": [
    "От начальства поступила задача найти конкретного клиента и всю информацию по нему. Однако никто не помнит первый символ в его  `client_id`. Известно, что заканчивается на `G35`.<br><br>\n",
    "\n",
    "Найдите этого клиента и выведите всю информацию по нему (все строки датафрейма).\n",
    "\n",
    "*Возможный вариант выполнения:*<br>\n",
    "*1. Применить связку **apply + lambda** к столбцу `client_id`, вернув срезом только 3 последних символа*<br>\n",
    "*2. С помощью получившегося **series** с урезанной версией  `client_id` создать логическое выражение (проверить на равенство известной части айдишника)*<br>\n",
    "*3. С помощью получившегося логического выражения отфильтровать датайрефм, применив логическую индексацию.*<br>"
   ]
  },
  {
   "cell_type": "code",
   "execution_count": 3,
   "id": "e84ecdfd-7e3c-4163-8228-185a6a217cf3",
   "metadata": {},
   "outputs": [],
   "source": [
    "# your code "
   ]
  },
  {
   "cell_type": "markdown",
   "id": "d5f90c94-fcd8-491f-b52e-0c3fe1c4d200",
   "metadata": {},
   "source": [
    "## 4. Создайте столбец \"Детективчик\""
   ]
  },
  {
   "cell_type": "markdown",
   "id": "d3887bb5-e36f-4ec0-938c-c24029c9f4c7",
   "metadata": {},
   "source": [
    "В датафрейме **films** на основе столбца `kind_film` создайте новый столбец с названием \"Детективчик\". Фильм \"Детективчик\", если в перечислении жанров в `kind_film` встречается \"детектив\""
   ]
  },
  {
   "cell_type": "code",
   "execution_count": null,
   "id": "8159dc52-64ca-4445-8f9c-f994eaaacaf2",
   "metadata": {},
   "outputs": [],
   "source": [
    "# your code "
   ]
  },
  {
   "cell_type": "markdown",
   "id": "2236ce2b-2d10-45a1-9d50-a19eab74a389",
   "metadata": {},
   "source": [
    "## 5. Что-то такое было на Семинаре 1..."
   ]
  },
  {
   "cell_type": "markdown",
   "id": "6f191579-9b35-4c18-beb0-0c7511560d9e",
   "metadata": {},
   "source": [
    "В датафрейме **films** cоздайте столбец при помощи np.where, где проставляется 1, если удовлетворяет условию, и 0, если нет.\n",
    "\n",
    "**Условие**: все фильмы с ценой либо меньше 190, либо больше 300. Которые снял НЕ Кристофер Нолан в датафрейме `films`\n",
    "\n",
    "Посчитайте долю фильмов с таким условием"
   ]
  },
  {
   "cell_type": "code",
   "execution_count": null,
   "id": "10dd4448-3100-4710-b039-af56a25c79e6",
   "metadata": {},
   "outputs": [],
   "source": [
    "# your code "
   ]
  }
 ],
 "metadata": {
  "kernelspec": {
   "display_name": "Python 3 (ipykernel)",
   "language": "python",
   "name": "python3"
  },
  "language_info": {
   "codemirror_mode": {
    "name": "ipython",
    "version": 3
   },
   "file_extension": ".py",
   "mimetype": "text/x-python",
   "name": "python",
   "nbconvert_exporter": "python",
   "pygments_lexer": "ipython3",
   "version": "3.12.3"
  }
 },
 "nbformat": 4,
 "nbformat_minor": 5
}
