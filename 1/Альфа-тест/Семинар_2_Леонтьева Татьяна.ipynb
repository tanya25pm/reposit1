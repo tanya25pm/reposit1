{
 "cells": [
  {
   "cell_type": "markdown",
   "id": "dd2ff08c-5414-4bf0-a1ef-88a6025ccc48",
   "metadata": {},
   "source": [
    "# Подключения и функции"
   ]
  },
  {
   "cell_type": "code",
   "execution_count": 2,
   "id": "17fc1cff-30ab-4316-8285-6f25b8485975",
   "metadata": {
    "ExecuteTime": {
     "end_time": "2024-05-12T17:57:38.349035Z",
     "start_time": "2024-05-12T17:57:37.218472Z"
    }
   },
   "outputs": [],
   "source": [
    "# Импорт\n",
    "\n",
    "import pandas as pd\n",
    "from clickhouse_driver import Client\n",
    "import warnings\n",
    "warnings.filterwarnings('ignore')"
   ]
  },
  {
   "cell_type": "code",
   "execution_count": 3,
   "id": "9288f427-09a7-4cd7-9332-d44a95d57da9",
   "metadata": {
    "ExecuteTime": {
     "end_time": "2024-05-12T17:57:42.933026Z",
     "start_time": "2024-05-12T17:57:42.929863Z"
    }
   },
   "outputs": [],
   "source": [
    "# Функция создания датафрейма\n",
    "\n",
    "def create_dataframe(user, password, table_name='films'):\n",
    "    client = Client('90.156.216.60', user=user, password=password, database='it_minimalist_CH')\n",
    "    query = f'SELECT * FROM {table_name}'\n",
    "    df = client.query_dataframe(query)\n",
    "    return df"
   ]
  },
  {
   "cell_type": "markdown",
   "id": "916b8c57-2525-449a-9719-722cb3964ccc",
   "metadata": {},
   "source": [
    "В ячейке ниже создается датафрейм в переменной `df`.\n",
    "<br>\n",
    "\n",
    "- Замените `'your_username'`, `'your_password'` на ваши учетные данные, которые получили на почту (у каждого своя учетная запись с индивидуальным доступом к БД Clickhouse).\n",
    "<br>\n",
    "- Как вы заметили в параметрах функции `create_dataframe`, по умолчанию датафрейм создатеся из таблицы `'films'`. Также в базе данных лежит таблица `'payments'`"
   ]
  },
  {
   "cell_type": "code",
   "execution_count": 4,
   "id": "e171c923-8e97-4eca-87bb-054d0e5c1972",
   "metadata": {},
   "outputs": [],
   "source": [
    "films = create_dataframe(user='tanya25pm', password='klcemshu', table_name='films')\n",
    "\n",
    "payments = create_dataframe(user='tanya25pm', password='klcemshu', table_name='payments')"
   ]
  },
  {
   "cell_type": "code",
   "execution_count": 10,
   "id": "05d32c9e-9746-424e-a048-83d32f75d618",
   "metadata": {},
   "outputs": [
    {
     "ename": "KeyError",
     "evalue": "['количество билетов']",
     "output_type": "error",
     "traceback": [
      "\u001b[1;31m---------------------------------------------------------------------------\u001b[0m",
      "\u001b[1;31mKeyError\u001b[0m                                  Traceback (most recent call last)",
      "\u001b[1;32m~\\AppData\\Local\\Temp\\ipykernel_2508\\3124023429.py\u001b[0m in \u001b[0;36m?\u001b[1;34m()\u001b[0m\n\u001b[1;32m----> 1\u001b[1;33m \u001b[0mpayments\u001b[0m\u001b[1;33m.\u001b[0m\u001b[0mdropna\u001b[0m\u001b[1;33m(\u001b[0m\u001b[0msubset\u001b[0m\u001b[1;33m=\u001b[0m\u001b[1;34m'количество билетов'\u001b[0m\u001b[1;33m,\u001b[0m \u001b[0minplace\u001b[0m\u001b[1;33m=\u001b[0m\u001b[1;32mTrue\u001b[0m\u001b[1;33m)\u001b[0m \u001b[1;31m# удаление строк с пропусками (из конкретного столбца)\u001b[0m\u001b[1;33m\u001b[0m\u001b[1;33m\u001b[0m\u001b[0m\n\u001b[0m",
      "\u001b[1;32mc:\\Users\\Tanya\\AppData\\Local\\Programs\\Python\\Python39\\lib\\site-packages\\pandas\\core\\frame.py\u001b[0m in \u001b[0;36m?\u001b[1;34m(self, axis, how, thresh, subset, inplace, ignore_index)\u001b[0m\n\u001b[0;32m   6653\u001b[0m             \u001b[0max\u001b[0m \u001b[1;33m=\u001b[0m \u001b[0mself\u001b[0m\u001b[1;33m.\u001b[0m\u001b[0m_get_axis\u001b[0m\u001b[1;33m(\u001b[0m\u001b[0magg_axis\u001b[0m\u001b[1;33m)\u001b[0m\u001b[1;33m\u001b[0m\u001b[1;33m\u001b[0m\u001b[0m\n\u001b[0;32m   6654\u001b[0m             \u001b[0mindices\u001b[0m \u001b[1;33m=\u001b[0m \u001b[0max\u001b[0m\u001b[1;33m.\u001b[0m\u001b[0mget_indexer_for\u001b[0m\u001b[1;33m(\u001b[0m\u001b[0msubset\u001b[0m\u001b[1;33m)\u001b[0m\u001b[1;33m\u001b[0m\u001b[1;33m\u001b[0m\u001b[0m\n\u001b[0;32m   6655\u001b[0m             \u001b[0mcheck\u001b[0m \u001b[1;33m=\u001b[0m \u001b[0mindices\u001b[0m \u001b[1;33m==\u001b[0m \u001b[1;33m-\u001b[0m\u001b[1;36m1\u001b[0m\u001b[1;33m\u001b[0m\u001b[1;33m\u001b[0m\u001b[0m\n\u001b[0;32m   6656\u001b[0m             \u001b[1;32mif\u001b[0m \u001b[0mcheck\u001b[0m\u001b[1;33m.\u001b[0m\u001b[0many\u001b[0m\u001b[1;33m(\u001b[0m\u001b[1;33m)\u001b[0m\u001b[1;33m:\u001b[0m\u001b[1;33m\u001b[0m\u001b[1;33m\u001b[0m\u001b[0m\n\u001b[1;32m-> 6657\u001b[1;33m                 \u001b[1;32mraise\u001b[0m \u001b[0mKeyError\u001b[0m\u001b[1;33m(\u001b[0m\u001b[0mnp\u001b[0m\u001b[1;33m.\u001b[0m\u001b[0marray\u001b[0m\u001b[1;33m(\u001b[0m\u001b[0msubset\u001b[0m\u001b[1;33m)\u001b[0m\u001b[1;33m[\u001b[0m\u001b[0mcheck\u001b[0m\u001b[1;33m]\u001b[0m\u001b[1;33m.\u001b[0m\u001b[0mtolist\u001b[0m\u001b[1;33m(\u001b[0m\u001b[1;33m)\u001b[0m\u001b[1;33m)\u001b[0m\u001b[1;33m\u001b[0m\u001b[1;33m\u001b[0m\u001b[0m\n\u001b[0m\u001b[0;32m   6658\u001b[0m             \u001b[0magg_obj\u001b[0m \u001b[1;33m=\u001b[0m \u001b[0mself\u001b[0m\u001b[1;33m.\u001b[0m\u001b[0mtake\u001b[0m\u001b[1;33m(\u001b[0m\u001b[0mindices\u001b[0m\u001b[1;33m,\u001b[0m \u001b[0maxis\u001b[0m\u001b[1;33m=\u001b[0m\u001b[0magg_axis\u001b[0m\u001b[1;33m)\u001b[0m\u001b[1;33m\u001b[0m\u001b[1;33m\u001b[0m\u001b[0m\n\u001b[0;32m   6659\u001b[0m \u001b[1;33m\u001b[0m\u001b[0m\n\u001b[0;32m   6660\u001b[0m         \u001b[1;32mif\u001b[0m \u001b[0mthresh\u001b[0m \u001b[1;32mis\u001b[0m \u001b[1;32mnot\u001b[0m \u001b[0mlib\u001b[0m\u001b[1;33m.\u001b[0m\u001b[0mno_default\u001b[0m\u001b[1;33m:\u001b[0m\u001b[1;33m\u001b[0m\u001b[1;33m\u001b[0m\u001b[0m\n",
      "\u001b[1;31mKeyError\u001b[0m: ['количество билетов']"
     ]
    }
   ],
   "source": [
    "payments.dropna(subset='количество билетов', inplace=True) # удаление строк с пропусками (из конкретного столбца)"
   ]
  },
  {
   "cell_type": "code",
   "execution_count": null,
   "id": "e07c7d01-22d7-4421-aeaa-9d78a4fdf053",
   "metadata": {},
   "outputs": [
    {
     "data": {
      "text/plain": [
       "(3962, 5)"
      ]
     },
     "execution_count": 6,
     "metadata": {},
     "output_type": "execute_result"
    }
   ],
   "source": [
    "payments.shape"
   ]
  },
  {
   "cell_type": "code",
   "execution_count": null,
   "id": "0a53fa07-da2f-41cd-ae5b-b52771b9cc4e",
   "metadata": {},
   "outputs": [
    {
     "data": {
      "text/html": [
       "<div>\n",
       "<style scoped>\n",
       "    .dataframe tbody tr th:only-of-type {\n",
       "        vertical-align: middle;\n",
       "    }\n",
       "\n",
       "    .dataframe tbody tr th {\n",
       "        vertical-align: top;\n",
       "    }\n",
       "\n",
       "    .dataframe thead th {\n",
       "        text-align: right;\n",
       "    }\n",
       "</style>\n",
       "<table border=\"1\" class=\"dataframe\">\n",
       "  <thead>\n",
       "    <tr style=\"text-align: right;\">\n",
       "      <th></th>\n",
       "      <th>pay_date</th>\n",
       "      <th>film_id</th>\n",
       "      <th>part_of_day</th>\n",
       "      <th>client_id</th>\n",
       "      <th>count_tickets</th>\n",
       "    </tr>\n",
       "  </thead>\n",
       "  <tbody>\n",
       "    <tr>\n",
       "      <th>0</th>\n",
       "      <td>False</td>\n",
       "      <td>False</td>\n",
       "      <td>False</td>\n",
       "      <td>False</td>\n",
       "      <td>False</td>\n",
       "    </tr>\n",
       "    <tr>\n",
       "      <th>1</th>\n",
       "      <td>False</td>\n",
       "      <td>False</td>\n",
       "      <td>False</td>\n",
       "      <td>False</td>\n",
       "      <td>False</td>\n",
       "    </tr>\n",
       "    <tr>\n",
       "      <th>2</th>\n",
       "      <td>False</td>\n",
       "      <td>False</td>\n",
       "      <td>False</td>\n",
       "      <td>False</td>\n",
       "      <td>False</td>\n",
       "    </tr>\n",
       "    <tr>\n",
       "      <th>3</th>\n",
       "      <td>False</td>\n",
       "      <td>False</td>\n",
       "      <td>False</td>\n",
       "      <td>False</td>\n",
       "      <td>False</td>\n",
       "    </tr>\n",
       "    <tr>\n",
       "      <th>4</th>\n",
       "      <td>False</td>\n",
       "      <td>False</td>\n",
       "      <td>False</td>\n",
       "      <td>False</td>\n",
       "      <td>False</td>\n",
       "    </tr>\n",
       "    <tr>\n",
       "      <th>...</th>\n",
       "      <td>...</td>\n",
       "      <td>...</td>\n",
       "      <td>...</td>\n",
       "      <td>...</td>\n",
       "      <td>...</td>\n",
       "    </tr>\n",
       "    <tr>\n",
       "      <th>3957</th>\n",
       "      <td>False</td>\n",
       "      <td>False</td>\n",
       "      <td>False</td>\n",
       "      <td>False</td>\n",
       "      <td>False</td>\n",
       "    </tr>\n",
       "    <tr>\n",
       "      <th>3958</th>\n",
       "      <td>False</td>\n",
       "      <td>False</td>\n",
       "      <td>False</td>\n",
       "      <td>False</td>\n",
       "      <td>False</td>\n",
       "    </tr>\n",
       "    <tr>\n",
       "      <th>3959</th>\n",
       "      <td>False</td>\n",
       "      <td>False</td>\n",
       "      <td>False</td>\n",
       "      <td>False</td>\n",
       "      <td>False</td>\n",
       "    </tr>\n",
       "    <tr>\n",
       "      <th>3960</th>\n",
       "      <td>False</td>\n",
       "      <td>False</td>\n",
       "      <td>False</td>\n",
       "      <td>False</td>\n",
       "      <td>False</td>\n",
       "    </tr>\n",
       "    <tr>\n",
       "      <th>3961</th>\n",
       "      <td>False</td>\n",
       "      <td>False</td>\n",
       "      <td>False</td>\n",
       "      <td>False</td>\n",
       "      <td>False</td>\n",
       "    </tr>\n",
       "  </tbody>\n",
       "</table>\n",
       "<p>3962 rows × 5 columns</p>\n",
       "</div>"
      ],
      "text/plain": [
       "      pay_date  film_id  part_of_day  client_id  count_tickets\n",
       "0        False    False        False      False          False\n",
       "1        False    False        False      False          False\n",
       "2        False    False        False      False          False\n",
       "3        False    False        False      False          False\n",
       "4        False    False        False      False          False\n",
       "...        ...      ...          ...        ...            ...\n",
       "3957     False    False        False      False          False\n",
       "3958     False    False        False      False          False\n",
       "3959     False    False        False      False          False\n",
       "3960     False    False        False      False          False\n",
       "3961     False    False        False      False          False\n",
       "\n",
       "[3962 rows x 5 columns]"
      ]
     },
     "execution_count": 6,
     "metadata": {},
     "output_type": "execute_result"
    }
   ],
   "source": [
    "payments.isna()"
   ]
  },
  {
   "cell_type": "code",
   "execution_count": null,
   "id": "66cf9cb7-9ae9-416b-92f2-f9dbdfe530e3",
   "metadata": {},
   "outputs": [
    {
     "data": {
      "text/plain": [
       "11"
      ]
     },
     "execution_count": 7,
     "metadata": {},
     "output_type": "execute_result"
    }
   ],
   "source": [
    "payments.duplicated().sum() # сумма дублей по всему датафрейму"
   ]
  },
  {
   "cell_type": "code",
   "execution_count": null,
   "id": "057241e3-85f7-438d-b83e-9e03fdc46d60",
   "metadata": {},
   "outputs": [
    {
     "data": {
      "text/plain": [
       "0       False\n",
       "1       False\n",
       "2       False\n",
       "3       False\n",
       "4       False\n",
       "        ...  \n",
       "3957    False\n",
       "3958    False\n",
       "3959    False\n",
       "3960    False\n",
       "3961    False\n",
       "Length: 3962, dtype: bool"
      ]
     },
     "execution_count": 9,
     "metadata": {},
     "output_type": "execute_result"
    }
   ],
   "source": [
    "payments.duplicated()"
   ]
  },
  {
   "cell_type": "code",
   "execution_count": null,
   "id": "611a125b-28eb-4533-9a6a-7d4c43b55ced",
   "metadata": {},
   "outputs": [
    {
     "data": {
      "text/html": [
       "<div>\n",
       "<style scoped>\n",
       "    .dataframe tbody tr th:only-of-type {\n",
       "        vertical-align: middle;\n",
       "    }\n",
       "\n",
       "    .dataframe tbody tr th {\n",
       "        vertical-align: top;\n",
       "    }\n",
       "\n",
       "    .dataframe thead th {\n",
       "        text-align: right;\n",
       "    }\n",
       "</style>\n",
       "<table border=\"1\" class=\"dataframe\">\n",
       "  <thead>\n",
       "    <tr style=\"text-align: right;\">\n",
       "      <th></th>\n",
       "      <th>pay_date</th>\n",
       "      <th>film_id</th>\n",
       "      <th>part_of_day</th>\n",
       "      <th>client_id</th>\n",
       "      <th>count_tickets</th>\n",
       "    </tr>\n",
       "  </thead>\n",
       "  <tbody>\n",
       "    <tr>\n",
       "      <th>3402</th>\n",
       "      <td>2024-03-20</td>\n",
       "      <td>48</td>\n",
       "      <td>утренний</td>\n",
       "      <td>YB14</td>\n",
       "      <td>1.0</td>\n",
       "    </tr>\n",
       "    <tr>\n",
       "      <th>3403</th>\n",
       "      <td>2024-03-20</td>\n",
       "      <td>48</td>\n",
       "      <td>утренний</td>\n",
       "      <td>YB14</td>\n",
       "      <td>1.0</td>\n",
       "    </tr>\n",
       "    <tr>\n",
       "      <th>3404</th>\n",
       "      <td>2024-03-04</td>\n",
       "      <td>49</td>\n",
       "      <td>утренний</td>\n",
       "      <td>JN23</td>\n",
       "      <td>1.0</td>\n",
       "    </tr>\n",
       "    <tr>\n",
       "      <th>3405</th>\n",
       "      <td>2024-04-20</td>\n",
       "      <td>42</td>\n",
       "      <td>вечерний</td>\n",
       "      <td>YH62</td>\n",
       "      <td>3.0</td>\n",
       "    </tr>\n",
       "    <tr>\n",
       "      <th>3406</th>\n",
       "      <td>2024-04-20</td>\n",
       "      <td>42</td>\n",
       "      <td>вечерний</td>\n",
       "      <td>YH62</td>\n",
       "      <td>3.0</td>\n",
       "    </tr>\n",
       "    <tr>\n",
       "      <th>3407</th>\n",
       "      <td>2024-03-10</td>\n",
       "      <td>37</td>\n",
       "      <td>дневной</td>\n",
       "      <td>QF27</td>\n",
       "      <td>5.0</td>\n",
       "    </tr>\n",
       "    <tr>\n",
       "      <th>3408</th>\n",
       "      <td>2024-04-20</td>\n",
       "      <td>42</td>\n",
       "      <td>вечерний</td>\n",
       "      <td>YH62</td>\n",
       "      <td>3.0</td>\n",
       "    </tr>\n",
       "    <tr>\n",
       "      <th>3409</th>\n",
       "      <td>2024-03-10</td>\n",
       "      <td>37</td>\n",
       "      <td>дневной</td>\n",
       "      <td>QF27</td>\n",
       "      <td>5.0</td>\n",
       "    </tr>\n",
       "    <tr>\n",
       "      <th>3410</th>\n",
       "      <td>2024-04-20</td>\n",
       "      <td>42</td>\n",
       "      <td>вечерний</td>\n",
       "      <td>YH62</td>\n",
       "      <td>3.0</td>\n",
       "    </tr>\n",
       "    <tr>\n",
       "      <th>3411</th>\n",
       "      <td>2024-03-10</td>\n",
       "      <td>37</td>\n",
       "      <td>дневной</td>\n",
       "      <td>QF27</td>\n",
       "      <td>5.0</td>\n",
       "    </tr>\n",
       "    <tr>\n",
       "      <th>3412</th>\n",
       "      <td>2024-03-10</td>\n",
       "      <td>37</td>\n",
       "      <td>дневной</td>\n",
       "      <td>QF27</td>\n",
       "      <td>5.0</td>\n",
       "    </tr>\n",
       "  </tbody>\n",
       "</table>\n",
       "</div>"
      ],
      "text/plain": [
       "        pay_date  film_id part_of_day client_id  count_tickets\n",
       "3402  2024-03-20       48    утренний      YB14            1.0\n",
       "3403  2024-03-20       48    утренний      YB14            1.0\n",
       "3404  2024-03-04       49    утренний      JN23            1.0\n",
       "3405  2024-04-20       42    вечерний      YH62            3.0\n",
       "3406  2024-04-20       42    вечерний      YH62            3.0\n",
       "3407  2024-03-10       37     дневной      QF27            5.0\n",
       "3408  2024-04-20       42    вечерний      YH62            3.0\n",
       "3409  2024-03-10       37     дневной      QF27            5.0\n",
       "3410  2024-04-20       42    вечерний      YH62            3.0\n",
       "3411  2024-03-10       37     дневной      QF27            5.0\n",
       "3412  2024-03-10       37     дневной      QF27            5.0"
      ]
     },
     "execution_count": 10,
     "metadata": {},
     "output_type": "execute_result"
    }
   ],
   "source": [
    "payments[payments.duplicated()] # поиск дубликатов (полных)"
   ]
  },
  {
   "cell_type": "code",
   "execution_count": null,
   "id": "e21e773d-1fcf-4aa4-9d8b-9d3a014cc716",
   "metadata": {},
   "outputs": [
    {
     "ename": "SyntaxError",
     "evalue": "invalid syntax (415264223.py, line 1)",
     "output_type": "error",
     "traceback": [
      "\u001b[1;36m  Cell \u001b[1;32mIn[12], line 1\u001b[1;36m\u001b[0m\n\u001b[1;33m    payments[payments.duplicated(subset=)] # поиск повторяющихся значений по столбцу\u001b[0m\n\u001b[1;37m                                        ^\u001b[0m\n\u001b[1;31mSyntaxError\u001b[0m\u001b[1;31m:\u001b[0m invalid syntax\n"
     ]
    }
   ],
   "source": [
    "payments[payments.duplicated(subset=)] # поиск повторяющихся значений по столбцу"
   ]
  },
  {
   "cell_type": "code",
   "execution_count": 40,
   "id": "97d0ce4b-7511-44de-8a00-882c0a80e520",
   "metadata": {},
   "outputs": [
    {
     "data": {
      "text/plain": [
       "0       False\n",
       "1       False\n",
       "2        True\n",
       "3        True\n",
       "4        True\n",
       "        ...  \n",
       "3957     True\n",
       "3958     True\n",
       "3959     True\n",
       "3960     True\n",
       "3961     True\n",
       "Length: 3962, dtype: bool"
      ]
     },
     "execution_count": 40,
     "metadata": {},
     "output_type": "execute_result"
    }
   ],
   "source": [
    "payments.duplicated(subset='part_of_day')"
   ]
  },
  {
   "cell_type": "code",
   "execution_count": null,
   "id": "659beea5-a030-4008-977c-f71cad2f8a9d",
   "metadata": {},
   "outputs": [
    {
     "data": {
      "text/html": [
       "<div>\n",
       "<style scoped>\n",
       "    .dataframe tbody tr th:only-of-type {\n",
       "        vertical-align: middle;\n",
       "    }\n",
       "\n",
       "    .dataframe tbody tr th {\n",
       "        vertical-align: top;\n",
       "    }\n",
       "\n",
       "    .dataframe thead th {\n",
       "        text-align: right;\n",
       "    }\n",
       "</style>\n",
       "<table border=\"1\" class=\"dataframe\">\n",
       "  <thead>\n",
       "    <tr style=\"text-align: right;\">\n",
       "      <th></th>\n",
       "      <th>pay_date</th>\n",
       "      <th>film_id</th>\n",
       "      <th>part_of_day</th>\n",
       "      <th>client_id</th>\n",
       "      <th>count_tickets</th>\n",
       "    </tr>\n",
       "  </thead>\n",
       "  <tbody>\n",
       "    <tr>\n",
       "      <th>141</th>\n",
       "      <td>2024-03-20</td>\n",
       "      <td>48</td>\n",
       "      <td>утренний</td>\n",
       "      <td>YB14</td>\n",
       "      <td>1.0</td>\n",
       "    </tr>\n",
       "    <tr>\n",
       "      <th>328</th>\n",
       "      <td>2024-03-04</td>\n",
       "      <td>49</td>\n",
       "      <td>утренний</td>\n",
       "      <td>JN23</td>\n",
       "      <td>1.0</td>\n",
       "    </tr>\n",
       "    <tr>\n",
       "      <th>397</th>\n",
       "      <td>2024-04-20</td>\n",
       "      <td>42</td>\n",
       "      <td>вечерний</td>\n",
       "      <td>YH62</td>\n",
       "      <td>3.0</td>\n",
       "    </tr>\n",
       "    <tr>\n",
       "      <th>490</th>\n",
       "      <td>2024-03-10</td>\n",
       "      <td>37</td>\n",
       "      <td>дневной</td>\n",
       "      <td>QF27</td>\n",
       "      <td>5.0</td>\n",
       "    </tr>\n",
       "    <tr>\n",
       "      <th>3402</th>\n",
       "      <td>2024-03-20</td>\n",
       "      <td>48</td>\n",
       "      <td>утренний</td>\n",
       "      <td>YB14</td>\n",
       "      <td>1.0</td>\n",
       "    </tr>\n",
       "    <tr>\n",
       "      <th>3403</th>\n",
       "      <td>2024-03-20</td>\n",
       "      <td>48</td>\n",
       "      <td>утренний</td>\n",
       "      <td>YB14</td>\n",
       "      <td>1.0</td>\n",
       "    </tr>\n",
       "    <tr>\n",
       "      <th>3404</th>\n",
       "      <td>2024-03-04</td>\n",
       "      <td>49</td>\n",
       "      <td>утренний</td>\n",
       "      <td>JN23</td>\n",
       "      <td>1.0</td>\n",
       "    </tr>\n",
       "    <tr>\n",
       "      <th>3405</th>\n",
       "      <td>2024-04-20</td>\n",
       "      <td>42</td>\n",
       "      <td>вечерний</td>\n",
       "      <td>YH62</td>\n",
       "      <td>3.0</td>\n",
       "    </tr>\n",
       "    <tr>\n",
       "      <th>3406</th>\n",
       "      <td>2024-04-20</td>\n",
       "      <td>42</td>\n",
       "      <td>вечерний</td>\n",
       "      <td>YH62</td>\n",
       "      <td>3.0</td>\n",
       "    </tr>\n",
       "    <tr>\n",
       "      <th>3407</th>\n",
       "      <td>2024-03-10</td>\n",
       "      <td>37</td>\n",
       "      <td>дневной</td>\n",
       "      <td>QF27</td>\n",
       "      <td>5.0</td>\n",
       "    </tr>\n",
       "    <tr>\n",
       "      <th>3408</th>\n",
       "      <td>2024-04-20</td>\n",
       "      <td>42</td>\n",
       "      <td>вечерний</td>\n",
       "      <td>YH62</td>\n",
       "      <td>3.0</td>\n",
       "    </tr>\n",
       "    <tr>\n",
       "      <th>3409</th>\n",
       "      <td>2024-03-10</td>\n",
       "      <td>37</td>\n",
       "      <td>дневной</td>\n",
       "      <td>QF27</td>\n",
       "      <td>5.0</td>\n",
       "    </tr>\n",
       "    <tr>\n",
       "      <th>3410</th>\n",
       "      <td>2024-04-20</td>\n",
       "      <td>42</td>\n",
       "      <td>вечерний</td>\n",
       "      <td>YH62</td>\n",
       "      <td>3.0</td>\n",
       "    </tr>\n",
       "    <tr>\n",
       "      <th>3411</th>\n",
       "      <td>2024-03-10</td>\n",
       "      <td>37</td>\n",
       "      <td>дневной</td>\n",
       "      <td>QF27</td>\n",
       "      <td>5.0</td>\n",
       "    </tr>\n",
       "    <tr>\n",
       "      <th>3412</th>\n",
       "      <td>2024-03-10</td>\n",
       "      <td>37</td>\n",
       "      <td>дневной</td>\n",
       "      <td>QF27</td>\n",
       "      <td>5.0</td>\n",
       "    </tr>\n",
       "  </tbody>\n",
       "</table>\n",
       "</div>"
      ],
      "text/plain": [
       "        pay_date  film_id part_of_day client_id  count_tickets\n",
       "141   2024-03-20       48    утренний      YB14            1.0\n",
       "328   2024-03-04       49    утренний      JN23            1.0\n",
       "397   2024-04-20       42    вечерний      YH62            3.0\n",
       "490   2024-03-10       37     дневной      QF27            5.0\n",
       "3402  2024-03-20       48    утренний      YB14            1.0\n",
       "3403  2024-03-20       48    утренний      YB14            1.0\n",
       "3404  2024-03-04       49    утренний      JN23            1.0\n",
       "3405  2024-04-20       42    вечерний      YH62            3.0\n",
       "3406  2024-04-20       42    вечерний      YH62            3.0\n",
       "3407  2024-03-10       37     дневной      QF27            5.0\n",
       "3408  2024-04-20       42    вечерний      YH62            3.0\n",
       "3409  2024-03-10       37     дневной      QF27            5.0\n",
       "3410  2024-04-20       42    вечерний      YH62            3.0\n",
       "3411  2024-03-10       37     дневной      QF27            5.0\n",
       "3412  2024-03-10       37     дневной      QF27            5.0"
      ]
     },
     "execution_count": 12,
     "metadata": {},
     "output_type": "execute_result"
    }
   ],
   "source": [
    "payments[payments.duplicated(keep=False)] # просмотр ВСЕХ полных дублей с помощью логической индексации "
   ]
  },
  {
   "cell_type": "code",
   "execution_count": null,
   "id": "621fabd8-fe7e-42c0-8f20-80fb64df8ceb",
   "metadata": {},
   "outputs": [
    {
     "data": {
      "text/plain": [
       "(3962, 5)"
      ]
     },
     "execution_count": 13,
     "metadata": {},
     "output_type": "execute_result"
    }
   ],
   "source": [
    "payments.shape"
   ]
  },
  {
   "cell_type": "code",
   "execution_count": 42,
   "id": "bf2c9f6e-4284-4370-a4d7-a2350fca4c27",
   "metadata": {},
   "outputs": [],
   "source": [
    "payments = payments.drop_duplicates(keep='last') # удаление полных дублей (остается последняя (по порядку в датафрейме) строка)"
   ]
  },
  {
   "cell_type": "code",
   "execution_count": 41,
   "id": "d6c26e88-826e-4ac3-9718-630d6ad4441a",
   "metadata": {},
   "outputs": [
    {
     "data": {
      "text/html": [
       "<div>\n",
       "<style scoped>\n",
       "    .dataframe tbody tr th:only-of-type {\n",
       "        vertical-align: middle;\n",
       "    }\n",
       "\n",
       "    .dataframe tbody tr th {\n",
       "        vertical-align: top;\n",
       "    }\n",
       "\n",
       "    .dataframe thead th {\n",
       "        text-align: right;\n",
       "    }\n",
       "</style>\n",
       "<table border=\"1\" class=\"dataframe\">\n",
       "  <thead>\n",
       "    <tr style=\"text-align: right;\">\n",
       "      <th></th>\n",
       "      <th>pay_date</th>\n",
       "      <th>film_id</th>\n",
       "      <th>part_of_day</th>\n",
       "      <th>client_id</th>\n",
       "      <th>count_tickets</th>\n",
       "    </tr>\n",
       "  </thead>\n",
       "  <tbody>\n",
       "    <tr>\n",
       "      <th>0</th>\n",
       "      <td>2024-04-24</td>\n",
       "      <td>2</td>\n",
       "      <td>дневной</td>\n",
       "      <td>NL42</td>\n",
       "      <td>1.0</td>\n",
       "    </tr>\n",
       "    <tr>\n",
       "      <th>1</th>\n",
       "      <td>2024-03-03</td>\n",
       "      <td>15</td>\n",
       "      <td>вечерний</td>\n",
       "      <td>HW75</td>\n",
       "      <td>3.0</td>\n",
       "    </tr>\n",
       "    <tr>\n",
       "      <th>2</th>\n",
       "      <td>2024-02-09</td>\n",
       "      <td>43</td>\n",
       "      <td>вечерний</td>\n",
       "      <td>XX54</td>\n",
       "      <td>5.0</td>\n",
       "    </tr>\n",
       "    <tr>\n",
       "      <th>3</th>\n",
       "      <td>2024-04-23</td>\n",
       "      <td>19</td>\n",
       "      <td>вечерний</td>\n",
       "      <td>QR90</td>\n",
       "      <td>3.0</td>\n",
       "    </tr>\n",
       "    <tr>\n",
       "      <th>4</th>\n",
       "      <td>2024-01-29</td>\n",
       "      <td>34</td>\n",
       "      <td>вечерний</td>\n",
       "      <td>SG93</td>\n",
       "      <td>5.0</td>\n",
       "    </tr>\n",
       "    <tr>\n",
       "      <th>...</th>\n",
       "      <td>...</td>\n",
       "      <td>...</td>\n",
       "      <td>...</td>\n",
       "      <td>...</td>\n",
       "      <td>...</td>\n",
       "    </tr>\n",
       "    <tr>\n",
       "      <th>3957</th>\n",
       "      <td>2024-02-11</td>\n",
       "      <td>1</td>\n",
       "      <td>дневной</td>\n",
       "      <td>FG89</td>\n",
       "      <td>4.0</td>\n",
       "    </tr>\n",
       "    <tr>\n",
       "      <th>3958</th>\n",
       "      <td>2024-04-08</td>\n",
       "      <td>34</td>\n",
       "      <td>утренний</td>\n",
       "      <td>DI23</td>\n",
       "      <td>2.0</td>\n",
       "    </tr>\n",
       "    <tr>\n",
       "      <th>3959</th>\n",
       "      <td>2024-01-16</td>\n",
       "      <td>10</td>\n",
       "      <td>дневной</td>\n",
       "      <td>ZJ39</td>\n",
       "      <td>4.0</td>\n",
       "    </tr>\n",
       "    <tr>\n",
       "      <th>3960</th>\n",
       "      <td>2024-04-15</td>\n",
       "      <td>28</td>\n",
       "      <td>вечерний</td>\n",
       "      <td>TU86</td>\n",
       "      <td>5.0</td>\n",
       "    </tr>\n",
       "    <tr>\n",
       "      <th>3961</th>\n",
       "      <td>2024-04-05</td>\n",
       "      <td>42</td>\n",
       "      <td>вечерний</td>\n",
       "      <td>DM94</td>\n",
       "      <td>4.0</td>\n",
       "    </tr>\n",
       "  </tbody>\n",
       "</table>\n",
       "<p>3962 rows × 5 columns</p>\n",
       "</div>"
      ],
      "text/plain": [
       "        pay_date  film_id part_of_day client_id  count_tickets\n",
       "0     2024-04-24        2     дневной      NL42            1.0\n",
       "1     2024-03-03       15    вечерний      HW75            3.0\n",
       "2     2024-02-09       43    вечерний      XX54            5.0\n",
       "3     2024-04-23       19    вечерний      QR90            3.0\n",
       "4     2024-01-29       34    вечерний      SG93            5.0\n",
       "...          ...      ...         ...       ...            ...\n",
       "3957  2024-02-11        1     дневной      FG89            4.0\n",
       "3958  2024-04-08       34    утренний      DI23            2.0\n",
       "3959  2024-01-16       10     дневной      ZJ39            4.0\n",
       "3960  2024-04-15       28    вечерний      TU86            5.0\n",
       "3961  2024-04-05       42    вечерний      DM94            4.0\n",
       "\n",
       "[3962 rows x 5 columns]"
      ]
     },
     "execution_count": 41,
     "metadata": {},
     "output_type": "execute_result"
    }
   ],
   "source": [
    "payments.reset_index(drop=True, inplace=True) # сброс индекса (и удаление столбца со старым индексом)\n",
    "payments"
   ]
  },
  {
   "cell_type": "code",
   "execution_count": null,
   "id": "bade9c85-e0b0-4d80-b8af-71c1c5357a4c",
   "metadata": {},
   "outputs": [
    {
     "data": {
      "text/plain": [
       "(3951, 5)"
      ]
     },
     "execution_count": 8,
     "metadata": {},
     "output_type": "execute_result"
    }
   ],
   "source": [
    "payments \\\n",
    "    .drop_duplicates() \\\n",
    "    .reset_index(drop=True) \\\n",
    "    .shape # оформление нескольких методов"
   ]
  },
  {
   "cell_type": "code",
   "execution_count": null,
   "id": "18e9977f-e962-4fba-942e-d73705350245",
   "metadata": {},
   "outputs": [
    {
     "data": {
      "text/plain": [
       "array(['дневной', 'вечерний', 'утренний'], dtype=object)"
      ]
     },
     "execution_count": 9,
     "metadata": {},
     "output_type": "execute_result"
    }
   ],
   "source": [
    "payments['part_of_day'].unique() # список уникальных значений"
   ]
  },
  {
   "cell_type": "code",
   "execution_count": null,
   "id": "908101bc-bde9-416c-af52-08cf55eed624",
   "metadata": {},
   "outputs": [
    {
     "data": {
      "text/plain": [
       "array([ 2, 15, 43, 19, 34, 13, 30, 21,  8, 31, 48, 22, 11, 46, 26, 45, 27,\n",
       "        7, 10, 17, 42,  9, 24, 49, 35,  6, 23, 16,  1, 40,  4, 12, 47, 32,\n",
       "       20, 18,  3, 28, 36, 33, 39, 14, 29, 25, 41,  5, 44, 37, 38, 53, 52,\n",
       "       50], dtype=int64)"
      ]
     },
     "execution_count": 19,
     "metadata": {},
     "output_type": "execute_result"
    }
   ],
   "source": [
    "payments['film_id'].unique()"
   ]
  },
  {
   "cell_type": "code",
   "execution_count": null,
   "id": "ad65d985-74f5-4960-8da4-302ed16432df",
   "metadata": {},
   "outputs": [
    {
     "data": {
      "text/plain": [
       "3"
      ]
     },
     "execution_count": 20,
     "metadata": {},
     "output_type": "execute_result"
    }
   ],
   "source": [
    "payments['part_of_day'].nunique() # количество уникальных значений"
   ]
  },
  {
   "cell_type": "code",
   "execution_count": null,
   "id": "585b8624-94a6-43d7-b8a3-06fc43d71e9c",
   "metadata": {},
   "outputs": [
    {
     "data": {
      "text/plain": [
       "52"
      ]
     },
     "execution_count": 21,
     "metadata": {},
     "output_type": "execute_result"
    }
   ],
   "source": [
    "payments['film_id'].nunique()"
   ]
  },
  {
   "cell_type": "code",
   "execution_count": null,
   "id": "4f9e9baa-647d-48f1-bf9e-56785178e0ce",
   "metadata": {},
   "outputs": [
    {
     "data": {
      "text/plain": [
       "['Акира Куросава',\n",
       " 'Альфред Хичкок',\n",
       " 'Брайан Сингер',\n",
       " 'Дамьен Шазель',\n",
       " 'Дени Вильнёв',\n",
       " 'Джеймс Кэмерон',\n",
       " 'Джонатан Демми',\n",
       " 'Джордж Лукас',\n",
       " 'Джузеппе Торнаторе',\n",
       " 'Дэвид Финчер',\n",
       " 'Жерар Пирес',\n",
       " 'Жуакин Душ Сантуш[англ.], Кэмп Пауэрс[англ.], Джастин Томпсон',\n",
       " 'Ирвин Кершнер',\n",
       " 'Исао Такахата',\n",
       " 'Квентин Тарантино',\n",
       " 'Кристофер Нолан',\n",
       " 'Люк Бессон',\n",
       " 'Майкл Кёртиц',\n",
       " 'Мартин Скорсезе',\n",
       " 'Масаки Кобаяси',\n",
       " 'Милош Форман',\n",
       " 'Оливье Накаш, Эрик Толедано',\n",
       " 'Питер Джексон',\n",
       " 'Пон Чжун Хо',\n",
       " 'Ридли Скотт',\n",
       " 'Роберт Земекис',\n",
       " 'Роберт Земекис ',\n",
       " 'Роберто Бениньи',\n",
       " 'Роджер Аллерс, Роб Минкофф',\n",
       " 'Роман Полански',\n",
       " 'Серджо Леоне',\n",
       " 'Сидни Люмет',\n",
       " 'Стивен Спилберг',\n",
       " 'Стивн Спилберг',\n",
       " 'Тони Кэй',\n",
       " 'Фернанду Мейреллиш',\n",
       " 'Фрэнк Дарабонт',\n",
       " 'Фрэнк Капра',\n",
       " 'Фрэнсис Форд Коппола',\n",
       " 'Хаяо Миядзаки',\n",
       " 'Энди и Ларри Вачовски',\n",
       " 'стивен спилберг']"
      ]
     },
     "execution_count": 22,
     "metadata": {},
     "output_type": "execute_result"
    }
   ],
   "source": [
    "sorted(films.filmmaker.unique())"
   ]
  },
  {
   "cell_type": "code",
   "execution_count": null,
   "id": "bca1e760-ada4-4700-a052-cb7469d6491a",
   "metadata": {},
   "outputs": [],
   "source": [
    "films.filmmaker.replace('стивен спилберг', 'Стивен Спилберг', inplace=True) # замена значений в ячейках"
   ]
  },
  {
   "cell_type": "code",
   "execution_count": null,
   "id": "0678ba76-0a29-489c-9720-151391da531b",
   "metadata": {},
   "outputs": [
    {
     "data": {
      "text/plain": [
       "['Акира Куросава',\n",
       " 'Альфред Хичкок',\n",
       " 'Брайан Сингер',\n",
       " 'Дамьен Шазель',\n",
       " 'Дени Вильнёв',\n",
       " 'Джеймс Кэмерон',\n",
       " 'Джонатан Демми',\n",
       " 'Джордж Лукас',\n",
       " 'Джузеппе Торнаторе',\n",
       " 'Дэвид Финчер',\n",
       " 'Жерар Пирес',\n",
       " 'Жуакин Душ Сантуш[англ.], Кэмп Пауэрс[англ.], Джастин Томпсон',\n",
       " 'Ирвин Кершнер',\n",
       " 'Исао Такахата',\n",
       " 'Квентин Тарантино',\n",
       " 'Кристофер Нолан',\n",
       " 'Люк Бессон',\n",
       " 'Майкл Кёртиц',\n",
       " 'Мартин Скорсезе',\n",
       " 'Масаки Кобаяси',\n",
       " 'Милош Форман',\n",
       " 'Оливье Накаш, Эрик Толедано',\n",
       " 'Питер Джексон',\n",
       " 'Пон Чжун Хо',\n",
       " 'Ридли Скотт',\n",
       " 'Роберт Земекис',\n",
       " 'Роберт Земекис ',\n",
       " 'Роберто Бениньи',\n",
       " 'Роджер Аллерс, Роб Минкофф',\n",
       " 'Роман Полански',\n",
       " 'Серджо Леоне',\n",
       " 'Сидни Люмет',\n",
       " 'Стивен Спилберг',\n",
       " 'Стивн Спилберг',\n",
       " 'Тони Кэй',\n",
       " 'Фернанду Мейреллиш',\n",
       " 'Фрэнк Дарабонт',\n",
       " 'Фрэнк Капра',\n",
       " 'Фрэнсис Форд Коппола',\n",
       " 'Хаяо Миядзаки',\n",
       " 'Энди и Ларри Вачовски']"
      ]
     },
     "execution_count": 24,
     "metadata": {},
     "output_type": "execute_result"
    }
   ],
   "source": [
    "sorted(films.filmmaker.unique())"
   ]
  },
  {
   "cell_type": "code",
   "execution_count": null,
   "id": "562bafb4-8285-4275-b9bf-ad91114de27d",
   "metadata": {},
   "outputs": [],
   "source": [
    "films.filmmaker = films.filmmaker \\\n",
    "    .replace('Стивн Спилберг', 'Стивен Спилберг') \\\n",
    "    .replace('Роберт Земекис ', 'Роберт Земекис')"
   ]
  },
  {
   "cell_type": "code",
   "execution_count": null,
   "id": "1d1bfb1e-2f38-46b4-9b65-fee824dbe8a5",
   "metadata": {},
   "outputs": [
    {
     "data": {
      "text/plain": [
       "['Акира Куросава',\n",
       " 'Альфред Хичкок',\n",
       " 'Брайан Сингер',\n",
       " 'Дамьен Шазель',\n",
       " 'Дени Вильнёв',\n",
       " 'Джеймс Кэмерон',\n",
       " 'Джонатан Демми',\n",
       " 'Джордж Лукас',\n",
       " 'Джузеппе Торнаторе',\n",
       " 'Дэвид Финчер',\n",
       " 'Жерар Пирес',\n",
       " 'Жуакин Душ Сантуш[англ.], Кэмп Пауэрс[англ.], Джастин Томпсон',\n",
       " 'Ирвин Кершнер',\n",
       " 'Исао Такахата',\n",
       " 'Квентин Тарантино',\n",
       " 'Кристофер Нолан',\n",
       " 'Люк Бессон',\n",
       " 'Майкл Кёртиц',\n",
       " 'Мартин Скорсезе',\n",
       " 'Масаки Кобаяси',\n",
       " 'Милош Форман',\n",
       " 'Оливье Накаш, Эрик Толедано',\n",
       " 'Питер Джексон',\n",
       " 'Пон Чжун Хо',\n",
       " 'Ридли Скотт',\n",
       " 'Роберт Земекис',\n",
       " 'Роберто Бениньи',\n",
       " 'Роджер Аллерс, Роб Минкофф',\n",
       " 'Роман Полански',\n",
       " 'Серджо Леоне',\n",
       " 'Сидни Люмет',\n",
       " 'Стивен Спилберг',\n",
       " 'Тони Кэй',\n",
       " 'Фернанду Мейреллиш',\n",
       " 'Фрэнк Дарабонт',\n",
       " 'Фрэнк Капра',\n",
       " 'Фрэнсис Форд Коппола',\n",
       " 'Хаяо Миядзаки',\n",
       " 'Энди и Ларри Вачовски']"
      ]
     },
     "execution_count": 26,
     "metadata": {},
     "output_type": "execute_result"
    }
   ],
   "source": [
    "sorted(films.filmmaker.unique())"
   ]
  },
  {
   "cell_type": "code",
   "execution_count": null,
   "id": "6f6b6808-c99f-422f-8d18-683c222d6817",
   "metadata": {},
   "outputs": [
    {
     "data": {
      "text/plain": [
       "20    2024\n",
       "35    2023\n",
       "33    2019\n",
       "19    2014\n",
       "41    2014\n",
       "54    2012\n",
       "52    2012\n",
       "47    2011\n",
       "13    2010\n",
       "2     2008\n",
       "42    2006\n",
       "39    2006\n",
       "6     2003\n",
       "11    2002\n",
       "32    2002\n",
       "25    2002\n",
       "8     2001\n",
       "31    2001\n",
       "36    2000\n",
       "53    1999\n",
       "27    1999\n",
       "15    1999\n",
       "12    1999\n",
       "50    1998\n",
       "24    1998\n",
       "40    1998\n",
       "26    1997\n",
       "18    1995\n",
       "45    1995\n",
       "38    1994\n",
       "7     1994\n",
       "10    1994\n",
       "37    1994\n",
       "0     1994\n",
       "5     1993\n",
       "23    1991\n",
       "28    1991\n",
       "16    1990\n",
       "51    1989\n",
       "43    1988\n",
       "48    1988\n",
       "30    1985\n",
       "14    1980\n",
       "29    1977\n",
       "17    1975\n",
       "49    1975\n",
       "3     1974\n",
       "1     1972\n",
       "9     1966\n",
       "44    1962\n",
       "34    1960\n",
       "4     1957\n",
       "22    1954\n",
       "21    1946\n",
       "46    1942\n",
       "Name: release_year, dtype: int64"
      ]
     },
     "execution_count": 27,
     "metadata": {},
     "output_type": "execute_result"
    }
   ],
   "source": [
    "films.release_year.sort_values(ascending=False) # сортировка сириес"
   ]
  },
  {
   "cell_type": "code",
   "execution_count": 12,
   "id": "35287a0b-2029-4a92-bebb-977f8ea5c1e6",
   "metadata": {},
   "outputs": [
    {
     "data": {
      "text/plain": [
       "2024"
      ]
     },
     "execution_count": 12,
     "metadata": {},
     "output_type": "execute_result"
    }
   ],
   "source": [
    "films.release_year.max()"
   ]
  },
  {
   "cell_type": "code",
   "execution_count": null,
   "id": "1c6ae498-999c-42d5-8a2c-7641389cf34c",
   "metadata": {},
   "outputs": [
    {
     "data": {
      "text/html": [
       "<div>\n",
       "<style scoped>\n",
       "    .dataframe tbody tr th:only-of-type {\n",
       "        vertical-align: middle;\n",
       "    }\n",
       "\n",
       "    .dataframe tbody tr th {\n",
       "        vertical-align: top;\n",
       "    }\n",
       "\n",
       "    .dataframe thead th {\n",
       "        text-align: right;\n",
       "    }\n",
       "</style>\n",
       "<table border=\"1\" class=\"dataframe\">\n",
       "  <thead>\n",
       "    <tr style=\"text-align: right;\">\n",
       "      <th></th>\n",
       "      <th>film_id</th>\n",
       "      <th>film_name</th>\n",
       "      <th>price_ticket</th>\n",
       "      <th>release_year</th>\n",
       "      <th>filmmaker</th>\n",
       "      <th>kind_film</th>\n",
       "    </tr>\n",
       "  </thead>\n",
       "  <tbody>\n",
       "    <tr>\n",
       "      <th>20</th>\n",
       "      <td>21</td>\n",
       "      <td>Дюна: Часть вторая</td>\n",
       "      <td>190</td>\n",
       "      <td>2024</td>\n",
       "      <td>Дени Вильнёв</td>\n",
       "      <td>боевик, приключение, драма</td>\n",
       "    </tr>\n",
       "  </tbody>\n",
       "</table>\n",
       "</div>"
      ],
      "text/plain": [
       "    film_id           film_name  price_ticket  release_year     filmmaker  \\\n",
       "20       21  Дюна: Часть вторая           190          2024  Дени Вильнёв   \n",
       "\n",
       "                     kind_film  \n",
       "20  боевик, приключение, драма  "
      ]
     },
     "execution_count": 29,
     "metadata": {},
     "output_type": "execute_result"
    }
   ],
   "source": [
    "films[films.release_year == films.release_year.max()] # вывод строки с самым новым фильмом из всего датафрейма"
   ]
  },
  {
   "cell_type": "code",
   "execution_count": null,
   "id": "43b4af7f-b79b-4985-80f8-95db987bad1f",
   "metadata": {},
   "outputs": [
    {
     "data": {
      "text/html": [
       "<div>\n",
       "<style scoped>\n",
       "    .dataframe tbody tr th:only-of-type {\n",
       "        vertical-align: middle;\n",
       "    }\n",
       "\n",
       "    .dataframe tbody tr th {\n",
       "        vertical-align: top;\n",
       "    }\n",
       "\n",
       "    .dataframe thead th {\n",
       "        text-align: right;\n",
       "    }\n",
       "</style>\n",
       "<table border=\"1\" class=\"dataframe\">\n",
       "  <thead>\n",
       "    <tr style=\"text-align: right;\">\n",
       "      <th></th>\n",
       "      <th>film_id</th>\n",
       "      <th>film_name</th>\n",
       "      <th>price_ticket</th>\n",
       "      <th>release_year</th>\n",
       "      <th>filmmaker</th>\n",
       "      <th>kind_film</th>\n",
       "    </tr>\n",
       "  </thead>\n",
       "  <tbody>\n",
       "    <tr>\n",
       "      <th>2</th>\n",
       "      <td>3</td>\n",
       "      <td>Тёмный рыцарь</td>\n",
       "      <td>340</td>\n",
       "      <td>2008</td>\n",
       "      <td>Кристофер Нолан</td>\n",
       "      <td>боевик, детектив, драма</td>\n",
       "    </tr>\n",
       "    <tr>\n",
       "      <th>9</th>\n",
       "      <td>10</td>\n",
       "      <td>Хороший, плохой, злой</td>\n",
       "      <td>450</td>\n",
       "      <td>1966</td>\n",
       "      <td>Серджо Леоне</td>\n",
       "      <td>приключение, вестерн</td>\n",
       "    </tr>\n",
       "    <tr>\n",
       "      <th>17</th>\n",
       "      <td>18</td>\n",
       "      <td>Пролетая над гнездом кукушки</td>\n",
       "      <td>340</td>\n",
       "      <td>1975</td>\n",
       "      <td>Милош Форман</td>\n",
       "      <td>драма</td>\n",
       "    </tr>\n",
       "    <tr>\n",
       "      <th>21</th>\n",
       "      <td>22</td>\n",
       "      <td>Эта прекрасная жизнь</td>\n",
       "      <td>340</td>\n",
       "      <td>1946</td>\n",
       "      <td>Фрэнк Капра</td>\n",
       "      <td>драма, семейный фильм, фэнтези</td>\n",
       "    </tr>\n",
       "    <tr>\n",
       "      <th>22</th>\n",
       "      <td>23</td>\n",
       "      <td>Семь самураев</td>\n",
       "      <td>450</td>\n",
       "      <td>1954</td>\n",
       "      <td>Акира Куросава</td>\n",
       "      <td>боевик, драма</td>\n",
       "    </tr>\n",
       "    <tr>\n",
       "      <th>23</th>\n",
       "      <td>24</td>\n",
       "      <td>Молчание ягнят</td>\n",
       "      <td>450</td>\n",
       "      <td>1991</td>\n",
       "      <td>Джонатан Демми</td>\n",
       "      <td>детектив, драма, триллер</td>\n",
       "    </tr>\n",
       "    <tr>\n",
       "      <th>24</th>\n",
       "      <td>25</td>\n",
       "      <td>Спасти рядового Райана</td>\n",
       "      <td>340</td>\n",
       "      <td>1998</td>\n",
       "      <td>Стивен Спилберг</td>\n",
       "      <td>драма, военный фильм</td>\n",
       "    </tr>\n",
       "    <tr>\n",
       "      <th>27</th>\n",
       "      <td>28</td>\n",
       "      <td>Зелёная миля</td>\n",
       "      <td>450</td>\n",
       "      <td>1999</td>\n",
       "      <td>Фрэнк Дарабонт</td>\n",
       "      <td>детектив, драма, фэнтези</td>\n",
       "    </tr>\n",
       "    <tr>\n",
       "      <th>30</th>\n",
       "      <td>31</td>\n",
       "      <td>Назад в будущее</td>\n",
       "      <td>340</td>\n",
       "      <td>1985</td>\n",
       "      <td>Роберт Земекис</td>\n",
       "      <td>приключение, кинокомедия, научная фантастика</td>\n",
       "    </tr>\n",
       "    <tr>\n",
       "      <th>31</th>\n",
       "      <td>32</td>\n",
       "      <td>Унесённые призраками</td>\n",
       "      <td>340</td>\n",
       "      <td>2001</td>\n",
       "      <td>Хаяо Миядзаки</td>\n",
       "      <td>мультфильм, приключение, семейный фильм</td>\n",
       "    </tr>\n",
       "    <tr>\n",
       "      <th>32</th>\n",
       "      <td>33</td>\n",
       "      <td>Пианист</td>\n",
       "      <td>340</td>\n",
       "      <td>2002</td>\n",
       "      <td>Роман Полански</td>\n",
       "      <td>байопик, драма, музыкальный фильм</td>\n",
       "    </tr>\n",
       "    <tr>\n",
       "      <th>33</th>\n",
       "      <td>34</td>\n",
       "      <td>Паразиты</td>\n",
       "      <td>450</td>\n",
       "      <td>2019</td>\n",
       "      <td>Пон Чжун Хо</td>\n",
       "      <td>драма, триллер</td>\n",
       "    </tr>\n",
       "    <tr>\n",
       "      <th>35</th>\n",
       "      <td>36</td>\n",
       "      <td>Человек-паук: Паутина вселенных</td>\n",
       "      <td>450</td>\n",
       "      <td>2023</td>\n",
       "      <td>Жуакин Душ Сантуш[англ.], Кэмп Пауэрс[англ.], ...</td>\n",
       "      <td>мультфильм, боевик, приключение</td>\n",
       "    </tr>\n",
       "    <tr>\n",
       "      <th>38</th>\n",
       "      <td>39</td>\n",
       "      <td>Леон</td>\n",
       "      <td>340</td>\n",
       "      <td>1994</td>\n",
       "      <td>Люк Бессон</td>\n",
       "      <td>боевик, детектив, драма</td>\n",
       "    </tr>\n",
       "    <tr>\n",
       "      <th>42</th>\n",
       "      <td>43</td>\n",
       "      <td>Престиж</td>\n",
       "      <td>450</td>\n",
       "      <td>2006</td>\n",
       "      <td>Кристофер Нолан</td>\n",
       "      <td>драма, фильм-тайна, научная фантастика</td>\n",
       "    </tr>\n",
       "    <tr>\n",
       "      <th>43</th>\n",
       "      <td>44</td>\n",
       "      <td>Могила светлячков</td>\n",
       "      <td>450</td>\n",
       "      <td>1988</td>\n",
       "      <td>Исао Такахата</td>\n",
       "      <td>мультфильм, драма, военный фильм</td>\n",
       "    </tr>\n",
       "    <tr>\n",
       "      <th>46</th>\n",
       "      <td>47</td>\n",
       "      <td>Касабланка</td>\n",
       "      <td>450</td>\n",
       "      <td>1942</td>\n",
       "      <td>Майкл Кёртиц</td>\n",
       "      <td>драма, романтический фильм, военный фильм</td>\n",
       "    </tr>\n",
       "    <tr>\n",
       "      <th>50</th>\n",
       "      <td>51</td>\n",
       "      <td>Такси</td>\n",
       "      <td>450</td>\n",
       "      <td>1998</td>\n",
       "      <td>Жерар Пирес</td>\n",
       "      <td>комедия, боевик</td>\n",
       "    </tr>\n",
       "    <tr>\n",
       "      <th>51</th>\n",
       "      <td>52</td>\n",
       "      <td>Назад в будущее 2</td>\n",
       "      <td>340</td>\n",
       "      <td>1989</td>\n",
       "      <td>Роберт Земекис</td>\n",
       "      <td>приключение, кинокомедия, научная фантастика</td>\n",
       "    </tr>\n",
       "  </tbody>\n",
       "</table>\n",
       "</div>"
      ],
      "text/plain": [
       "    film_id                        film_name  price_ticket  release_year  \\\n",
       "2         3                    Тёмный рыцарь           340          2008   \n",
       "9        10            Хороший, плохой, злой           450          1966   \n",
       "17       18     Пролетая над гнездом кукушки           340          1975   \n",
       "21       22             Эта прекрасная жизнь           340          1946   \n",
       "22       23                    Семь самураев           450          1954   \n",
       "23       24                   Молчание ягнят           450          1991   \n",
       "24       25           Спасти рядового Райана           340          1998   \n",
       "27       28                     Зелёная миля           450          1999   \n",
       "30       31                  Назад в будущее           340          1985   \n",
       "31       32             Унесённые призраками           340          2001   \n",
       "32       33                          Пианист           340          2002   \n",
       "33       34                         Паразиты           450          2019   \n",
       "35       36  Человек-паук: Паутина вселенных           450          2023   \n",
       "38       39                             Леон           340          1994   \n",
       "42       43                          Престиж           450          2006   \n",
       "43       44                Могила светлячков           450          1988   \n",
       "46       47                       Касабланка           450          1942   \n",
       "50       51                            Такси           450          1998   \n",
       "51       52                Назад в будущее 2           340          1989   \n",
       "\n",
       "                                            filmmaker  \\\n",
       "2                                     Кристофер Нолан   \n",
       "9                                        Серджо Леоне   \n",
       "17                                       Милош Форман   \n",
       "21                                        Фрэнк Капра   \n",
       "22                                     Акира Куросава   \n",
       "23                                     Джонатан Демми   \n",
       "24                                    Стивен Спилберг   \n",
       "27                                     Фрэнк Дарабонт   \n",
       "30                                     Роберт Земекис   \n",
       "31                                      Хаяо Миядзаки   \n",
       "32                                     Роман Полански   \n",
       "33                                        Пон Чжун Хо   \n",
       "35  Жуакин Душ Сантуш[англ.], Кэмп Пауэрс[англ.], ...   \n",
       "38                                         Люк Бессон   \n",
       "42                                    Кристофер Нолан   \n",
       "43                                      Исао Такахата   \n",
       "46                                       Майкл Кёртиц   \n",
       "50                                        Жерар Пирес   \n",
       "51                                     Роберт Земекис   \n",
       "\n",
       "                                       kind_film  \n",
       "2                        боевик, детектив, драма  \n",
       "9                           приключение, вестерн  \n",
       "17                                         драма  \n",
       "21                драма, семейный фильм, фэнтези  \n",
       "22                                 боевик, драма  \n",
       "23                      детектив, драма, триллер  \n",
       "24                          драма, военный фильм  \n",
       "27                      детектив, драма, фэнтези  \n",
       "30  приключение, кинокомедия, научная фантастика  \n",
       "31       мультфильм, приключение, семейный фильм  \n",
       "32             байопик, драма, музыкальный фильм  \n",
       "33                                драма, триллер  \n",
       "35               мультфильм, боевик, приключение  \n",
       "38                       боевик, детектив, драма  \n",
       "42        драма, фильм-тайна, научная фантастика  \n",
       "43              мультфильм, драма, военный фильм  \n",
       "46     драма, романтический фильм, военный фильм  \n",
       "50                               комедия, боевик  \n",
       "51  приключение, кинокомедия, научная фантастика  "
      ]
     },
     "execution_count": 30,
     "metadata": {},
     "output_type": "execute_result"
    }
   ],
   "source": [
    "films[films.price_ticket > films.price_ticket.mean()] # вывод фильмов с ценой билета выше среднего"
   ]
  },
  {
   "cell_type": "code",
   "execution_count": null,
   "id": "0c8f95e9-8f4e-4644-947c-8127352ef875",
   "metadata": {},
   "outputs": [
    {
     "name": "stdout",
     "output_type": "stream",
     "text": [
      "Количество дешевых фильмов: 34\n"
     ]
    }
   ],
   "source": [
    "# вывод количество с ценой билета ниже среднего\n",
    "\n",
    "unique_films_cheap = films[films.price_ticket < films.price_ticket.mean()]['film_name'].nunique()\n",
    "print(f'Количество дешевых фильмов: {unique_films_cheap}') "
   ]
  },
  {
   "cell_type": "code",
   "execution_count": null,
   "id": "b51a8160-fd5d-4c53-ac67-6f2ff1b46f25",
   "metadata": {},
   "outputs": [
    {
     "data": {
      "text/plain": [
       "part_of_day\n",
       "вечерний    1349\n",
       "утренний    1320\n",
       "дневной     1293\n",
       "Name: count, dtype: int64"
      ]
     },
     "execution_count": 11,
     "metadata": {},
     "output_type": "execute_result"
    }
   ],
   "source": [
    "payments.part_of_day.value_counts() # подсчет количества вида сеансов"
   ]
  },
  {
   "cell_type": "code",
   "execution_count": null,
   "id": "89e64b57-a732-4725-bbeb-00952862ac5a",
   "metadata": {},
   "outputs": [
    {
     "data": {
      "text/plain": [
       "filmmaker\n",
       "Стивен Спилберг                                                  0.090909\n",
       "Кристофер Нолан                                                  0.072727\n",
       "Питер Джексон                                                    0.054545\n",
       "Роберт Земекис                                                   0.054545\n",
       "Мартин Скорсезе                                                  0.036364\n",
       "Дэвид Финчер                                                     0.036364\n",
       "Энди и Ларри Вачовски                                            0.036364\n",
       "Фрэнк Дарабонт                                                   0.036364\n",
       "Фрэнсис Форд Коппола                                             0.036364\n",
       "Тони Кэй                                                         0.018182\n",
       "Фернанду Мейреллиш                                               0.018182\n",
       "Оливье Накаш, Эрик Толедано                                      0.018182\n",
       "Серджо Леоне                                                     0.018182\n",
       "Роман Полански                                                   0.018182\n",
       "Роджер Аллерс, Роб Минкофф                                       0.018182\n",
       "Роберто Бениньи                                                  0.018182\n",
       "Фрэнк Капра                                                      0.018182\n",
       "Ридли Скотт                                                      0.018182\n",
       "Хаяо Миядзаки                                                    0.018182\n",
       "Пон Чжун Хо                                                      0.018182\n",
       "Сидни Люмет                                                      0.018182\n",
       "Акира Куросава                                                   0.018182\n",
       "Милош Форман                                                     0.018182\n",
       "Джузеппе Торнаторе                                               0.018182\n",
       "Брайан Сингер                                                    0.018182\n",
       "Дамьен Шазель                                                    0.018182\n",
       "Дени Вильнёв                                                     0.018182\n",
       "Джеймс Кэмерон                                                   0.018182\n",
       "Джонатан Демми                                                   0.018182\n",
       "Джордж Лукас                                                     0.018182\n",
       "Жерар Пирес                                                      0.018182\n",
       "Альфред Хичкок                                                   0.018182\n",
       "Жуакин Душ Сантуш[англ.], Кэмп Пауэрс[англ.], Джастин Томпсон    0.018182\n",
       "Ирвин Кершнер                                                    0.018182\n",
       "Исао Такахата                                                    0.018182\n",
       "Квентин Тарантино                                                0.018182\n",
       "Люк Бессон                                                       0.018182\n",
       "Майкл Кёртиц                                                     0.018182\n",
       "Масаки Кобаяси                                                   0.018182\n",
       "Name: proportion, dtype: float64"
      ]
     },
     "execution_count": 33,
     "metadata": {},
     "output_type": "execute_result"
    }
   ],
   "source": [
    "films.value_counts(subset='filmmaker', sort=True, normalize=True) # подсчет доли количества режиссеров"
   ]
  },
  {
   "cell_type": "code",
   "execution_count": null,
   "id": "6cf1af66-daa4-442c-a879-bcd7a421fdd5",
   "metadata": {},
   "outputs": [
    {
     "data": {
      "text/plain": [
       "part_of_day\n",
       "вечерний    1345\n",
       "утренний    1317\n",
       "дневной     1289\n",
       "Name: count, dtype: int64"
      ]
     },
     "execution_count": 34,
     "metadata": {},
     "output_type": "execute_result"
    }
   ],
   "source": [
    "payments.part_of_day.value_counts()"
   ]
  },
  {
   "cell_type": "code",
   "execution_count": null,
   "id": "87829559-dcc3-4e9c-a58d-9742dfe0d1bd",
   "metadata": {},
   "outputs": [
    {
     "data": {
      "text/plain": [
       "0       1.0\n",
       "1       3.0\n",
       "2       5.0\n",
       "3       3.0\n",
       "4       5.0\n",
       "       ... \n",
       "3946    4.0\n",
       "3947    2.0\n",
       "3948    4.0\n",
       "3949    5.0\n",
       "3950    4.0\n",
       "Name: count_tickets, Length: 3951, dtype: float64"
      ]
     },
     "execution_count": 35,
     "metadata": {},
     "output_type": "execute_result"
    }
   ],
   "source": [
    "payments.count_tickets"
   ]
  },
  {
   "cell_type": "code",
   "execution_count": null,
   "id": "22b1ed73-118b-4d13-8ac8-1635f18cbabe",
   "metadata": {},
   "outputs": [
    {
     "name": "stdout",
     "output_type": "stream",
     "text": [
      "<class 'pandas.core.frame.DataFrame'>\n",
      "RangeIndex: 3951 entries, 0 to 3950\n",
      "Data columns (total 5 columns):\n",
      " #   Column         Non-Null Count  Dtype  \n",
      "---  ------         --------------  -----  \n",
      " 0   pay_date       3927 non-null   object \n",
      " 1   film_id        3951 non-null   int64  \n",
      " 2   part_of_day    3951 non-null   object \n",
      " 3   client_id      3951 non-null   object \n",
      " 4   count_tickets  3932 non-null   float64\n",
      "dtypes: float64(1), int64(1), object(3)\n",
      "memory usage: 154.5+ KB\n"
     ]
    }
   ],
   "source": [
    "payments.info()"
   ]
  },
  {
   "cell_type": "code",
   "execution_count": null,
   "id": "06e65696-a7cd-459c-8978-1e7c0a039440",
   "metadata": {},
   "outputs": [
    {
     "name": "stdout",
     "output_type": "stream",
     "text": [
      "<class 'pandas.core.frame.DataFrame'>\n",
      "RangeIndex: 3951 entries, 0 to 3950\n",
      "Data columns (total 5 columns):\n",
      " #   Column         Non-Null Count  Dtype  \n",
      "---  ------         --------------  -----  \n",
      " 0   pay_date       3927 non-null   object \n",
      " 1   film_id        3951 non-null   int64  \n",
      " 2   part_of_day    3951 non-null   object \n",
      " 3   client_id      3951 non-null   object \n",
      " 4   count_tickets  3932 non-null   float64\n",
      "dtypes: float64(1), int64(1), object(3)\n",
      "memory usage: 154.5+ KB\n"
     ]
    }
   ],
   "source": [
    "payments.info()"
   ]
  },
  {
   "cell_type": "markdown",
   "id": "e9392790-fbad-47b1-b067-d269668d1074",
   "metadata": {},
   "source": [
    "Важно! Аргумент `errors`. Принимает или `raise` (по умолчанию) - и тогда вызывает ошибку в случае, если не может перевести какие-то значения или `coerce` - тогда все значения, которые вызывает ошибку становятся NaN (типа float)"
   ]
  },
  {
   "cell_type": "code",
   "execution_count": null,
   "id": "26cbe32e-1208-4809-b849-837a39926ecb",
   "metadata": {},
   "outputs": [],
   "source": [
    "payments.count_tickets = pd.to_numeric(payments.count_tickets, errors='coerce') # приведение к числовому типу"
   ]
  },
  {
   "cell_type": "code",
   "execution_count": null,
   "id": "cab3f9c0-589d-470b-a2bc-9c0db54a1eab",
   "metadata": {},
   "outputs": [
    {
     "name": "stdout",
     "output_type": "stream",
     "text": [
      "<class 'pandas.core.frame.DataFrame'>\n",
      "RangeIndex: 3951 entries, 0 to 3950\n",
      "Data columns (total 5 columns):\n",
      " #   Column         Non-Null Count  Dtype  \n",
      "---  ------         --------------  -----  \n",
      " 0   pay_date       3927 non-null   object \n",
      " 1   film_id        3951 non-null   int64  \n",
      " 2   part_of_day    3951 non-null   object \n",
      " 3   client_id      3951 non-null   object \n",
      " 4   count_tickets  3932 non-null   float64\n",
      "dtypes: float64(1), int64(1), object(3)\n",
      "memory usage: 154.5+ KB\n"
     ]
    }
   ],
   "source": [
    "payments.info()"
   ]
  },
  {
   "cell_type": "code",
   "execution_count": null,
   "id": "123141cb-918b-425a-a3e1-5252702150cf",
   "metadata": {},
   "outputs": [],
   "source": [
    "payments.film_id = payments.film_id.astype('str') # приведение к текстовому формату"
   ]
  },
  {
   "cell_type": "code",
   "execution_count": null,
   "id": "80d00df9-9f5e-401c-b9a4-95de950c7c40",
   "metadata": {},
   "outputs": [],
   "source": [
    "payments.film_id = payments.film_id.astype('int') # приведение к числовому формату"
   ]
  },
  {
   "cell_type": "code",
   "execution_count": null,
   "id": "87be085f-e64c-4e32-8b51-46742a19c747",
   "metadata": {},
   "outputs": [
    {
     "name": "stdout",
     "output_type": "stream",
     "text": [
      "<class 'pandas.core.frame.DataFrame'>\n",
      "RangeIndex: 3951 entries, 0 to 3950\n",
      "Data columns (total 5 columns):\n",
      " #   Column         Non-Null Count  Dtype  \n",
      "---  ------         --------------  -----  \n",
      " 0   pay_date       3927 non-null   object \n",
      " 1   film_id        3951 non-null   int32  \n",
      " 2   part_of_day    3951 non-null   object \n",
      " 3   client_id      3951 non-null   object \n",
      " 4   count_tickets  3932 non-null   float64\n",
      "dtypes: float64(1), int32(1), object(3)\n",
      "memory usage: 139.0+ KB\n"
     ]
    }
   ],
   "source": [
    "payments.info()"
   ]
  },
  {
   "cell_type": "code",
   "execution_count": null,
   "id": "3d3dad63-88b2-40a4-857d-2029c05eccc1",
   "metadata": {},
   "outputs": [],
   "source": [
    "payments.pay_date = pd.to_datetime(payments.pay_date)"
   ]
  },
  {
   "cell_type": "code",
   "execution_count": null,
   "id": "c1eac747-e1fd-4a8d-9d63-0cbbd1bfc401",
   "metadata": {},
   "outputs": [
    {
     "name": "stdout",
     "output_type": "stream",
     "text": [
      "<class 'pandas.core.frame.DataFrame'>\n",
      "RangeIndex: 3951 entries, 0 to 3950\n",
      "Data columns (total 5 columns):\n",
      " #   Column         Non-Null Count  Dtype         \n",
      "---  ------         --------------  -----         \n",
      " 0   pay_date       3927 non-null   datetime64[ns]\n",
      " 1   film_id        3951 non-null   int32         \n",
      " 2   part_of_day    3951 non-null   object        \n",
      " 3   client_id      3951 non-null   object        \n",
      " 4   count_tickets  3932 non-null   float64       \n",
      "dtypes: datetime64[ns](1), float64(1), int32(1), object(2)\n",
      "memory usage: 139.0+ KB\n"
     ]
    }
   ],
   "source": [
    "payments.info()"
   ]
  },
  {
   "cell_type": "code",
   "execution_count": null,
   "id": "3bf71fb9-d6dc-4bb8-bc50-0f77740a7d86",
   "metadata": {},
   "outputs": [
    {
     "data": {
      "text/plain": [
       "0      2024-04-24\n",
       "1      2024-03-03\n",
       "2      2024-02-09\n",
       "3      2024-04-23\n",
       "4      2024-01-29\n",
       "          ...    \n",
       "3946   2024-02-11\n",
       "3947   2024-04-08\n",
       "3948   2024-01-16\n",
       "3949   2024-04-15\n",
       "3950   2024-04-05\n",
       "Name: pay_date, Length: 3951, dtype: datetime64[ns]"
      ]
     },
     "execution_count": 46,
     "metadata": {},
     "output_type": "execute_result"
    }
   ],
   "source": [
    "payments.pay_date.astype('datetime64[ns]')"
   ]
  },
  {
   "cell_type": "markdown",
   "id": "8696b787-85b9-4d49-875d-032ade9b807d",
   "metadata": {},
   "source": [
    "# Семинар 2"
   ]
  },
  {
   "cell_type": "markdown",
   "id": "02024619-b73c-4f4f-a48d-699b41ea6da1",
   "metadata": {},
   "source": [
    "## Чтение JSON файла"
   ]
  },
  {
   "cell_type": "code",
   "execution_count": 5,
   "id": "294d3540-ee22-4f4f-b4f1-72a67794112f",
   "metadata": {},
   "outputs": [
    {
     "name": "stdout",
     "output_type": "stream",
     "text": [
      "<class 'pandas.core.frame.DataFrame'>\n",
      "Index: 3962 entries, 0 to 3961\n",
      "Data columns (total 5 columns):\n",
      " #   Column         Non-Null Count  Dtype  \n",
      "---  ------         --------------  -----  \n",
      " 0   pay_date       3938 non-null   float64\n",
      " 1   film_id        3962 non-null   int64  \n",
      " 2   part_of_day    3962 non-null   object \n",
      " 3   client_id      3962 non-null   object \n",
      " 4   count_tickets  3943 non-null   float64\n",
      "dtypes: float64(2), int64(1), object(2)\n",
      "memory usage: 185.7+ KB\n"
     ]
    }
   ],
   "source": [
    "pd.read_json('payments.json').info() #чтение json-файла"
   ]
  },
  {
   "cell_type": "markdown",
   "id": "53a5cae4-8e5b-46c0-80bf-7875ca7d474c",
   "metadata": {
    "collapsed": false,
    "jupyter": {
     "outputs_hidden": false
    }
   },
   "source": [
    "## Переименование всех столбцов"
   ]
  },
  {
   "cell_type": "code",
   "execution_count": 6,
   "id": "b0179246-1e9c-4ce1-9ecf-a65a0c9b6abf",
   "metadata": {},
   "outputs": [
    {
     "data": {
      "text/plain": [
       "Index(['pay_date', 'film_id', 'part_of_day', 'client_id', 'count_tickets'], dtype='object')"
      ]
     },
     "execution_count": 6,
     "metadata": {},
     "output_type": "execute_result"
    }
   ],
   "source": [
    "payments.columns"
   ]
  },
  {
   "cell_type": "code",
   "execution_count": null,
   "id": "6f891be7-c17a-4321-b633-b08bb8d74cbb",
   "metadata": {},
   "outputs": [],
   "source": [
    "# новые названия столбцов\n",
    "new_columns = ['дата_платежа', 'film_id', 'part_of_day', 'клиент', 'count_tickets']"
   ]
  },
  {
   "cell_type": "code",
   "execution_count": 7,
   "id": "f49c13aa-16fa-4d81-8917-b57d3b5df202",
   "metadata": {},
   "outputs": [
    {
     "ename": "NameError",
     "evalue": "name 'new_columns' is not defined",
     "output_type": "error",
     "traceback": [
      "\u001b[1;31m---------------------------------------------------------------------------\u001b[0m",
      "\u001b[1;31mNameError\u001b[0m                                 Traceback (most recent call last)",
      "Cell \u001b[1;32mIn[7], line 1\u001b[0m\n\u001b[1;32m----> 1\u001b[0m payments\u001b[38;5;241m.\u001b[39mcolumns \u001b[38;5;241m=\u001b[39m \u001b[43mnew_columns\u001b[49m\n",
      "\u001b[1;31mNameError\u001b[0m: name 'new_columns' is not defined"
     ]
    }
   ],
   "source": [
    "payments.columns = new_columns"
   ]
  },
  {
   "cell_type": "code",
   "execution_count": 8,
   "id": "21da693f-855e-468b-98dc-126c97417697",
   "metadata": {},
   "outputs": [
    {
     "data": {
      "text/html": [
       "<div>\n",
       "<style scoped>\n",
       "    .dataframe tbody tr th:only-of-type {\n",
       "        vertical-align: middle;\n",
       "    }\n",
       "\n",
       "    .dataframe tbody tr th {\n",
       "        vertical-align: top;\n",
       "    }\n",
       "\n",
       "    .dataframe thead th {\n",
       "        text-align: right;\n",
       "    }\n",
       "</style>\n",
       "<table border=\"1\" class=\"dataframe\">\n",
       "  <thead>\n",
       "    <tr style=\"text-align: right;\">\n",
       "      <th></th>\n",
       "      <th>pay_date</th>\n",
       "      <th>film_id</th>\n",
       "      <th>part_of_day</th>\n",
       "      <th>client_id</th>\n",
       "      <th>count_tickets</th>\n",
       "    </tr>\n",
       "  </thead>\n",
       "  <tbody>\n",
       "    <tr>\n",
       "      <th>0</th>\n",
       "      <td>2024-04-24</td>\n",
       "      <td>2</td>\n",
       "      <td>дневной</td>\n",
       "      <td>NL42</td>\n",
       "      <td>1.0</td>\n",
       "    </tr>\n",
       "    <tr>\n",
       "      <th>1</th>\n",
       "      <td>2024-03-03</td>\n",
       "      <td>15</td>\n",
       "      <td>вечерний</td>\n",
       "      <td>HW75</td>\n",
       "      <td>3.0</td>\n",
       "    </tr>\n",
       "    <tr>\n",
       "      <th>2</th>\n",
       "      <td>2024-02-09</td>\n",
       "      <td>43</td>\n",
       "      <td>вечерний</td>\n",
       "      <td>XX54</td>\n",
       "      <td>5.0</td>\n",
       "    </tr>\n",
       "    <tr>\n",
       "      <th>3</th>\n",
       "      <td>2024-04-23</td>\n",
       "      <td>19</td>\n",
       "      <td>вечерний</td>\n",
       "      <td>QR90</td>\n",
       "      <td>3.0</td>\n",
       "    </tr>\n",
       "    <tr>\n",
       "      <th>4</th>\n",
       "      <td>2024-01-29</td>\n",
       "      <td>34</td>\n",
       "      <td>вечерний</td>\n",
       "      <td>SG93</td>\n",
       "      <td>5.0</td>\n",
       "    </tr>\n",
       "  </tbody>\n",
       "</table>\n",
       "</div>"
      ],
      "text/plain": [
       "     pay_date  film_id part_of_day client_id  count_tickets\n",
       "0  2024-04-24        2     дневной      NL42            1.0\n",
       "1  2024-03-03       15    вечерний      HW75            3.0\n",
       "2  2024-02-09       43    вечерний      XX54            5.0\n",
       "3  2024-04-23       19    вечерний      QR90            3.0\n",
       "4  2024-01-29       34    вечерний      SG93            5.0"
      ]
     },
     "execution_count": 8,
     "metadata": {},
     "output_type": "execute_result"
    }
   ],
   "source": [
    "payments.head()"
   ]
  },
  {
   "cell_type": "code",
   "execution_count": 9,
   "id": "d461373b-db84-4218-ae2a-7daed8197274",
   "metadata": {},
   "outputs": [],
   "source": [
    "# вернем старые названия\n",
    "old_columns = ['pay_date', 'film_id', 'part_of_day', 'client_id', 'count_tickets']"
   ]
  },
  {
   "cell_type": "code",
   "execution_count": 10,
   "id": "f13a6a14-cb60-4207-b773-a3ec9e2212d8",
   "metadata": {},
   "outputs": [],
   "source": [
    "old_columns = ['pay_date', 'film_id', 'part_of_day', 'client_id', 'count_tickets']\n",
    "payments.columns = old_columns"
   ]
  },
  {
   "cell_type": "code",
   "execution_count": null,
   "id": "d635460b-8750-457c-ae85-2cc8d247fc85",
   "metadata": {},
   "outputs": [
    {
     "data": {
      "text/html": [
       "<div>\n",
       "<style scoped>\n",
       "    .dataframe tbody tr th:only-of-type {\n",
       "        vertical-align: middle;\n",
       "    }\n",
       "\n",
       "    .dataframe tbody tr th {\n",
       "        vertical-align: top;\n",
       "    }\n",
       "\n",
       "    .dataframe thead th {\n",
       "        text-align: right;\n",
       "    }\n",
       "</style>\n",
       "<table border=\"1\" class=\"dataframe\">\n",
       "  <thead>\n",
       "    <tr style=\"text-align: right;\">\n",
       "      <th></th>\n",
       "      <th>pay_date</th>\n",
       "      <th>film_id</th>\n",
       "      <th>part_of_day</th>\n",
       "      <th>client_id</th>\n",
       "      <th>count_tickets</th>\n",
       "    </tr>\n",
       "  </thead>\n",
       "  <tbody>\n",
       "    <tr>\n",
       "      <th>0</th>\n",
       "      <td>2024-04-24</td>\n",
       "      <td>2</td>\n",
       "      <td>дневной</td>\n",
       "      <td>NL42</td>\n",
       "      <td>1.0</td>\n",
       "    </tr>\n",
       "    <tr>\n",
       "      <th>1</th>\n",
       "      <td>2024-03-03</td>\n",
       "      <td>15</td>\n",
       "      <td>вечерний</td>\n",
       "      <td>HW75</td>\n",
       "      <td>3.0</td>\n",
       "    </tr>\n",
       "    <tr>\n",
       "      <th>2</th>\n",
       "      <td>2024-02-09</td>\n",
       "      <td>43</td>\n",
       "      <td>вечерний</td>\n",
       "      <td>XX54</td>\n",
       "      <td>5.0</td>\n",
       "    </tr>\n",
       "    <tr>\n",
       "      <th>3</th>\n",
       "      <td>2024-04-23</td>\n",
       "      <td>19</td>\n",
       "      <td>вечерний</td>\n",
       "      <td>QR90</td>\n",
       "      <td>3.0</td>\n",
       "    </tr>\n",
       "    <tr>\n",
       "      <th>4</th>\n",
       "      <td>2024-01-29</td>\n",
       "      <td>34</td>\n",
       "      <td>вечерний</td>\n",
       "      <td>SG93</td>\n",
       "      <td>5.0</td>\n",
       "    </tr>\n",
       "  </tbody>\n",
       "</table>\n",
       "</div>"
      ],
      "text/plain": [
       "     pay_date  film_id part_of_day client_id  count_tickets\n",
       "0  2024-04-24        2     дневной      NL42            1.0\n",
       "1  2024-03-03       15    вечерний      HW75            3.0\n",
       "2  2024-02-09       43    вечерний      XX54            5.0\n",
       "3  2024-04-23       19    вечерний      QR90            3.0\n",
       "4  2024-01-29       34    вечерний      SG93            5.0"
      ]
     },
     "execution_count": 14,
     "metadata": {},
     "output_type": "execute_result"
    }
   ],
   "source": [
    "payments.head()"
   ]
  },
  {
   "cell_type": "markdown",
   "id": "c3a23d00-c0e5-4a63-a3dd-345b867f3981",
   "metadata": {
    "collapsed": false,
    "jupyter": {
     "outputs_hidden": false
    }
   },
   "source": [
    "## Заполнение пропусков следующим значениями .ffill() и предыдущим значениями .bfill()"
   ]
  },
  {
   "cell_type": "code",
   "execution_count": null,
   "id": "8dcdcb06-0a07-486f-b2b6-4e9dbc3ac490",
   "metadata": {},
   "outputs": [
    {
     "name": "stdout",
     "output_type": "stream",
     "text": [
      "<class 'pandas.core.frame.DataFrame'>\n",
      "RangeIndex: 3962 entries, 0 to 3961\n",
      "Data columns (total 5 columns):\n",
      " #   Column         Non-Null Count  Dtype  \n",
      "---  ------         --------------  -----  \n",
      " 0   pay_date       3938 non-null   object \n",
      " 1   film_id        3962 non-null   int64  \n",
      " 2   part_of_day    3962 non-null   object \n",
      " 3   client_id      3962 non-null   object \n",
      " 4   count_tickets  3943 non-null   float64\n",
      "dtypes: float64(1), int64(1), object(3)\n",
      "memory usage: 154.9+ KB\n"
     ]
    }
   ],
   "source": [
    "payments.info()"
   ]
  },
  {
   "cell_type": "code",
   "execution_count": null,
   "id": "c9003701-3604-4d36-9668-4c7b26a67fc2",
   "metadata": {},
   "outputs": [],
   "source": [
    "payments.count_tickets = payments.count_tickets.bfill() "
   ]
  },
  {
   "cell_type": "code",
   "execution_count": null,
   "id": "c151a03c-3183-4275-a78d-4439298551e2",
   "metadata": {},
   "outputs": [
    {
     "name": "stdout",
     "output_type": "stream",
     "text": [
      "<class 'pandas.core.frame.DataFrame'>\n",
      "RangeIndex: 3962 entries, 0 to 3961\n",
      "Data columns (total 5 columns):\n",
      " #   Column         Non-Null Count  Dtype  \n",
      "---  ------         --------------  -----  \n",
      " 0   pay_date       3938 non-null   object \n",
      " 1   film_id        3962 non-null   int64  \n",
      " 2   part_of_day    3962 non-null   object \n",
      " 3   client_id      3962 non-null   object \n",
      " 4   count_tickets  3962 non-null   float64\n",
      "dtypes: float64(1), int64(1), object(3)\n",
      "memory usage: 154.9+ KB\n"
     ]
    }
   ],
   "source": [
    "payments.info()"
   ]
  },
  {
   "cell_type": "markdown",
   "id": "c0421ae2-bd34-4863-9194-fd015033ca5a",
   "metadata": {
    "collapsed": false,
    "jupyter": {
     "outputs_hidden": false
    }
   },
   "source": [
    "## Вставка столбца на конкретное место "
   ]
  },
  {
   "cell_type": "code",
   "execution_count": null,
   "id": "3d74d5d9-afdc-4cd0-a68b-11849081d5b3",
   "metadata": {},
   "outputs": [
    {
     "data": {
      "text/html": [
       "<div>\n",
       "<style scoped>\n",
       "    .dataframe tbody tr th:only-of-type {\n",
       "        vertical-align: middle;\n",
       "    }\n",
       "\n",
       "    .dataframe tbody tr th {\n",
       "        vertical-align: top;\n",
       "    }\n",
       "\n",
       "    .dataframe thead th {\n",
       "        text-align: right;\n",
       "    }\n",
       "</style>\n",
       "<table border=\"1\" class=\"dataframe\">\n",
       "  <thead>\n",
       "    <tr style=\"text-align: right;\">\n",
       "      <th></th>\n",
       "      <th>pay_date</th>\n",
       "      <th>film_id</th>\n",
       "      <th>part_of_day</th>\n",
       "      <th>client_id</th>\n",
       "      <th>count_tickets</th>\n",
       "    </tr>\n",
       "  </thead>\n",
       "  <tbody>\n",
       "    <tr>\n",
       "      <th>0</th>\n",
       "      <td>2024-04-24</td>\n",
       "      <td>2</td>\n",
       "      <td>дневной</td>\n",
       "      <td>NL42</td>\n",
       "      <td>1.0</td>\n",
       "    </tr>\n",
       "    <tr>\n",
       "      <th>1</th>\n",
       "      <td>2024-03-03</td>\n",
       "      <td>15</td>\n",
       "      <td>вечерний</td>\n",
       "      <td>HW75</td>\n",
       "      <td>3.0</td>\n",
       "    </tr>\n",
       "    <tr>\n",
       "      <th>2</th>\n",
       "      <td>2024-02-09</td>\n",
       "      <td>43</td>\n",
       "      <td>вечерний</td>\n",
       "      <td>XX54</td>\n",
       "      <td>5.0</td>\n",
       "    </tr>\n",
       "    <tr>\n",
       "      <th>3</th>\n",
       "      <td>2024-04-23</td>\n",
       "      <td>19</td>\n",
       "      <td>вечерний</td>\n",
       "      <td>QR90</td>\n",
       "      <td>3.0</td>\n",
       "    </tr>\n",
       "    <tr>\n",
       "      <th>4</th>\n",
       "      <td>2024-01-29</td>\n",
       "      <td>34</td>\n",
       "      <td>вечерний</td>\n",
       "      <td>SG93</td>\n",
       "      <td>5.0</td>\n",
       "    </tr>\n",
       "  </tbody>\n",
       "</table>\n",
       "</div>"
      ],
      "text/plain": [
       "     pay_date  film_id part_of_day client_id  count_tickets\n",
       "0  2024-04-24        2     дневной      NL42            1.0\n",
       "1  2024-03-03       15    вечерний      HW75            3.0\n",
       "2  2024-02-09       43    вечерний      XX54            5.0\n",
       "3  2024-04-23       19    вечерний      QR90            3.0\n",
       "4  2024-01-29       34    вечерний      SG93            5.0"
      ]
     },
     "execution_count": 19,
     "metadata": {},
     "output_type": "execute_result"
    }
   ],
   "source": [
    "payments.head()"
   ]
  },
  {
   "cell_type": "code",
   "execution_count": null,
   "id": "f09e776a-ebae-403a-bbf9-b803fde7083e",
   "metadata": {},
   "outputs": [],
   "source": [
    "payments.insert(2, 'скидка', 10)"
   ]
  },
  {
   "cell_type": "code",
   "execution_count": null,
   "id": "c90089be-b55a-4e12-b7ee-16bdff72cae4",
   "metadata": {},
   "outputs": [
    {
     "data": {
      "text/html": [
       "<div>\n",
       "<style scoped>\n",
       "    .dataframe tbody tr th:only-of-type {\n",
       "        vertical-align: middle;\n",
       "    }\n",
       "\n",
       "    .dataframe tbody tr th {\n",
       "        vertical-align: top;\n",
       "    }\n",
       "\n",
       "    .dataframe thead th {\n",
       "        text-align: right;\n",
       "    }\n",
       "</style>\n",
       "<table border=\"1\" class=\"dataframe\">\n",
       "  <thead>\n",
       "    <tr style=\"text-align: right;\">\n",
       "      <th></th>\n",
       "      <th>дата_платежа</th>\n",
       "      <th>film_id</th>\n",
       "      <th>скидка</th>\n",
       "      <th>part_of_day</th>\n",
       "      <th>клиент</th>\n",
       "      <th>count_tickets</th>\n",
       "    </tr>\n",
       "  </thead>\n",
       "  <tbody>\n",
       "    <tr>\n",
       "      <th>0</th>\n",
       "      <td>2024-04-24</td>\n",
       "      <td>2</td>\n",
       "      <td>10</td>\n",
       "      <td>дневной</td>\n",
       "      <td>NL42</td>\n",
       "      <td>1.0</td>\n",
       "    </tr>\n",
       "    <tr>\n",
       "      <th>1</th>\n",
       "      <td>2024-03-03</td>\n",
       "      <td>15</td>\n",
       "      <td>10</td>\n",
       "      <td>вечерний</td>\n",
       "      <td>HW75</td>\n",
       "      <td>3.0</td>\n",
       "    </tr>\n",
       "    <tr>\n",
       "      <th>2</th>\n",
       "      <td>2024-02-09</td>\n",
       "      <td>43</td>\n",
       "      <td>10</td>\n",
       "      <td>вечерний</td>\n",
       "      <td>XX54</td>\n",
       "      <td>5.0</td>\n",
       "    </tr>\n",
       "    <tr>\n",
       "      <th>3</th>\n",
       "      <td>2024-04-23</td>\n",
       "      <td>19</td>\n",
       "      <td>10</td>\n",
       "      <td>вечерний</td>\n",
       "      <td>QR90</td>\n",
       "      <td>3.0</td>\n",
       "    </tr>\n",
       "    <tr>\n",
       "      <th>4</th>\n",
       "      <td>2024-01-29</td>\n",
       "      <td>34</td>\n",
       "      <td>10</td>\n",
       "      <td>вечерний</td>\n",
       "      <td>SG93</td>\n",
       "      <td>5.0</td>\n",
       "    </tr>\n",
       "  </tbody>\n",
       "</table>\n",
       "</div>"
      ],
      "text/plain": [
       "  дата_платежа  film_id  скидка part_of_day клиент  count_tickets\n",
       "0   2024-04-24        2      10     дневной   NL42            1.0\n",
       "1   2024-03-03       15      10    вечерний   HW75            3.0\n",
       "2   2024-02-09       43      10    вечерний   XX54            5.0\n",
       "3   2024-04-23       19      10    вечерний   QR90            3.0\n",
       "4   2024-01-29       34      10    вечерний   SG93            5.0"
      ]
     },
     "execution_count": 59,
     "metadata": {},
     "output_type": "execute_result"
    }
   ],
   "source": [
    "payments.head()"
   ]
  },
  {
   "cell_type": "code",
   "execution_count": null,
   "id": "34561d06-0089-4da1-8b31-5bca90675ddd",
   "metadata": {},
   "outputs": [],
   "source": [
    "del payments['скидка']"
   ]
  },
  {
   "cell_type": "code",
   "execution_count": null,
   "id": "3af775d2-6c50-4461-a137-72a855191e88",
   "metadata": {},
   "outputs": [
    {
     "data": {
      "text/html": [
       "<div>\n",
       "<style scoped>\n",
       "    .dataframe tbody tr th:only-of-type {\n",
       "        vertical-align: middle;\n",
       "    }\n",
       "\n",
       "    .dataframe tbody tr th {\n",
       "        vertical-align: top;\n",
       "    }\n",
       "\n",
       "    .dataframe thead th {\n",
       "        text-align: right;\n",
       "    }\n",
       "</style>\n",
       "<table border=\"1\" class=\"dataframe\">\n",
       "  <thead>\n",
       "    <tr style=\"text-align: right;\">\n",
       "      <th></th>\n",
       "      <th>pay_date</th>\n",
       "      <th>film_id</th>\n",
       "      <th>part_of_day</th>\n",
       "      <th>client_id</th>\n",
       "      <th>count_tickets</th>\n",
       "    </tr>\n",
       "  </thead>\n",
       "  <tbody>\n",
       "    <tr>\n",
       "      <th>0</th>\n",
       "      <td>2024-04-24</td>\n",
       "      <td>2</td>\n",
       "      <td>дневной</td>\n",
       "      <td>NL42</td>\n",
       "      <td>1.0</td>\n",
       "    </tr>\n",
       "    <tr>\n",
       "      <th>1</th>\n",
       "      <td>2024-03-03</td>\n",
       "      <td>15</td>\n",
       "      <td>вечерний</td>\n",
       "      <td>HW75</td>\n",
       "      <td>3.0</td>\n",
       "    </tr>\n",
       "    <tr>\n",
       "      <th>2</th>\n",
       "      <td>2024-02-09</td>\n",
       "      <td>43</td>\n",
       "      <td>вечерний</td>\n",
       "      <td>XX54</td>\n",
       "      <td>5.0</td>\n",
       "    </tr>\n",
       "    <tr>\n",
       "      <th>3</th>\n",
       "      <td>2024-04-23</td>\n",
       "      <td>19</td>\n",
       "      <td>вечерний</td>\n",
       "      <td>QR90</td>\n",
       "      <td>3.0</td>\n",
       "    </tr>\n",
       "    <tr>\n",
       "      <th>4</th>\n",
       "      <td>2024-01-29</td>\n",
       "      <td>34</td>\n",
       "      <td>вечерний</td>\n",
       "      <td>SG93</td>\n",
       "      <td>5.0</td>\n",
       "    </tr>\n",
       "  </tbody>\n",
       "</table>\n",
       "</div>"
      ],
      "text/plain": [
       "     pay_date  film_id part_of_day client_id  count_tickets\n",
       "0  2024-04-24        2     дневной      NL42            1.0\n",
       "1  2024-03-03       15    вечерний      HW75            3.0\n",
       "2  2024-02-09       43    вечерний      XX54            5.0\n",
       "3  2024-04-23       19    вечерний      QR90            3.0\n",
       "4  2024-01-29       34    вечерний      SG93            5.0"
      ]
     },
     "execution_count": 20,
     "metadata": {},
     "output_type": "execute_result"
    }
   ],
   "source": [
    "payments.head()"
   ]
  },
  {
   "cell_type": "markdown",
   "id": "2567711d-0d54-4c67-8b5c-48aab95eecd8",
   "metadata": {
    "collapsed": false,
    "jupyter": {
     "outputs_hidden": false
    }
   },
   "source": [
    "## Приведение к `datetime`"
   ]
  },
  {
   "cell_type": "code",
   "execution_count": null,
   "id": "433fa66a-3b55-4012-8ad1-a926199b4fd7",
   "metadata": {},
   "outputs": [],
   "source": [
    "payments.дата_платежа = pd.to_datetime(payments['pay_date'])"
   ]
  },
  {
   "cell_type": "code",
   "execution_count": null,
   "id": "b951e98c-7434-409d-8318-2922ade64a97",
   "metadata": {},
   "outputs": [
    {
     "name": "stdout",
     "output_type": "stream",
     "text": [
      "<class 'pandas.core.frame.DataFrame'>\n",
      "RangeIndex: 3951 entries, 0 to 3950\n",
      "Data columns (total 5 columns):\n",
      " #   Column         Non-Null Count  Dtype         \n",
      "---  ------         --------------  -----         \n",
      " 0   дата_платежа   3927 non-null   datetime64[ns]\n",
      " 1   film_id        3951 non-null   int32         \n",
      " 2   part_of_day    3951 non-null   object        \n",
      " 3   клиент         3951 non-null   object        \n",
      " 4   count_tickets  3951 non-null   float64       \n",
      "dtypes: datetime64[ns](1), float64(1), int32(1), object(2)\n",
      "memory usage: 139.0+ KB\n"
     ]
    }
   ],
   "source": [
    "payments.info()"
   ]
  },
  {
   "cell_type": "markdown",
   "id": "ab38a703-94d9-4b32-a89a-a2b71f863bad",
   "metadata": {},
   "source": [
    "## Углубление в groupby"
   ]
  },
  {
   "cell_type": "code",
   "execution_count": null,
   "id": "0ae34e81-d1bd-4115-92fa-fb394cfa5126",
   "metadata": {},
   "outputs": [
    {
     "data": {
      "text/html": [
       "<div>\n",
       "<style scoped>\n",
       "    .dataframe tbody tr th:only-of-type {\n",
       "        vertical-align: middle;\n",
       "    }\n",
       "\n",
       "    .dataframe tbody tr th {\n",
       "        vertical-align: top;\n",
       "    }\n",
       "\n",
       "    .dataframe thead th {\n",
       "        text-align: right;\n",
       "    }\n",
       "</style>\n",
       "<table border=\"1\" class=\"dataframe\">\n",
       "  <thead>\n",
       "    <tr style=\"text-align: right;\">\n",
       "      <th></th>\n",
       "      <th>pay_date</th>\n",
       "      <th>film_id</th>\n",
       "      <th>part_of_day</th>\n",
       "      <th>client_id</th>\n",
       "      <th>count_tickets</th>\n",
       "      <th>pay_month</th>\n",
       "    </tr>\n",
       "  </thead>\n",
       "  <tbody>\n",
       "    <tr>\n",
       "      <th>352</th>\n",
       "      <td>2024-03-21</td>\n",
       "      <td>21</td>\n",
       "      <td>утренний</td>\n",
       "      <td>YN41</td>\n",
       "      <td>3.0</td>\n",
       "      <td>3.0</td>\n",
       "    </tr>\n",
       "    <tr>\n",
       "      <th>611</th>\n",
       "      <td>2024-03-03</td>\n",
       "      <td>46</td>\n",
       "      <td>вечерний</td>\n",
       "      <td>YN41</td>\n",
       "      <td>5.0</td>\n",
       "      <td>3.0</td>\n",
       "    </tr>\n",
       "    <tr>\n",
       "      <th>641</th>\n",
       "      <td>2024-04-26</td>\n",
       "      <td>25</td>\n",
       "      <td>дневной</td>\n",
       "      <td>YN41</td>\n",
       "      <td>5.0</td>\n",
       "      <td>4.0</td>\n",
       "    </tr>\n",
       "    <tr>\n",
       "      <th>693</th>\n",
       "      <td>2024-04-27</td>\n",
       "      <td>31</td>\n",
       "      <td>вечерний</td>\n",
       "      <td>YN41</td>\n",
       "      <td>2.0</td>\n",
       "      <td>4.0</td>\n",
       "    </tr>\n",
       "    <tr>\n",
       "      <th>1018</th>\n",
       "      <td>2024-04-06</td>\n",
       "      <td>19</td>\n",
       "      <td>дневной</td>\n",
       "      <td>YN41</td>\n",
       "      <td>1.0</td>\n",
       "      <td>4.0</td>\n",
       "    </tr>\n",
       "    <tr>\n",
       "      <th>1369</th>\n",
       "      <td>2024-04-04</td>\n",
       "      <td>22</td>\n",
       "      <td>вечерний</td>\n",
       "      <td>YN41</td>\n",
       "      <td>1.0</td>\n",
       "      <td>4.0</td>\n",
       "    </tr>\n",
       "    <tr>\n",
       "      <th>1405</th>\n",
       "      <td>2024-02-02</td>\n",
       "      <td>6</td>\n",
       "      <td>вечерний</td>\n",
       "      <td>YN41</td>\n",
       "      <td>5.0</td>\n",
       "      <td>2.0</td>\n",
       "    </tr>\n",
       "    <tr>\n",
       "      <th>1424</th>\n",
       "      <td>2024-02-02</td>\n",
       "      <td>45</td>\n",
       "      <td>дневной</td>\n",
       "      <td>YN41</td>\n",
       "      <td>4.0</td>\n",
       "      <td>2.0</td>\n",
       "    </tr>\n",
       "    <tr>\n",
       "      <th>1630</th>\n",
       "      <td>2024-04-27</td>\n",
       "      <td>45</td>\n",
       "      <td>дневной</td>\n",
       "      <td>YN41</td>\n",
       "      <td>5.0</td>\n",
       "      <td>4.0</td>\n",
       "    </tr>\n",
       "    <tr>\n",
       "      <th>1813</th>\n",
       "      <td>2024-04-02</td>\n",
       "      <td>38</td>\n",
       "      <td>вечерний</td>\n",
       "      <td>YN41</td>\n",
       "      <td>2.0</td>\n",
       "      <td>4.0</td>\n",
       "    </tr>\n",
       "    <tr>\n",
       "      <th>2298</th>\n",
       "      <td>NaT</td>\n",
       "      <td>10</td>\n",
       "      <td>утренний</td>\n",
       "      <td>YN41</td>\n",
       "      <td>3.0</td>\n",
       "      <td>NaN</td>\n",
       "    </tr>\n",
       "    <tr>\n",
       "      <th>2376</th>\n",
       "      <td>2024-01-23</td>\n",
       "      <td>22</td>\n",
       "      <td>утренний</td>\n",
       "      <td>YN41</td>\n",
       "      <td>5.0</td>\n",
       "      <td>1.0</td>\n",
       "    </tr>\n",
       "    <tr>\n",
       "      <th>2540</th>\n",
       "      <td>2024-01-01</td>\n",
       "      <td>35</td>\n",
       "      <td>вечерний</td>\n",
       "      <td>YN41</td>\n",
       "      <td>3.0</td>\n",
       "      <td>1.0</td>\n",
       "    </tr>\n",
       "    <tr>\n",
       "      <th>2622</th>\n",
       "      <td>2024-03-26</td>\n",
       "      <td>48</td>\n",
       "      <td>утренний</td>\n",
       "      <td>YN41</td>\n",
       "      <td>2.0</td>\n",
       "      <td>3.0</td>\n",
       "    </tr>\n",
       "    <tr>\n",
       "      <th>2653</th>\n",
       "      <td>2024-02-14</td>\n",
       "      <td>36</td>\n",
       "      <td>утренний</td>\n",
       "      <td>YN41</td>\n",
       "      <td>5.0</td>\n",
       "      <td>2.0</td>\n",
       "    </tr>\n",
       "    <tr>\n",
       "      <th>2683</th>\n",
       "      <td>2024-02-19</td>\n",
       "      <td>9</td>\n",
       "      <td>вечерний</td>\n",
       "      <td>YN41</td>\n",
       "      <td>2.0</td>\n",
       "      <td>2.0</td>\n",
       "    </tr>\n",
       "    <tr>\n",
       "      <th>2690</th>\n",
       "      <td>NaT</td>\n",
       "      <td>42</td>\n",
       "      <td>дневной</td>\n",
       "      <td>YN41</td>\n",
       "      <td>3.0</td>\n",
       "      <td>NaN</td>\n",
       "    </tr>\n",
       "    <tr>\n",
       "      <th>3068</th>\n",
       "      <td>2024-04-28</td>\n",
       "      <td>10</td>\n",
       "      <td>дневной</td>\n",
       "      <td>YN41</td>\n",
       "      <td>2.0</td>\n",
       "      <td>4.0</td>\n",
       "    </tr>\n",
       "    <tr>\n",
       "      <th>3207</th>\n",
       "      <td>2024-03-13</td>\n",
       "      <td>6</td>\n",
       "      <td>утренний</td>\n",
       "      <td>YN41</td>\n",
       "      <td>2.0</td>\n",
       "      <td>3.0</td>\n",
       "    </tr>\n",
       "    <tr>\n",
       "      <th>3843</th>\n",
       "      <td>2024-05-01</td>\n",
       "      <td>16</td>\n",
       "      <td>дневной</td>\n",
       "      <td>YN41</td>\n",
       "      <td>4.0</td>\n",
       "      <td>5.0</td>\n",
       "    </tr>\n",
       "  </tbody>\n",
       "</table>\n",
       "</div>"
      ],
      "text/plain": [
       "       pay_date  film_id part_of_day client_id  count_tickets  pay_month\n",
       "352  2024-03-21       21    утренний      YN41            3.0        3.0\n",
       "611  2024-03-03       46    вечерний      YN41            5.0        3.0\n",
       "641  2024-04-26       25     дневной      YN41            5.0        4.0\n",
       "693  2024-04-27       31    вечерний      YN41            2.0        4.0\n",
       "1018 2024-04-06       19     дневной      YN41            1.0        4.0\n",
       "1369 2024-04-04       22    вечерний      YN41            1.0        4.0\n",
       "1405 2024-02-02        6    вечерний      YN41            5.0        2.0\n",
       "1424 2024-02-02       45     дневной      YN41            4.0        2.0\n",
       "1630 2024-04-27       45     дневной      YN41            5.0        4.0\n",
       "1813 2024-04-02       38    вечерний      YN41            2.0        4.0\n",
       "2298        NaT       10    утренний      YN41            3.0        NaN\n",
       "2376 2024-01-23       22    утренний      YN41            5.0        1.0\n",
       "2540 2024-01-01       35    вечерний      YN41            3.0        1.0\n",
       "2622 2024-03-26       48    утренний      YN41            2.0        3.0\n",
       "2653 2024-02-14       36    утренний      YN41            5.0        2.0\n",
       "2683 2024-02-19        9    вечерний      YN41            2.0        2.0\n",
       "2690        NaT       42     дневной      YN41            3.0        NaN\n",
       "3068 2024-04-28       10     дневной      YN41            2.0        4.0\n",
       "3207 2024-03-13        6    утренний      YN41            2.0        3.0\n",
       "3843 2024-05-01       16     дневной      YN41            4.0        5.0"
      ]
     },
     "execution_count": 21,
     "metadata": {},
     "output_type": "execute_result"
    }
   ],
   "source": [
    "# Возьмем небольшой датафейм по одному клиент\n",
    "client_YN41 = payments[payments['client_id']=='YN41']\n",
    "\n",
    "client_YN41['pay_date'] = pd.to_datetime(client_YN41['pay_date'])\n",
    "client_YN41['pay_month'] = client_YN41['pay_date'].dt.month\n",
    "client_YN41"
   ]
  },
  {
   "cell_type": "code",
   "execution_count": null,
   "id": "3fc16492-350b-441a-9445-f1e99f74a15f",
   "metadata": {},
   "outputs": [
    {
     "data": {
      "text/html": [
       "<div>\n",
       "<style scoped>\n",
       "    .dataframe tbody tr th:only-of-type {\n",
       "        vertical-align: middle;\n",
       "    }\n",
       "\n",
       "    .dataframe tbody tr th {\n",
       "        vertical-align: top;\n",
       "    }\n",
       "\n",
       "    .dataframe thead th {\n",
       "        text-align: right;\n",
       "    }\n",
       "</style>\n",
       "<table border=\"1\" class=\"dataframe\">\n",
       "  <thead>\n",
       "    <tr style=\"text-align: right;\">\n",
       "      <th></th>\n",
       "      <th>part_of_day</th>\n",
       "      <th>count_tickets</th>\n",
       "    </tr>\n",
       "  </thead>\n",
       "  <tbody>\n",
       "    <tr>\n",
       "      <th>0</th>\n",
       "      <td>вечерний</td>\n",
       "      <td>20.0</td>\n",
       "    </tr>\n",
       "    <tr>\n",
       "      <th>1</th>\n",
       "      <td>дневной</td>\n",
       "      <td>24.0</td>\n",
       "    </tr>\n",
       "    <tr>\n",
       "      <th>2</th>\n",
       "      <td>утренний</td>\n",
       "      <td>20.0</td>\n",
       "    </tr>\n",
       "  </tbody>\n",
       "</table>\n",
       "</div>"
      ],
      "text/plain": [
       "  part_of_day  count_tickets\n",
       "0    вечерний           20.0\n",
       "1     дневной           24.0\n",
       "2    утренний           20.0"
      ]
     },
     "execution_count": 209,
     "metadata": {},
     "output_type": "execute_result"
    }
   ],
   "source": [
    "# Сумма билетов по каждому part_of_day\n",
    "client_YN41.groupby(by='part_of_day', as_index=False)['count_tickets'].sum()"
   ]
  },
  {
   "cell_type": "code",
   "execution_count": null,
   "id": "2b41680d-1c9d-44c9-98f1-9742b62bbbef",
   "metadata": {},
   "outputs": [
    {
     "data": {
      "text/html": [
       "<div>\n",
       "<style scoped>\n",
       "    .dataframe tbody tr th:only-of-type {\n",
       "        vertical-align: middle;\n",
       "    }\n",
       "\n",
       "    .dataframe tbody tr th {\n",
       "        vertical-align: top;\n",
       "    }\n",
       "\n",
       "    .dataframe thead th {\n",
       "        text-align: right;\n",
       "    }\n",
       "</style>\n",
       "<table border=\"1\" class=\"dataframe\">\n",
       "  <thead>\n",
       "    <tr style=\"text-align: right;\">\n",
       "      <th></th>\n",
       "      <th>part_of_day</th>\n",
       "      <th>pay_month</th>\n",
       "      <th>film_id</th>\n",
       "      <th>count_tickets</th>\n",
       "    </tr>\n",
       "  </thead>\n",
       "  <tbody>\n",
       "    <tr>\n",
       "      <th>0</th>\n",
       "      <td>вечерний</td>\n",
       "      <td>1.0</td>\n",
       "      <td>35.000000</td>\n",
       "      <td>3.000000</td>\n",
       "    </tr>\n",
       "    <tr>\n",
       "      <th>1</th>\n",
       "      <td>вечерний</td>\n",
       "      <td>2.0</td>\n",
       "      <td>7.500000</td>\n",
       "      <td>3.500000</td>\n",
       "    </tr>\n",
       "    <tr>\n",
       "      <th>2</th>\n",
       "      <td>вечерний</td>\n",
       "      <td>3.0</td>\n",
       "      <td>46.000000</td>\n",
       "      <td>5.000000</td>\n",
       "    </tr>\n",
       "    <tr>\n",
       "      <th>3</th>\n",
       "      <td>вечерний</td>\n",
       "      <td>4.0</td>\n",
       "      <td>30.333333</td>\n",
       "      <td>1.666667</td>\n",
       "    </tr>\n",
       "    <tr>\n",
       "      <th>4</th>\n",
       "      <td>дневной</td>\n",
       "      <td>2.0</td>\n",
       "      <td>45.000000</td>\n",
       "      <td>4.000000</td>\n",
       "    </tr>\n",
       "    <tr>\n",
       "      <th>5</th>\n",
       "      <td>дневной</td>\n",
       "      <td>4.0</td>\n",
       "      <td>24.750000</td>\n",
       "      <td>3.250000</td>\n",
       "    </tr>\n",
       "    <tr>\n",
       "      <th>6</th>\n",
       "      <td>дневной</td>\n",
       "      <td>5.0</td>\n",
       "      <td>16.000000</td>\n",
       "      <td>4.000000</td>\n",
       "    </tr>\n",
       "    <tr>\n",
       "      <th>7</th>\n",
       "      <td>утренний</td>\n",
       "      <td>1.0</td>\n",
       "      <td>22.000000</td>\n",
       "      <td>5.000000</td>\n",
       "    </tr>\n",
       "    <tr>\n",
       "      <th>8</th>\n",
       "      <td>утренний</td>\n",
       "      <td>2.0</td>\n",
       "      <td>36.000000</td>\n",
       "      <td>5.000000</td>\n",
       "    </tr>\n",
       "    <tr>\n",
       "      <th>9</th>\n",
       "      <td>утренний</td>\n",
       "      <td>3.0</td>\n",
       "      <td>25.000000</td>\n",
       "      <td>2.333333</td>\n",
       "    </tr>\n",
       "  </tbody>\n",
       "</table>\n",
       "</div>"
      ],
      "text/plain": [
       "  part_of_day  pay_month    film_id  count_tickets\n",
       "0    вечерний        1.0  35.000000       3.000000\n",
       "1    вечерний        2.0   7.500000       3.500000\n",
       "2    вечерний        3.0  46.000000       5.000000\n",
       "3    вечерний        4.0  30.333333       1.666667\n",
       "4     дневной        2.0  45.000000       4.000000\n",
       "5     дневной        4.0  24.750000       3.250000\n",
       "6     дневной        5.0  16.000000       4.000000\n",
       "7    утренний        1.0  22.000000       5.000000\n",
       "8    утренний        2.0  36.000000       5.000000\n",
       "9    утренний        3.0  25.000000       2.333333"
      ]
     },
     "execution_count": 210,
     "metadata": {},
     "output_type": "execute_result"
    }
   ],
   "source": [
    "# Среднее значение\n",
    "client_YN41.groupby(['part_of_day','pay_month'], as_index=False)[['film_id','count_tickets']].mean()"
   ]
  },
  {
   "cell_type": "code",
   "execution_count": null,
   "id": "e425c0df-a8ac-43e8-a390-60d733527765",
   "metadata": {},
   "outputs": [
    {
     "data": {
      "text/html": [
       "<div>\n",
       "<style scoped>\n",
       "    .dataframe tbody tr th:only-of-type {\n",
       "        vertical-align: middle;\n",
       "    }\n",
       "\n",
       "    .dataframe tbody tr th {\n",
       "        vertical-align: top;\n",
       "    }\n",
       "\n",
       "    .dataframe thead th {\n",
       "        text-align: right;\n",
       "    }\n",
       "</style>\n",
       "<table border=\"1\" class=\"dataframe\">\n",
       "  <thead>\n",
       "    <tr style=\"text-align: right;\">\n",
       "      <th></th>\n",
       "      <th>part_of_day</th>\n",
       "      <th>count_tickets</th>\n",
       "    </tr>\n",
       "  </thead>\n",
       "  <tbody>\n",
       "    <tr>\n",
       "      <th>0</th>\n",
       "      <td>вечерний</td>\n",
       "      <td>2.0</td>\n",
       "    </tr>\n",
       "    <tr>\n",
       "      <th>1</th>\n",
       "      <td>дневной</td>\n",
       "      <td>4.0</td>\n",
       "    </tr>\n",
       "    <tr>\n",
       "      <th>2</th>\n",
       "      <td>утренний</td>\n",
       "      <td>3.0</td>\n",
       "    </tr>\n",
       "  </tbody>\n",
       "</table>\n",
       "</div>"
      ],
      "text/plain": [
       "  part_of_day  count_tickets\n",
       "0    вечерний            2.0\n",
       "1     дневной            4.0\n",
       "2    утренний            3.0"
      ]
     },
     "execution_count": 211,
     "metadata": {},
     "output_type": "execute_result"
    }
   ],
   "source": [
    "# Медиана\n",
    "client_YN41.groupby(by='part_of_day', as_index=False)['count_tickets'].median()"
   ]
  },
  {
   "cell_type": "code",
   "execution_count": null,
   "id": "2330da0a-ad03-4c1c-bc5a-dd7d0ed3bb50",
   "metadata": {},
   "outputs": [
    {
     "data": {
      "text/html": [
       "<div>\n",
       "<style scoped>\n",
       "    .dataframe tbody tr th:only-of-type {\n",
       "        vertical-align: middle;\n",
       "    }\n",
       "\n",
       "    .dataframe tbody tr th {\n",
       "        vertical-align: top;\n",
       "    }\n",
       "\n",
       "    .dataframe thead th {\n",
       "        text-align: right;\n",
       "    }\n",
       "</style>\n",
       "<table border=\"1\" class=\"dataframe\">\n",
       "  <thead>\n",
       "    <tr style=\"text-align: right;\">\n",
       "      <th></th>\n",
       "      <th>part_of_day</th>\n",
       "      <th>pay_date</th>\n",
       "    </tr>\n",
       "  </thead>\n",
       "  <tbody>\n",
       "    <tr>\n",
       "      <th>0</th>\n",
       "      <td>вечерний</td>\n",
       "      <td>7</td>\n",
       "    </tr>\n",
       "    <tr>\n",
       "      <th>1</th>\n",
       "      <td>дневной</td>\n",
       "      <td>6</td>\n",
       "    </tr>\n",
       "    <tr>\n",
       "      <th>2</th>\n",
       "      <td>утренний</td>\n",
       "      <td>5</td>\n",
       "    </tr>\n",
       "  </tbody>\n",
       "</table>\n",
       "</div>"
      ],
      "text/plain": [
       "  part_of_day  pay_date\n",
       "0    вечерний         7\n",
       "1     дневной         6\n",
       "2    утренний         5"
      ]
     },
     "execution_count": 212,
     "metadata": {},
     "output_type": "execute_result"
    }
   ],
   "source": [
    "# считает кол-во, но не учитывает null\n",
    "client_YN41.groupby(by='part_of_day', as_index=False)['pay_date'].count()"
   ]
  },
  {
   "cell_type": "code",
   "execution_count": null,
   "id": "ad34b0cb-ab82-45d4-a5eb-67b3999f014f",
   "metadata": {},
   "outputs": [
    {
     "data": {
      "text/html": [
       "<div>\n",
       "<style scoped>\n",
       "    .dataframe tbody tr th:only-of-type {\n",
       "        vertical-align: middle;\n",
       "    }\n",
       "\n",
       "    .dataframe tbody tr th {\n",
       "        vertical-align: top;\n",
       "    }\n",
       "\n",
       "    .dataframe thead th {\n",
       "        text-align: right;\n",
       "    }\n",
       "</style>\n",
       "<table border=\"1\" class=\"dataframe\">\n",
       "  <thead>\n",
       "    <tr style=\"text-align: right;\">\n",
       "      <th></th>\n",
       "      <th>part_of_day</th>\n",
       "      <th>size</th>\n",
       "    </tr>\n",
       "  </thead>\n",
       "  <tbody>\n",
       "    <tr>\n",
       "      <th>0</th>\n",
       "      <td>вечерний</td>\n",
       "      <td>7</td>\n",
       "    </tr>\n",
       "    <tr>\n",
       "      <th>1</th>\n",
       "      <td>дневной</td>\n",
       "      <td>7</td>\n",
       "    </tr>\n",
       "    <tr>\n",
       "      <th>2</th>\n",
       "      <td>утренний</td>\n",
       "      <td>6</td>\n",
       "    </tr>\n",
       "  </tbody>\n",
       "</table>\n",
       "</div>"
      ],
      "text/plain": [
       "  part_of_day  size\n",
       "0    вечерний     7\n",
       "1     дневной     7\n",
       "2    утренний     6"
      ]
     },
     "execution_count": 22,
     "metadata": {},
     "output_type": "execute_result"
    }
   ],
   "source": [
    "# считает кол-во, но учитывает null\n",
    "client_YN41.groupby(by='part_of_day', as_index=False)['pay_date'].size()"
   ]
  },
  {
   "cell_type": "code",
   "execution_count": null,
   "id": "6f81fcdf-2573-4f34-9627-323c77b36243",
   "metadata": {},
   "outputs": [
    {
     "data": {
      "text/html": [
       "<div>\n",
       "<style scoped>\n",
       "    .dataframe tbody tr th:only-of-type {\n",
       "        vertical-align: middle;\n",
       "    }\n",
       "\n",
       "    .dataframe tbody tr th {\n",
       "        vertical-align: top;\n",
       "    }\n",
       "\n",
       "    .dataframe thead th {\n",
       "        text-align: right;\n",
       "    }\n",
       "</style>\n",
       "<table border=\"1\" class=\"dataframe\">\n",
       "  <thead>\n",
       "    <tr style=\"text-align: right;\">\n",
       "      <th></th>\n",
       "      <th>part_of_day</th>\n",
       "      <th>count_tickets</th>\n",
       "    </tr>\n",
       "  </thead>\n",
       "  <tbody>\n",
       "    <tr>\n",
       "      <th>0</th>\n",
       "      <td>вечерний</td>\n",
       "      <td>1.0</td>\n",
       "    </tr>\n",
       "    <tr>\n",
       "      <th>1</th>\n",
       "      <td>дневной</td>\n",
       "      <td>1.0</td>\n",
       "    </tr>\n",
       "    <tr>\n",
       "      <th>2</th>\n",
       "      <td>утренний</td>\n",
       "      <td>2.0</td>\n",
       "    </tr>\n",
       "  </tbody>\n",
       "</table>\n",
       "</div>"
      ],
      "text/plain": [
       "  part_of_day  count_tickets\n",
       "0    вечерний            1.0\n",
       "1     дневной            1.0\n",
       "2    утренний            2.0"
      ]
     },
     "execution_count": 214,
     "metadata": {},
     "output_type": "execute_result"
    }
   ],
   "source": [
    "# Минимиум \n",
    "client_YN41.groupby(by='part_of_day', as_index=False)['count_tickets'].min()"
   ]
  },
  {
   "cell_type": "code",
   "execution_count": null,
   "id": "991c4179-9c5b-4425-b174-1055c133e278",
   "metadata": {},
   "outputs": [
    {
     "data": {
      "text/html": [
       "<div>\n",
       "<style scoped>\n",
       "    .dataframe tbody tr th:only-of-type {\n",
       "        vertical-align: middle;\n",
       "    }\n",
       "\n",
       "    .dataframe tbody tr th {\n",
       "        vertical-align: top;\n",
       "    }\n",
       "\n",
       "    .dataframe thead th {\n",
       "        text-align: right;\n",
       "    }\n",
       "</style>\n",
       "<table border=\"1\" class=\"dataframe\">\n",
       "  <thead>\n",
       "    <tr style=\"text-align: right;\">\n",
       "      <th></th>\n",
       "      <th>part_of_day</th>\n",
       "      <th>count_tickets</th>\n",
       "    </tr>\n",
       "  </thead>\n",
       "  <tbody>\n",
       "    <tr>\n",
       "      <th>0</th>\n",
       "      <td>вечерний</td>\n",
       "      <td>5.0</td>\n",
       "    </tr>\n",
       "    <tr>\n",
       "      <th>1</th>\n",
       "      <td>дневной</td>\n",
       "      <td>5.0</td>\n",
       "    </tr>\n",
       "    <tr>\n",
       "      <th>2</th>\n",
       "      <td>утренний</td>\n",
       "      <td>5.0</td>\n",
       "    </tr>\n",
       "  </tbody>\n",
       "</table>\n",
       "</div>"
      ],
      "text/plain": [
       "  part_of_day  count_tickets\n",
       "0    вечерний            5.0\n",
       "1     дневной            5.0\n",
       "2    утренний            5.0"
      ]
     },
     "execution_count": 215,
     "metadata": {},
     "output_type": "execute_result"
    }
   ],
   "source": [
    "# Максимум\n",
    "client_YN41.groupby(by='part_of_day', as_index=False)['count_tickets'].max()"
   ]
  },
  {
   "cell_type": "code",
   "execution_count": null,
   "id": "1ab50313-d62e-430d-a29f-2f1b97486237",
   "metadata": {},
   "outputs": [
    {
     "data": {
      "text/html": [
       "<div>\n",
       "<style scoped>\n",
       "    .dataframe tbody tr th:only-of-type {\n",
       "        vertical-align: middle;\n",
       "    }\n",
       "\n",
       "    .dataframe tbody tr th {\n",
       "        vertical-align: top;\n",
       "    }\n",
       "\n",
       "    .dataframe thead th {\n",
       "        text-align: right;\n",
       "    }\n",
       "</style>\n",
       "<table border=\"1\" class=\"dataframe\">\n",
       "  <thead>\n",
       "    <tr style=\"text-align: right;\">\n",
       "      <th></th>\n",
       "      <th>pay_date</th>\n",
       "      <th>film_id</th>\n",
       "      <th>part_of_day</th>\n",
       "      <th>client_id</th>\n",
       "      <th>count_tickets</th>\n",
       "      <th>pay_month</th>\n",
       "    </tr>\n",
       "  </thead>\n",
       "  <tbody>\n",
       "    <tr>\n",
       "      <th>2540</th>\n",
       "      <td>2024-01-01</td>\n",
       "      <td>35</td>\n",
       "      <td>вечерний</td>\n",
       "      <td>YN41</td>\n",
       "      <td>3.0</td>\n",
       "      <td>1.0</td>\n",
       "    </tr>\n",
       "    <tr>\n",
       "      <th>2376</th>\n",
       "      <td>2024-01-23</td>\n",
       "      <td>22</td>\n",
       "      <td>утренний</td>\n",
       "      <td>YN41</td>\n",
       "      <td>5.0</td>\n",
       "      <td>1.0</td>\n",
       "    </tr>\n",
       "    <tr>\n",
       "      <th>1405</th>\n",
       "      <td>2024-02-02</td>\n",
       "      <td>6</td>\n",
       "      <td>вечерний</td>\n",
       "      <td>YN41</td>\n",
       "      <td>5.0</td>\n",
       "      <td>2.0</td>\n",
       "    </tr>\n",
       "    <tr>\n",
       "      <th>1424</th>\n",
       "      <td>2024-02-02</td>\n",
       "      <td>45</td>\n",
       "      <td>дневной</td>\n",
       "      <td>YN41</td>\n",
       "      <td>4.0</td>\n",
       "      <td>2.0</td>\n",
       "    </tr>\n",
       "    <tr>\n",
       "      <th>2653</th>\n",
       "      <td>2024-02-14</td>\n",
       "      <td>36</td>\n",
       "      <td>утренний</td>\n",
       "      <td>YN41</td>\n",
       "      <td>5.0</td>\n",
       "      <td>2.0</td>\n",
       "    </tr>\n",
       "    <tr>\n",
       "      <th>2683</th>\n",
       "      <td>2024-02-19</td>\n",
       "      <td>9</td>\n",
       "      <td>вечерний</td>\n",
       "      <td>YN41</td>\n",
       "      <td>2.0</td>\n",
       "      <td>2.0</td>\n",
       "    </tr>\n",
       "    <tr>\n",
       "      <th>611</th>\n",
       "      <td>2024-03-03</td>\n",
       "      <td>46</td>\n",
       "      <td>вечерний</td>\n",
       "      <td>YN41</td>\n",
       "      <td>5.0</td>\n",
       "      <td>3.0</td>\n",
       "    </tr>\n",
       "    <tr>\n",
       "      <th>3207</th>\n",
       "      <td>2024-03-13</td>\n",
       "      <td>6</td>\n",
       "      <td>утренний</td>\n",
       "      <td>YN41</td>\n",
       "      <td>2.0</td>\n",
       "      <td>3.0</td>\n",
       "    </tr>\n",
       "    <tr>\n",
       "      <th>352</th>\n",
       "      <td>2024-03-21</td>\n",
       "      <td>21</td>\n",
       "      <td>утренний</td>\n",
       "      <td>YN41</td>\n",
       "      <td>3.0</td>\n",
       "      <td>3.0</td>\n",
       "    </tr>\n",
       "    <tr>\n",
       "      <th>2622</th>\n",
       "      <td>2024-03-26</td>\n",
       "      <td>48</td>\n",
       "      <td>утренний</td>\n",
       "      <td>YN41</td>\n",
       "      <td>2.0</td>\n",
       "      <td>3.0</td>\n",
       "    </tr>\n",
       "    <tr>\n",
       "      <th>1813</th>\n",
       "      <td>2024-04-02</td>\n",
       "      <td>38</td>\n",
       "      <td>вечерний</td>\n",
       "      <td>YN41</td>\n",
       "      <td>2.0</td>\n",
       "      <td>4.0</td>\n",
       "    </tr>\n",
       "    <tr>\n",
       "      <th>1369</th>\n",
       "      <td>2024-04-04</td>\n",
       "      <td>22</td>\n",
       "      <td>вечерний</td>\n",
       "      <td>YN41</td>\n",
       "      <td>1.0</td>\n",
       "      <td>4.0</td>\n",
       "    </tr>\n",
       "    <tr>\n",
       "      <th>1018</th>\n",
       "      <td>2024-04-06</td>\n",
       "      <td>19</td>\n",
       "      <td>дневной</td>\n",
       "      <td>YN41</td>\n",
       "      <td>1.0</td>\n",
       "      <td>4.0</td>\n",
       "    </tr>\n",
       "    <tr>\n",
       "      <th>641</th>\n",
       "      <td>2024-04-26</td>\n",
       "      <td>25</td>\n",
       "      <td>дневной</td>\n",
       "      <td>YN41</td>\n",
       "      <td>5.0</td>\n",
       "      <td>4.0</td>\n",
       "    </tr>\n",
       "    <tr>\n",
       "      <th>1630</th>\n",
       "      <td>2024-04-27</td>\n",
       "      <td>45</td>\n",
       "      <td>дневной</td>\n",
       "      <td>YN41</td>\n",
       "      <td>5.0</td>\n",
       "      <td>4.0</td>\n",
       "    </tr>\n",
       "    <tr>\n",
       "      <th>693</th>\n",
       "      <td>2024-04-27</td>\n",
       "      <td>31</td>\n",
       "      <td>вечерний</td>\n",
       "      <td>YN41</td>\n",
       "      <td>2.0</td>\n",
       "      <td>4.0</td>\n",
       "    </tr>\n",
       "    <tr>\n",
       "      <th>3068</th>\n",
       "      <td>2024-04-28</td>\n",
       "      <td>10</td>\n",
       "      <td>дневной</td>\n",
       "      <td>YN41</td>\n",
       "      <td>2.0</td>\n",
       "      <td>4.0</td>\n",
       "    </tr>\n",
       "    <tr>\n",
       "      <th>3843</th>\n",
       "      <td>2024-05-01</td>\n",
       "      <td>16</td>\n",
       "      <td>дневной</td>\n",
       "      <td>YN41</td>\n",
       "      <td>4.0</td>\n",
       "      <td>5.0</td>\n",
       "    </tr>\n",
       "    <tr>\n",
       "      <th>2298</th>\n",
       "      <td>NaT</td>\n",
       "      <td>10</td>\n",
       "      <td>утренний</td>\n",
       "      <td>YN41</td>\n",
       "      <td>3.0</td>\n",
       "      <td>NaN</td>\n",
       "    </tr>\n",
       "    <tr>\n",
       "      <th>2690</th>\n",
       "      <td>NaT</td>\n",
       "      <td>42</td>\n",
       "      <td>дневной</td>\n",
       "      <td>YN41</td>\n",
       "      <td>3.0</td>\n",
       "      <td>NaN</td>\n",
       "    </tr>\n",
       "  </tbody>\n",
       "</table>\n",
       "</div>"
      ],
      "text/plain": [
       "       pay_date  film_id part_of_day client_id  count_tickets  pay_month\n",
       "2540 2024-01-01       35    вечерний      YN41            3.0        1.0\n",
       "2376 2024-01-23       22    утренний      YN41            5.0        1.0\n",
       "1405 2024-02-02        6    вечерний      YN41            5.0        2.0\n",
       "1424 2024-02-02       45     дневной      YN41            4.0        2.0\n",
       "2653 2024-02-14       36    утренний      YN41            5.0        2.0\n",
       "2683 2024-02-19        9    вечерний      YN41            2.0        2.0\n",
       "611  2024-03-03       46    вечерний      YN41            5.0        3.0\n",
       "3207 2024-03-13        6    утренний      YN41            2.0        3.0\n",
       "352  2024-03-21       21    утренний      YN41            3.0        3.0\n",
       "2622 2024-03-26       48    утренний      YN41            2.0        3.0\n",
       "1813 2024-04-02       38    вечерний      YN41            2.0        4.0\n",
       "1369 2024-04-04       22    вечерний      YN41            1.0        4.0\n",
       "1018 2024-04-06       19     дневной      YN41            1.0        4.0\n",
       "641  2024-04-26       25     дневной      YN41            5.0        4.0\n",
       "1630 2024-04-27       45     дневной      YN41            5.0        4.0\n",
       "693  2024-04-27       31    вечерний      YN41            2.0        4.0\n",
       "3068 2024-04-28       10     дневной      YN41            2.0        4.0\n",
       "3843 2024-05-01       16     дневной      YN41            4.0        5.0\n",
       "2298        NaT       10    утренний      YN41            3.0        NaN\n",
       "2690        NaT       42     дневной      YN41            3.0        NaN"
      ]
     },
     "execution_count": 216,
     "metadata": {},
     "output_type": "execute_result"
    }
   ],
   "source": [
    "client_YN41['pay_date'] = pd.to_datetime(client_YN41['pay_date'])\n",
    "client_YN41 = client_YN41.sort_values('pay_date')\n",
    "client_YN41"
   ]
  },
  {
   "cell_type": "code",
   "execution_count": null,
   "id": "34b4a379-ec81-4e7d-bffc-6047f074492f",
   "metadata": {},
   "outputs": [
    {
     "data": {
      "text/html": [
       "<div>\n",
       "<style scoped>\n",
       "    .dataframe tbody tr th:only-of-type {\n",
       "        vertical-align: middle;\n",
       "    }\n",
       "\n",
       "    .dataframe tbody tr th {\n",
       "        vertical-align: top;\n",
       "    }\n",
       "\n",
       "    .dataframe thead th {\n",
       "        text-align: right;\n",
       "    }\n",
       "</style>\n",
       "<table border=\"1\" class=\"dataframe\">\n",
       "  <thead>\n",
       "    <tr style=\"text-align: right;\">\n",
       "      <th></th>\n",
       "      <th>part_of_day</th>\n",
       "      <th>count_tickets</th>\n",
       "    </tr>\n",
       "  </thead>\n",
       "  <tbody>\n",
       "    <tr>\n",
       "      <th>0</th>\n",
       "      <td>вечерний</td>\n",
       "      <td>3.0</td>\n",
       "    </tr>\n",
       "    <tr>\n",
       "      <th>1</th>\n",
       "      <td>дневной</td>\n",
       "      <td>4.0</td>\n",
       "    </tr>\n",
       "    <tr>\n",
       "      <th>2</th>\n",
       "      <td>утренний</td>\n",
       "      <td>5.0</td>\n",
       "    </tr>\n",
       "  </tbody>\n",
       "</table>\n",
       "</div>"
      ],
      "text/plain": [
       "  part_of_day  count_tickets\n",
       "0    вечерний            3.0\n",
       "1     дневной            4.0\n",
       "2    утренний            5.0"
      ]
     },
     "execution_count": 217,
     "metadata": {},
     "output_type": "execute_result"
    }
   ],
   "source": [
    "# первое значение для группировки\n",
    "client_YN41.groupby(by='part_of_day', as_index=False)['count_tickets'].first()"
   ]
  },
  {
   "cell_type": "code",
   "execution_count": null,
   "id": "43113cc1-09ee-4f3c-9a62-e403011ea3a3",
   "metadata": {},
   "outputs": [
    {
     "data": {
      "text/html": [
       "<div>\n",
       "<style scoped>\n",
       "    .dataframe tbody tr th:only-of-type {\n",
       "        vertical-align: middle;\n",
       "    }\n",
       "\n",
       "    .dataframe tbody tr th {\n",
       "        vertical-align: top;\n",
       "    }\n",
       "\n",
       "    .dataframe thead th {\n",
       "        text-align: right;\n",
       "    }\n",
       "</style>\n",
       "<table border=\"1\" class=\"dataframe\">\n",
       "  <thead>\n",
       "    <tr style=\"text-align: right;\">\n",
       "      <th></th>\n",
       "      <th>part_of_day</th>\n",
       "      <th>count_tickets</th>\n",
       "    </tr>\n",
       "  </thead>\n",
       "  <tbody>\n",
       "    <tr>\n",
       "      <th>0</th>\n",
       "      <td>вечерний</td>\n",
       "      <td>2.0</td>\n",
       "    </tr>\n",
       "    <tr>\n",
       "      <th>1</th>\n",
       "      <td>дневной</td>\n",
       "      <td>3.0</td>\n",
       "    </tr>\n",
       "    <tr>\n",
       "      <th>2</th>\n",
       "      <td>утренний</td>\n",
       "      <td>3.0</td>\n",
       "    </tr>\n",
       "  </tbody>\n",
       "</table>\n",
       "</div>"
      ],
      "text/plain": [
       "  part_of_day  count_tickets\n",
       "0    вечерний            2.0\n",
       "1     дневной            3.0\n",
       "2    утренний            3.0"
      ]
     },
     "execution_count": 218,
     "metadata": {},
     "output_type": "execute_result"
    }
   ],
   "source": [
    "# последнее значение для группировки\n",
    "client_YN41.groupby(by='part_of_day', as_index=False)['count_tickets'].last()"
   ]
  },
  {
   "cell_type": "code",
   "execution_count": null,
   "id": "3b3c9022-bf6f-41aa-a023-82cc09b28fd0",
   "metadata": {},
   "outputs": [
    {
     "data": {
      "text/html": [
       "<div>\n",
       "<style scoped>\n",
       "    .dataframe tbody tr th:only-of-type {\n",
       "        vertical-align: middle;\n",
       "    }\n",
       "\n",
       "    .dataframe tbody tr th {\n",
       "        vertical-align: top;\n",
       "    }\n",
       "\n",
       "    .dataframe thead th {\n",
       "        text-align: right;\n",
       "    }\n",
       "</style>\n",
       "<table border=\"1\" class=\"dataframe\">\n",
       "  <thead>\n",
       "    <tr style=\"text-align: right;\">\n",
       "      <th></th>\n",
       "      <th>part_of_day</th>\n",
       "      <th>count</th>\n",
       "      <th>mean</th>\n",
       "      <th>std</th>\n",
       "      <th>min</th>\n",
       "      <th>25%</th>\n",
       "      <th>50%</th>\n",
       "      <th>75%</th>\n",
       "      <th>max</th>\n",
       "    </tr>\n",
       "  </thead>\n",
       "  <tbody>\n",
       "    <tr>\n",
       "      <th>0</th>\n",
       "      <td>вечерний</td>\n",
       "      <td>7.0</td>\n",
       "      <td>2.857143</td>\n",
       "      <td>1.573592</td>\n",
       "      <td>1.0</td>\n",
       "      <td>2.00</td>\n",
       "      <td>2.0</td>\n",
       "      <td>4.0</td>\n",
       "      <td>5.0</td>\n",
       "    </tr>\n",
       "    <tr>\n",
       "      <th>1</th>\n",
       "      <td>дневной</td>\n",
       "      <td>7.0</td>\n",
       "      <td>3.428571</td>\n",
       "      <td>1.511858</td>\n",
       "      <td>1.0</td>\n",
       "      <td>2.50</td>\n",
       "      <td>4.0</td>\n",
       "      <td>4.5</td>\n",
       "      <td>5.0</td>\n",
       "    </tr>\n",
       "    <tr>\n",
       "      <th>2</th>\n",
       "      <td>утренний</td>\n",
       "      <td>6.0</td>\n",
       "      <td>3.333333</td>\n",
       "      <td>1.366260</td>\n",
       "      <td>2.0</td>\n",
       "      <td>2.25</td>\n",
       "      <td>3.0</td>\n",
       "      <td>4.5</td>\n",
       "      <td>5.0</td>\n",
       "    </tr>\n",
       "  </tbody>\n",
       "</table>\n",
       "</div>"
      ],
      "text/plain": [
       "  part_of_day  count      mean       std  min   25%  50%  75%  max\n",
       "0    вечерний    7.0  2.857143  1.573592  1.0  2.00  2.0  4.0  5.0\n",
       "1     дневной    7.0  3.428571  1.511858  1.0  2.50  4.0  4.5  5.0\n",
       "2    утренний    6.0  3.333333  1.366260  2.0  2.25  3.0  4.5  5.0"
      ]
     },
     "execution_count": 219,
     "metadata": {},
     "output_type": "execute_result"
    }
   ],
   "source": [
    "# Описание всех важных статистик\n",
    "client_YN41.groupby(by='part_of_day', as_index=False)['count_tickets'].describe()"
   ]
  },
  {
   "cell_type": "code",
   "execution_count": null,
   "id": "3ab95be9-ebbc-4b6e-afc8-9c445cbddb44",
   "metadata": {},
   "outputs": [
    {
     "data": {
      "text/html": [
       "<div>\n",
       "<style scoped>\n",
       "    .dataframe tbody tr th:only-of-type {\n",
       "        vertical-align: middle;\n",
       "    }\n",
       "\n",
       "    .dataframe tbody tr th {\n",
       "        vertical-align: top;\n",
       "    }\n",
       "\n",
       "    .dataframe thead th {\n",
       "        text-align: right;\n",
       "    }\n",
       "</style>\n",
       "<table border=\"1\" class=\"dataframe\">\n",
       "  <thead>\n",
       "    <tr style=\"text-align: right;\">\n",
       "      <th></th>\n",
       "      <th>Время суток</th>\n",
       "      <th>Среднее кол-во купленных билетов</th>\n",
       "      <th>Первый месяц покупки</th>\n",
       "      <th>Кол-во покупок</th>\n",
       "    </tr>\n",
       "  </thead>\n",
       "  <tbody>\n",
       "    <tr>\n",
       "      <th>0</th>\n",
       "      <td>вечерний</td>\n",
       "      <td>2.857143</td>\n",
       "      <td>1.0</td>\n",
       "      <td>7</td>\n",
       "    </tr>\n",
       "    <tr>\n",
       "      <th>1</th>\n",
       "      <td>дневной</td>\n",
       "      <td>3.428571</td>\n",
       "      <td>2.0</td>\n",
       "      <td>7</td>\n",
       "    </tr>\n",
       "    <tr>\n",
       "      <th>2</th>\n",
       "      <td>утренний</td>\n",
       "      <td>3.333333</td>\n",
       "      <td>1.0</td>\n",
       "      <td>6</td>\n",
       "    </tr>\n",
       "  </tbody>\n",
       "</table>\n",
       "</div>"
      ],
      "text/plain": [
       "  Время суток  Среднее кол-во купленных билетов  Первый месяц покупки  \\\n",
       "0    вечерний                          2.857143                   1.0   \n",
       "1     дневной                          3.428571                   2.0   \n",
       "2    утренний                          3.333333                   1.0   \n",
       "\n",
       "   Кол-во покупок  \n",
       "0               7  \n",
       "1               7  \n",
       "2               6  "
      ]
     },
     "execution_count": 220,
     "metadata": {},
     "output_type": "execute_result"
    }
   ],
   "source": [
    "# Если нужно по-раному посчитать. Например: для одного столбца mean, для другого min, а для другого size\n",
    "df_result = client_YN41.groupby('part_of_day', as_index=False).agg(\n",
    "    {\n",
    "        'count_tickets':'mean',\n",
    "        'pay_month':'min',\n",
    "        'client_id':'size'\n",
    "    })\n",
    "\n",
    "df_result.columns =['Время суток', 'Среднее кол-во купленных билетов', 'Первый месяц покупки', 'Кол-во покупок']\n",
    "df_result"
   ]
  },
  {
   "cell_type": "markdown",
   "id": "d8d4d85f-9c7a-422e-9e65-5b9a185bf9ad",
   "metadata": {},
   "source": [
    "# Домашнее задание по семинару 👨‍💻"
   ]
  },
  {
   "cell_type": "code",
   "execution_count": 11,
   "id": "1acb4dc8-ca86-4822-9f15-537298df104c",
   "metadata": {},
   "outputs": [],
   "source": [
    "#payments = create_dataframe(user='xxxxx', password='xxxxx', table_name='payments')\n",
    "payments = create_dataframe(user='tanya25pm', password='klcemshu', table_name='payments')\n"
   ]
  },
  {
   "cell_type": "markdown",
   "id": "9275d018-79da-418f-9830-6f47fcb82e09",
   "metadata": {},
   "source": [
    "#### 1. Заполните пропуски в столбце `pay_date` следующим значениями"
   ]
  },
  {
   "cell_type": "code",
   "execution_count": 13,
   "id": "6c2a169b-4b20-4118-bfc9-be989e3c7994",
   "metadata": {},
   "outputs": [],
   "source": [
    "# your code \n",
    "payments['pay_date'] = payments['pay_date'].ffill() "
   ]
  },
  {
   "cell_type": "markdown",
   "id": "0543b80b-6d59-49c3-b9f9-288ec56a35a1",
   "metadata": {},
   "source": [
    "#### 2. Создайте столбец `pay_month` с номеров месяца на основе `pay_date`. Пусть этот столбец будет после `pay_date`"
   ]
  },
  {
   "cell_type": "code",
   "execution_count": 14,
   "id": "ff057072-a9b4-4ae2-8e92-fb7fab5e93ee",
   "metadata": {},
   "outputs": [
    {
     "data": {
      "text/html": [
       "<div>\n",
       "<style scoped>\n",
       "    .dataframe tbody tr th:only-of-type {\n",
       "        vertical-align: middle;\n",
       "    }\n",
       "\n",
       "    .dataframe tbody tr th {\n",
       "        vertical-align: top;\n",
       "    }\n",
       "\n",
       "    .dataframe thead th {\n",
       "        text-align: right;\n",
       "    }\n",
       "</style>\n",
       "<table border=\"1\" class=\"dataframe\">\n",
       "  <thead>\n",
       "    <tr style=\"text-align: right;\">\n",
       "      <th></th>\n",
       "      <th>pay_date</th>\n",
       "      <th>pay_month</th>\n",
       "      <th>film_id</th>\n",
       "      <th>part_of_day</th>\n",
       "      <th>client_id</th>\n",
       "      <th>count_tickets</th>\n",
       "    </tr>\n",
       "  </thead>\n",
       "  <tbody>\n",
       "    <tr>\n",
       "      <th>0</th>\n",
       "      <td>2024-04-24</td>\n",
       "      <td>4</td>\n",
       "      <td>2</td>\n",
       "      <td>дневной</td>\n",
       "      <td>NL42</td>\n",
       "      <td>1.0</td>\n",
       "    </tr>\n",
       "    <tr>\n",
       "      <th>1</th>\n",
       "      <td>2024-03-03</td>\n",
       "      <td>3</td>\n",
       "      <td>15</td>\n",
       "      <td>вечерний</td>\n",
       "      <td>HW75</td>\n",
       "      <td>3.0</td>\n",
       "    </tr>\n",
       "    <tr>\n",
       "      <th>2</th>\n",
       "      <td>2024-02-09</td>\n",
       "      <td>2</td>\n",
       "      <td>43</td>\n",
       "      <td>вечерний</td>\n",
       "      <td>XX54</td>\n",
       "      <td>5.0</td>\n",
       "    </tr>\n",
       "  </tbody>\n",
       "</table>\n",
       "</div>"
      ],
      "text/plain": [
       "    pay_date  pay_month  film_id part_of_day client_id  count_tickets\n",
       "0 2024-04-24          4        2     дневной      NL42            1.0\n",
       "1 2024-03-03          3       15    вечерний      HW75            3.0\n",
       "2 2024-02-09          2       43    вечерний      XX54            5.0"
      ]
     },
     "execution_count": 14,
     "metadata": {},
     "output_type": "execute_result"
    }
   ],
   "source": [
    "# your code \n",
    "payments['pay_date'] = pd.to_datetime(payments['pay_date'])\n",
    "\n",
    "payments.insert(1, 'pay_month', payments['pay_date'].dt.month)\n",
    "payments.head(3)\n"
   ]
  },
  {
   "cell_type": "markdown",
   "id": "a8d5b581-1561-4ec4-a984-95122873f1d4",
   "metadata": {},
   "source": [
    "#### 3. Посчитайте по каждому месяцу:\n",
    "- сумму всех билетов\n",
    "- кол-во клиентов\n",
    "\n",
    "Переименуйте столбцы на русский язык с понятным описанием"
   ]
  },
  {
   "cell_type": "code",
   "execution_count": 16,
   "id": "243680dc-401e-490a-9ffd-2576373afb2f",
   "metadata": {},
   "outputs": [
    {
     "data": {
      "text/html": [
       "<div>\n",
       "<style scoped>\n",
       "    .dataframe tbody tr th:only-of-type {\n",
       "        vertical-align: middle;\n",
       "    }\n",
       "\n",
       "    .dataframe tbody tr th {\n",
       "        vertical-align: top;\n",
       "    }\n",
       "\n",
       "    .dataframe thead th {\n",
       "        text-align: right;\n",
       "    }\n",
       "</style>\n",
       "<table border=\"1\" class=\"dataframe\">\n",
       "  <thead>\n",
       "    <tr style=\"text-align: right;\">\n",
       "      <th></th>\n",
       "      <th>месяц_оплаты</th>\n",
       "      <th>количество_билетов</th>\n",
       "    </tr>\n",
       "  </thead>\n",
       "  <tbody>\n",
       "    <tr>\n",
       "      <th>0</th>\n",
       "      <td>1</td>\n",
       "      <td>2923.0</td>\n",
       "    </tr>\n",
       "    <tr>\n",
       "      <th>1</th>\n",
       "      <td>2</td>\n",
       "      <td>2741.0</td>\n",
       "    </tr>\n",
       "    <tr>\n",
       "      <th>2</th>\n",
       "      <td>3</td>\n",
       "      <td>3059.0</td>\n",
       "    </tr>\n",
       "    <tr>\n",
       "      <th>3</th>\n",
       "      <td>4</td>\n",
       "      <td>2924.0</td>\n",
       "    </tr>\n",
       "    <tr>\n",
       "      <th>4</th>\n",
       "      <td>5</td>\n",
       "      <td>99.0</td>\n",
       "    </tr>\n",
       "    <tr>\n",
       "      <th>5</th>\n",
       "      <td>7</td>\n",
       "      <td>5.0</td>\n",
       "    </tr>\n",
       "  </tbody>\n",
       "</table>\n",
       "</div>"
      ],
      "text/plain": [
       "   месяц_оплаты  количество_билетов\n",
       "0             1              2923.0\n",
       "1             2              2741.0\n",
       "2             3              3059.0\n",
       "3             4              2924.0\n",
       "4             5                99.0\n",
       "5             7                 5.0"
      ]
     },
     "execution_count": 16,
     "metadata": {},
     "output_type": "execute_result"
    }
   ],
   "source": [
    "# your code считаем сумму всех билетов\n",
    "\n",
    "payments.rename({'count_tickets': 'количество_билетов', 'pay_month': 'месяц_оплаты', 'client_id': 'номер_клиента' },inplace=True, axis=1) \n",
    "payments.groupby(by='месяц_оплаты', as_index=False)['количество_билетов'].sum()"
   ]
  },
  {
   "cell_type": "code",
   "execution_count": 20,
   "id": "fb882b45",
   "metadata": {},
   "outputs": [
    {
     "data": {
      "text/html": [
       "<div>\n",
       "<style scoped>\n",
       "    .dataframe tbody tr th:only-of-type {\n",
       "        vertical-align: middle;\n",
       "    }\n",
       "\n",
       "    .dataframe tbody tr th {\n",
       "        vertical-align: top;\n",
       "    }\n",
       "\n",
       "    .dataframe thead th {\n",
       "        text-align: right;\n",
       "    }\n",
       "</style>\n",
       "<table border=\"1\" class=\"dataframe\">\n",
       "  <thead>\n",
       "    <tr style=\"text-align: right;\">\n",
       "      <th></th>\n",
       "      <th>месяц_оплаты</th>\n",
       "      <th>количество_клиентов</th>\n",
       "    </tr>\n",
       "  </thead>\n",
       "  <tbody>\n",
       "    <tr>\n",
       "      <th>0</th>\n",
       "      <td>1</td>\n",
       "      <td>198</td>\n",
       "    </tr>\n",
       "    <tr>\n",
       "      <th>1</th>\n",
       "      <td>2</td>\n",
       "      <td>197</td>\n",
       "    </tr>\n",
       "    <tr>\n",
       "      <th>2</th>\n",
       "      <td>3</td>\n",
       "      <td>197</td>\n",
       "    </tr>\n",
       "    <tr>\n",
       "      <th>3</th>\n",
       "      <td>4</td>\n",
       "      <td>199</td>\n",
       "    </tr>\n",
       "    <tr>\n",
       "      <th>4</th>\n",
       "      <td>5</td>\n",
       "      <td>37</td>\n",
       "    </tr>\n",
       "    <tr>\n",
       "      <th>5</th>\n",
       "      <td>7</td>\n",
       "      <td>1</td>\n",
       "    </tr>\n",
       "  </tbody>\n",
       "</table>\n",
       "</div>"
      ],
      "text/plain": [
       "   месяц_оплаты  количество_клиентов\n",
       "0             1                  198\n",
       "1             2                  197\n",
       "2             3                  197\n",
       "3             4                  199\n",
       "4             5                   37\n",
       "5             7                    1"
      ]
     },
     "metadata": {},
     "output_type": "display_data"
    }
   ],
   "source": [
    "# your code считаем количество клиентов\n",
    "clients = payments.groupby(by='месяц_оплаты', as_index=False)['номер_клиента'].nunique()\n",
    "clients.rename({ 'номер_клиента': 'количество_клиентов' },inplace=True, axis=1) \n",
    "display(clients)"
   ]
  }
 ],
 "metadata": {
  "kernelspec": {
   "display_name": "Python 3 (ipykernel)",
   "language": "python",
   "name": "python3"
  },
  "language_info": {
   "codemirror_mode": {
    "name": "ipython",
    "version": 3
   },
   "file_extension": ".py",
   "mimetype": "text/x-python",
   "name": "python",
   "nbconvert_exporter": "python",
   "pygments_lexer": "ipython3",
   "version": "3.9.10"
  }
 },
 "nbformat": 4,
 "nbformat_minor": 5
}
