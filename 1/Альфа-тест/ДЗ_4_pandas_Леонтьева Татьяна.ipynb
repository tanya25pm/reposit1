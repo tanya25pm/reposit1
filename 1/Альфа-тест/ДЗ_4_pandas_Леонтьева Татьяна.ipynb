{
 "cells": [
  {
   "cell_type": "code",
   "execution_count": 3,
   "id": "67735981-179c-4e42-b62d-f11f2a4d3d40",
   "metadata": {},
   "outputs": [],
   "source": [
    "# Импорт\n",
    "\n",
    "import pandas as pd\n",
    "from clickhouse_driver import Client"
   ]
  },
  {
   "cell_type": "code",
   "execution_count": 4,
   "id": "ab7a8bad-0b0a-44f9-9311-25887a90b2d4",
   "metadata": {},
   "outputs": [],
   "source": [
    "# Функция создания датафрейма\n",
    "\n",
    "def create_dataframe(user, password, table_name='films'):\n",
    "    client = Client('90.156.216.60', user=user, password=password, database='it_minimalist_CH')\n",
    "    query = f'SELECT * FROM {table_name}'\n",
    "    df = client.query_dataframe(query)\n",
    "    return df"
   ]
  },
  {
   "cell_type": "markdown",
   "id": "3a62ec20-01c2-4070-9a12-51d066af1e73",
   "metadata": {},
   "source": [
    "3.  В ячейке ниже создается датафрейм в переменной `df`.\n",
    "<br>\n",
    "\n",
    "- Замените `'your_username'`, `'your_password'` на ваши учетные данные, которые получили на почту (у каждого своя учетная запись с индивидуальным доступом к БД Clickhouse).\n",
    "<br>\n",
    "- Как вы заметили в параметрах функции `create_dataframe`, по умолчанию датафрейм создатеся из таблицы `'films'`. Также в базе данных лежит таблица `'payments'`"
   ]
  },
  {
   "cell_type": "code",
   "execution_count": 5,
   "id": "b5a50758-03b6-4669-8853-0ad422760d60",
   "metadata": {},
   "outputs": [],
   "source": [
    "films = create_dataframe(user='tanya25pm', password='klcemshu', table_name='films')\n",
    "payments = create_dataframe(user='tanya25pm', password='klcemshu', table_name='payments')"
   ]
  },
  {
   "cell_type": "markdown",
   "id": "97eae4c7-2c16-4a13-b08a-093e78dabb46",
   "metadata": {},
   "source": [
    "# УРОК 4"
   ]
  },
  {
   "cell_type": "code",
   "execution_count": 102,
   "id": "52f4344f-ef37-4a29-8113-2b10add56cac",
   "metadata": {},
   "outputs": [
    {
     "data": {
      "text/html": [
       "<div>\n",
       "<style scoped>\n",
       "    .dataframe tbody tr th:only-of-type {\n",
       "        vertical-align: middle;\n",
       "    }\n",
       "\n",
       "    .dataframe tbody tr th {\n",
       "        vertical-align: top;\n",
       "    }\n",
       "\n",
       "    .dataframe thead th {\n",
       "        text-align: right;\n",
       "    }\n",
       "</style>\n",
       "<table border=\"1\" class=\"dataframe\">\n",
       "  <thead>\n",
       "    <tr style=\"text-align: right;\">\n",
       "      <th></th>\n",
       "      <th>pay_date</th>\n",
       "      <th>film_id</th>\n",
       "      <th>part_of_day</th>\n",
       "      <th>client_id</th>\n",
       "      <th>count_tickets</th>\n",
       "    </tr>\n",
       "  </thead>\n",
       "  <tbody>\n",
       "    <tr>\n",
       "      <th>0</th>\n",
       "      <td>2024-04-24</td>\n",
       "      <td>2</td>\n",
       "      <td>дневной</td>\n",
       "      <td>NL42</td>\n",
       "      <td>1.0</td>\n",
       "    </tr>\n",
       "    <tr>\n",
       "      <th>1</th>\n",
       "      <td>2024-03-03</td>\n",
       "      <td>15</td>\n",
       "      <td>вечерний</td>\n",
       "      <td>HW75</td>\n",
       "      <td>3.0</td>\n",
       "    </tr>\n",
       "  </tbody>\n",
       "</table>\n",
       "</div>"
      ],
      "text/plain": [
       "     pay_date  film_id part_of_day client_id  count_tickets\n",
       "0  2024-04-24        2     дневной      NL42            1.0\n",
       "1  2024-03-03       15    вечерний      HW75            3.0"
      ]
     },
     "execution_count": 102,
     "metadata": {},
     "output_type": "execute_result"
    }
   ],
   "source": [
    "payments.head(2)"
   ]
  },
  {
   "cell_type": "code",
   "execution_count": 103,
   "id": "ba11f6e6-587b-409e-b0f3-6c6e2730d885",
   "metadata": {},
   "outputs": [
    {
     "data": {
      "text/html": [
       "<div>\n",
       "<style scoped>\n",
       "    .dataframe tbody tr th:only-of-type {\n",
       "        vertical-align: middle;\n",
       "    }\n",
       "\n",
       "    .dataframe tbody tr th {\n",
       "        vertical-align: top;\n",
       "    }\n",
       "\n",
       "    .dataframe thead th {\n",
       "        text-align: right;\n",
       "    }\n",
       "</style>\n",
       "<table border=\"1\" class=\"dataframe\">\n",
       "  <thead>\n",
       "    <tr style=\"text-align: right;\">\n",
       "      <th></th>\n",
       "      <th>film_id</th>\n",
       "      <th>film_name</th>\n",
       "      <th>price_ticket</th>\n",
       "      <th>release_year</th>\n",
       "      <th>filmmaker</th>\n",
       "      <th>kind_film</th>\n",
       "    </tr>\n",
       "  </thead>\n",
       "  <tbody>\n",
       "    <tr>\n",
       "      <th>0</th>\n",
       "      <td>1</td>\n",
       "      <td>Побег из Шоушенка</td>\n",
       "      <td>190</td>\n",
       "      <td>1994</td>\n",
       "      <td>Фрэнк Дарабонт</td>\n",
       "      <td>драма</td>\n",
       "    </tr>\n",
       "    <tr>\n",
       "      <th>1</th>\n",
       "      <td>2</td>\n",
       "      <td>Крёстный отец</td>\n",
       "      <td>190</td>\n",
       "      <td>1972</td>\n",
       "      <td>Фрэнсис Форд Коппола</td>\n",
       "      <td>детектив, драма</td>\n",
       "    </tr>\n",
       "  </tbody>\n",
       "</table>\n",
       "</div>"
      ],
      "text/plain": [
       "   film_id          film_name  price_ticket  release_year  \\\n",
       "0        1  Побег из Шоушенка           190          1994   \n",
       "1        2      Крёстный отец           190          1972   \n",
       "\n",
       "              filmmaker        kind_film  \n",
       "0        Фрэнк Дарабонт            драма  \n",
       "1  Фрэнсис Форд Коппола  детектив, драма  "
      ]
     },
     "execution_count": 103,
     "metadata": {},
     "output_type": "execute_result"
    }
   ],
   "source": [
    "films.head(2)"
   ]
  },
  {
   "cell_type": "code",
   "execution_count": 104,
   "id": "9e210927-b57f-419a-bbdf-6b68cab12913",
   "metadata": {},
   "outputs": [
    {
     "data": {
      "text/html": [
       "<div>\n",
       "<style scoped>\n",
       "    .dataframe tbody tr th:only-of-type {\n",
       "        vertical-align: middle;\n",
       "    }\n",
       "\n",
       "    .dataframe tbody tr th {\n",
       "        vertical-align: top;\n",
       "    }\n",
       "\n",
       "    .dataframe thead th {\n",
       "        text-align: right;\n",
       "    }\n",
       "</style>\n",
       "<table border=\"1\" class=\"dataframe\">\n",
       "  <thead>\n",
       "    <tr style=\"text-align: right;\">\n",
       "      <th></th>\n",
       "      <th>pay_date</th>\n",
       "      <th>film_id</th>\n",
       "      <th>part_of_day</th>\n",
       "      <th>client_id</th>\n",
       "      <th>count_tickets</th>\n",
       "      <th>film_name</th>\n",
       "      <th>price_ticket</th>\n",
       "      <th>release_year</th>\n",
       "      <th>filmmaker</th>\n",
       "      <th>kind_film</th>\n",
       "    </tr>\n",
       "  </thead>\n",
       "  <tbody>\n",
       "    <tr>\n",
       "      <th>0</th>\n",
       "      <td>2024-04-24</td>\n",
       "      <td>2</td>\n",
       "      <td>дневной</td>\n",
       "      <td>NL42</td>\n",
       "      <td>1.0</td>\n",
       "      <td>Крёстный отец</td>\n",
       "      <td>190</td>\n",
       "      <td>1972</td>\n",
       "      <td>Фрэнсис Форд Коппола</td>\n",
       "      <td>детектив, драма</td>\n",
       "    </tr>\n",
       "    <tr>\n",
       "      <th>1</th>\n",
       "      <td>2024-03-03</td>\n",
       "      <td>15</td>\n",
       "      <td>вечерний</td>\n",
       "      <td>HW75</td>\n",
       "      <td>3.0</td>\n",
       "      <td>Звёздные войны. Эпизод V: Империя наносит отве...</td>\n",
       "      <td>190</td>\n",
       "      <td>1980</td>\n",
       "      <td>Ирвин Кершнер</td>\n",
       "      <td>боевик, приключение, фэнтези</td>\n",
       "    </tr>\n",
       "  </tbody>\n",
       "</table>\n",
       "</div>"
      ],
      "text/plain": [
       "    pay_date  film_id part_of_day client_id  count_tickets  \\\n",
       "0 2024-04-24        2     дневной      NL42            1.0   \n",
       "1 2024-03-03       15    вечерний      HW75            3.0   \n",
       "\n",
       "                                           film_name  price_ticket  \\\n",
       "0                                      Крёстный отец           190   \n",
       "1  Звёздные войны. Эпизод V: Империя наносит отве...           190   \n",
       "\n",
       "   release_year             filmmaker                     kind_film  \n",
       "0          1972  Фрэнсис Форд Коппола               детектив, драма  \n",
       "1          1980         Ирвин Кершнер  боевик, приключение, фэнтези  "
      ]
     },
     "execution_count": 104,
     "metadata": {},
     "output_type": "execute_result"
    }
   ],
   "source": [
    "df = payments.merge(films, on='film_id', how='left')\n",
    "df['pay_date'] = pd.to_datetime(df['pay_date'])\n",
    "df.head(2)"
   ]
  },
  {
   "cell_type": "code",
   "execution_count": 105,
   "id": "619cdb79-75d1-4ae0-8e13-9c16abd62e7c",
   "metadata": {},
   "outputs": [
    {
     "data": {
      "text/html": [
       "<div>\n",
       "<style scoped>\n",
       "    .dataframe tbody tr th:only-of-type {\n",
       "        vertical-align: middle;\n",
       "    }\n",
       "\n",
       "    .dataframe tbody tr th {\n",
       "        vertical-align: top;\n",
       "    }\n",
       "\n",
       "    .dataframe thead th {\n",
       "        text-align: right;\n",
       "    }\n",
       "</style>\n",
       "<table border=\"1\" class=\"dataframe\">\n",
       "  <thead>\n",
       "    <tr style=\"text-align: right;\">\n",
       "      <th></th>\n",
       "      <th>film_name</th>\n",
       "      <th>count_tickets</th>\n",
       "    </tr>\n",
       "  </thead>\n",
       "  <tbody>\n",
       "    <tr>\n",
       "      <th>0</th>\n",
       "      <td>1+1</td>\n",
       "      <td>254.0</td>\n",
       "    </tr>\n",
       "    <tr>\n",
       "      <th>1</th>\n",
       "      <td>12 разгневанных мужчин</td>\n",
       "      <td>250.0</td>\n",
       "    </tr>\n",
       "    <tr>\n",
       "      <th>2</th>\n",
       "      <td>Американская история Икс</td>\n",
       "      <td>250.0</td>\n",
       "    </tr>\n",
       "    <tr>\n",
       "      <th>3</th>\n",
       "      <td>Бойцовский клуб</td>\n",
       "      <td>277.0</td>\n",
       "    </tr>\n",
       "    <tr>\n",
       "      <th>4</th>\n",
       "      <td>Властелин колец: Братство Кольца</td>\n",
       "      <td>220.0</td>\n",
       "    </tr>\n",
       "    <tr>\n",
       "      <th>5</th>\n",
       "      <td>Властелин колец: Возвращение короля</td>\n",
       "      <td>228.0</td>\n",
       "    </tr>\n",
       "    <tr>\n",
       "      <th>6</th>\n",
       "      <td>Властелин колец: Две крепости</td>\n",
       "      <td>232.0</td>\n",
       "    </tr>\n",
       "    <tr>\n",
       "      <th>7</th>\n",
       "      <td>Гладиатор</td>\n",
       "      <td>277.0</td>\n",
       "    </tr>\n",
       "    <tr>\n",
       "      <th>8</th>\n",
       "      <td>Город Бога</td>\n",
       "      <td>199.0</td>\n",
       "    </tr>\n",
       "    <tr>\n",
       "      <th>9</th>\n",
       "      <td>Дюна: Часть вторая</td>\n",
       "      <td>217.0</td>\n",
       "    </tr>\n",
       "    <tr>\n",
       "      <th>10</th>\n",
       "      <td>Жизнь прекрасна</td>\n",
       "      <td>171.0</td>\n",
       "    </tr>\n",
       "    <tr>\n",
       "      <th>11</th>\n",
       "      <td>Звёздные войны. Эпизод IV: Новая надежда</td>\n",
       "      <td>252.0</td>\n",
       "    </tr>\n",
       "    <tr>\n",
       "      <th>12</th>\n",
       "      <td>Звёздные войны. Эпизод V: Империя наносит отве...</td>\n",
       "      <td>221.0</td>\n",
       "    </tr>\n",
       "    <tr>\n",
       "      <th>13</th>\n",
       "      <td>Зелёная миля</td>\n",
       "      <td>208.0</td>\n",
       "    </tr>\n",
       "    <tr>\n",
       "      <th>14</th>\n",
       "      <td>Интерстеллар</td>\n",
       "      <td>250.0</td>\n",
       "    </tr>\n",
       "    <tr>\n",
       "      <th>15</th>\n",
       "      <td>Касабланка</td>\n",
       "      <td>230.0</td>\n",
       "    </tr>\n",
       "    <tr>\n",
       "      <th>16</th>\n",
       "      <td>Король Лев</td>\n",
       "      <td>245.0</td>\n",
       "    </tr>\n",
       "    <tr>\n",
       "      <th>17</th>\n",
       "      <td>Криминальное чтиво</td>\n",
       "      <td>232.0</td>\n",
       "    </tr>\n",
       "    <tr>\n",
       "      <th>18</th>\n",
       "      <td>Крёстный отец</td>\n",
       "      <td>271.0</td>\n",
       "    </tr>\n",
       "    <tr>\n",
       "      <th>19</th>\n",
       "      <td>Крёстный отец 2</td>\n",
       "      <td>221.0</td>\n",
       "    </tr>\n",
       "    <tr>\n",
       "      <th>20</th>\n",
       "      <td>Леон</td>\n",
       "      <td>269.0</td>\n",
       "    </tr>\n",
       "    <tr>\n",
       "      <th>21</th>\n",
       "      <td>Линкольн</td>\n",
       "      <td>12.0</td>\n",
       "    </tr>\n",
       "    <tr>\n",
       "      <th>22</th>\n",
       "      <td>Матрица</td>\n",
       "      <td>534.0</td>\n",
       "    </tr>\n",
       "    <tr>\n",
       "      <th>23</th>\n",
       "      <td>Могила светлячков</td>\n",
       "      <td>226.0</td>\n",
       "    </tr>\n",
       "    <tr>\n",
       "      <th>24</th>\n",
       "      <td>Молчание ягнят</td>\n",
       "      <td>271.0</td>\n",
       "    </tr>\n",
       "    <tr>\n",
       "      <th>25</th>\n",
       "      <td>Назад в будущее</td>\n",
       "      <td>163.0</td>\n",
       "    </tr>\n",
       "    <tr>\n",
       "      <th>26</th>\n",
       "      <td>Назад в будущее 2</td>\n",
       "      <td>5.0</td>\n",
       "    </tr>\n",
       "    <tr>\n",
       "      <th>27</th>\n",
       "      <td>Начало</td>\n",
       "      <td>234.0</td>\n",
       "    </tr>\n",
       "    <tr>\n",
       "      <th>28</th>\n",
       "      <td>Новый кинотеатр «Парадизо»</td>\n",
       "      <td>194.0</td>\n",
       "    </tr>\n",
       "    <tr>\n",
       "      <th>29</th>\n",
       "      <td>Одержимость</td>\n",
       "      <td>318.0</td>\n",
       "    </tr>\n",
       "    <tr>\n",
       "      <th>30</th>\n",
       "      <td>Отступники</td>\n",
       "      <td>228.0</td>\n",
       "    </tr>\n",
       "    <tr>\n",
       "      <th>31</th>\n",
       "      <td>Паразиты</td>\n",
       "      <td>261.0</td>\n",
       "    </tr>\n",
       "    <tr>\n",
       "      <th>32</th>\n",
       "      <td>Пианист</td>\n",
       "      <td>255.0</td>\n",
       "    </tr>\n",
       "    <tr>\n",
       "      <th>33</th>\n",
       "      <td>Побег из Шоушенка</td>\n",
       "      <td>229.0</td>\n",
       "    </tr>\n",
       "    <tr>\n",
       "      <th>34</th>\n",
       "      <td>Подозрительные лица</td>\n",
       "      <td>240.0</td>\n",
       "    </tr>\n",
       "    <tr>\n",
       "      <th>35</th>\n",
       "      <td>Престиж</td>\n",
       "      <td>223.0</td>\n",
       "    </tr>\n",
       "    <tr>\n",
       "      <th>36</th>\n",
       "      <td>Пролетая над гнездом кукушки</td>\n",
       "      <td>237.0</td>\n",
       "    </tr>\n",
       "    <tr>\n",
       "      <th>37</th>\n",
       "      <td>Психо</td>\n",
       "      <td>269.0</td>\n",
       "    </tr>\n",
       "    <tr>\n",
       "      <th>38</th>\n",
       "      <td>Семь</td>\n",
       "      <td>234.0</td>\n",
       "    </tr>\n",
       "    <tr>\n",
       "      <th>39</th>\n",
       "      <td>Семь самураев</td>\n",
       "      <td>182.0</td>\n",
       "    </tr>\n",
       "    <tr>\n",
       "      <th>40</th>\n",
       "      <td>Славные парни</td>\n",
       "      <td>249.0</td>\n",
       "    </tr>\n",
       "    <tr>\n",
       "      <th>41</th>\n",
       "      <td>Спасти рядового Райана</td>\n",
       "      <td>276.0</td>\n",
       "    </tr>\n",
       "    <tr>\n",
       "      <th>42</th>\n",
       "      <td>Список Шиндлера</td>\n",
       "      <td>261.0</td>\n",
       "    </tr>\n",
       "    <tr>\n",
       "      <th>43</th>\n",
       "      <td>Терминатор 2: Судный день</td>\n",
       "      <td>229.0</td>\n",
       "    </tr>\n",
       "    <tr>\n",
       "      <th>44</th>\n",
       "      <td>Тёмный рыцарь</td>\n",
       "      <td>255.0</td>\n",
       "    </tr>\n",
       "    <tr>\n",
       "      <th>45</th>\n",
       "      <td>Унесённые призраками</td>\n",
       "      <td>240.0</td>\n",
       "    </tr>\n",
       "    <tr>\n",
       "      <th>46</th>\n",
       "      <td>Форрест Гамп</td>\n",
       "      <td>216.0</td>\n",
       "    </tr>\n",
       "    <tr>\n",
       "      <th>47</th>\n",
       "      <td>Харакири</td>\n",
       "      <td>258.0</td>\n",
       "    </tr>\n",
       "    <tr>\n",
       "      <th>48</th>\n",
       "      <td>Хороший, плохой, злой</td>\n",
       "      <td>233.0</td>\n",
       "    </tr>\n",
       "    <tr>\n",
       "      <th>49</th>\n",
       "      <td>Человек-паук: Паутина вселенных</td>\n",
       "      <td>242.0</td>\n",
       "    </tr>\n",
       "    <tr>\n",
       "      <th>50</th>\n",
       "      <td>Челюсти</td>\n",
       "      <td>4.0</td>\n",
       "    </tr>\n",
       "    <tr>\n",
       "      <th>51</th>\n",
       "      <td>Эта прекрасная жизнь</td>\n",
       "      <td>272.0</td>\n",
       "    </tr>\n",
       "  </tbody>\n",
       "</table>\n",
       "</div>"
      ],
      "text/plain": [
       "                                            film_name  count_tickets\n",
       "0                                                 1+1          254.0\n",
       "1                              12 разгневанных мужчин          250.0\n",
       "2                            Американская история Икс          250.0\n",
       "3                                     Бойцовский клуб          277.0\n",
       "4                    Властелин колец: Братство Кольца          220.0\n",
       "5                 Властелин колец: Возвращение короля          228.0\n",
       "6                       Властелин колец: Две крепости          232.0\n",
       "7                                           Гладиатор          277.0\n",
       "8                                          Город Бога          199.0\n",
       "9                                  Дюна: Часть вторая          217.0\n",
       "10                                    Жизнь прекрасна          171.0\n",
       "11           Звёздные войны. Эпизод IV: Новая надежда          252.0\n",
       "12  Звёздные войны. Эпизод V: Империя наносит отве...          221.0\n",
       "13                                       Зелёная миля          208.0\n",
       "14                                       Интерстеллар          250.0\n",
       "15                                         Касабланка          230.0\n",
       "16                                         Король Лев          245.0\n",
       "17                                 Криминальное чтиво          232.0\n",
       "18                                      Крёстный отец          271.0\n",
       "19                                    Крёстный отец 2          221.0\n",
       "20                                               Леон          269.0\n",
       "21                                           Линкольн           12.0\n",
       "22                                            Матрица          534.0\n",
       "23                                  Могила светлячков          226.0\n",
       "24                                     Молчание ягнят          271.0\n",
       "25                                    Назад в будущее          163.0\n",
       "26                                  Назад в будущее 2            5.0\n",
       "27                                             Начало          234.0\n",
       "28                         Новый кинотеатр «Парадизо»          194.0\n",
       "29                                        Одержимость          318.0\n",
       "30                                         Отступники          228.0\n",
       "31                                           Паразиты          261.0\n",
       "32                                            Пианист          255.0\n",
       "33                                  Побег из Шоушенка          229.0\n",
       "34                                Подозрительные лица          240.0\n",
       "35                                            Престиж          223.0\n",
       "36                       Пролетая над гнездом кукушки          237.0\n",
       "37                                              Психо          269.0\n",
       "38                                               Семь          234.0\n",
       "39                                      Семь самураев          182.0\n",
       "40                                      Славные парни          249.0\n",
       "41                             Спасти рядового Райана          276.0\n",
       "42                                    Список Шиндлера          261.0\n",
       "43                          Терминатор 2: Судный день          229.0\n",
       "44                                      Тёмный рыцарь          255.0\n",
       "45                               Унесённые призраками          240.0\n",
       "46                                       Форрест Гамп          216.0\n",
       "47                                           Харакири          258.0\n",
       "48                              Хороший, плохой, злой          233.0\n",
       "49                    Человек-паук: Паутина вселенных          242.0\n",
       "50                                            Челюсти            4.0\n",
       "51                               Эта прекрасная жизнь          272.0"
      ]
     },
     "execution_count": 105,
     "metadata": {},
     "output_type": "execute_result"
    }
   ],
   "source": [
    "df.groupby('film_name')['count_tickets'].sum().reset_index()"
   ]
  },
  {
   "cell_type": "code",
   "execution_count": 106,
   "id": "bca8c1c1-1989-406f-97b2-ac0216be6664",
   "metadata": {},
   "outputs": [
    {
     "data": {
      "text/html": [
       "<div>\n",
       "<style scoped>\n",
       "    .dataframe tbody tr th:only-of-type {\n",
       "        vertical-align: middle;\n",
       "    }\n",
       "\n",
       "    .dataframe tbody tr th {\n",
       "        vertical-align: top;\n",
       "    }\n",
       "\n",
       "    .dataframe thead th {\n",
       "        text-align: right;\n",
       "    }\n",
       "</style>\n",
       "<table border=\"1\" class=\"dataframe\">\n",
       "  <thead>\n",
       "    <tr style=\"text-align: right;\">\n",
       "      <th></th>\n",
       "      <th>pay_date</th>\n",
       "      <th>count_tickets</th>\n",
       "    </tr>\n",
       "  </thead>\n",
       "  <tbody>\n",
       "    <tr>\n",
       "      <th>0</th>\n",
       "      <td>2024-01-01</td>\n",
       "      <td>85.0</td>\n",
       "    </tr>\n",
       "    <tr>\n",
       "      <th>1</th>\n",
       "      <td>2024-01-02</td>\n",
       "      <td>77.0</td>\n",
       "    </tr>\n",
       "    <tr>\n",
       "      <th>2</th>\n",
       "      <td>2024-01-03</td>\n",
       "      <td>114.0</td>\n",
       "    </tr>\n",
       "    <tr>\n",
       "      <th>3</th>\n",
       "      <td>2024-01-04</td>\n",
       "      <td>71.0</td>\n",
       "    </tr>\n",
       "    <tr>\n",
       "      <th>4</th>\n",
       "      <td>2024-01-05</td>\n",
       "      <td>104.0</td>\n",
       "    </tr>\n",
       "    <tr>\n",
       "      <th>...</th>\n",
       "      <td>...</td>\n",
       "      <td>...</td>\n",
       "    </tr>\n",
       "    <tr>\n",
       "      <th>119</th>\n",
       "      <td>2024-04-29</td>\n",
       "      <td>83.0</td>\n",
       "    </tr>\n",
       "    <tr>\n",
       "      <th>120</th>\n",
       "      <td>2024-04-30</td>\n",
       "      <td>82.0</td>\n",
       "    </tr>\n",
       "    <tr>\n",
       "      <th>121</th>\n",
       "      <td>2024-05-01</td>\n",
       "      <td>105.0</td>\n",
       "    </tr>\n",
       "    <tr>\n",
       "      <th>122</th>\n",
       "      <td>2026-02-05</td>\n",
       "      <td>1.0</td>\n",
       "    </tr>\n",
       "    <tr>\n",
       "      <th>123</th>\n",
       "      <td>2034-07-06</td>\n",
       "      <td>5.0</td>\n",
       "    </tr>\n",
       "  </tbody>\n",
       "</table>\n",
       "<p>124 rows × 2 columns</p>\n",
       "</div>"
      ],
      "text/plain": [
       "      pay_date  count_tickets\n",
       "0   2024-01-01           85.0\n",
       "1   2024-01-02           77.0\n",
       "2   2024-01-03          114.0\n",
       "3   2024-01-04           71.0\n",
       "4   2024-01-05          104.0\n",
       "..         ...            ...\n",
       "119 2024-04-29           83.0\n",
       "120 2024-04-30           82.0\n",
       "121 2024-05-01          105.0\n",
       "122 2026-02-05            1.0\n",
       "123 2034-07-06            5.0\n",
       "\n",
       "[124 rows x 2 columns]"
      ]
     },
     "execution_count": 106,
     "metadata": {},
     "output_type": "execute_result"
    }
   ],
   "source": [
    "df.groupby('pay_date')['count_tickets'].sum().reset_index()"
   ]
  },
  {
   "cell_type": "code",
   "execution_count": 107,
   "id": "57f76383-bf1f-47bd-8de1-45212ee69b48",
   "metadata": {},
   "outputs": [],
   "source": [
    "# pip install matplotlib"
   ]
  },
  {
   "cell_type": "code",
   "execution_count": 108,
   "id": "f0b5f42a-a688-4278-829c-892cffb2b90e",
   "metadata": {},
   "outputs": [],
   "source": [
    "import matplotlib"
   ]
  },
  {
   "cell_type": "markdown",
   "id": "2156897c-3927-44c8-8dd1-ec2b8a27d6d2",
   "metadata": {},
   "source": [
    "https://pandas.pydata.org/docs/user_guide/visualization.html"
   ]
  },
  {
   "cell_type": "code",
   "execution_count": 109,
   "id": "4c2dab59-14a4-478d-ba19-6d19035f7944",
   "metadata": {},
   "outputs": [
    {
     "data": {
      "text/html": [
       "<div>\n",
       "<style scoped>\n",
       "    .dataframe tbody tr th:only-of-type {\n",
       "        vertical-align: middle;\n",
       "    }\n",
       "\n",
       "    .dataframe tbody tr th {\n",
       "        vertical-align: top;\n",
       "    }\n",
       "\n",
       "    .dataframe thead th {\n",
       "        text-align: right;\n",
       "    }\n",
       "</style>\n",
       "<table border=\"1\" class=\"dataframe\">\n",
       "  <thead>\n",
       "    <tr style=\"text-align: right;\">\n",
       "      <th></th>\n",
       "      <th>pay_date</th>\n",
       "      <th>count_tickets</th>\n",
       "    </tr>\n",
       "  </thead>\n",
       "  <tbody>\n",
       "    <tr>\n",
       "      <th>0</th>\n",
       "      <td>2024-01-01</td>\n",
       "      <td>85.0</td>\n",
       "    </tr>\n",
       "    <tr>\n",
       "      <th>1</th>\n",
       "      <td>2024-01-02</td>\n",
       "      <td>77.0</td>\n",
       "    </tr>\n",
       "    <tr>\n",
       "      <th>2</th>\n",
       "      <td>2024-01-03</td>\n",
       "      <td>114.0</td>\n",
       "    </tr>\n",
       "    <tr>\n",
       "      <th>3</th>\n",
       "      <td>2024-01-04</td>\n",
       "      <td>71.0</td>\n",
       "    </tr>\n",
       "    <tr>\n",
       "      <th>4</th>\n",
       "      <td>2024-01-05</td>\n",
       "      <td>104.0</td>\n",
       "    </tr>\n",
       "    <tr>\n",
       "      <th>5</th>\n",
       "      <td>2024-01-06</td>\n",
       "      <td>79.0</td>\n",
       "    </tr>\n",
       "    <tr>\n",
       "      <th>6</th>\n",
       "      <td>2024-01-07</td>\n",
       "      <td>108.0</td>\n",
       "    </tr>\n",
       "    <tr>\n",
       "      <th>7</th>\n",
       "      <td>2024-01-08</td>\n",
       "      <td>97.0</td>\n",
       "    </tr>\n",
       "    <tr>\n",
       "      <th>8</th>\n",
       "      <td>2024-01-09</td>\n",
       "      <td>74.0</td>\n",
       "    </tr>\n",
       "    <tr>\n",
       "      <th>9</th>\n",
       "      <td>2024-01-10</td>\n",
       "      <td>86.0</td>\n",
       "    </tr>\n",
       "    <tr>\n",
       "      <th>10</th>\n",
       "      <td>2024-01-11</td>\n",
       "      <td>110.0</td>\n",
       "    </tr>\n",
       "    <tr>\n",
       "      <th>11</th>\n",
       "      <td>2024-01-12</td>\n",
       "      <td>124.0</td>\n",
       "    </tr>\n",
       "    <tr>\n",
       "      <th>12</th>\n",
       "      <td>2024-01-13</td>\n",
       "      <td>113.0</td>\n",
       "    </tr>\n",
       "    <tr>\n",
       "      <th>13</th>\n",
       "      <td>2024-01-14</td>\n",
       "      <td>61.0</td>\n",
       "    </tr>\n",
       "    <tr>\n",
       "      <th>14</th>\n",
       "      <td>2024-01-15</td>\n",
       "      <td>67.0</td>\n",
       "    </tr>\n",
       "    <tr>\n",
       "      <th>15</th>\n",
       "      <td>2024-01-16</td>\n",
       "      <td>70.0</td>\n",
       "    </tr>\n",
       "    <tr>\n",
       "      <th>16</th>\n",
       "      <td>2024-01-17</td>\n",
       "      <td>80.0</td>\n",
       "    </tr>\n",
       "    <tr>\n",
       "      <th>17</th>\n",
       "      <td>2024-01-18</td>\n",
       "      <td>116.0</td>\n",
       "    </tr>\n",
       "    <tr>\n",
       "      <th>18</th>\n",
       "      <td>2024-01-19</td>\n",
       "      <td>112.0</td>\n",
       "    </tr>\n",
       "    <tr>\n",
       "      <th>19</th>\n",
       "      <td>2024-01-20</td>\n",
       "      <td>92.0</td>\n",
       "    </tr>\n",
       "    <tr>\n",
       "      <th>20</th>\n",
       "      <td>2024-01-21</td>\n",
       "      <td>131.0</td>\n",
       "    </tr>\n",
       "    <tr>\n",
       "      <th>21</th>\n",
       "      <td>2024-01-22</td>\n",
       "      <td>112.0</td>\n",
       "    </tr>\n",
       "    <tr>\n",
       "      <th>22</th>\n",
       "      <td>2024-01-23</td>\n",
       "      <td>89.0</td>\n",
       "    </tr>\n",
       "    <tr>\n",
       "      <th>23</th>\n",
       "      <td>2024-01-24</td>\n",
       "      <td>95.0</td>\n",
       "    </tr>\n",
       "    <tr>\n",
       "      <th>24</th>\n",
       "      <td>2024-01-25</td>\n",
       "      <td>112.0</td>\n",
       "    </tr>\n",
       "    <tr>\n",
       "      <th>25</th>\n",
       "      <td>2024-01-26</td>\n",
       "      <td>107.0</td>\n",
       "    </tr>\n",
       "    <tr>\n",
       "      <th>26</th>\n",
       "      <td>2024-01-27</td>\n",
       "      <td>109.0</td>\n",
       "    </tr>\n",
       "    <tr>\n",
       "      <th>27</th>\n",
       "      <td>2024-01-28</td>\n",
       "      <td>111.0</td>\n",
       "    </tr>\n",
       "    <tr>\n",
       "      <th>28</th>\n",
       "      <td>2024-01-29</td>\n",
       "      <td>99.0</td>\n",
       "    </tr>\n",
       "    <tr>\n",
       "      <th>29</th>\n",
       "      <td>2024-01-30</td>\n",
       "      <td>88.0</td>\n",
       "    </tr>\n",
       "    <tr>\n",
       "      <th>30</th>\n",
       "      <td>2024-01-31</td>\n",
       "      <td>77.0</td>\n",
       "    </tr>\n",
       "    <tr>\n",
       "      <th>31</th>\n",
       "      <td>2024-02-01</td>\n",
       "      <td>88.0</td>\n",
       "    </tr>\n",
       "  </tbody>\n",
       "</table>\n",
       "</div>"
      ],
      "text/plain": [
       "     pay_date  count_tickets\n",
       "0  2024-01-01           85.0\n",
       "1  2024-01-02           77.0\n",
       "2  2024-01-03          114.0\n",
       "3  2024-01-04           71.0\n",
       "4  2024-01-05          104.0\n",
       "5  2024-01-06           79.0\n",
       "6  2024-01-07          108.0\n",
       "7  2024-01-08           97.0\n",
       "8  2024-01-09           74.0\n",
       "9  2024-01-10           86.0\n",
       "10 2024-01-11          110.0\n",
       "11 2024-01-12          124.0\n",
       "12 2024-01-13          113.0\n",
       "13 2024-01-14           61.0\n",
       "14 2024-01-15           67.0\n",
       "15 2024-01-16           70.0\n",
       "16 2024-01-17           80.0\n",
       "17 2024-01-18          116.0\n",
       "18 2024-01-19          112.0\n",
       "19 2024-01-20           92.0\n",
       "20 2024-01-21          131.0\n",
       "21 2024-01-22          112.0\n",
       "22 2024-01-23           89.0\n",
       "23 2024-01-24           95.0\n",
       "24 2024-01-25          112.0\n",
       "25 2024-01-26          107.0\n",
       "26 2024-01-27          109.0\n",
       "27 2024-01-28          111.0\n",
       "28 2024-01-29           99.0\n",
       "29 2024-01-30           88.0\n",
       "30 2024-01-31           77.0\n",
       "31 2024-02-01           88.0"
      ]
     },
     "execution_count": 109,
     "metadata": {},
     "output_type": "execute_result"
    }
   ],
   "source": [
    "df1 = df.groupby('pay_date')['count_tickets'].sum().reset_index()\n",
    "df1 = df1[df1['pay_date'] <= '2024-02-01']\n",
    "df1"
   ]
  },
  {
   "cell_type": "code",
   "execution_count": 110,
   "id": "eb97f5ac-82cd-4cba-b4c5-2a4be83993a1",
   "metadata": {},
   "outputs": [
    {
     "data": {
      "text/plain": [
       "<Axes: xlabel='pay_date'>"
      ]
     },
     "execution_count": 110,
     "metadata": {},
     "output_type": "execute_result"
    },
    {
     "data": {
      "image/png": "[encoded data removed]",
      "text/plain": [
       "<Figure size 640x480 with 1 Axes>"
      ]
     },
     "metadata": {},
     "output_type": "display_data"
    }
   ],
   "source": [
    "df1.plot.line(x='pay_date', y='count_tickets', color='green', marker='o')"
   ]
  },
  {
   "cell_type": "markdown",
   "id": "0a8a5369-04a6-4390-9148-5d365cec613d",
   "metadata": {},
   "source": [
    "### Немного статистики"
   ]
  },
  {
   "cell_type": "code",
   "execution_count": 111,
   "id": "dc390d56-c29f-4f7e-b8e3-2a0b3b7cb9cd",
   "metadata": {},
   "outputs": [
    {
     "data": {
      "text/html": [
       "<div>\n",
       "<style scoped>\n",
       "    .dataframe tbody tr th:only-of-type {\n",
       "        vertical-align: middle;\n",
       "    }\n",
       "\n",
       "    .dataframe tbody tr th {\n",
       "        vertical-align: top;\n",
       "    }\n",
       "\n",
       "    .dataframe thead th {\n",
       "        text-align: right;\n",
       "    }\n",
       "</style>\n",
       "<table border=\"1\" class=\"dataframe\">\n",
       "  <thead>\n",
       "    <tr style=\"text-align: right;\">\n",
       "      <th></th>\n",
       "      <th>pay_date</th>\n",
       "      <th>film_id</th>\n",
       "      <th>part_of_day</th>\n",
       "      <th>client_id</th>\n",
       "      <th>count_tickets</th>\n",
       "    </tr>\n",
       "  </thead>\n",
       "  <tbody>\n",
       "    <tr>\n",
       "      <th>3950</th>\n",
       "      <td>2024-01-08</td>\n",
       "      <td>6</td>\n",
       "      <td>вечерний</td>\n",
       "      <td>OO94</td>\n",
       "      <td>4.0</td>\n",
       "    </tr>\n",
       "    <tr>\n",
       "      <th>3951</th>\n",
       "      <td>2024-05-01</td>\n",
       "      <td>22</td>\n",
       "      <td>дневной</td>\n",
       "      <td>GT91</td>\n",
       "      <td>4.0</td>\n",
       "    </tr>\n",
       "    <tr>\n",
       "      <th>3952</th>\n",
       "      <td>2024-05-01</td>\n",
       "      <td>14</td>\n",
       "      <td>утренний</td>\n",
       "      <td>DB24</td>\n",
       "      <td>1.0</td>\n",
       "    </tr>\n",
       "    <tr>\n",
       "      <th>3953</th>\n",
       "      <td>2024-04-09</td>\n",
       "      <td>49</td>\n",
       "      <td>дневной</td>\n",
       "      <td>YB14</td>\n",
       "      <td>2.0</td>\n",
       "    </tr>\n",
       "    <tr>\n",
       "      <th>3954</th>\n",
       "      <td>2024-02-29</td>\n",
       "      <td>11</td>\n",
       "      <td>дневной</td>\n",
       "      <td>DR39</td>\n",
       "      <td>3.0</td>\n",
       "    </tr>\n",
       "    <tr>\n",
       "      <th>3955</th>\n",
       "      <td>2024-02-15</td>\n",
       "      <td>9</td>\n",
       "      <td>утренний</td>\n",
       "      <td>ID50</td>\n",
       "      <td>2.0</td>\n",
       "    </tr>\n",
       "    <tr>\n",
       "      <th>3956</th>\n",
       "      <td>2024-02-29</td>\n",
       "      <td>7</td>\n",
       "      <td>вечерний</td>\n",
       "      <td>KC99</td>\n",
       "      <td>2.0</td>\n",
       "    </tr>\n",
       "    <tr>\n",
       "      <th>3957</th>\n",
       "      <td>2024-02-11</td>\n",
       "      <td>1</td>\n",
       "      <td>дневной</td>\n",
       "      <td>FG89</td>\n",
       "      <td>4.0</td>\n",
       "    </tr>\n",
       "    <tr>\n",
       "      <th>3958</th>\n",
       "      <td>2024-04-08</td>\n",
       "      <td>34</td>\n",
       "      <td>утренний</td>\n",
       "      <td>DI23</td>\n",
       "      <td>2.0</td>\n",
       "    </tr>\n",
       "    <tr>\n",
       "      <th>3959</th>\n",
       "      <td>2024-01-16</td>\n",
       "      <td>10</td>\n",
       "      <td>дневной</td>\n",
       "      <td>ZJ39</td>\n",
       "      <td>4.0</td>\n",
       "    </tr>\n",
       "    <tr>\n",
       "      <th>3960</th>\n",
       "      <td>2024-04-15</td>\n",
       "      <td>28</td>\n",
       "      <td>вечерний</td>\n",
       "      <td>TU86</td>\n",
       "      <td>5.0</td>\n",
       "    </tr>\n",
       "    <tr>\n",
       "      <th>3961</th>\n",
       "      <td>2024-04-05</td>\n",
       "      <td>42</td>\n",
       "      <td>вечерний</td>\n",
       "      <td>DM94</td>\n",
       "      <td>4.0</td>\n",
       "    </tr>\n",
       "  </tbody>\n",
       "</table>\n",
       "</div>"
      ],
      "text/plain": [
       "        pay_date  film_id part_of_day client_id  count_tickets\n",
       "3950  2024-01-08        6    вечерний      OO94            4.0\n",
       "3951  2024-05-01       22     дневной      GT91            4.0\n",
       "3952  2024-05-01       14    утренний      DB24            1.0\n",
       "3953  2024-04-09       49     дневной      YB14            2.0\n",
       "3954  2024-02-29       11     дневной      DR39            3.0\n",
       "3955  2024-02-15        9    утренний      ID50            2.0\n",
       "3956  2024-02-29        7    вечерний      KC99            2.0\n",
       "3957  2024-02-11        1     дневной      FG89            4.0\n",
       "3958  2024-04-08       34    утренний      DI23            2.0\n",
       "3959  2024-01-16       10     дневной      ZJ39            4.0\n",
       "3960  2024-04-15       28    вечерний      TU86            5.0\n",
       "3961  2024-04-05       42    вечерний      DM94            4.0"
      ]
     },
     "execution_count": 111,
     "metadata": {},
     "output_type": "execute_result"
    }
   ],
   "source": [
    "df_stat = payments.tail(12)\n",
    "df_stat"
   ]
  },
  {
   "cell_type": "code",
   "execution_count": 112,
   "id": "63c526da-5b20-4875-bb87-f6bcfa196192",
   "metadata": {},
   "outputs": [
    {
     "data": {
      "text/plain": [
       "[1, 2, 2, 2, 2, 3, 4, 4, 4, 4, 4, 5]"
      ]
     },
     "execution_count": 112,
     "metadata": {},
     "output_type": "execute_result"
    }
   ],
   "source": [
    "list_of_count_tickets = df_stat['count_tickets'].astype(int).to_list()\n",
    "list_of_count_tickets.sort()\n",
    "list_of_count_tickets"
   ]
  },
  {
   "cell_type": "markdown",
   "id": "b1c0bdfa-661f-4d39-ac50-c7b42b545001",
   "metadata": {},
   "source": [
    "(1 2 2 2 2) 3 4 (4 4 4 4 5) | Медиана = 3.5 (50% персентиль или 2-ой квартиль (Q2))\n",
    "\n",
    "(1 2) 2 2 (2 3 4 4 4 4 4 5) | 25% персентиль или нижний квартиль Q1 = 2\n",
    "\n",
    "(1 2 2 2 2 3 4 4) 4 4 (4 5) | 75% персентиль или верхний квартиль Q3 = 4"
   ]
  },
  {
   "attachments": {
    "c5eb8eb9-7215-4a02-8ba4-bff0a4708bb6.png": {
     "image/png": "[encoded data removed]"
    }
   },
   "cell_type": "markdown",
   "id": "bc1d8297-9314-4d99-aca5-b3ff4df22d5f",
   "metadata": {},
   "source": [
    "![image.png](attachment:c5eb8eb9-7215-4a02-8ba4-bff0a4708bb6.png)"
   ]
  },
  {
   "cell_type": "code",
   "execution_count": 113,
   "id": "dbec87f0-b8a6-481b-9839-d7eb163f97fd",
   "metadata": {},
   "outputs": [
    {
     "ename": "SyntaxError",
     "evalue": "f-string: unmatched '[' (3892332621.py, line 1)",
     "output_type": "error",
     "traceback": [
      "\u001b[1;36m  Cell \u001b[1;32mIn[113], line 1\u001b[1;36m\u001b[0m\n\u001b[1;33m    print(f'Минимальное значение  :{df_stat['count_tickets'].min()}')\u001b[0m\n\u001b[1;37m                                             ^\u001b[0m\n\u001b[1;31mSyntaxError\u001b[0m\u001b[1;31m:\u001b[0m f-string: unmatched '['\n"
     ]
    }
   ],
   "source": [
    "print(f'Минимальное значение  :{df_stat['count_tickets'].min()}')\n",
    "print(f'Максимальное значение :{df_stat['count_tickets'].max()}')\n",
    "print(f'Среднее значение      :{df_stat['count_tickets'].mean()}')\n",
    "print(f'Медиан                :{df_stat['count_tickets'].median()}')\n",
    "print(f'Нижний квартиль (25% персентиль):{df_stat['count_tickets'].quantile(0.25)}')\n",
    "print(f'Верхний квартиль (75% персентиль):{df_stat['count_tickets'].quantile(0.75)}')\n",
    "\n",
    "df_stat.boxplot(column='count_tickets')"
   ]
  },
  {
   "cell_type": "markdown",
   "id": "7d5838ed-d0f1-4576-b849-4e6e06b93dba",
   "metadata": {},
   "source": []
  },
  {
   "cell_type": "markdown",
   "id": "37305a73",
   "metadata": {},
   "source": []
  },
  {
   "cell_type": "markdown",
   "id": "0a06ca91",
   "metadata": {},
   "source": [
    "Подсказка:\n",
    "<div>\n",
    "<img src=\"attachment:87a62557-9296-4092-b71f-24bcabc2040c.png\" width=\"320\"/>\n",
    "</div> "
   ]
  },
  {
   "cell_type": "code",
   "execution_count": null,
   "id": "33aa06fd-286c-4c6f-9ab6-46d84cfcbba7",
   "metadata": {},
   "outputs": [
    {
     "data": {
      "text/html": [
       "<div>\n",
       "<style scoped>\n",
       "    .dataframe tbody tr th:only-of-type {\n",
       "        vertical-align: middle;\n",
       "    }\n",
       "\n",
       "    .dataframe tbody tr th {\n",
       "        vertical-align: top;\n",
       "    }\n",
       "\n",
       "    .dataframe thead th {\n",
       "        text-align: right;\n",
       "    }\n",
       "</style>\n",
       "<table border=\"1\" class=\"dataframe\">\n",
       "  <thead>\n",
       "    <tr style=\"text-align: right;\">\n",
       "      <th></th>\n",
       "      <th>pay_date</th>\n",
       "      <th>film_id</th>\n",
       "      <th>part_of_day</th>\n",
       "      <th>client_id</th>\n",
       "      <th>count_tickets</th>\n",
       "    </tr>\n",
       "  </thead>\n",
       "  <tbody>\n",
       "    <tr>\n",
       "      <th>0</th>\n",
       "      <td>2024-01-01</td>\n",
       "      <td>1</td>\n",
       "      <td>вечерний</td>\n",
       "      <td>GT91</td>\n",
       "      <td>8</td>\n",
       "    </tr>\n",
       "  </tbody>\n",
       "</table>\n",
       "</div>"
      ],
      "text/plain": [
       "     pay_date  film_id part_of_day client_id  count_tickets\n",
       "0  2024-01-01        1    вечерний      GT91              8"
      ]
     },
     "execution_count": 33,
     "metadata": {},
     "output_type": "execute_result"
    }
   ],
   "source": [
    "# добавим выбросы\n",
    "df_outlier = pd.DataFrame({\n",
    "    'pay_date': ['2024-01-01'],\n",
    "    'film_id': [1],\n",
    "    'part_of_day': ['вечерний'],\n",
    "    'client_id': ['GT91'],\n",
    "    'count_tickets': [8]\n",
    "})\n",
    "df_outlier"
   ]
  },
  {
   "cell_type": "code",
   "execution_count": null,
   "id": "4af590d8-913c-4f2d-b651-44b19c698270",
   "metadata": {},
   "outputs": [
    {
     "data": {
      "text/html": [
       "<div>\n",
       "<style scoped>\n",
       "    .dataframe tbody tr th:only-of-type {\n",
       "        vertical-align: middle;\n",
       "    }\n",
       "\n",
       "    .dataframe tbody tr th {\n",
       "        vertical-align: top;\n",
       "    }\n",
       "\n",
       "    .dataframe thead th {\n",
       "        text-align: right;\n",
       "    }\n",
       "</style>\n",
       "<table border=\"1\" class=\"dataframe\">\n",
       "  <thead>\n",
       "    <tr style=\"text-align: right;\">\n",
       "      <th></th>\n",
       "      <th>pay_date</th>\n",
       "      <th>film_id</th>\n",
       "      <th>part_of_day</th>\n",
       "      <th>client_id</th>\n",
       "      <th>count_tickets</th>\n",
       "    </tr>\n",
       "  </thead>\n",
       "  <tbody>\n",
       "    <tr>\n",
       "      <th>3950</th>\n",
       "      <td>2024-01-08</td>\n",
       "      <td>6</td>\n",
       "      <td>вечерний</td>\n",
       "      <td>OO94</td>\n",
       "      <td>4.0</td>\n",
       "    </tr>\n",
       "    <tr>\n",
       "      <th>3951</th>\n",
       "      <td>2024-05-01</td>\n",
       "      <td>22</td>\n",
       "      <td>дневной</td>\n",
       "      <td>GT91</td>\n",
       "      <td>4.0</td>\n",
       "    </tr>\n",
       "    <tr>\n",
       "      <th>3952</th>\n",
       "      <td>2024-05-01</td>\n",
       "      <td>14</td>\n",
       "      <td>утренний</td>\n",
       "      <td>DB24</td>\n",
       "      <td>1.0</td>\n",
       "    </tr>\n",
       "    <tr>\n",
       "      <th>3953</th>\n",
       "      <td>2024-04-09</td>\n",
       "      <td>49</td>\n",
       "      <td>дневной</td>\n",
       "      <td>YB14</td>\n",
       "      <td>2.0</td>\n",
       "    </tr>\n",
       "    <tr>\n",
       "      <th>3954</th>\n",
       "      <td>2024-02-29</td>\n",
       "      <td>11</td>\n",
       "      <td>дневной</td>\n",
       "      <td>DR39</td>\n",
       "      <td>3.0</td>\n",
       "    </tr>\n",
       "    <tr>\n",
       "      <th>3955</th>\n",
       "      <td>2024-02-15</td>\n",
       "      <td>9</td>\n",
       "      <td>утренний</td>\n",
       "      <td>ID50</td>\n",
       "      <td>2.0</td>\n",
       "    </tr>\n",
       "    <tr>\n",
       "      <th>3956</th>\n",
       "      <td>2024-02-29</td>\n",
       "      <td>7</td>\n",
       "      <td>вечерний</td>\n",
       "      <td>KC99</td>\n",
       "      <td>2.0</td>\n",
       "    </tr>\n",
       "    <tr>\n",
       "      <th>3957</th>\n",
       "      <td>2024-02-11</td>\n",
       "      <td>1</td>\n",
       "      <td>дневной</td>\n",
       "      <td>FG89</td>\n",
       "      <td>4.0</td>\n",
       "    </tr>\n",
       "    <tr>\n",
       "      <th>3958</th>\n",
       "      <td>2024-04-08</td>\n",
       "      <td>34</td>\n",
       "      <td>утренний</td>\n",
       "      <td>DI23</td>\n",
       "      <td>2.0</td>\n",
       "    </tr>\n",
       "    <tr>\n",
       "      <th>3959</th>\n",
       "      <td>2024-01-16</td>\n",
       "      <td>10</td>\n",
       "      <td>дневной</td>\n",
       "      <td>ZJ39</td>\n",
       "      <td>4.0</td>\n",
       "    </tr>\n",
       "    <tr>\n",
       "      <th>3960</th>\n",
       "      <td>2024-04-15</td>\n",
       "      <td>28</td>\n",
       "      <td>вечерний</td>\n",
       "      <td>TU86</td>\n",
       "      <td>5.0</td>\n",
       "    </tr>\n",
       "    <tr>\n",
       "      <th>3961</th>\n",
       "      <td>2024-04-05</td>\n",
       "      <td>42</td>\n",
       "      <td>вечерний</td>\n",
       "      <td>DM94</td>\n",
       "      <td>4.0</td>\n",
       "    </tr>\n",
       "    <tr>\n",
       "      <th>0</th>\n",
       "      <td>2024-01-01</td>\n",
       "      <td>1</td>\n",
       "      <td>вечерний</td>\n",
       "      <td>GT91</td>\n",
       "      <td>8.0</td>\n",
       "    </tr>\n",
       "  </tbody>\n",
       "</table>\n",
       "</div>"
      ],
      "text/plain": [
       "        pay_date  film_id part_of_day client_id  count_tickets\n",
       "3950  2024-01-08        6    вечерний      OO94            4.0\n",
       "3951  2024-05-01       22     дневной      GT91            4.0\n",
       "3952  2024-05-01       14    утренний      DB24            1.0\n",
       "3953  2024-04-09       49     дневной      YB14            2.0\n",
       "3954  2024-02-29       11     дневной      DR39            3.0\n",
       "3955  2024-02-15        9    утренний      ID50            2.0\n",
       "3956  2024-02-29        7    вечерний      KC99            2.0\n",
       "3957  2024-02-11        1     дневной      FG89            4.0\n",
       "3958  2024-04-08       34    утренний      DI23            2.0\n",
       "3959  2024-01-16       10     дневной      ZJ39            4.0\n",
       "3960  2024-04-15       28    вечерний      TU86            5.0\n",
       "3961  2024-04-05       42    вечерний      DM94            4.0\n",
       "0     2024-01-01        1    вечерний      GT91            8.0"
      ]
     },
     "execution_count": 34,
     "metadata": {},
     "output_type": "execute_result"
    }
   ],
   "source": [
    "df_stat_with_outlier = pd.concat([df_stat, df_outlier])\n",
    "df_stat_with_outlier"
   ]
  },
  {
   "cell_type": "code",
   "execution_count": null,
   "id": "6b0f0a0c-93ee-4fad-b1cc-5ee57d04e538",
   "metadata": {},
   "outputs": [
    {
     "data": {
      "text/plain": [
       "<Axes: >"
      ]
     },
     "execution_count": 35,
     "metadata": {},
     "output_type": "execute_result"
    },
    {
     "data": {
      "image/png": "[encoded data removed]",
      "text/plain": [
       "<Figure size 640x480 with 1 Axes>"
      ]
     },
     "metadata": {},
     "output_type": "display_data"
    }
   ],
   "source": [
    "df_stat_with_outlier.boxplot(column='count_tickets')"
   ]
  },
  {
   "cell_type": "markdown",
   "id": "d992e0c0-2c1f-4938-91a6-2127c57a3975",
   "metadata": {},
   "source": [
    "**Как опредялем выбросы:**\n",
    "\n",
    "Метод IQR\n",
    "\n",
    "IQR = Q3 - Q1"
   ]
  },
  {
   "cell_type": "code",
   "execution_count": null,
   "id": "6fa29a90-caeb-4af7-9c0d-9d1e2c71699a",
   "metadata": {},
   "outputs": [
    {
     "name": "stdout",
     "output_type": "stream",
     "text": [
      "Q1: 2.0\n",
      "Q3: 4.0\n",
      "IQR: 2.0\n"
     ]
    }
   ],
   "source": [
    "Q1 = df_stat['count_tickets'].quantile(0.25)\n",
    "print(f'Q1: {Q1}')\n",
    "Q3 = df_stat['count_tickets'].quantile(0.75)\n",
    "print(f'Q3: {Q3}')\n",
    "IQR = Q3 - Q1\n",
    "print(f'IQR: {IQR}')"
   ]
  },
  {
   "cell_type": "code",
   "execution_count": null,
   "id": "0c3be1c9-bdfb-4277-974f-817ddfcd93af",
   "metadata": {},
   "outputs": [
    {
     "name": "stdout",
     "output_type": "stream",
     "text": [
      "Нижний предел= -1.0\n",
      "Верхний предел= 7.0\n"
     ]
    }
   ],
   "source": [
    "print(f'Нижний предел= {Q1 - 1.5*IQR}')\n",
    "print(f'Верхний предел= {Q3 + 1.5*IQR}')"
   ]
  },
  {
   "cell_type": "markdown",
   "id": "47d54628-3d49-4090-bfa7-6983961ee78f",
   "metadata": {},
   "source": [
    "### Вернемся к графикам в pandas"
   ]
  },
  {
   "cell_type": "code",
   "execution_count": null,
   "id": "43dbacce-7348-4ccb-9ea9-aefd615b59cc",
   "metadata": {},
   "outputs": [
    {
     "data": {
      "text/plain": [
       "film_id\n",
       "1      78\n",
       "2      89\n",
       "3      85\n",
       "4      77\n",
       "5      82\n",
       "6      85\n",
       "7      78\n",
       "8      82\n",
       "9      72\n",
       "10     86\n",
       "11     68\n",
       "12     79\n",
       "13     94\n",
       "14     72\n",
       "15     78\n",
       "16    174\n",
       "17     90\n",
       "18     84\n",
       "19     79\n",
       "20     81\n",
       "21     75\n",
       "22     88\n",
       "23     67\n",
       "24     88\n",
       "25     89\n",
       "26     70\n",
       "27     62\n",
       "28     75\n",
       "29     77\n",
       "30     84\n",
       "31     60\n",
       "32     72\n",
       "33     85\n",
       "34     89\n",
       "35     82\n",
       "36     81\n",
       "37     87\n",
       "38     87\n",
       "39     85\n",
       "40     72\n",
       "41     89\n",
       "42    111\n",
       "43     79\n",
       "44     78\n",
       "45     87\n",
       "46     79\n",
       "47     78\n",
       "48     89\n",
       "49     65\n",
       "50      1\n",
       "52      2\n",
       "53      6\n",
       "Name: film_name, dtype: int64"
      ]
     },
     "execution_count": 39,
     "metadata": {},
     "output_type": "execute_result"
    }
   ],
   "source": [
    "df.groupby('film_id')['film_name'].count()"
   ]
  },
  {
   "cell_type": "code",
   "execution_count": null,
   "id": "947f2275-6c05-44e2-8f82-d4d5bf6a8770",
   "metadata": {},
   "outputs": [
    {
     "data": {
      "text/plain": [
       "<Axes: ylabel='Frequency'>"
      ]
     },
     "execution_count": 40,
     "metadata": {},
     "output_type": "execute_result"
    },
    {
     "data": {
      "image/png": "[encoded data removed]",
      "text/plain": [
       "<Figure size 640x480 with 1 Axes>"
      ]
     },
     "metadata": {},
     "output_type": "display_data"
    }
   ],
   "source": [
    "df['film_id'].plot.hist(bins=df['film_id'].nunique(), grid=True)"
   ]
  },
  {
   "cell_type": "code",
   "execution_count": null,
   "id": "e2f083a8-a90d-4327-9671-84c52152bd68",
   "metadata": {},
   "outputs": [
    {
     "data": {
      "text/html": [
       "<div>\n",
       "<style scoped>\n",
       "    .dataframe tbody tr th:only-of-type {\n",
       "        vertical-align: middle;\n",
       "    }\n",
       "\n",
       "    .dataframe tbody tr th {\n",
       "        vertical-align: top;\n",
       "    }\n",
       "\n",
       "    .dataframe thead th {\n",
       "        text-align: right;\n",
       "    }\n",
       "</style>\n",
       "<table border=\"1\" class=\"dataframe\">\n",
       "  <thead>\n",
       "    <tr style=\"text-align: right;\">\n",
       "      <th>part_of_day</th>\n",
       "      <th>вечерний</th>\n",
       "      <th>дневной</th>\n",
       "      <th>утренний</th>\n",
       "    </tr>\n",
       "    <tr>\n",
       "      <th>film_name</th>\n",
       "      <th></th>\n",
       "      <th></th>\n",
       "      <th></th>\n",
       "    </tr>\n",
       "  </thead>\n",
       "  <tbody>\n",
       "    <tr>\n",
       "      <th>Интерстеллар</th>\n",
       "      <td>73.0</td>\n",
       "      <td>90.0</td>\n",
       "      <td>87.0</td>\n",
       "    </tr>\n",
       "    <tr>\n",
       "      <th>Начало</th>\n",
       "      <td>76.0</td>\n",
       "      <td>80.0</td>\n",
       "      <td>78.0</td>\n",
       "    </tr>\n",
       "    <tr>\n",
       "      <th>Престиж</th>\n",
       "      <td>85.0</td>\n",
       "      <td>78.0</td>\n",
       "      <td>60.0</td>\n",
       "    </tr>\n",
       "    <tr>\n",
       "      <th>Тёмный рыцарь</th>\n",
       "      <td>84.0</td>\n",
       "      <td>76.0</td>\n",
       "      <td>95.0</td>\n",
       "    </tr>\n",
       "  </tbody>\n",
       "</table>\n",
       "</div>"
      ],
      "text/plain": [
       "part_of_day    вечерний  дневной  утренний\n",
       "film_name                                 \n",
       "Интерстеллар       73.0     90.0      87.0\n",
       "Начало             76.0     80.0      78.0\n",
       "Престиж            85.0     78.0      60.0\n",
       "Тёмный рыцарь      84.0     76.0      95.0"
      ]
     },
     "execution_count": 41,
     "metadata": {},
     "output_type": "execute_result"
    }
   ],
   "source": [
    "df2 = df[df['filmmaker']=='Кристофер Нолан']\n",
    "df2 = df2.pivot_table(index='film_name', columns='part_of_day', values='count_tickets',aggfunc='sum')\n",
    "df2"
   ]
  },
  {
   "cell_type": "code",
   "execution_count": null,
   "id": "e62a5390-b032-45ce-9f1c-b0feb28c483c",
   "metadata": {},
   "outputs": [
    {
     "data": {
      "text/plain": [
       "<Axes: xlabel='film_name'>"
      ]
     },
     "execution_count": 42,
     "metadata": {},
     "output_type": "execute_result"
    },
    {
     "data": {
      "image/png": "[encoded data removed]",
      "text/plain": [
       "<Figure size 640x480 with 1 Axes>"
      ]
     },
     "metadata": {},
     "output_type": "display_data"
    }
   ],
   "source": [
    "df2.plot.bar()"
   ]
  },
  {
   "cell_type": "code",
   "execution_count": null,
   "id": "82b3a2d3-765d-4d66-a3e6-ac679dfdc3e8",
   "metadata": {},
   "outputs": [
    {
     "data": {
      "text/plain": [
       "<Axes: xlabel='film_name'>"
      ]
     },
     "execution_count": 43,
     "metadata": {},
     "output_type": "execute_result"
    },
    {
     "data": {
      "image/png": "[encoded data removed]",
      "text/plain": [
       "<Figure size 640x480 with 1 Axes>"
      ]
     },
     "metadata": {},
     "output_type": "display_data"
    }
   ],
   "source": [
    "df2.plot.bar(stacked=True)"
   ]
  },
  {
   "cell_type": "code",
   "execution_count": null,
   "id": "6b054246-eb87-4e2e-9664-d64c22d78417",
   "metadata": {},
   "outputs": [
    {
     "data": {
      "text/plain": [
       "array([<Axes: title={'center': 'вечерний'}, xlabel='film_name'>,\n",
       "       <Axes: title={'center': 'дневной'}, xlabel='film_name'>,\n",
       "       <Axes: title={'center': 'утренний'}, xlabel='film_name'>],\n",
       "      dtype=object)"
      ]
     },
     "execution_count": 44,
     "metadata": {},
     "output_type": "execute_result"
    },
    {
     "data": {
      "image/png": "[encoded data removed]",
      "text/plain": [
       "<Figure size 640x480 with 3 Axes>"
      ]
     },
     "metadata": {},
     "output_type": "display_data"
    }
   ],
   "source": [
    "df2.plot.bar(subplots=True)"
   ]
  },
  {
   "cell_type": "code",
   "execution_count": null,
   "id": "60a7d90a-721c-4061-a105-cb8f3d60c23b",
   "metadata": {},
   "outputs": [
    {
     "data": {
      "text/plain": [
       "<Axes: xlabel='film_name'>"
      ]
     },
     "execution_count": 45,
     "metadata": {},
     "output_type": "execute_result"
    },
    {
     "data": {
      "image/png": "[encoded data removed]",
      "text/plain": [
       "<Figure size 640x480 with 1 Axes>"
      ]
     },
     "metadata": {},
     "output_type": "display_data"
    }
   ],
   "source": [
    "df2.plot.bar(y='вечерний')"
   ]
  },
  {
   "cell_type": "code",
   "execution_count": null,
   "id": "3fcb997f-c3fd-4ea2-8f2d-bd82b92fd939",
   "metadata": {},
   "outputs": [
    {
     "data": {
      "text/plain": [
       "<Axes: ylabel='film_name'>"
      ]
     },
     "execution_count": 46,
     "metadata": {},
     "output_type": "execute_result"
    },
    {
     "data": {
      "image/png": "[encoded data removed]",
      "text/plain": [
       "<Figure size 640x480 with 1 Axes>"
      ]
     },
     "metadata": {},
     "output_type": "display_data"
    }
   ],
   "source": [
    "df2.plot.barh()"
   ]
  },
  {
   "cell_type": "code",
   "execution_count": null,
   "id": "b7ddbcbe-1b80-4319-bfe5-826ec839a293",
   "metadata": {},
   "outputs": [
    {
     "data": {
      "text/html": [
       "<div>\n",
       "<style scoped>\n",
       "    .dataframe tbody tr th:only-of-type {\n",
       "        vertical-align: middle;\n",
       "    }\n",
       "\n",
       "    .dataframe tbody tr th {\n",
       "        vertical-align: top;\n",
       "    }\n",
       "\n",
       "    .dataframe thead th {\n",
       "        text-align: right;\n",
       "    }\n",
       "</style>\n",
       "<table border=\"1\" class=\"dataframe\">\n",
       "  <thead>\n",
       "    <tr style=\"text-align: right;\">\n",
       "      <th></th>\n",
       "      <th>pay_date</th>\n",
       "      <th>film_id</th>\n",
       "      <th>part_of_day</th>\n",
       "      <th>client_id</th>\n",
       "      <th>count_tickets</th>\n",
       "      <th>film_name</th>\n",
       "      <th>price_ticket</th>\n",
       "      <th>release_year</th>\n",
       "      <th>filmmaker</th>\n",
       "      <th>kind_film</th>\n",
       "      <th>dengi</th>\n",
       "    </tr>\n",
       "  </thead>\n",
       "  <tbody>\n",
       "    <tr>\n",
       "      <th>0</th>\n",
       "      <td>2024-04-24</td>\n",
       "      <td>2</td>\n",
       "      <td>дневной</td>\n",
       "      <td>NL42</td>\n",
       "      <td>1.0</td>\n",
       "      <td>Крёстный отец</td>\n",
       "      <td>190</td>\n",
       "      <td>1972</td>\n",
       "      <td>Фрэнсис Форд Коппола</td>\n",
       "      <td>детектив, драма</td>\n",
       "      <td>190.0</td>\n",
       "    </tr>\n",
       "    <tr>\n",
       "      <th>1</th>\n",
       "      <td>2024-03-03</td>\n",
       "      <td>15</td>\n",
       "      <td>вечерний</td>\n",
       "      <td>HW75</td>\n",
       "      <td>3.0</td>\n",
       "      <td>Звёздные войны. Эпизод V: Империя наносит отве...</td>\n",
       "      <td>190</td>\n",
       "      <td>1980</td>\n",
       "      <td>Ирвин Кершнер</td>\n",
       "      <td>боевик, приключение, фэнтези</td>\n",
       "      <td>570.0</td>\n",
       "    </tr>\n",
       "  </tbody>\n",
       "</table>\n",
       "</div>"
      ],
      "text/plain": [
       "    pay_date  film_id part_of_day client_id  count_tickets  \\\n",
       "0 2024-04-24        2     дневной      NL42            1.0   \n",
       "1 2024-03-03       15    вечерний      HW75            3.0   \n",
       "\n",
       "                                           film_name  price_ticket  \\\n",
       "0                                      Крёстный отец           190   \n",
       "1  Звёздные войны. Эпизод V: Империя наносит отве...           190   \n",
       "\n",
       "   release_year             filmmaker                     kind_film  dengi  \n",
       "0          1972  Фрэнсис Форд Коппола               детектив, драма  190.0  \n",
       "1          1980         Ирвин Кершнер  боевик, приключение, фэнтези  570.0  "
      ]
     },
     "execution_count": 47,
     "metadata": {},
     "output_type": "execute_result"
    }
   ],
   "source": [
    "df['dengi'] = df['count_tickets'] * df['price_ticket']\n",
    "df.head(2)"
   ]
  },
  {
   "cell_type": "code",
   "execution_count": null,
   "id": "46219fb0-2c94-4d06-839c-fbc461f84c66",
   "metadata": {},
   "outputs": [
    {
     "data": {
      "text/html": [
       "<div>\n",
       "<style scoped>\n",
       "    .dataframe tbody tr th:only-of-type {\n",
       "        vertical-align: middle;\n",
       "    }\n",
       "\n",
       "    .dataframe tbody tr th {\n",
       "        vertical-align: top;\n",
       "    }\n",
       "\n",
       "    .dataframe thead th {\n",
       "        text-align: right;\n",
       "    }\n",
       "</style>\n",
       "<table border=\"1\" class=\"dataframe\">\n",
       "  <thead>\n",
       "    <tr style=\"text-align: right;\">\n",
       "      <th>part_of_day</th>\n",
       "      <th>вечерний</th>\n",
       "      <th>дневной</th>\n",
       "      <th>утренний</th>\n",
       "    </tr>\n",
       "    <tr>\n",
       "      <th>pay_date</th>\n",
       "      <th></th>\n",
       "      <th></th>\n",
       "      <th></th>\n",
       "    </tr>\n",
       "  </thead>\n",
       "  <tbody>\n",
       "    <tr>\n",
       "      <th>2024-01-01</th>\n",
       "      <td>1330.0</td>\n",
       "      <td>0.0</td>\n",
       "      <td>340.0</td>\n",
       "    </tr>\n",
       "    <tr>\n",
       "      <th>2024-01-02</th>\n",
       "      <td>0.0</td>\n",
       "      <td>760.0</td>\n",
       "      <td>0.0</td>\n",
       "    </tr>\n",
       "    <tr>\n",
       "      <th>2024-01-03</th>\n",
       "      <td>680.0</td>\n",
       "      <td>2310.0</td>\n",
       "      <td>340.0</td>\n",
       "    </tr>\n",
       "    <tr>\n",
       "      <th>2024-01-05</th>\n",
       "      <td>4010.0</td>\n",
       "      <td>380.0</td>\n",
       "      <td>1730.0</td>\n",
       "    </tr>\n",
       "    <tr>\n",
       "      <th>2024-01-06</th>\n",
       "      <td>1350.0</td>\n",
       "      <td>1700.0</td>\n",
       "      <td>1700.0</td>\n",
       "    </tr>\n",
       "    <tr>\n",
       "      <th>2024-01-07</th>\n",
       "      <td>570.0</td>\n",
       "      <td>3200.0</td>\n",
       "      <td>0.0</td>\n",
       "    </tr>\n",
       "  </tbody>\n",
       "</table>\n",
       "</div>"
      ],
      "text/plain": [
       "part_of_day  вечерний  дневной  утренний\n",
       "pay_date                                \n",
       "2024-01-01     1330.0      0.0     340.0\n",
       "2024-01-02        0.0    760.0       0.0\n",
       "2024-01-03      680.0   2310.0     340.0\n",
       "2024-01-05     4010.0    380.0    1730.0\n",
       "2024-01-06     1350.0   1700.0    1700.0\n",
       "2024-01-07      570.0   3200.0       0.0"
      ]
     },
     "execution_count": 48,
     "metadata": {},
     "output_type": "execute_result"
    }
   ],
   "source": [
    "df3 = df[df['filmmaker']=='Кристофер Нолан']\n",
    "df3 = df3[df3['pay_date']<='2024-01-07']\n",
    "df3 = df3.pivot_table(index='pay_date', columns='part_of_day', values='dengi',aggfunc='sum')\n",
    "df3 = df3.fillna(0)\n",
    "df3"
   ]
  },
  {
   "cell_type": "code",
   "execution_count": null,
   "id": "38ea8025-c4c7-4f20-8b23-47e6c60f34b2",
   "metadata": {},
   "outputs": [
    {
     "data": {
      "text/plain": [
       "<Axes: xlabel='pay_date'>"
      ]
     },
     "execution_count": 52,
     "metadata": {},
     "output_type": "execute_result"
    },
    {
     "data": {
      "image/png": "[encoded data removed]",
      "text/plain": [
       "<Figure size 640x480 with 1 Axes>"
      ]
     },
     "metadata": {},
     "output_type": "display_data"
    }
   ],
   "source": [
    "df3.plot.area()"
   ]
  },
  {
   "cell_type": "code",
   "execution_count": null,
   "id": "ad6e5aa6-e897-432a-a526-fc4f16e5c9c1",
   "metadata": {},
   "outputs": [
    {
     "data": {
      "text/plain": [
       "<Axes: ylabel='Density'>"
      ]
     },
     "execution_count": 55,
     "metadata": {},
     "output_type": "execute_result"
    },
    {
     "data": {
      "image/png": "[encoded data removed]",
      "text/plain": [
       "<Figure size 640x480 with 1 Axes>"
      ]
     },
     "metadata": {},
     "output_type": "display_data"
    }
   ],
   "source": [
    "\n",
    "df['film_id'].plot.density()"
   ]
  },
  {
   "cell_type": "code",
   "execution_count": null,
   "id": "0b969436-7411-4200-8fb0-2eef002cafbf",
   "metadata": {},
   "outputs": [
    {
     "data": {
      "text/html": [
       "<div>\n",
       "<style scoped>\n",
       "    .dataframe tbody tr th:only-of-type {\n",
       "        vertical-align: middle;\n",
       "    }\n",
       "\n",
       "    .dataframe tbody tr th {\n",
       "        vertical-align: top;\n",
       "    }\n",
       "\n",
       "    .dataframe thead th {\n",
       "        text-align: right;\n",
       "    }\n",
       "</style>\n",
       "<table border=\"1\" class=\"dataframe\">\n",
       "  <thead>\n",
       "    <tr style=\"text-align: right;\">\n",
       "      <th></th>\n",
       "      <th>pay_date</th>\n",
       "      <th>film_id</th>\n",
       "      <th>part_of_day</th>\n",
       "      <th>client_id</th>\n",
       "      <th>count_tickets</th>\n",
       "      <th>film_name</th>\n",
       "      <th>price_ticket</th>\n",
       "      <th>release_year</th>\n",
       "      <th>filmmaker</th>\n",
       "      <th>kind_film</th>\n",
       "      <th>dengi</th>\n",
       "    </tr>\n",
       "  </thead>\n",
       "  <tbody>\n",
       "    <tr>\n",
       "      <th>0</th>\n",
       "      <td>2024-04-24</td>\n",
       "      <td>2</td>\n",
       "      <td>дневной</td>\n",
       "      <td>NL42</td>\n",
       "      <td>1.0</td>\n",
       "      <td>Крёстный отец</td>\n",
       "      <td>190</td>\n",
       "      <td>1972</td>\n",
       "      <td>Фрэнсис Форд Коппола</td>\n",
       "      <td>детектив, драма</td>\n",
       "      <td>190.0</td>\n",
       "    </tr>\n",
       "    <tr>\n",
       "      <th>1</th>\n",
       "      <td>2024-03-03</td>\n",
       "      <td>15</td>\n",
       "      <td>вечерний</td>\n",
       "      <td>HW75</td>\n",
       "      <td>3.0</td>\n",
       "      <td>Звёздные войны. Эпизод V: Империя наносит отве...</td>\n",
       "      <td>190</td>\n",
       "      <td>1980</td>\n",
       "      <td>Ирвин Кершнер</td>\n",
       "      <td>боевик, приключение, фэнтези</td>\n",
       "      <td>570.0</td>\n",
       "    </tr>\n",
       "  </tbody>\n",
       "</table>\n",
       "</div>"
      ],
      "text/plain": [
       "    pay_date  film_id part_of_day client_id  count_tickets  \\\n",
       "0 2024-04-24        2     дневной      NL42            1.0   \n",
       "1 2024-03-03       15    вечерний      HW75            3.0   \n",
       "\n",
       "                                           film_name  price_ticket  \\\n",
       "0                                      Крёстный отец           190   \n",
       "1  Звёздные войны. Эпизод V: Империя наносит отве...           190   \n",
       "\n",
       "   release_year             filmmaker                     kind_film  dengi  \n",
       "0          1972  Фрэнсис Форд Коппола               детектив, драма  190.0  \n",
       "1          1980         Ирвин Кершнер  боевик, приключение, фэнтези  570.0  "
      ]
     },
     "execution_count": 53,
     "metadata": {},
     "output_type": "execute_result"
    }
   ],
   "source": [
    "df6 = df\n",
    "df6.head(2)"
   ]
  },
  {
   "cell_type": "code",
   "execution_count": null,
   "id": "e9c6bd33-2938-467f-9ad2-d87d11471771",
   "metadata": {},
   "outputs": [
    {
     "data": {
      "text/plain": [
       "array([190, 450, 290, 340], dtype=int64)"
      ]
     },
     "execution_count": 56,
     "metadata": {},
     "output_type": "execute_result"
    }
   ],
   "source": [
    "df6['price_ticket'].unique()"
   ]
  },
  {
   "cell_type": "code",
   "execution_count": null,
   "id": "cd1eaca0-1c1d-4ca6-b23d-01fbde56af98",
   "metadata": {},
   "outputs": [
    {
     "data": {
      "text/plain": [
       "<Axes: xlabel='price_ticket', ylabel='dengi'>"
      ]
     },
     "execution_count": 35,
     "metadata": {},
     "output_type": "execute_result"
    },
    {
     "data": {
      "image/png": "[encoded data removed]",
      "text/plain": [
       "<Figure size 640x480 with 2 Axes>"
      ]
     },
     "metadata": {},
     "output_type": "display_data"
    }
   ],
   "source": [
    "df6.plot.scatter(x='price_ticket', y='dengi', c='count_tickets',colormap='viridis')"
   ]
  },
  {
   "cell_type": "code",
   "execution_count": null,
   "id": "f5e7f290-8632-48c1-b871-9348f61268c7",
   "metadata": {},
   "outputs": [
    {
     "data": {
      "text/plain": [
       "film_name\n",
       "Дюна: Часть вторая                  41230.0\n",
       "Интерстеллар                        47500.0\n",
       "Одержимость                         92220.0\n",
       "Паразиты                           117450.0\n",
       "Человек-паук: Паутина вселенных    108900.0\n",
       "Name: dengi, dtype: float64"
      ]
     },
     "execution_count": 57,
     "metadata": {},
     "output_type": "execute_result"
    }
   ],
   "source": [
    "df5 = df[df['release_year'] >= 2014]\n",
    "df5= df5.groupby('film_name')['dengi'].sum()\n",
    "df5"
   ]
  },
  {
   "cell_type": "code",
   "execution_count": null,
   "id": "899abf4a-1de7-4c70-a688-74e0e630c668",
   "metadata": {},
   "outputs": [
    {
     "data": {
      "text/plain": [
       "407300.0"
      ]
     },
     "execution_count": 37,
     "metadata": {},
     "output_type": "execute_result"
    }
   ],
   "source": [
    "df5.sum()"
   ]
  },
  {
   "cell_type": "code",
   "execution_count": null,
   "id": "76808e6d-b85f-49fe-901b-5f07c00abe84",
   "metadata": {},
   "outputs": [
    {
     "data": {
      "text/plain": [
       "<Axes: ylabel='dengi'>"
      ]
     },
     "execution_count": 58,
     "metadata": {},
     "output_type": "execute_result"
    },
    {
     "data": {
      "image/png": "[encoded data removed]",
      "text/plain": [
       "<Figure size 640x480 with 1 Axes>"
      ]
     },
     "metadata": {},
     "output_type": "display_data"
    }
   ],
   "source": [
    "df5.plot.pie(autopct='%1.1f%%')"
   ]
  },
  {
   "cell_type": "markdown",
   "id": "c657b4dd-9149-4f49-9a13-abe83058eda3",
   "metadata": {},
   "source": [
    "## Визуализация датафреймов"
   ]
  },
  {
   "cell_type": "code",
   "execution_count": null,
   "id": "d2348b9f-5ab5-4efd-9b19-a2dfbfeba86f",
   "metadata": {},
   "outputs": [
    {
     "data": {
      "text/html": [
       "<div>\n",
       "<style scoped>\n",
       "    .dataframe tbody tr th:only-of-type {\n",
       "        vertical-align: middle;\n",
       "    }\n",
       "\n",
       "    .dataframe tbody tr th {\n",
       "        vertical-align: top;\n",
       "    }\n",
       "\n",
       "    .dataframe thead th {\n",
       "        text-align: right;\n",
       "    }\n",
       "</style>\n",
       "<table border=\"1\" class=\"dataframe\">\n",
       "  <thead>\n",
       "    <tr style=\"text-align: right;\">\n",
       "      <th></th>\n",
       "      <th>film_name</th>\n",
       "      <th>dengi</th>\n",
       "    </tr>\n",
       "  </thead>\n",
       "  <tbody>\n",
       "    <tr>\n",
       "      <th>0</th>\n",
       "      <td>Дюна: Часть вторая</td>\n",
       "      <td>41230.0</td>\n",
       "    </tr>\n",
       "    <tr>\n",
       "      <th>1</th>\n",
       "      <td>Интерстеллар</td>\n",
       "      <td>47500.0</td>\n",
       "    </tr>\n",
       "    <tr>\n",
       "      <th>2</th>\n",
       "      <td>Одержимость</td>\n",
       "      <td>92220.0</td>\n",
       "    </tr>\n",
       "    <tr>\n",
       "      <th>3</th>\n",
       "      <td>Паразиты</td>\n",
       "      <td>117450.0</td>\n",
       "    </tr>\n",
       "    <tr>\n",
       "      <th>4</th>\n",
       "      <td>Человек-паук: Паутина вселенных</td>\n",
       "      <td>108900.0</td>\n",
       "    </tr>\n",
       "  </tbody>\n",
       "</table>\n",
       "</div>"
      ],
      "text/plain": [
       "                         film_name     dengi\n",
       "0               Дюна: Часть вторая   41230.0\n",
       "1                     Интерстеллар   47500.0\n",
       "2                      Одержимость   92220.0\n",
       "3                         Паразиты  117450.0\n",
       "4  Человек-паук: Паутина вселенных  108900.0"
      ]
     },
     "execution_count": 59,
     "metadata": {},
     "output_type": "execute_result"
    }
   ],
   "source": [
    "df55 = df5.reset_index()\n",
    "df55"
   ]
  },
  {
   "cell_type": "code",
   "execution_count": null,
   "id": "e55d1a4c-7ff8-4017-9a8a-d95f05196974",
   "metadata": {},
   "outputs": [
    {
     "data": {
      "text/html": [
       "<style type=\"text/css\">\n",
       "#T_d53f7_row3_col1 {\n",
       "  background-color: orange;\n",
       "}\n",
       "</style>\n",
       "<table id=\"T_d53f7\">\n",
       "  <thead>\n",
       "    <tr>\n",
       "      <th id=\"T_d53f7_level0_col0\" class=\"col_heading level0 col0\" >film_name</th>\n",
       "      <th id=\"T_d53f7_level0_col1\" class=\"col_heading level0 col1\" >dengi</th>\n",
       "    </tr>\n",
       "  </thead>\n",
       "  <tbody>\n",
       "    <tr>\n",
       "      <td id=\"T_d53f7_row0_col0\" class=\"data row0 col0\" >Дюна: Часть вторая</td>\n",
       "      <td id=\"T_d53f7_row0_col1\" class=\"data row0 col1\" >41 230</td>\n",
       "    </tr>\n",
       "    <tr>\n",
       "      <td id=\"T_d53f7_row1_col0\" class=\"data row1 col0\" >Интерстеллар</td>\n",
       "      <td id=\"T_d53f7_row1_col1\" class=\"data row1 col1\" >47 500</td>\n",
       "    </tr>\n",
       "    <tr>\n",
       "      <td id=\"T_d53f7_row2_col0\" class=\"data row2 col0\" >Одержимость</td>\n",
       "      <td id=\"T_d53f7_row2_col1\" class=\"data row2 col1\" >92 220</td>\n",
       "    </tr>\n",
       "    <tr>\n",
       "      <td id=\"T_d53f7_row3_col0\" class=\"data row3 col0\" >Паразиты</td>\n",
       "      <td id=\"T_d53f7_row3_col1\" class=\"data row3 col1\" >117 450</td>\n",
       "    </tr>\n",
       "    <tr>\n",
       "      <td id=\"T_d53f7_row4_col0\" class=\"data row4 col0\" >Человек-паук: Паутина вселенных</td>\n",
       "      <td id=\"T_d53f7_row4_col1\" class=\"data row4 col1\" >108 900</td>\n",
       "    </tr>\n",
       "  </tbody>\n",
       "</table>\n"
      ],
      "text/plain": [
       "<pandas.io.formats.style.Styler at 0x1c589a7c3a0>"
      ]
     },
     "execution_count": 60,
     "metadata": {},
     "output_type": "execute_result"
    }
   ],
   "source": [
    "# highlight_max / highlight_min /highlight_null\n",
    "df55.style.hide().format(precision=0, thousands=' ').highlight_max(color='orange', subset='dengi') "
   ]
  },
  {
   "cell_type": "code",
   "execution_count": null,
   "id": "8031ea78-a1b0-4841-aaae-0fa5c2902fb3",
   "metadata": {},
   "outputs": [],
   "source": [
    "def color_green(val):\n",
    "    if val == df55['dengi'].min():\n",
    "        color = 'green'\n",
    "    else:\n",
    "        color = 'black'\n",
    "    display('color: %s' % color)\n",
    "    return 'color: %s' % color"
   ]
  },
  {
   "cell_type": "code",
   "execution_count": null,
   "id": "7a1c1175-5695-495b-8c31-3d3f2d174119",
   "metadata": {},
   "outputs": [
    {
     "data": {
      "text/plain": [
       "'color: black'"
      ]
     },
     "metadata": {},
     "output_type": "display_data"
    },
    {
     "data": {
      "text/plain": [
       "'color: black'"
      ]
     },
     "metadata": {},
     "output_type": "display_data"
    },
    {
     "data": {
      "text/plain": [
       "'color: black'"
      ]
     },
     "metadata": {},
     "output_type": "display_data"
    },
    {
     "data": {
      "text/plain": [
       "'color: black'"
      ]
     },
     "metadata": {},
     "output_type": "display_data"
    },
    {
     "data": {
      "text/plain": [
       "'color: black'"
      ]
     },
     "metadata": {},
     "output_type": "display_data"
    },
    {
     "data": {
      "text/plain": [
       "'color: green'"
      ]
     },
     "metadata": {},
     "output_type": "display_data"
    },
    {
     "data": {
      "text/plain": [
       "'color: black'"
      ]
     },
     "metadata": {},
     "output_type": "display_data"
    },
    {
     "data": {
      "text/plain": [
       "'color: black'"
      ]
     },
     "metadata": {},
     "output_type": "display_data"
    },
    {
     "data": {
      "text/plain": [
       "'color: black'"
      ]
     },
     "metadata": {},
     "output_type": "display_data"
    },
    {
     "data": {
      "text/plain": [
       "'color: black'"
      ]
     },
     "metadata": {},
     "output_type": "display_data"
    },
    {
     "data": {
      "text/html": [
       "<style type=\"text/css\">\n",
       "#T_d55d3_row0_col0, #T_d55d3_row1_col0, #T_d55d3_row1_col1, #T_d55d3_row2_col0, #T_d55d3_row2_col1, #T_d55d3_row3_col0, #T_d55d3_row3_col1, #T_d55d3_row4_col0, #T_d55d3_row4_col1 {\n",
       "  color: black;\n",
       "}\n",
       "#T_d55d3_row0_col1 {\n",
       "  color: green;\n",
       "}\n",
       "</style>\n",
       "<table id=\"T_d55d3\">\n",
       "  <thead>\n",
       "    <tr>\n",
       "      <th id=\"T_d55d3_level0_col0\" class=\"col_heading level0 col0\" >film_name</th>\n",
       "      <th id=\"T_d55d3_level0_col1\" class=\"col_heading level0 col1\" >dengi</th>\n",
       "    </tr>\n",
       "  </thead>\n",
       "  <tbody>\n",
       "    <tr>\n",
       "      <td id=\"T_d55d3_row0_col0\" class=\"data row0 col0\" >Дюна: Часть вторая</td>\n",
       "      <td id=\"T_d55d3_row0_col1\" class=\"data row0 col1\" >41 230</td>\n",
       "    </tr>\n",
       "    <tr>\n",
       "      <td id=\"T_d55d3_row1_col0\" class=\"data row1 col0\" >Интерстеллар</td>\n",
       "      <td id=\"T_d55d3_row1_col1\" class=\"data row1 col1\" >47 500</td>\n",
       "    </tr>\n",
       "    <tr>\n",
       "      <td id=\"T_d55d3_row2_col0\" class=\"data row2 col0\" >Одержимость</td>\n",
       "      <td id=\"T_d55d3_row2_col1\" class=\"data row2 col1\" >92 220</td>\n",
       "    </tr>\n",
       "    <tr>\n",
       "      <td id=\"T_d55d3_row3_col0\" class=\"data row3 col0\" >Паразиты</td>\n",
       "      <td id=\"T_d55d3_row3_col1\" class=\"data row3 col1\" >117 450</td>\n",
       "    </tr>\n",
       "    <tr>\n",
       "      <td id=\"T_d55d3_row4_col0\" class=\"data row4 col0\" >Человек-паук: Паутина вселенных</td>\n",
       "      <td id=\"T_d55d3_row4_col1\" class=\"data row4 col1\" >108 900</td>\n",
       "    </tr>\n",
       "  </tbody>\n",
       "</table>\n"
      ],
      "text/plain": [
       "<pandas.io.formats.style.Styler at 0x1c59b407e50>"
      ]
     },
     "execution_count": 63,
     "metadata": {},
     "output_type": "execute_result"
    }
   ],
   "source": [
    "df55.style.hide().format(precision=0, thousands=' ').map(color_green)"
   ]
  },
  {
   "cell_type": "markdown",
   "id": "88436c94-7810-46b1-9930-b84015c60175",
   "metadata": {},
   "source": [
    "## Давайте сделаем красиво!"
   ]
  },
  {
   "cell_type": "code",
   "execution_count": 11,
   "id": "7994f861-57f5-4a3c-8878-15a701cf02a8",
   "metadata": {},
   "outputs": [],
   "source": [
    "from IPython.display import Markdown, display\n",
    "\n",
    "def printmd(string):\n",
    "    display(Markdown(string))"
   ]
  },
  {
   "cell_type": "code",
   "execution_count": null,
   "id": "58b538cc-d866-437e-99de-3f8d6d49b3df",
   "metadata": {},
   "outputs": [
    {
     "data": {
      "text/markdown": [
       "## Выручка по фильмам, которые вышли в 2014 году и позже"
      ],
      "text/plain": [
       "<IPython.core.display.Markdown object>"
      ]
     },
     "metadata": {},
     "output_type": "display_data"
    },
    {
     "data": {
      "text/markdown": [
       "### Общая выручка по фильмам: 407300.0 руб."
      ],
      "text/plain": [
       "<IPython.core.display.Markdown object>"
      ]
     },
     "metadata": {},
     "output_type": "display_data"
    },
    {
     "data": {
      "text/html": [
       "<style type=\"text/css\">\n",
       "#T_6382d_row0_col1 {\n",
       "  width: 10em;\n",
       "  background: linear-gradient(90deg, #b2b2ff 35.1%, transparent 35.1%);\n",
       "}\n",
       "#T_6382d_row1_col1 {\n",
       "  width: 10em;\n",
       "  background: linear-gradient(90deg, #ceceff 40.4%, transparent 40.4%);\n",
       "}\n",
       "#T_6382d_row2_col1 {\n",
       "  width: 10em;\n",
       "  background: linear-gradient(90deg, #ff6c6c 78.5%, transparent 78.5%);\n",
       "}\n",
       "#T_6382d_row3_col1 {\n",
       "  width: 10em;\n",
       "  background: linear-gradient(90deg, #ff0000 100.0%, transparent 100.0%);\n",
       "}\n",
       "#T_6382d_row4_col1 {\n",
       "  width: 10em;\n",
       "  background: linear-gradient(90deg, #ff2424 92.7%, transparent 92.7%);\n",
       "}\n",
       "</style>\n",
       "<table id=\"T_6382d\">\n",
       "  <thead>\n",
       "    <tr>\n",
       "      <th id=\"T_6382d_level0_col0\" class=\"col_heading level0 col0\" >film_name</th>\n",
       "      <th id=\"T_6382d_level0_col1\" class=\"col_heading level0 col1\" >dengi</th>\n",
       "    </tr>\n",
       "  </thead>\n",
       "  <tbody>\n",
       "    <tr>\n",
       "      <td id=\"T_6382d_row0_col0\" class=\"data row0 col0\" >Дюна: Часть вторая</td>\n",
       "      <td id=\"T_6382d_row0_col1\" class=\"data row0 col1\" >41 230</td>\n",
       "    </tr>\n",
       "    <tr>\n",
       "      <td id=\"T_6382d_row1_col0\" class=\"data row1 col0\" >Интерстеллар</td>\n",
       "      <td id=\"T_6382d_row1_col1\" class=\"data row1 col1\" >47 500</td>\n",
       "    </tr>\n",
       "    <tr>\n",
       "      <td id=\"T_6382d_row2_col0\" class=\"data row2 col0\" >Одержимость</td>\n",
       "      <td id=\"T_6382d_row2_col1\" class=\"data row2 col1\" >92 220</td>\n",
       "    </tr>\n",
       "    <tr>\n",
       "      <td id=\"T_6382d_row3_col0\" class=\"data row3 col0\" >Паразиты</td>\n",
       "      <td id=\"T_6382d_row3_col1\" class=\"data row3 col1\" >117 450</td>\n",
       "    </tr>\n",
       "    <tr>\n",
       "      <td id=\"T_6382d_row4_col0\" class=\"data row4 col0\" >Человек-паук: Паутина вселенных</td>\n",
       "      <td id=\"T_6382d_row4_col1\" class=\"data row4 col1\" >108 900</td>\n",
       "    </tr>\n",
       "  </tbody>\n",
       "</table>\n"
      ],
      "text/plain": [
       "<pandas.io.formats.style.Styler at 0x1c599dd5ca0>"
      ]
     },
     "metadata": {},
     "output_type": "display_data"
    },
    {
     "data": {
      "image/png": "[encoded data removed]",
      "text/plain": [
       "<Figure size 640x480 with 1 Axes>"
      ]
     },
     "metadata": {},
     "output_type": "display_data"
    }
   ],
   "source": [
    "total_sum = df5.sum()\n",
    "\n",
    "printmd('## Выручка по фильмам, которые вышли в 2014 году и позже')\n",
    "printmd('### Общая выручка по фильмам: ' + str(total_sum) + ' руб.')\n",
    "\n",
    "display(df55.style.hide().format(precision=0, thousands=' ').bar(cmap='bwr'))\n",
    "df5.plot.pie(autopct='%1.1f%%');"
   ]
  },
  {
   "cell_type": "markdown",
   "id": "7f40b89e-9e61-4fd2-a8db-8f57ee5ae2ec",
   "metadata": {},
   "source": [
    "# Домашнее задание 4"
   ]
  },
  {
   "cell_type": "markdown",
   "id": "29f24f19-1498-4181-a681-bd6721b3f608",
   "metadata": {},
   "source": [
    "#### 1. Создайте отчет в виде сводной таблицы по дням недели, которая продемонстрирует — в какой день недели сколько было выручки? (да, это задание из 3-его ДЗ). Но теперь давайте визуализируем эти сводные данные. Подберите подходящую визуализацию и постройте ее."
   ]
  },
  {
   "cell_type": "code",
   "execution_count": 6,
   "id": "59d3ac71-32f6-451f-aef9-bd6864493b73",
   "metadata": {},
   "outputs": [],
   "source": [
    "# your code \n",
    "# копируем  все с ДЗ 3 для удобства \n",
    "\n",
    "import matplotlib.pyplot as plt\n",
    "%matplotlib inline\n",
    "\n",
    "films = create_dataframe(user='tanya25pm', password='klcemshu', table_name='films')\n",
    "payments = create_dataframe(user='tanya25pm', password='klcemshu', table_name='payments')\n",
    "\n",
    "payments.dropna(subset='pay_date', inplace=True) \n",
    "payments.dropna(subset='count_tickets', inplace=True) \n",
    "\n",
    "payments = payments.drop_duplicates(keep='first')\n",
    "films = films.drop_duplicates(keep='first')\n",
    "\n",
    "df = payments.merge(films, how='left', on='film_id') \n",
    "\n",
    "df['pay_date'] = pd.to_datetime(df['pay_date'])\n",
    "\n",
    "df.insert(1, 'week_day', df['pay_date'].dt.day_name(locale= 'ru_RU'))\n",
    "df.insert(7, 'revenue', df['count_tickets'] * df['price_ticket'])\n",
    "\n",
    "df['number_week_day'] = df['pay_date'].dt.dayofweek #  дополнительно добавим столбец с номером дня недели\n"
   ]
  },
  {
   "cell_type": "code",
   "execution_count": 7,
   "id": "55c5e6e5",
   "metadata": {},
   "outputs": [],
   "source": [
    "#  создадим сводную таблицу и отсортируем по дням недели\n",
    "df_pivot_days = df \\\n",
    "    .pivot_table(index= ['number_week_day', 'week_day'], values='revenue', aggfunc='sum') \\\n",
    "    .reset_index(drop=False) \\\n",
    "    .sort_values(['number_week_day'], ascending=True)    \n"
   ]
  },
  {
   "cell_type": "code",
   "execution_count": 12,
   "id": "8300c027",
   "metadata": {},
   "outputs": [],
   "source": [
    "df_0 = df_pivot_days.reset_index(drop='True') # cделаем таблицу для отображения без индексов\n",
    "\n",
    "df_0 = df_0[['week_day', 'number_week_day', 'revenue']] # поменяем столбцы местами\n",
    "df_0.drop('number_week_day', axis=1, inplace=True) # сносим столбец с номером дня недели\n",
    "\n",
    "total_sum = df_0['revenue'].sum() # общая сумма выручки"
   ]
  },
  {
   "cell_type": "code",
   "execution_count": 14,
   "id": "bbe311f1",
   "metadata": {},
   "outputs": [],
   "source": [
    "from IPython.display import Markdown, display\n",
    "\n",
    "def printmd(string):\n",
    "    display(Markdown(string))"
   ]
  },
  {
   "cell_type": "code",
   "execution_count": 13,
   "id": "2e3c91d1",
   "metadata": {},
   "outputs": [
    {
     "data": {
      "text/markdown": [
       "## Выручка от продажи билетов по дням недели"
      ],
      "text/plain": [
       "<IPython.core.display.Markdown object>"
      ]
     },
     "metadata": {},
     "output_type": "display_data"
    },
    {
     "data": {
      "text/markdown": [
       "### Общая выручка от продажи билетов: 3395110.0 руб."
      ],
      "text/plain": [
       "<IPython.core.display.Markdown object>"
      ]
     },
     "metadata": {},
     "output_type": "display_data"
    },
    {
     "data": {
      "text/html": [
       "<style type=\"text/css\">\n",
       "#T_3f971_row0_col1 {\n",
       "  width: 10em;\n",
       "  background: linear-gradient(90deg, #de9ed6 100.0%, transparent 100.0%);\n",
       "}\n",
       "#T_3f971_row1_col1 {\n",
       "  width: 10em;\n",
       "  background: linear-gradient(90deg, #a55194 86.7%, transparent 86.7%);\n",
       "}\n",
       "#T_3f971_row2_col1 {\n",
       "  width: 10em;\n",
       "  background: linear-gradient(90deg, #de9ed6 95.5%, transparent 95.5%);\n",
       "}\n",
       "#T_3f971_row3_col1 {\n",
       "  width: 10em;\n",
       "  background: linear-gradient(90deg, #a55194 87.3%, transparent 87.3%);\n",
       "}\n",
       "#T_3f971_row4_col1 {\n",
       "  width: 10em;\n",
       "  background: linear-gradient(90deg, #de9ed6 97.6%, transparent 97.6%);\n",
       "}\n",
       "#T_3f971_row5_col1 {\n",
       "  width: 10em;\n",
       "  background: linear-gradient(90deg, #de9ed6 98.8%, transparent 98.8%);\n",
       "}\n",
       "#T_3f971_row6_col1 {\n",
       "  width: 10em;\n",
       "  background: linear-gradient(90deg, #ce6dbd 92.8%, transparent 92.8%);\n",
       "}\n",
       "</style>\n",
       "<table id=\"T_3f971\">\n",
       "  <thead>\n",
       "    <tr>\n",
       "      <th id=\"T_3f971_level0_col0\" class=\"col_heading level0 col0\" >week_day</th>\n",
       "      <th id=\"T_3f971_level0_col1\" class=\"col_heading level0 col1\" >revenue</th>\n",
       "    </tr>\n",
       "  </thead>\n",
       "  <tbody>\n",
       "    <tr>\n",
       "      <td id=\"T_3f971_row0_col0\" class=\"data row0 col0\" >Понедельник</td>\n",
       "      <td id=\"T_3f971_row0_col1\" class=\"data row0 col1\" >515 440</td>\n",
       "    </tr>\n",
       "    <tr>\n",
       "      <td id=\"T_3f971_row1_col0\" class=\"data row1 col0\" >Вторник</td>\n",
       "      <td id=\"T_3f971_row1_col1\" class=\"data row1 col1\" >447 010</td>\n",
       "    </tr>\n",
       "    <tr>\n",
       "      <td id=\"T_3f971_row2_col0\" class=\"data row2 col0\" >Среда</td>\n",
       "      <td id=\"T_3f971_row2_col1\" class=\"data row2 col1\" >492 140</td>\n",
       "    </tr>\n",
       "    <tr>\n",
       "      <td id=\"T_3f971_row3_col0\" class=\"data row3 col0\" >Четверг</td>\n",
       "      <td id=\"T_3f971_row3_col1\" class=\"data row3 col1\" >449 940</td>\n",
       "    </tr>\n",
       "    <tr>\n",
       "      <td id=\"T_3f971_row4_col0\" class=\"data row4 col0\" >Пятница</td>\n",
       "      <td id=\"T_3f971_row4_col1\" class=\"data row4 col1\" >502 930</td>\n",
       "    </tr>\n",
       "    <tr>\n",
       "      <td id=\"T_3f971_row5_col0\" class=\"data row5 col0\" >Суббота</td>\n",
       "      <td id=\"T_3f971_row5_col1\" class=\"data row5 col1\" >509 080</td>\n",
       "    </tr>\n",
       "    <tr>\n",
       "      <td id=\"T_3f971_row6_col0\" class=\"data row6 col0\" >Воскресенье</td>\n",
       "      <td id=\"T_3f971_row6_col1\" class=\"data row6 col1\" >478 570</td>\n",
       "    </tr>\n",
       "  </tbody>\n",
       "</table>\n"
      ],
      "text/plain": [
       "<pandas.io.formats.style.Styler at 0x25618acd7f0>"
      ]
     },
     "metadata": {},
     "output_type": "display_data"
    },
    {
     "data": {
      "text/plain": [
       "(array([440000., 450000., 460000., 470000., 480000., 490000., 500000.,\n",
       "        510000., 520000.]),\n",
       " [Text(0, 440000.0, '440000'),\n",
       "  Text(0, 450000.0, '450000'),\n",
       "  Text(0, 460000.0, '460000'),\n",
       "  Text(0, 470000.0, '470000'),\n",
       "  Text(0, 480000.0, '480000'),\n",
       "  Text(0, 490000.0, '490000'),\n",
       "  Text(0, 500000.0, '500000'),\n",
       "  Text(0, 510000.0, '510000'),\n",
       "  Text(0, 520000.0, '520000')])"
      ]
     },
     "execution_count": 13,
     "metadata": {},
     "output_type": "execute_result"
    },
    {
     "data": {
      "image/png": "[encoded data removed]",
      "text/plain": [
       "<Figure size 1000x600 with 1 Axes>"
      ]
     },
     "metadata": {},
     "output_type": "display_data"
    }
   ],
   "source": [
    "printmd('## Выручка от продажи билетов по дням недели')\n",
    "printmd('### Общая выручка от продажи билетов: ' + str(total_sum) + ' руб.')\n",
    "\n",
    "display(df_0.style.hide().format(precision=0, thousands=' ').bar(cmap='tab20b'))\n",
    "\n",
    "\n",
    "fig_1 = df_pivot_days.plot.line(\n",
    "    figsize=(10, 6),\n",
    "    x = 'week_day',\n",
    "    y = 'revenue',\n",
    "    title='Выручка от продажи билетов по дням недели',\n",
    "    grid = True, \n",
    "    lw=2,\n",
    "    color= 'violet',\n",
    "    xlabel= 'День недели',\n",
    "    ylabel= 'Выручка, руб.',\n",
    "    marker= '*',\n",
    "        )\n",
    "plt.xticks (rotation= 45, fontsize = 8)\n",
    "plt.yticks(fontsize = 8)"
   ]
  },
  {
   "cell_type": "markdown",
   "id": "35fd9b57-9bf6-4332-88cd-1a26d91d8c17",
   "metadata": {},
   "source": [
    "#### 2. Инициализируйте датафрейм с ростом некоторых людей. Постройте **boxplot** и опишите, что вы видите (какой минимум, максимум, медиана, квартили и выбросы)"
   ]
  },
  {
   "cell_type": "code",
   "execution_count": null,
   "id": "1a78ebf7-b428-4f0b-8bef-6b97c619cdd7",
   "metadata": {},
   "outputs": [
    {
     "data": {
      "text/html": [
       "<div>\n",
       "<style scoped>\n",
       "    .dataframe tbody tr th:only-of-type {\n",
       "        vertical-align: middle;\n",
       "    }\n",
       "\n",
       "    .dataframe tbody tr th {\n",
       "        vertical-align: top;\n",
       "    }\n",
       "\n",
       "    .dataframe thead th {\n",
       "        text-align: right;\n",
       "    }\n",
       "</style>\n",
       "<table border=\"1\" class=\"dataframe\">\n",
       "  <thead>\n",
       "    <tr style=\"text-align: right;\">\n",
       "      <th></th>\n",
       "      <th>Рост</th>\n",
       "      <th>Сантиметры</th>\n",
       "    </tr>\n",
       "  </thead>\n",
       "  <tbody>\n",
       "    <tr>\n",
       "      <th>0</th>\n",
       "      <td>Даня</td>\n",
       "      <td>187</td>\n",
       "    </tr>\n",
       "    <tr>\n",
       "      <th>1</th>\n",
       "      <td>Артем</td>\n",
       "      <td>143</td>\n",
       "    </tr>\n",
       "    <tr>\n",
       "      <th>2</th>\n",
       "      <td>Виктор</td>\n",
       "      <td>179</td>\n",
       "    </tr>\n",
       "    <tr>\n",
       "      <th>3</th>\n",
       "      <td>Анна</td>\n",
       "      <td>167</td>\n",
       "    </tr>\n",
       "    <tr>\n",
       "      <th>4</th>\n",
       "      <td>Петр</td>\n",
       "      <td>174</td>\n",
       "    </tr>\n",
       "    <tr>\n",
       "      <th>5</th>\n",
       "      <td>Александр</td>\n",
       "      <td>191</td>\n",
       "    </tr>\n",
       "    <tr>\n",
       "      <th>6</th>\n",
       "      <td>Елена</td>\n",
       "      <td>173</td>\n",
       "    </tr>\n",
       "    <tr>\n",
       "      <th>7</th>\n",
       "      <td>Павел Подкользин</td>\n",
       "      <td>226</td>\n",
       "    </tr>\n",
       "  </tbody>\n",
       "</table>\n",
       "</div>"
      ],
      "text/plain": [
       "               Рост  Сантиметры\n",
       "0              Даня         187\n",
       "1             Артем         143\n",
       "2            Виктор         179\n",
       "3              Анна         167\n",
       "4              Петр         174\n",
       "5         Александр         191\n",
       "6             Елена         173\n",
       "7  Павел Подкользин         226"
      ]
     },
     "execution_count": 149,
     "metadata": {},
     "output_type": "execute_result"
    }
   ],
   "source": [
    "df_for_boxplot = pd.DataFrame(\n",
    "   {\n",
    "      \"Рост\": [\"Даня\", \"Артем\", \"Виктор\", \"Анна\", \"Петр\", \"Александр\", \"Елена\", \"Павел Подкользин\"],\n",
    "      \"Сантиметры\": [187, 143, 179, 167, 174, 191, 173, 226],\n",
    "   }\n",
    ")\n",
    "df_for_boxplot"
   ]
  },
  {
   "cell_type": "code",
   "execution_count": null,
   "id": "c0bab131-034b-468c-832a-0f350a53263d",
   "metadata": {},
   "outputs": [
    {
     "data": {
      "text/plain": [
       "<Axes: >"
      ]
     },
     "execution_count": 150,
     "metadata": {},
     "output_type": "execute_result"
    },
    {
     "data": {
      "image/png": "[encoded data removed]",
      "text/plain": [
       "<Figure size 640x480 with 1 Axes>"
      ]
     },
     "metadata": {},
     "output_type": "display_data"
    }
   ],
   "source": [
    "# your code\n",
    "df_for_boxplot.boxplot(column=['Сантиметры'])\n",
    "# выбросы попали люди с минимальным ростом 143 см (Артем) и максимальным ростом  (Павел Подлазкин)\n",
    "# медиана составляет примерно 177 см\n",
    "# нижний квартиль составляем примерно 170 см\n",
    "# верхниль квартиль составляет примерно 190 см"
   ]
  },
  {
   "cell_type": "markdown",
   "id": "746f59b5-db29-49dd-b71d-a33a5ee2bcce",
   "metadata": {},
   "source": [
    "#### 3. Возьмите любой датафрейм и выделите фиолетовым цветом максимальное значение в одном из столбцов"
   ]
  },
  {
   "cell_type": "code",
   "execution_count": null,
   "id": "4bd1a1c9-a0cd-4a15-b8ca-9e3473b111f5",
   "metadata": {},
   "outputs": [
    {
     "data": {
      "text/html": [
       "<style type=\"text/css\">\n",
       "#T_96cb4_row7_col1 {\n",
       "  background-color: violet;\n",
       "}\n",
       "</style>\n",
       "<table id=\"T_96cb4\">\n",
       "  <thead>\n",
       "    <tr>\n",
       "      <th id=\"T_96cb4_level0_col0\" class=\"col_heading level0 col0\" >Рост</th>\n",
       "      <th id=\"T_96cb4_level0_col1\" class=\"col_heading level0 col1\" >Сантиметры</th>\n",
       "    </tr>\n",
       "  </thead>\n",
       "  <tbody>\n",
       "    <tr>\n",
       "      <td id=\"T_96cb4_row0_col0\" class=\"data row0 col0\" >Даня</td>\n",
       "      <td id=\"T_96cb4_row0_col1\" class=\"data row0 col1\" >187</td>\n",
       "    </tr>\n",
       "    <tr>\n",
       "      <td id=\"T_96cb4_row1_col0\" class=\"data row1 col0\" >Артем</td>\n",
       "      <td id=\"T_96cb4_row1_col1\" class=\"data row1 col1\" >143</td>\n",
       "    </tr>\n",
       "    <tr>\n",
       "      <td id=\"T_96cb4_row2_col0\" class=\"data row2 col0\" >Виктор</td>\n",
       "      <td id=\"T_96cb4_row2_col1\" class=\"data row2 col1\" >179</td>\n",
       "    </tr>\n",
       "    <tr>\n",
       "      <td id=\"T_96cb4_row3_col0\" class=\"data row3 col0\" >Анна</td>\n",
       "      <td id=\"T_96cb4_row3_col1\" class=\"data row3 col1\" >167</td>\n",
       "    </tr>\n",
       "    <tr>\n",
       "      <td id=\"T_96cb4_row4_col0\" class=\"data row4 col0\" >Петр</td>\n",
       "      <td id=\"T_96cb4_row4_col1\" class=\"data row4 col1\" >174</td>\n",
       "    </tr>\n",
       "    <tr>\n",
       "      <td id=\"T_96cb4_row5_col0\" class=\"data row5 col0\" >Александр</td>\n",
       "      <td id=\"T_96cb4_row5_col1\" class=\"data row5 col1\" >191</td>\n",
       "    </tr>\n",
       "    <tr>\n",
       "      <td id=\"T_96cb4_row6_col0\" class=\"data row6 col0\" >Елена</td>\n",
       "      <td id=\"T_96cb4_row6_col1\" class=\"data row6 col1\" >173</td>\n",
       "    </tr>\n",
       "    <tr>\n",
       "      <td id=\"T_96cb4_row7_col0\" class=\"data row7 col0\" >Павел Подкользин</td>\n",
       "      <td id=\"T_96cb4_row7_col1\" class=\"data row7 col1\" >226</td>\n",
       "    </tr>\n",
       "  </tbody>\n",
       "</table>\n"
      ],
      "text/plain": [
       "<pandas.io.formats.style.Styler at 0x17691a53520>"
      ]
     },
     "execution_count": 151,
     "metadata": {},
     "output_type": "execute_result"
    }
   ],
   "source": [
    "# your code \n",
    "# purple очень темное выделение, с цифрами сливается, поэтому будет violet\n",
    "df_for_boxplot.style.hide().highlight_max(color='violet', subset='Сантиметры') "
   ]
  }
 ],
 "metadata": {
  "kernelspec": {
   "display_name": "Python 3 (ipykernel)",
   "language": "python",
   "name": "python3"
  },
  "language_info": {
   "codemirror_mode": {
    "name": "ipython",
    "version": 3
   },
   "file_extension": ".py",
   "mimetype": "text/x-python",
   "name": "python",
   "nbconvert_exporter": "python",
   "pygments_lexer": "ipython3",
   "version": "3.9.10"
  }
 },
 "nbformat": 4,
 "nbformat_minor": 5
}
